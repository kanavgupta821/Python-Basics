{
  "nbformat": 4,
  "nbformat_minor": 0,
  "metadata": {
    "colab": {
      "provenance": []
    },
    "kernelspec": {
      "name": "python3",
      "display_name": "Python 3"
    },
    "language_info": {
      "name": "python"
    }
  },
  "cells": [
    {
      "cell_type": "markdown",
      "source": [
        "##1. Write a Python program to check if the given number is a Disarium Number?"
      ],
      "metadata": {
        "id": "Uv2dn9zuHcE8"
      }
    },
    {
      "cell_type": "code",
      "source": [
        "## ANS\n",
        "## A number is called Disarium if sum of its digits powered \n",
        "## with their respective positions is equal to the number itself.\n",
        "\n",
        "n = int(input(\"Enter any number: \"))\n",
        "string = str(n)\n",
        "result = 0\n",
        "for i in range(1, len(string)+1):             ## logic for finding disarium number\n",
        "  result += (int(string[i-1]))**i           \n",
        "if result == n:\n",
        "  print(f\"{n} is a DISARIUM NUMBER\")\n",
        "else:\n",
        "  print(f\"{n} is not a DISARIUM NUMBER\")"
      ],
      "metadata": {
        "colab": {
          "base_uri": "https://localhost:8080/"
        },
        "id": "gUIuc7M1Hx_x",
        "outputId": "1287435f-2a2d-4ba1-eb8b-e6dd2f280465"
      },
      "execution_count": 5,
      "outputs": [
        {
          "output_type": "stream",
          "name": "stdout",
          "text": [
            "Enter any number: 89\n",
            "89 is a DISARIUM NUMBER\n"
          ]
        }
      ]
    },
    {
      "cell_type": "markdown",
      "source": [
        "##2. Write a Python program to print all disarium numbers between 1 to 100?"
      ],
      "metadata": {
        "id": "X6h9kNUcHchT"
      }
    },
    {
      "cell_type": "code",
      "source": [
        "## ANS\n",
        "lower = 1\n",
        "upper = 100\n",
        "list1 = list()\n",
        "for i in range(lower, upper):\n",
        "  string = str(i)\n",
        "  result = 0\n",
        "  for j in range(1, len(string) + 1):\n",
        "    result += (int(string[j-1]))**j \n",
        "    if result == i:\n",
        "      list1.append(result)\n",
        "\n",
        "print(f\"Disarium numbers between {lower} to {upper} is: \")\n",
        "print(list1)"
      ],
      "metadata": {
        "colab": {
          "base_uri": "https://localhost:8080/"
        },
        "id": "KSvJdK_1J9R2",
        "outputId": "d6c15d28-5b9f-4011-bc2c-5f0c1e408d84"
      },
      "execution_count": 19,
      "outputs": [
        {
          "output_type": "stream",
          "name": "stdout",
          "text": [
            "Disarium numbers between 1 to 100 is: \n",
            "[1, 2, 3, 4, 5, 6, 7, 8, 9, 89]\n"
          ]
        }
      ]
    },
    {
      "cell_type": "markdown",
      "source": [
        "##3. Write a Python program to check if the given number is Happy Number?"
      ],
      "metadata": {
        "id": "HKmP4vbzHckG"
      }
    },
    {
      "cell_type": "code",
      "source": [
        "## ANS\n",
        "## Recursively finding sum of square of individual digits until the sum \n",
        "## becomes single digit and if the final single \n",
        "## digit sum == 1 then we call it as HAPPY NUMBER\n",
        "\n",
        "n = int(input(\"enter any number: \"))\n",
        "x = n\n",
        "while x >= 10:\n",
        "  sum = 0\n",
        "  while x > 0:\n",
        "    r = x % 10\n",
        "    sum = sum + (r**2)\n",
        "    x = x//10\n",
        "  x = sum\n",
        "  print(f\"sum: {sum}\")\n",
        "if x == 1:\n",
        "  print(f\"{n}, is a HAPPY NUMBER\")\n",
        "else:\n",
        "  print(f\"{n}, is not a HAPPY NUMBER\")"
      ],
      "metadata": {
        "colab": {
          "base_uri": "https://localhost:8080/"
        },
        "id": "dL4NRcHmS8Me",
        "outputId": "8fe1a08f-3ca1-4f14-bfc2-63a098d965d0"
      },
      "execution_count": 40,
      "outputs": [
        {
          "output_type": "stream",
          "name": "stdout",
          "text": [
            "enter any number: 82\n",
            "sum: 68\n",
            "sum: 100\n",
            "sum: 1\n",
            "82, is a HAPPY NUMBER\n"
          ]
        }
      ]
    },
    {
      "cell_type": "markdown",
      "source": [
        "##4. Write a Python program to print all happy numbers between 1 and 100?"
      ],
      "metadata": {
        "id": "spKqaawaHcm1"
      }
    },
    {
      "cell_type": "code",
      "source": [
        "## ANS\n",
        "lower = 1\n",
        "upper = 100\n",
        "list1 = list()\n",
        "for i in range (lower, upper+1):\n",
        "  x = i\n",
        "  while x >= 10:\n",
        "    sum = 0\n",
        "    while x > 0:\n",
        "      r = x % 10\n",
        "      sum = sum + (r**2)\n",
        "      x = x//10\n",
        "    x = sum\n",
        "  if x == 1:\n",
        "    list1.append(i)\n",
        "print(list1)"
      ],
      "metadata": {
        "colab": {
          "base_uri": "https://localhost:8080/"
        },
        "id": "QAhnnv8S7EAI",
        "outputId": "eedc3970-5015-48ce-e626-fe9729e48191"
      },
      "execution_count": 3,
      "outputs": [
        {
          "output_type": "stream",
          "name": "stdout",
          "text": [
            "[1, 10, 13, 19, 23, 28, 31, 32, 44, 49, 68, 70, 79, 82, 86, 91, 94, 97, 100]\n"
          ]
        }
      ]
    },
    {
      "cell_type": "markdown",
      "source": [
        "##5. Write a Python program to determine whether the given number is a Harshad Number?"
      ],
      "metadata": {
        "id": "Zu49Zra6HcqR"
      }
    },
    {
      "cell_type": "code",
      "source": [
        "## ANS\n",
        "## If a number is divisible by the sum of its digits, then it will be known as a Harshad Number\n",
        "\n",
        "n = int(input(\"Enter any number: \"))\n",
        "sum = 0\n",
        "for i in range(len(str(n))):\n",
        "  sum += int(str(n)[i])\n",
        "\n",
        "if n % sum == 0:\n",
        "  print(f\"{n}, is a HARSHAD NUMBER\")\n",
        "else:\n",
        "  print(f\"{n}, is not a HARSHAD NUMBER\")\n"
      ],
      "metadata": {
        "colab": {
          "base_uri": "https://localhost:8080/"
        },
        "id": "zSFlJegI9Jo9",
        "outputId": "870182f7-daa6-45f0-e0e1-62e5cf4c5a5d"
      },
      "execution_count": 7,
      "outputs": [
        {
          "output_type": "stream",
          "name": "stdout",
          "text": [
            "Enter any number: 84\n",
            "84, is a HARSHAD NUMBER\n"
          ]
        }
      ]
    },
    {
      "cell_type": "markdown",
      "source": [
        "##6. Write a Python program to print all pronic numbers between 1 and 100?\n"
      ],
      "metadata": {
        "id": "Yht2xEm9HdXh"
      }
    },
    {
      "cell_type": "code",
      "source": [
        "## ANS\n",
        "## The pronic number is a product of two consecutive integers of the form: n(n+1).\n",
        "\n",
        "lower = 1\n",
        "upper = 100\n",
        "list1 = list()\n",
        "for i in range (lower, upper+1):\n",
        "  for j in range(1, i+1):\n",
        "    if (j*(j+1) == i):\n",
        "      list1.append(i)\n",
        "\n",
        "print(f\"The list of all pronic numbers between {lower} and {upper} is: \")\n",
        "print(list1)\n"
      ],
      "metadata": {
        "colab": {
          "base_uri": "https://localhost:8080/"
        },
        "id": "PjsErrbm-9Pj",
        "outputId": "cd42a5b3-6f05-4ef3-d34c-eb0f3e2129d9"
      },
      "execution_count": 9,
      "outputs": [
        {
          "output_type": "stream",
          "name": "stdout",
          "text": [
            "The list of all pronic numbers between 1 and 100 is: \n",
            "[2, 6, 12, 20, 30, 42, 56, 72, 90]\n"
          ]
        }
      ]
    }
  ]
}