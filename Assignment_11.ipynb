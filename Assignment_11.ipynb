{
  "nbformat": 4,
  "nbformat_minor": 0,
  "metadata": {
    "colab": {
      "provenance": []
    },
    "kernelspec": {
      "name": "python3",
      "display_name": "Python 3"
    },
    "language_info": {
      "name": "python"
    }
  },
  "cells": [
    {
      "cell_type": "markdown",
      "source": [
        "##1. Create an assert statement that throws an AssertionError if the variable spam is a negative integer.\n",
        "### ANS assert spam >0"
      ],
      "metadata": {
        "id": "KjO8vRwWkecq"
      }
    },
    {
      "cell_type": "markdown",
      "source": [
        "##2. Write an assert statement that triggers an AssertionError if the variables eggs and bacon contain strings that are the same as each other, even if their cases are different (that is, &#39;hello&#39; and &#39;hello&#39; are considered the same, and &#39;goodbye&#39; and &#39;GOODbye&#39; are also considered the same).\n",
        "### ANS assert eggs.lower() != bacon.lower(), 'The eggs and bacon variables are the same!' or assert eggs.upper() != bacon.upper(), 'The eggs and bacon variables are the same!'"
      ],
      "metadata": {
        "id": "YLfAtf61keZU"
      }
    },
    {
      "cell_type": "markdown",
      "source": [
        "##3. Create an assert statement that throws an AssertionError every time.\n",
        "### ANS assert False, 'This assertion always triggers.'"
      ],
      "metadata": {
        "id": "8Q1C9Cg-keWZ"
      }
    },
    {
      "cell_type": "markdown",
      "source": [
        "##4. What are the two lines that must be present in your software in order to call logging.debug()?\n",
        "### ANS To be able to call logging.debug(), you must have these two lines at the start of your program:\n",
        "\n",
        "\n",
        "\n",
        "\n",
        "```\n",
        "import logging\n",
        "logging.basicConfig(level=logging.DEBUG, format=' %(asctime)s - %(levelname)s - %(message)s')\n",
        "```\n",
        "\n"
      ],
      "metadata": {
        "id": "X7uhN5_mkeTn"
      }
    },
    {
      "cell_type": "markdown",
      "source": [
        "##5. What are the two lines that your program must have in order to have logging.debug() send a logging message to a file named programLog.txt?\n",
        "### ANS To be able to send logging messages to a file named programLog.txt with logging.debug(), you must have these two lines at the start of your program:\n",
        "\n",
        "\n",
        "\n",
        "```\n",
        "import logging\n",
        "\n",
        "logging.basicConfig(filename='programLog.txt', level=logging.DEBUG, format=' %(asctime)s - %(levelname)s - %(message)s')\n",
        "```\n",
        "\n",
        "\n"
      ],
      "metadata": {
        "id": "1yfSkwIfkeRB"
      }
    },
    {
      "cell_type": "markdown",
      "source": [
        "##6. What are the five levels of logging?\n",
        "### ANS DEBUG, INFO, WARNING, ERROR, and CRITICAL."
      ],
      "metadata": {
        "id": "zU6SUh45keOC"
      }
    },
    {
      "cell_type": "markdown",
      "source": [
        "##7. What line of code would you add to your software to disable all logging messages?\n",
        "### ANS logging.disable(logging.CRITICAL)"
      ],
      "metadata": {
        "id": "kfYCv0V_keLk"
      }
    },
    {
      "cell_type": "markdown",
      "source": [
        "##8.Why is using logging messages better than using print() to display the same message?\n",
        "### ANS You can disable logging messages without removing the logging function calls. You can selectively disable lower-level logging messages. You can create logging messages. Logging messages provides a timestamp."
      ],
      "metadata": {
        "id": "KrtvIZA9keIf"
      }
    },
    {
      "cell_type": "markdown",
      "source": [
        "##9. What are the differences between the Step Over, Step In, and Step Out buttons in the debugger?\n",
        "### ANS The Step In button will move the debugger into a function call. The Step Over button will quickly execute the function call without stepping into it. The Step Out button will quickly execute the rest of the code until it steps out of the function it currently is in."
      ],
      "metadata": {
        "id": "GvWsTq4vkeF6"
      }
    },
    {
      "cell_type": "markdown",
      "source": [
        "##10. After you click Continue, when will the debugger stop ?\n",
        "### ANS After you click Continue, the debugger will stop when it has reached the end of the program or a line with a breakpoint."
      ],
      "metadata": {
        "id": "lSYG0TXJkeDC"
      }
    },
    {
      "cell_type": "markdown",
      "source": [
        "##11. What is the concept of a breakpoint?\n",
        "### ANS A breakpoint is a setting on a line of code that causes the debugger to pause when the program execution reaches the line."
      ],
      "metadata": {
        "id": "jI1FMOE1keAs"
      }
    }
  ]
}