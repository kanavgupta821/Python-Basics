{
  "nbformat": 4,
  "nbformat_minor": 0,
  "metadata": {
    "colab": {
      "provenance": []
    },
    "kernelspec": {
      "name": "python3",
      "display_name": "Python 3"
    },
    "language_info": {
      "name": "python"
    }
  },
  "cells": [
    {
      "cell_type": "markdown",
      "source": [
        "##1. Write a Python Program to Find the Factorial of a Number?"
      ],
      "metadata": {
        "id": "wTRTBEF9WFcC"
      }
    },
    {
      "cell_type": "code",
      "source": [
        "## ANS\n",
        "f = int(input(\"Enter any number: \"))\n",
        "fac = 1\n",
        "for i in range(1, f+1):\n",
        "  fac = fac * i\n",
        "print(f\"Factorial of {f} is: {fac}\")\n"
      ],
      "metadata": {
        "colab": {
          "base_uri": "https://localhost:8080/"
        },
        "id": "fh-tq6NjXC29",
        "outputId": "01b00f7a-2d64-4d17-8a55-d95e93121eb8"
      },
      "execution_count": 6,
      "outputs": [
        {
          "output_type": "stream",
          "name": "stdout",
          "text": [
            "Enter any number: 7\n",
            "Factorial of 7 is: 5040\n"
          ]
        }
      ]
    },
    {
      "cell_type": "markdown",
      "source": [
        "##2. Write a Python Program to Display the multiplication Table?"
      ],
      "metadata": {
        "id": "oRRp2u-lV2S6"
      }
    },
    {
      "cell_type": "code",
      "source": [
        "## ANS\n",
        "n = int(input(\"Write the table of: \"))\n",
        "result = 0\n",
        "for i in range(1, 11):\n",
        "  result = n * i\n",
        "  print(f\"{n} * {i} = {result}\")\n"
      ],
      "metadata": {
        "colab": {
          "base_uri": "https://localhost:8080/"
        },
        "id": "pjyA_lqHX7ee",
        "outputId": "a89bb701-b7af-4d3e-a4cb-777d30f63091"
      },
      "execution_count": 8,
      "outputs": [
        {
          "output_type": "stream",
          "name": "stdout",
          "text": [
            "Write the table of: 25\n",
            "25 * 1 = 25\n",
            "25 * 2 = 50\n",
            "25 * 3 = 75\n",
            "25 * 4 = 100\n",
            "25 * 5 = 125\n",
            "25 * 6 = 150\n",
            "25 * 7 = 175\n",
            "25 * 8 = 200\n",
            "25 * 9 = 225\n",
            "25 * 10 = 250\n"
          ]
        }
      ]
    },
    {
      "cell_type": "markdown",
      "source": [
        "##3. Write a Python Program to Print the Fibonacci sequence?"
      ],
      "metadata": {
        "id": "vmkhsKBZV2V6"
      }
    },
    {
      "cell_type": "code",
      "source": [
        "n = int(input(\"Enter any number: \"))\n",
        "n1 = 0\n",
        "n2 = 1\n",
        "print(f\"Fibonacci sequence of first {n} numbers is: \", end=\"\")\n",
        "print(n1, n2, end=' ')\n",
        "for i in range (2,n):\n",
        "  n3 = n1 + n2\n",
        "  n1 = n2\n",
        "  n2 = n3\n",
        "  print(n3, end = ' ')"
      ],
      "metadata": {
        "colab": {
          "base_uri": "https://localhost:8080/"
        },
        "id": "W8Hp6n0CYzCu",
        "outputId": "3d362367-02a7-451f-deed-3646e192d5aa"
      },
      "execution_count": 15,
      "outputs": [
        {
          "output_type": "stream",
          "name": "stdout",
          "text": [
            "Enter any number: 10\n",
            "Fibonacci sequence of first 10 numbers is: 0 1 1 2 3 5 8 13 21 34 "
          ]
        }
      ]
    },
    {
      "cell_type": "markdown",
      "source": [
        "##4. Write a Python Program to Check Armstrong Number?"
      ],
      "metadata": {
        "id": "k27NJSsUV2YU"
      }
    },
    {
      "cell_type": "code",
      "source": [
        "## ANS\n",
        "arm = input(\"Enter any number: \")\n",
        "sum = 0\n",
        "for i in range(len(arm)):\n",
        "  sum = sum + int(arm[i])**len(arm)\n",
        "  \n",
        "if int(arm) == sum:\n",
        "  print(f\"{arm} is ARMSTRONG NUMBER\")\n",
        "else:\n",
        "  print(f\"{arm} is not ARMSTRONG NUMBER\")\n"
      ],
      "metadata": {
        "colab": {
          "base_uri": "https://localhost:8080/"
        },
        "id": "VbrWhz2fazTR",
        "outputId": "59f311bd-04b8-4a11-8e2f-7968bed38dfc"
      },
      "execution_count": 28,
      "outputs": [
        {
          "output_type": "stream",
          "name": "stdout",
          "text": [
            "Enter any number: 370\n",
            "370 is ARMSTRONG NUMBER\n"
          ]
        }
      ]
    },
    {
      "cell_type": "markdown",
      "source": [
        "##5. Write a Python Program to Find Armstrong Number in an Interval?"
      ],
      "metadata": {
        "id": "KKUy5SzVV2bY"
      }
    },
    {
      "cell_type": "code",
      "source": [
        "## ANS\n",
        "lower = int(input(\"Enter lower limit: \"))\n",
        "upper = int(input(\"Enter upper limit: \"))\n",
        "\n",
        "\n",
        "for num in range(lower, upper+1):\n",
        "  order = len(str(num))\n",
        "  sum = 0\n",
        "  temp = num\n",
        "  while temp > 0:\n",
        "    digit = temp % 10\n",
        "    sum += digit ** order\n",
        "    temp //= 10\n",
        "\n",
        "  if num == sum:\n",
        "    print(num, end =\" \")"
      ],
      "metadata": {
        "colab": {
          "base_uri": "https://localhost:8080/"
        },
        "id": "CYjhOZs0ctmZ",
        "outputId": "ce1ead84-a595-4c3d-dcdc-45b85a1aace6"
      },
      "execution_count": 50,
      "outputs": [
        {
          "output_type": "stream",
          "name": "stdout",
          "text": [
            "Enter lower limit: 1\n",
            "Enter upper limit: 10000\n",
            "1 2 3 4 5 6 7 8 9 153 370 371 407 1634 8208 9474 "
          ]
        }
      ]
    },
    {
      "cell_type": "markdown",
      "source": [
        "##6. Write a Python Program to Find the Sum of Natural Numbers?\n",
        "\n",
        "\n"
      ],
      "metadata": {
        "id": "XdDGQRDGV2r3"
      }
    },
    {
      "cell_type": "code",
      "source": [
        "## ANS\n",
        "n = int(input(\"Enter a number: \"))\n",
        "sum = 0\n",
        "while(n > 0):\n",
        "    sum = sum + n\n",
        "    n = n - 1\n",
        "print(f\"The sum of first {n} natural numbers is: {sum}\")"
      ],
      "metadata": {
        "colab": {
          "base_uri": "https://localhost:8080/"
        },
        "id": "7JsdSQPIWXoo",
        "outputId": "9bbba269-03d9-4944-baac-e7a18f18c234"
      },
      "execution_count": 52,
      "outputs": [
        {
          "output_type": "stream",
          "name": "stdout",
          "text": [
            "Enter a number: 10\n",
            "The sum of first 0 natural numbers is: 55\n"
          ]
        }
      ]
    }
  ]
}