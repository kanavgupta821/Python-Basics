{
  "nbformat": 4,
  "nbformat_minor": 0,
  "metadata": {
    "colab": {
      "provenance": []
    },
    "kernelspec": {
      "name": "python3",
      "display_name": "Python 3"
    },
    "language_info": {
      "name": "python"
    }
  },
  "cells": [
    {
      "cell_type": "markdown",
      "source": [
        "## Q-1 Create a function that takes three parameters where:\n",
        "### x is the start of the range (inclusive).\n",
        "### y is the end of the range (inclusive).\n",
        "### n is the divisor to be checked against.\n",
        "###Return an ordered list with numbers in the range that are divisible by the third parameter n. Return an empty list if there are no numbers that are divisible by n.\n",
        "###Examples\n",
        "###list_operation(1, 10, 3) ➞ [3, 6, 9]\n",
        "###list_operation(7, 9, 2) ➞ [8]\n",
        "###list_operation(15, 20, 7) ➞ []"
      ],
      "metadata": {
        "id": "l6rkOsHqsbGU"
      }
    },
    {
      "cell_type": "code",
      "source": [
        "## ANS\n",
        "def list_operation(x,y,n):\n",
        "  l1 = list()\n",
        "  for i in range(x,y):\n",
        "    if i%n == 0:\n",
        "      l1.append(i)\n",
        "  return l1\n",
        "\n",
        "print(list_operation(1, 10, 3))\n",
        "print(list_operation(7, 9, 2))\n",
        "print(list_operation(15, 20, 7))"
      ],
      "metadata": {
        "colab": {
          "base_uri": "https://localhost:8080/"
        },
        "id": "5LpLuK6rsm3Y",
        "outputId": "4f4fdc67-ff98-49e2-e8ce-a91486d4531b"
      },
      "execution_count": 13,
      "outputs": [
        {
          "output_type": "stream",
          "name": "stdout",
          "text": [
            "[3, 6, 9]\n",
            "[8]\n",
            "[]\n"
          ]
        }
      ]
    },
    {
      "cell_type": "markdown",
      "source": [
        "## Q-2 Create a function that takes in two lists and returns True if the second list follows the first list by one element, and False otherwise. In other words, determine if the second list is the first list shifted to the right by 1.\n",
        "###Examples\n",
        "###simon_says([1, 2], [5, 1]) ➞ True\n",
        "###simon_says([1, 2], [5, 5]) ➞ False\n",
        "###simon_says([1, 2, 3, 4, 5], [0, 1, 2, 3, 4]) ➞ True\n",
        "###simon_says([1, 2, 3, 4, 5], [5, 5, 1, 2, 3]) ➞ False\n",
        "###Notes\n",
        "### Both input lists will be of the same length, and will have a minimum length of 2.\n",
        "### The values of the 0-indexed element in the second list and the n-1th indexed element in the first list do not matter."
      ],
      "metadata": {
        "id": "QZU4-h9wtK3A"
      }
    },
    {
      "cell_type": "code",
      "source": [
        "## ANS\n",
        "def simon_says(l1,l2):\n",
        "  if len(l1) == len(l2):\n",
        "    for i in range(len(l1)):\n",
        "      for j in range(len(l2)):\n",
        "        if l1[i] == l2[j+1]:\n",
        "          return True\n",
        "        else:\n",
        "          return False\n",
        "\n",
        "print(simon_says([1, 2], [5, 1]))\n",
        "print(simon_says([1, 2], [5, 5]))\n",
        "print(simon_says([1, 2, 3, 4, 5], [0, 1, 2, 3, 4]))\n",
        "print(simon_says([1, 2, 3, 4, 5], [5, 5, 1, 2, 3]))"
      ],
      "metadata": {
        "colab": {
          "base_uri": "https://localhost:8080/"
        },
        "id": "SZ7CBr75tJ4n",
        "outputId": "7b744f77-d610-4082-8ba7-023709238f5e"
      },
      "execution_count": 14,
      "outputs": [
        {
          "output_type": "stream",
          "name": "stdout",
          "text": [
            "True\n",
            "False\n",
            "True\n",
            "False\n"
          ]
        }
      ]
    },
    {
      "cell_type": "markdown",
      "source": [
        "## Q-3 A group of friends have decided to start a secret society. The name will be the first letter of each of their names, sorted in alphabetical order.\n",
        "##Create a function that takes in a list of names and returns the name of the secret society.\n",
        "\n",
        "###Examples\n",
        "###society_name([&quot;Adam&quot;, &quot;Sarah&quot;, &quot;Malcolm&quot;]) ➞ &quot;AMS&quot;\n",
        "###society_name([&quot;Harry&quot;, &quot;Newt&quot;, &quot;Luna&quot;, &quot;Cho&quot;]) ➞ &quot;CHLN&quot;\n",
        "###society_name([&quot;Phoebe&quot;, &quot;Chandler&quot;, &quot;Rachel&quot;, &quot;Ross&quot;, &quot;Monica&quot;, &quot;Joey&quot;])"
      ],
      "metadata": {
        "id": "olNaSlKZuz1r"
      }
    },
    {
      "cell_type": "code",
      "source": [
        "## ANS\n",
        "def society_name(l1):\n",
        "  name = ''\n",
        "  for i in l1:\n",
        "    name = name + i[0] \n",
        "  name = sorted(name)\n",
        "  return ''.join(name)\n",
        "  \n",
        "print(society_name([\"Adam\", \"Sarah\", \"Malcolm\"]))\n",
        "print(society_name([\"Harry\", \"Newt\", \"Luna\", \"Cho\"]))\n",
        "print(society_name([\"Phoebe\", \"Chandler\", \"Rachel\", \"Ross\", \"Monica\", \"Joey\"]))"
      ],
      "metadata": {
        "colab": {
          "base_uri": "https://localhost:8080/"
        },
        "id": "KQL6C8RrulZO",
        "outputId": "4b9ff7f8-9de9-4e0b-823b-70364cb0ff0b"
      },
      "execution_count": 15,
      "outputs": [
        {
          "output_type": "stream",
          "name": "stdout",
          "text": [
            "AMS\n",
            "CHLN\n",
            "CJMPRR\n"
          ]
        }
      ]
    },
    {
      "cell_type": "markdown",
      "source": [
        "## Q-4 An isogram is a word that has no duplicate letters. Create a function that takes a string and returns either True or False depending on whether or not it&#39;s an &quot;isogram&quot;.\n",
        "###Examples\n",
        "###is_isogram(&quot;Algorism&quot;) ➞ True\n",
        "###is_isogram(&quot;PasSword&quot;) ➞ False\n",
        "### Not case sensitive.\n",
        "###is_isogram(&quot;Consecutive&quot;) ➞ False\n",
        "###Notes\n",
        "### Ignore letter case (should not be case sensitive).\n",
        "### All test cases contain valid one word strings."
      ],
      "metadata": {
        "id": "a5jWVs9CwEar"
      }
    },
    {
      "cell_type": "code",
      "source": [
        "## ANS\n",
        "def is_isogram(string):\n",
        "  l1 = list()\n",
        "  string = string.lower()\n",
        "  for i in string:\n",
        "    if i.isalpha():\n",
        "      if i in l1:\n",
        "        return False\n",
        "      l1.append(i)\n",
        "  return True\n",
        "\n",
        "print(is_isogram(\"Algorism\"))\n",
        "print(is_isogram(\"PasSword\"))\n",
        "print(is_isogram(\"Consecutive\"))"
      ],
      "metadata": {
        "colab": {
          "base_uri": "https://localhost:8080/"
        },
        "id": "3EzR0goAvkMS",
        "outputId": "13f269e9-a61c-4f90-a9f4-d8994e961291"
      },
      "execution_count": 16,
      "outputs": [
        {
          "output_type": "stream",
          "name": "stdout",
          "text": [
            "True\n",
            "False\n",
            "False\n"
          ]
        }
      ]
    },
    {
      "cell_type": "markdown",
      "source": [
        "## Q-5 Create a function that takes a string and returns True or False, depending on whether the characters are in order or not.\n",
        "###Examples\n",
        "###is_in_order(&quot;abc&quot;) ➞ True\n",
        "###is_in_order(&quot;edabit&quot;) ➞ False\n",
        "###is_in_order(&quot;123&quot;) ➞ True\n",
        "###is_in_order(&quot;xyzz&quot;) ➞ True\n",
        "###Notes\n",
        "###You don&#39;t have to handle empty strings."
      ],
      "metadata": {
        "id": "aCd1npm7Lpxy"
      }
    },
    {
      "cell_type": "code",
      "source": [
        "## ANS\n",
        "def is_in_order(string):\n",
        "  string1 = sorted(string)\n",
        "  for i in range(len(string)):\n",
        "    if (string1[i] != string[i]):\n",
        "      return False\n",
        "    else:\n",
        "      return True\n",
        "    \n",
        "print(is_in_order(\"abc\"))\n",
        "print(is_in_order(\"edabit\"))\n",
        "print(is_in_order(\"123\"))\n",
        "print(is_in_order(\"xyzz\"))"
      ],
      "metadata": {
        "colab": {
          "base_uri": "https://localhost:8080/"
        },
        "id": "32K098xKLf43",
        "outputId": "3b04e73e-54fc-4427-e0b7-f0a7b8a97619"
      },
      "execution_count": 17,
      "outputs": [
        {
          "output_type": "stream",
          "name": "stdout",
          "text": [
            "True\n",
            "False\n",
            "True\n",
            "True\n"
          ]
        }
      ]
    }
  ]
}