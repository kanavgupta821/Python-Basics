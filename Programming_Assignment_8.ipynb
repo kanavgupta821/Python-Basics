{
  "nbformat": 4,
  "nbformat_minor": 0,
  "metadata": {
    "colab": {
      "provenance": []
    },
    "kernelspec": {
      "name": "python3",
      "display_name": "Python 3"
    },
    "language_info": {
      "name": "python"
    }
  },
  "cells": [
    {
      "cell_type": "markdown",
      "source": [
        "##1. Write a Python Program to Add Two Matrices?"
      ],
      "metadata": {
        "id": "WAAvMPVN7M2M"
      }
    },
    {
      "cell_type": "code",
      "source": [
        "## ANS\n",
        "a = [[8,9,6],\n",
        "     [4,6,9],\n",
        "     [7,5,4]]\n",
        "\n",
        "b = [[1,5,6],\n",
        "     [5,9,9],\n",
        "     [2,5,6]]\n",
        "    \n",
        "result = [[0,0,0],\n",
        "          [0,0,0],\n",
        "          [0,0,0]]\n",
        "\n",
        "for i in range(len(a)):\n",
        "  for j in range(len(a[0])):\n",
        "    result[i][j] = a[i][j] + b[i][j]\n",
        "for r in result:\n",
        "  print(r)"
      ],
      "metadata": {
        "colab": {
          "base_uri": "https://localhost:8080/"
        },
        "id": "FT5TWd-87e14",
        "outputId": "0029e9e7-b616-4ca5-ca4a-17ec2927684c"
      },
      "execution_count": 3,
      "outputs": [
        {
          "output_type": "stream",
          "name": "stdout",
          "text": [
            "[9, 14, 12]\n",
            "[9, 15, 18]\n",
            "[9, 10, 10]\n"
          ]
        }
      ]
    },
    {
      "cell_type": "markdown",
      "source": [
        "##2. Write a Python Program to Multiply Two Matrices?"
      ],
      "metadata": {
        "id": "ORrtCMG17M47"
      }
    },
    {
      "cell_type": "code",
      "source": [
        "## ANS\n",
        "import numpy as np\n",
        "a = np.random.randint(1,10, size=(3,3))                ## it will create a 3x3 matrix with random integers between 1 to 10\n",
        "print(f\"Matrix a is equal to: \")\n",
        "print(a)\n",
        "b = np.random.randint(1,10, size=(3,3))\n",
        "print(f\"Matrix b is equal to: \")\n",
        "print(b)\n",
        "result = np.dot(a,b)                                             ## dot is a bulti-in matrix multiplication function in numpy\n",
        "print(\"Result of matrix multiplication of a and b is: \")\n",
        "print(result)"
      ],
      "metadata": {
        "colab": {
          "base_uri": "https://localhost:8080/"
        },
        "id": "ov5GA90o9hZU",
        "outputId": "f49e91dc-2017-4074-94a2-86fcd2a3988e"
      },
      "execution_count": 22,
      "outputs": [
        {
          "output_type": "stream",
          "name": "stdout",
          "text": [
            "Matrix a is equal to: \n",
            "[[7 7 2]\n",
            " [9 9 7]\n",
            " [9 3 3]]\n",
            "Matrix b is equal to: \n",
            "[[4 6 7]\n",
            " [7 1 7]\n",
            " [5 1 1]]\n",
            "Result of matrix multiplication of a and b is: \n",
            "[[ 87  51 100]\n",
            " [134  70 133]\n",
            " [ 72  60  87]]\n"
          ]
        }
      ]
    },
    {
      "cell_type": "markdown",
      "source": [
        "##3. Write a Python Program to Transpose a Matrix?"
      ],
      "metadata": {
        "id": "_0knrxZs7M7M"
      }
    },
    {
      "cell_type": "code",
      "source": [
        "## ANS\n",
        "import numpy as np\n",
        "a = np.random.randint(1,10, size=(4,2))                 ## create matrix a of size 4x2\n",
        "print(\"matrix a is: \")\n",
        "print(a)\n",
        "result = np.zeros(shape=(2,4), dtype=int)               ## create zero matrix of size 2x4 which we use to store the transpose values of a\n",
        "\n",
        "for i in range(len(a)):\n",
        "  for j in range(len(a[0])):\n",
        "    result[j][i] = a[i][j]\n",
        "\n",
        "print(\"Transpose of a matrix is: \")\n",
        "for r in result:\n",
        "  print(r)"
      ],
      "metadata": {
        "colab": {
          "base_uri": "https://localhost:8080/"
        },
        "id": "FzZj839_CD3R",
        "outputId": "5cb0f88e-049f-4ac9-a9ec-9f67fdbc6403"
      },
      "execution_count": 31,
      "outputs": [
        {
          "output_type": "stream",
          "name": "stdout",
          "text": [
            "matrix a is: \n",
            "[[4 5]\n",
            " [4 2]\n",
            " [5 5]\n",
            " [1 1]]\n",
            "Transpose of a matrix is: \n",
            "[4 4 5 1]\n",
            "[5 2 5 1]\n"
          ]
        }
      ]
    },
    {
      "cell_type": "markdown",
      "source": [
        "##4. Write a Python Program to Sort Words in Alphabetic Order?"
      ],
      "metadata": {
        "id": "NIBeHZiF7M9-"
      }
    },
    {
      "cell_type": "code",
      "source": [
        "## ANS\n",
        "words = input(\"Enter a sentence: \")\n",
        "words = words.split(\" \")\n",
        "s = sorted(words)\n",
        "print(\"Sentence after sorting is: \")\n",
        "print(' '.join(s))"
      ],
      "metadata": {
        "colab": {
          "base_uri": "https://localhost:8080/"
        },
        "id": "xpA9b7ohdklc",
        "outputId": "eb325db8-93d7-47c9-938a-41e6d66868e9"
      },
      "execution_count": 2,
      "outputs": [
        {
          "output_type": "stream",
          "name": "stdout",
          "text": [
            "Enter a sentence: Write a Python Program to Sort Words in Alphabetic Order?\n",
            "Sentence after sorting is: \n",
            "Alphabetic Order? Program Python Sort Words Write a in to\n"
          ]
        }
      ]
    },
    {
      "cell_type": "markdown",
      "source": [
        "##5. Write a Python Program to Remove Punctuation From a String?"
      ],
      "metadata": {
        "id": "6xEVKccr7NAE"
      }
    },
    {
      "cell_type": "code",
      "source": [
        "## ANS\n",
        "string = input(\"Enter a string: \")\n",
        "print(f\"The original string is : {string} \" )\n",
        "\n",
        "punc = '''!()-[]{};:'\"\\,<>./?@#$%^&*_~'''            # initializing punctuations string\n",
        "\n",
        "for i in string:\n",
        "\tif i in punc:\n",
        "\t\tstring = string.replace(i, \"\")\n",
        "  \n",
        "print(f\"The string after punctuation filter : {string}\")\n"
      ],
      "metadata": {
        "colab": {
          "base_uri": "https://localhost:8080/"
        },
        "id": "mEmAC7CQeujr",
        "outputId": "c77d131f-5ad5-420d-d09f-0bf8d7a6c11d"
      },
      "execution_count": 7,
      "outputs": [
        {
          "output_type": "stream",
          "name": "stdout",
          "text": [
            "Enter a string: ineuron full stack$%^& data%^&* science$%^& bootcamp>:{\n",
            "The original string is : ineuron full stack$%^& data%^&* science$%^& bootcamp>:{ \n",
            "The string after punctuation filter : ineuron full stack data science bootcamp\n"
          ]
        }
      ]
    }
  ]
}