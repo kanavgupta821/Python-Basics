{
  "nbformat": 4,
  "nbformat_minor": 0,
  "metadata": {
    "colab": {
      "provenance": []
    },
    "kernelspec": {
      "name": "python3",
      "display_name": "Python 3"
    },
    "language_info": {
      "name": "python"
    }
  },
  "cells": [
    {
      "cell_type": "markdown",
      "source": [
        "##1. Why are functions advantageous to have in your programs?\n",
        "### ANS Functions reduce the need for duplicate code. This makes programs shorter, easier to read, and easier to update."
      ],
      "metadata": {
        "id": "zII_lT_gJpyb"
      }
    },
    {
      "cell_type": "markdown",
      "source": [
        "##2. When does the code in a function run: when it&#39;s specified or when it&#39;s called?\n",
        "### ANS The code in a function executes when the function is called, not when the function is defined."
      ],
      "metadata": {
        "id": "dQHBsxLiJwrU"
      }
    },
    {
      "cell_type": "markdown",
      "source": [
        "##3. What statement creates a function?\n",
        "### ANS The def statement defines (that is, creates) a function.\n",
        "### Example\n"
      ],
      "metadata": {
        "id": "qzKQL2w_J07K"
      }
    },
    {
      "cell_type": "code",
      "source": [
        "def test():\n",
        "  return 'hello world'\n"
      ],
      "metadata": {
        "id": "zoXEfptpLCz6"
      },
      "execution_count": 1,
      "outputs": []
    },
    {
      "cell_type": "markdown",
      "source": [
        "##4. What is the difference between a function and a function call?\n",
        "### ANS A function is a block of code that does a particular operation and returns a result. It usually accepts inputs as parameters and returns a result. The parameters are not mandatory. \n",
        "###A function call is the code used to pass control to a function."
      ],
      "metadata": {
        "id": "70UjftyPJ3Gj"
      }
    },
    {
      "cell_type": "markdown",
      "source": [
        "##5. How many global scopes are there in a Python program? How many local scopes?\n",
        "### ANS There is one global scope, and a local scope is created whenever a function is called.\n",
        "\n"
      ],
      "metadata": {
        "id": "JouZOjDwJ4-h"
      }
    },
    {
      "cell_type": "markdown",
      "source": [
        "##6. What happens to variables in a local scope when the function call returns?\n",
        "### ANS When a function returns, the local scope is destroyed, and all the variables in it are forgotten."
      ],
      "metadata": {
        "id": "TjpkUtESJ7lv"
      }
    },
    {
      "cell_type": "markdown",
      "source": [
        "##7. What is the concept of a return value? Is it possible to have a return value in an expression?\n",
        "\n",
        "### ANS A return statement is used to end the execution of the function call and “returns” the result (value of the expression following the return keyword) to the caller. The statements after the return statements are not executed. If the return statement is without any expression, then the special value None is returned. A return statement is overall used to invoke a function so that the passed statements can be executed.\n",
        "###Return statement can not be used outside the function."
      ],
      "metadata": {
        "id": "_-aGi_wAJ9nI"
      }
    },
    {
      "cell_type": "markdown",
      "source": [
        "##8. If a function does not have a return statement, what is the return value of a call to that function?\n",
        "### ANS If there is no return statement for a function, its return value is None.\n"
      ],
      "metadata": {
        "id": "hDJdhdQlJ_ku"
      }
    },
    {
      "cell_type": "markdown",
      "source": [
        "##9. How do you make a function variable refer to the global variable?\n",
        "### ANS Normally, when you create a variable inside a function, that variable is local, and can only be used inside that function. To create a global variable inside a function, you can use the global keyword.\n",
        "###Example\n"
      ],
      "metadata": {
        "id": "QHEDZlsTKBhj"
      }
    },
    {
      "cell_type": "code",
      "source": [
        "def test1():\n",
        "  global x\n",
        "  x = \"hello world\"\n",
        "\n",
        "test1()\n",
        "\n",
        "print(x)\n"
      ],
      "metadata": {
        "colab": {
          "base_uri": "https://localhost:8080/"
        },
        "id": "RElQ5xG7NOQJ",
        "outputId": "6c1c6908-de25-4ff8-c153-2bdd48e17f03"
      },
      "execution_count": 2,
      "outputs": [
        {
          "output_type": "stream",
          "name": "stdout",
          "text": [
            "hello world\n"
          ]
        }
      ]
    },
    {
      "cell_type": "markdown",
      "source": [
        "##10. What is the data type of None?\n",
        "### ANS The data type of None is NoneType."
      ],
      "metadata": {
        "id": "CN22cJDDKD85"
      }
    },
    {
      "cell_type": "markdown",
      "source": [
        "##11. What does the sentence import areallyourpetsnamederic do?\n",
        "### ANS That import statement imports a module named areallyourpetsnamederic."
      ],
      "metadata": {
        "id": "J8HhsQ-jKF1E"
      }
    },
    {
      "cell_type": "markdown",
      "source": [
        "##12. If you had a bacon() feature in a spam module, what would you call it after importing spam?\n",
        "### ANS This function can be called with spam.bacon()."
      ],
      "metadata": {
        "id": "RDDApG1KKJWp"
      }
    },
    {
      "cell_type": "markdown",
      "source": [
        "##13. What can you do to save a programme from crashing if it encounters an error?\n",
        "### ANS Place the line of code that might cause an error in a try clause."
      ],
      "metadata": {
        "id": "myo4THV6KLSo"
      }
    },
    {
      "cell_type": "markdown",
      "source": [
        "##14. What is the purpose of the try clause? What is the purpose of the except clause?\n",
        "### ANS The code that could potentially cause an error goes in the try clause.\n",
        "\n",
        "###The code that executes if an error happens goes in the except clause."
      ],
      "metadata": {
        "id": "3YaTnKC2KNAn"
      }
    }
  ]
}