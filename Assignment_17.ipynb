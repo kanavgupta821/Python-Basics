{
  "nbformat": 4,
  "nbformat_minor": 0,
  "metadata": {
    "colab": {
      "provenance": []
    },
    "kernelspec": {
      "name": "python3",
      "display_name": "Python 3"
    },
    "language_info": {
      "name": "python"
    }
  },
  "cells": [
    {
      "cell_type": "markdown",
      "source": [
        "##1. Assign the value 7 to the variable guess_me. Then, write the conditional tests (if, else, and elif) to print the string &#39;too low&#39; if guess_me is less than 7, &#39;too high&#39; if greater than 7, and &#39;just right&#39; if equal to 7.\n"
      ],
      "metadata": {
        "id": "R80Ncqo1MOZW"
      }
    },
    {
      "cell_type": "code",
      "source": [
        "## ANS \n",
        "guess_me = 7\n",
        "if guess_me < 7:\n",
        "    print('too low')\n",
        "elif guess_me > 7:\n",
        "    print('too high')\n",
        "else:\n",
        "    print('just right')"
      ],
      "metadata": {
        "colab": {
          "base_uri": "https://localhost:8080/"
        },
        "id": "A6EWh5O8M5In",
        "outputId": "8cbb00bb-72af-4ea2-daa4-700574126146"
      },
      "execution_count": 1,
      "outputs": [
        {
          "output_type": "stream",
          "name": "stdout",
          "text": [
            "just right\n"
          ]
        }
      ]
    },
    {
      "cell_type": "markdown",
      "source": [
        "##2. Assign the value 7 to the variable guess_me and the value 1 to the variable start. Write a while loop that compares start with guess_me. Print too low if start is less than guess me. If start equals guess_me, print &#39;found it!&#39; and exit the loop. If start is greater than guess_me, print &#39;oops&#39; and exit the loop. Increment start at the end of the loop.\n"
      ],
      "metadata": {
        "id": "9vezqB8xMOdT"
      }
    },
    {
      "cell_type": "code",
      "source": [
        "## ANS \n",
        "guess_me = 7\n",
        "start = 1\n",
        "while True:\n",
        "    if start < guess_me:\n",
        "        print('too low')\n",
        "    elif start == guess_me:\n",
        "        print('found it!')\n",
        "        break\n",
        "    elif start > guess_me:\n",
        "        print('oops')\n",
        "        break\n",
        "    start += 1"
      ],
      "metadata": {
        "colab": {
          "base_uri": "https://localhost:8080/"
        },
        "id": "bJtp36hhNBMh",
        "outputId": "d9cb60f1-1666-4295-ec12-34e015dcb3ce"
      },
      "execution_count": 2,
      "outputs": [
        {
          "output_type": "stream",
          "name": "stdout",
          "text": [
            "too low\n",
            "too low\n",
            "too low\n",
            "too low\n",
            "too low\n",
            "too low\n",
            "found it!\n"
          ]
        }
      ]
    },
    {
      "cell_type": "markdown",
      "source": [
        "##3. Print the following values of the list [3, 2, 1, 0] using a for loop.\n"
      ],
      "metadata": {
        "id": "xnHm9EC3MOg4"
      }
    },
    {
      "cell_type": "code",
      "source": [
        "## ANS \n",
        "for value in [3, 2, 1, 0]:\n",
        "        print(value)"
      ],
      "metadata": {
        "colab": {
          "base_uri": "https://localhost:8080/"
        },
        "id": "JfNoZhFoNKbp",
        "outputId": "fe92371a-3515-464e-b656-518b583675a4"
      },
      "execution_count": 3,
      "outputs": [
        {
          "output_type": "stream",
          "name": "stdout",
          "text": [
            "3\n",
            "2\n",
            "1\n",
            "0\n"
          ]
        }
      ]
    },
    {
      "cell_type": "markdown",
      "source": [
        "##4. Use a list comprehension to make a list of the even numbers in range(10)\n"
      ],
      "metadata": {
        "id": "8mABEFU8MOi_"
      }
    },
    {
      "cell_type": "code",
      "source": [
        "## ANS \n",
        "even = [number for number in range(10) if number % 2 == 0]\n",
        "even"
      ],
      "metadata": {
        "colab": {
          "base_uri": "https://localhost:8080/"
        },
        "id": "yBQQqQgUNOfd",
        "outputId": "8b801ed2-5f58-479c-e935-f3f1215a1f2b"
      },
      "execution_count": 4,
      "outputs": [
        {
          "output_type": "execute_result",
          "data": {
            "text/plain": [
              "[0, 2, 4, 6, 8]"
            ]
          },
          "metadata": {},
          "execution_count": 4
        }
      ]
    },
    {
      "cell_type": "markdown",
      "source": [
        "##5. Use a dictionary comprehension to create the dictionary squares. Use range(10) to return the keys, and use the square of each key as its value.\n"
      ],
      "metadata": {
        "id": "9NnbykEPMOlq"
      }
    },
    {
      "cell_type": "code",
      "source": [
        "## ANS \n",
        "squares = {key: key*key for key in range(10)}\n",
        "squares"
      ],
      "metadata": {
        "colab": {
          "base_uri": "https://localhost:8080/"
        },
        "id": "VgqxBqSTNZG0",
        "outputId": "9c50184b-5f13-48f1-ffe8-e2c199543c17"
      },
      "execution_count": 5,
      "outputs": [
        {
          "output_type": "execute_result",
          "data": {
            "text/plain": [
              "{0: 0, 1: 1, 2: 4, 3: 9, 4: 16, 5: 25, 6: 36, 7: 49, 8: 64, 9: 81}"
            ]
          },
          "metadata": {},
          "execution_count": 5
        }
      ]
    },
    {
      "cell_type": "markdown",
      "source": [
        "##6. Construct the set odd from the odd numbers in the range using a set comprehension (10).\n"
      ],
      "metadata": {
        "id": "wMbvmSDmMOpb"
      }
    },
    {
      "cell_type": "code",
      "source": [
        "## ANS \n",
        "odd = {number for number in range(10) if number % 2 == 1}\n",
        "odd"
      ],
      "metadata": {
        "colab": {
          "base_uri": "https://localhost:8080/"
        },
        "id": "e4kTxfz7NkXP",
        "outputId": "c38dec48-1171-4e0c-f5d2-eef0eaf3cbf0"
      },
      "execution_count": 6,
      "outputs": [
        {
          "output_type": "execute_result",
          "data": {
            "text/plain": [
              "{1, 3, 5, 7, 9}"
            ]
          },
          "metadata": {},
          "execution_count": 6
        }
      ]
    },
    {
      "cell_type": "markdown",
      "source": [
        "##7. Use a generator comprehension to return the string &#39;Got &#39; and a number for the numbers in range(10). Iterate through this by using a for loop.\n"
      ],
      "metadata": {
        "id": "gcZuyK70MOrB"
      }
    },
    {
      "cell_type": "code",
      "source": [
        "## ANS \n",
        "for thing in ('Got %s' % number for number in range(10)):\n",
        "  print(thing)"
      ],
      "metadata": {
        "colab": {
          "base_uri": "https://localhost:8080/"
        },
        "id": "tDhEaUFTNpdy",
        "outputId": "5e412ecf-c73a-48d2-88cb-d75289dbd6b6"
      },
      "execution_count": 7,
      "outputs": [
        {
          "output_type": "stream",
          "name": "stdout",
          "text": [
            "Got 0\n",
            "Got 1\n",
            "Got 2\n",
            "Got 3\n",
            "Got 4\n",
            "Got 5\n",
            "Got 6\n",
            "Got 7\n",
            "Got 8\n",
            "Got 9\n"
          ]
        }
      ]
    },
    {
      "cell_type": "markdown",
      "source": [
        "##8. Define a function called good that returns the list [&#39;Harry&#39;, &#39;Ron&#39;, &#39;Hermione&#39;].\n"
      ],
      "metadata": {
        "id": "7YpZTbdoMOs_"
      }
    },
    {
      "cell_type": "code",
      "source": [
        "## ANS \n",
        "def good():\n",
        "  return ['Harry', 'Ron', 'Hermione']\n",
        "\n",
        "\n",
        "good()\n"
      ],
      "metadata": {
        "colab": {
          "base_uri": "https://localhost:8080/"
        },
        "id": "VvXGgrSFN0Lr",
        "outputId": "c8ee27be-2647-4839-bced-44da77ce0fbf"
      },
      "execution_count": 9,
      "outputs": [
        {
          "output_type": "execute_result",
          "data": {
            "text/plain": [
              "['Harry', 'Ron', 'Hermione']"
            ]
          },
          "metadata": {},
          "execution_count": 9
        }
      ]
    },
    {
      "cell_type": "markdown",
      "source": [
        "##9. Define a generator function called get_odds that returns the odd numbers from range(10). Use a for loop to find and print the third value returned.\n"
      ],
      "metadata": {
        "id": "fHHBi0roMOvh"
      }
    },
    {
      "cell_type": "code",
      "source": [
        "## ANS \n",
        "def get_odds():\n",
        "  for number in range(1, 10, 2):\n",
        "    yield number\n",
        "count = 1\n",
        "for number in get_odds():\n",
        "  if count == 3:\n",
        "    print(\"The third odd number is\", number)\n",
        "    break\n",
        "  count += 1"
      ],
      "metadata": {
        "colab": {
          "base_uri": "https://localhost:8080/"
        },
        "id": "ZTJBzo5-N5xe",
        "outputId": "a3ae983b-e1ec-42b9-b426-be0e0ac8cbfb"
      },
      "execution_count": 10,
      "outputs": [
        {
          "output_type": "stream",
          "name": "stdout",
          "text": [
            "The third odd number is 5\n"
          ]
        }
      ]
    },
    {
      "cell_type": "markdown",
      "source": [
        "##10. Define an exception called OopsException. Raise this exception to see what happens. Then write the code to catch this exception and print &#39;Caught an oops&#39;.\n"
      ],
      "metadata": {
        "id": "h54BcWRtMOy6"
      }
    },
    {
      "cell_type": "code",
      "source": [
        "## ANS \n",
        "class OopsException(Exception):\n",
        "  pass\n",
        "\n",
        "\n",
        "raise OopsException()"
      ],
      "metadata": {
        "colab": {
          "base_uri": "https://localhost:8080/",
          "height": 200
        },
        "id": "efyFZMzpOMf0",
        "outputId": "0efc1577-1455-4f56-edf9-d050e99d2147"
      },
      "execution_count": 12,
      "outputs": [
        {
          "output_type": "error",
          "ename": "OopsException",
          "evalue": "ignored",
          "traceback": [
            "\u001b[0;31m---------------------------------------------------------------------------\u001b[0m",
            "\u001b[0;31mOopsException\u001b[0m                             Traceback (most recent call last)",
            "\u001b[0;32m<ipython-input-12-e2de5218892c>\u001b[0m in \u001b[0;36m<module>\u001b[0;34m\u001b[0m\n\u001b[1;32m      4\u001b[0m \u001b[0;34m\u001b[0m\u001b[0m\n\u001b[1;32m      5\u001b[0m \u001b[0;34m\u001b[0m\u001b[0m\n\u001b[0;32m----> 6\u001b[0;31m \u001b[0;32mraise\u001b[0m \u001b[0mOopsException\u001b[0m\u001b[0;34m(\u001b[0m\u001b[0;34m)\u001b[0m\u001b[0;34m\u001b[0m\u001b[0;34m\u001b[0m\u001b[0m\n\u001b[0m",
            "\u001b[0;31mOopsException\u001b[0m: "
          ]
        }
      ]
    },
    {
      "cell_type": "code",
      "source": [
        "try:\n",
        "  raise OopsException\n",
        "except OopsException:\n",
        "  print('Caught an oops')"
      ],
      "metadata": {
        "colab": {
          "base_uri": "https://localhost:8080/"
        },
        "id": "MEbrQDzKObkK",
        "outputId": "6f86c16e-af0a-484d-bd19-42bf5f7085c3"
      },
      "execution_count": 13,
      "outputs": [
        {
          "output_type": "stream",
          "name": "stdout",
          "text": [
            "Caught an oops\n"
          ]
        }
      ]
    },
    {
      "cell_type": "markdown",
      "source": [
        "##11. Use zip() to make a dictionary called movies that pairs these lists: titles = [&#39;Creature of Habit&#39;, &#39;Crewel Fate&#39;] and plots = [&#39;A nun turns into a monster&#39;, &#39;A haunted yarn shop&#39;]."
      ],
      "metadata": {
        "id": "7S2RjomyMPDG"
      }
    },
    {
      "cell_type": "code",
      "source": [
        "## ANS \n",
        "titles = ['Creature of Habit', 'Crewel Fate']\n",
        "plots = ['A nun turns into a monster', 'A haunted yarn shop']\n",
        "movies = dict(zip(titles, plots))\n",
        "movies"
      ],
      "metadata": {
        "colab": {
          "base_uri": "https://localhost:8080/"
        },
        "id": "2Id8ygX1Oeem",
        "outputId": "cde44775-748c-4171-d402-63efe998cbce"
      },
      "execution_count": 14,
      "outputs": [
        {
          "output_type": "execute_result",
          "data": {
            "text/plain": [
              "{'Creature of Habit': 'A nun turns into a monster',\n",
              " 'Crewel Fate': 'A haunted yarn shop'}"
            ]
          },
          "metadata": {},
          "execution_count": 14
        }
      ]
    }
  ]
}