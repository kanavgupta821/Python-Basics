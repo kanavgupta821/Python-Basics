{
  "nbformat": 4,
  "nbformat_minor": 0,
  "metadata": {
    "colab": {
      "provenance": []
    },
    "kernelspec": {
      "name": "python3",
      "display_name": "Python 3"
    },
    "language_info": {
      "name": "python"
    }
  },
  "cells": [
    {
      "cell_type": "markdown",
      "source": [
        "##1. To what does a relative path refer?\n",
        "### ANS A relative path in Python is a path that describes the location of a directory relative to the entry point where you run the Python code."
      ],
      "metadata": {
        "id": "aDpsHMUqf9cX"
      }
    },
    {
      "cell_type": "markdown",
      "source": [
        "##2. What does an absolute path start with your operating system?\n",
        "### ANS An absolute path refers to the complete details needed to locate a file or folder, starting from the root element and ending with the other subdirectories.Absolute paths start with the root folder, such as / or C:.\n"
      ],
      "metadata": {
        "id": "TgTKTkT0f9Y_"
      }
    },
    {
      "cell_type": "markdown",
      "source": [
        "##3. What do the functions os.getcwd() and os.chdir() do?\n",
        "### ANS The os.getcwd() function returns the current working directory. The os.chdir() function changes the current working directory."
      ],
      "metadata": {
        "id": "f0K9oV8Vf9WQ"
      }
    },
    {
      "cell_type": "markdown",
      "source": [
        "##4. What are the . and .. folders?\n",
        "### ANS The . folder is the current folder, and .. is the parent folder."
      ],
      "metadata": {
        "id": "0kpseOoDf9T4"
      }
    },
    {
      "cell_type": "markdown",
      "source": [
        "##5. In C:\\bacon\\eggs\\spam.txt, which part is the dir name, and which part is the base name?\n",
        "### ANS C:\\bacon\\eggs is the dir name, while spam.txt is the base name."
      ],
      "metadata": {
        "id": "8Ygo0Aghf9RH"
      }
    },
    {
      "cell_type": "markdown",
      "source": [
        "##6. What are the three “mode” arguments that can be passed to the open() function?\n",
        "### ANS The string 'r' for read mode, 'w' for write mode, and 'a' for append mode."
      ],
      "metadata": {
        "id": "2DolGgMTf9OB"
      }
    },
    {
      "cell_type": "markdown",
      "source": [
        "##7. What happens if an existing file is opened in write mode?\n",
        "### ANS An existing file opened in write mode is erased and completely overwritten."
      ],
      "metadata": {
        "id": "ErAe60Mhf9Lw"
      }
    },
    {
      "cell_type": "markdown",
      "source": [
        "##8. How do you tell the difference between read() and readlines()?\n",
        "### ANS The read() method returns the file’s entire contents as a single string value. The readlines() method returns a list of strings, where each string is a line from the file’s contents."
      ],
      "metadata": {
        "id": "dpNmGaxDgAR1"
      }
    },
    {
      "cell_type": "markdown",
      "source": [
        "##9. What data structure does a shelf value resemble?\n",
        "### ANS A shelf value resembles a dictionary value; it has keys and values, along with keys() and values() methods that work similarly to the dictionary methods of the same names."
      ],
      "metadata": {
        "id": "uN_tWUL5f9I_"
      }
    }
  ]
}