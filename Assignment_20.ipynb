{
  "nbformat": 4,
  "nbformat_minor": 0,
  "metadata": {
    "colab": {
      "provenance": []
    },
    "kernelspec": {
      "name": "python3",
      "display_name": "Python 3"
    },
    "language_info": {
      "name": "python"
    }
  },
  "cells": [
    {
      "cell_type": "markdown",
      "source": [
        "##1. Set the variable test1 to the string &#39;This is a test of the emergency text system,&#39; and save test1 to a file named test.txt.\n"
      ],
      "metadata": {
        "id": "r6vc-_cwnbB7"
      }
    },
    {
      "cell_type": "code",
      "source": [
        "## ANS\n",
        "test1 = 'This is a test of the emergency text system'\n",
        "outfile = open('test.txt','wt')\n",
        "outfile.write(test1)"
      ],
      "metadata": {
        "colab": {
          "base_uri": "https://localhost:8080/"
        },
        "id": "AbEMaJ72oCwm",
        "outputId": "cf53e559-b012-4a3f-9cec-93ff105e39e3"
      },
      "execution_count": 1,
      "outputs": [
        {
          "output_type": "execute_result",
          "data": {
            "text/plain": [
              "43"
            ]
          },
          "metadata": {},
          "execution_count": 1
        }
      ]
    },
    {
      "cell_type": "code",
      "source": [
        "outfile.close()"
      ],
      "metadata": {
        "id": "5eL9HW_zoZBg"
      },
      "execution_count": 2,
      "outputs": []
    },
    {
      "cell_type": "markdown",
      "source": [
        "##2. Read the contents of the file test.txt into the variable test2. Is there a difference between test 1 and test 2?\n"
      ],
      "metadata": {
        "id": "qflbsjYTnbEo"
      }
    },
    {
      "cell_type": "code",
      "source": [
        "## ANS \n",
        "with open('test.txt','rt') as infile:\n",
        "  test2 = infile.read()"
      ],
      "metadata": {
        "id": "-qQ9GrWuoy9F"
      },
      "execution_count": 7,
      "outputs": []
    },
    {
      "cell_type": "code",
      "source": [
        "test2"
      ],
      "metadata": {
        "colab": {
          "base_uri": "https://localhost:8080/",
          "height": 36
        },
        "id": "S_lUUlJlo_n4",
        "outputId": "184ba38a-56d4-450c-e5e3-0a82b95a2343"
      },
      "execution_count": 8,
      "outputs": [
        {
          "output_type": "execute_result",
          "data": {
            "text/plain": [
              "'This is a test of the emergency text system'"
            ],
            "application/vnd.google.colaboratory.intrinsic+json": {
              "type": "string"
            }
          },
          "metadata": {},
          "execution_count": 8
        }
      ]
    },
    {
      "cell_type": "code",
      "source": [
        "test1"
      ],
      "metadata": {
        "colab": {
          "base_uri": "https://localhost:8080/",
          "height": 36
        },
        "id": "-C86sG1BpEAc",
        "outputId": "1d078bd0-a28e-4caf-f589-39d6378fcb83"
      },
      "execution_count": 9,
      "outputs": [
        {
          "output_type": "execute_result",
          "data": {
            "text/plain": [
              "'This is a test of the emergency text system'"
            ],
            "application/vnd.google.colaboratory.intrinsic+json": {
              "type": "string"
            }
          },
          "metadata": {},
          "execution_count": 9
        }
      ]
    },
    {
      "cell_type": "code",
      "source": [
        "test2==test1"
      ],
      "metadata": {
        "colab": {
          "base_uri": "https://localhost:8080/"
        },
        "id": "AJlmgxkzpFu8",
        "outputId": "7e494119-6692-460f-8139-804991275608"
      },
      "execution_count": 10,
      "outputs": [
        {
          "output_type": "execute_result",
          "data": {
            "text/plain": [
              "True"
            ]
          },
          "metadata": {},
          "execution_count": 10
        }
      ]
    },
    {
      "cell_type": "markdown",
      "source": [
        "##3. Create a CSV file called books.csv by using these lines: \n",
        "###title,author,year\n",
        "###The Weirdstone of Brisingamen,Alan Garner,1960\n",
        "###Perdido Street Station,China Miéville,2000\n",
        "###Thud!,Terry Pratchett,2005\n",
        "###The Spellman Files,Lisa Lutz,2007\n",
        "###Small Gods,Terry Pratchett,1992\n"
      ],
      "metadata": {
        "id": "JioOUi6EnbGy"
      }
    },
    {
      "cell_type": "code",
      "source": [
        "## ANS\n",
        "text = '''title,author,year\n",
        "The Weirdstone of Brisingamen,Alan Garner,1960\n",
        "Perdido Street Station,China Miéville,2000\n",
        "Thud!,Terry Pratchett,2005\n",
        "The Spellman Files,Lisa Lutz,2007\n",
        "Small Gods,Terry Pratchett,1992'''"
      ],
      "metadata": {
        "id": "nC1s-hfLpN9_"
      },
      "execution_count": 11,
      "outputs": []
    },
    {
      "cell_type": "code",
      "source": [
        "with open('books.csv','wt') as outfile:\n",
        "  outfile.write(text)"
      ],
      "metadata": {
        "id": "mZB4obpspX22"
      },
      "execution_count": 12,
      "outputs": []
    },
    {
      "cell_type": "markdown",
      "source": [
        "##4. Use the sqlite3 module to create a SQLite database called books.db, and a table called books with these fields: title (text), author (text), and year (integer).\n"
      ],
      "metadata": {
        "id": "U_-IS_lBnbKD"
      }
    },
    {
      "cell_type": "code",
      "source": [
        "## ANS\n",
        "import sqlite3"
      ],
      "metadata": {
        "id": "O5MQfjpBpwxC"
      },
      "execution_count": 13,
      "outputs": []
    },
    {
      "cell_type": "code",
      "source": [
        "db = sqlite3.connect('books.db')"
      ],
      "metadata": {
        "id": "DZgS4qXVp5M_"
      },
      "execution_count": 14,
      "outputs": []
    },
    {
      "cell_type": "code",
      "source": [
        "curs = db.cursor()"
      ],
      "metadata": {
        "id": "nuxZTU5cp_FA"
      },
      "execution_count": 15,
      "outputs": []
    },
    {
      "cell_type": "code",
      "source": [
        "curs.execute('''create table book (title text, author text, year int)''')"
      ],
      "metadata": {
        "colab": {
          "base_uri": "https://localhost:8080/"
        },
        "id": "ZdfMbha7qB1x",
        "outputId": "d00d0bf6-2d0d-44a6-f27a-b578414db151"
      },
      "execution_count": 16,
      "outputs": [
        {
          "output_type": "execute_result",
          "data": {
            "text/plain": [
              "<sqlite3.Cursor at 0x7fa8b88502d0>"
            ]
          },
          "metadata": {},
          "execution_count": 16
        }
      ]
    },
    {
      "cell_type": "code",
      "source": [
        "db.commit()"
      ],
      "metadata": {
        "id": "6YiM7R_xqQxa"
      },
      "execution_count": 17,
      "outputs": []
    },
    {
      "cell_type": "markdown",
      "source": [
        "##5. Read books.csv and insert its data into the book table.\n"
      ],
      "metadata": {
        "id": "B3D67SMMnbMs"
      }
    },
    {
      "cell_type": "code",
      "source": [
        "## ANS\n",
        "import csv\n",
        "import sqlite3"
      ],
      "metadata": {
        "id": "lANA297WqVrD"
      },
      "execution_count": 18,
      "outputs": []
    },
    {
      "cell_type": "code",
      "source": [
        "data = 'insert into book values(?, ?, ?)'"
      ],
      "metadata": {
        "id": "qTUGc9adqdzZ"
      },
      "execution_count": 19,
      "outputs": []
    },
    {
      "cell_type": "code",
      "source": [
        "with open('books.csv', 'rt') as infile:\n",
        "  books = csv.DictReader(infile)\n",
        "  for book in books:\n",
        "    curs.execute(data, (book['title'], book['author'], book['year']))"
      ],
      "metadata": {
        "id": "lrKTbvRtqqS3"
      },
      "execution_count": 21,
      "outputs": []
    },
    {
      "cell_type": "code",
      "source": [
        "db.commit()"
      ],
      "metadata": {
        "id": "NUlHikWQrHmC"
      },
      "execution_count": 22,
      "outputs": []
    },
    {
      "cell_type": "markdown",
      "source": [
        "##6. Select and print the title column from the book table in alphabetical order.\n"
      ],
      "metadata": {
        "id": "e3YXIAh4nbj5"
      }
    },
    {
      "cell_type": "code",
      "source": [
        "## ANS\n",
        "sql = 'select title from book order by title asc'"
      ],
      "metadata": {
        "id": "_UdzStzYrNin"
      },
      "execution_count": 23,
      "outputs": []
    },
    {
      "cell_type": "code",
      "source": [
        "for row in db.execute(sql):\n",
        "  print(row)"
      ],
      "metadata": {
        "colab": {
          "base_uri": "https://localhost:8080/"
        },
        "id": "OnGUS_ebrWXf",
        "outputId": "9a4de4ed-cf70-402f-fda4-9aba19f932ea"
      },
      "execution_count": 24,
      "outputs": [
        {
          "output_type": "stream",
          "name": "stdout",
          "text": [
            "('Perdido Street Station',)\n",
            "('Small Gods',)\n",
            "('The Spellman Files',)\n",
            "('The Weirdstone of Brisingamen',)\n",
            "('Thud!',)\n"
          ]
        }
      ]
    },
    {
      "cell_type": "code",
      "source": [
        "for row in db.execute(sql):\n",
        "  print(row[0])"
      ],
      "metadata": {
        "colab": {
          "base_uri": "https://localhost:8080/"
        },
        "id": "dnUoJMnhrc3V",
        "outputId": "cbe1a48d-2444-48c8-9574-a03786c9393f"
      },
      "execution_count": 25,
      "outputs": [
        {
          "output_type": "stream",
          "name": "stdout",
          "text": [
            "Perdido Street Station\n",
            "Small Gods\n",
            "The Spellman Files\n",
            "The Weirdstone of Brisingamen\n",
            "Thud!\n"
          ]
        }
      ]
    },
    {
      "cell_type": "markdown",
      "source": [
        "##7. From the book table, select and print all columns in the order of publication.\n"
      ],
      "metadata": {
        "id": "5spVz7nrnbl6"
      }
    },
    {
      "cell_type": "code",
      "source": [
        "## ANS\n",
        "for row in db.execute('select * from book order by year'):\n",
        "  print(row)"
      ],
      "metadata": {
        "colab": {
          "base_uri": "https://localhost:8080/"
        },
        "id": "dBENpAuRrmOg",
        "outputId": "864f5430-d59d-4f0d-aa27-ce1127081039"
      },
      "execution_count": 26,
      "outputs": [
        {
          "output_type": "stream",
          "name": "stdout",
          "text": [
            "('The Weirdstone of Brisingamen', 'Alan Garner', 1960)\n",
            "('Small Gods', 'Terry Pratchett', 1992)\n",
            "('Perdido Street Station', 'China Miéville', 2000)\n",
            "('Thud!', 'Terry Pratchett', 2005)\n",
            "('The Spellman Files', 'Lisa Lutz', 2007)\n"
          ]
        }
      ]
    },
    {
      "cell_type": "code",
      "source": [
        "for row in db.execute('select * from book order by year'):\n",
        "  print(*row, sep=',')"
      ],
      "metadata": {
        "colab": {
          "base_uri": "https://localhost:8080/"
        },
        "id": "xtRdHeM6sBWu",
        "outputId": "ecc93ab4-7f32-419e-e4d1-a5880a1eff09"
      },
      "execution_count": 28,
      "outputs": [
        {
          "output_type": "stream",
          "name": "stdout",
          "text": [
            "The Weirdstone of Brisingamen,Alan Garner,1960\n",
            "Small Gods,Terry Pratchett,1992\n",
            "Perdido Street Station,China Miéville,2000\n",
            "Thud!,Terry Pratchett,2005\n",
            "The Spellman Files,Lisa Lutz,2007\n"
          ]
        }
      ]
    },
    {
      "cell_type": "markdown",
      "source": [
        "##8. Use the sqlalchemy module to connect to the sqlite3 database books.db that you just made in exercise 6.\n"
      ],
      "metadata": {
        "id": "sXCVZPvVnbob"
      }
    },
    {
      "cell_type": "code",
      "source": [
        "## ANS\n",
        "import sqlalchemy"
      ],
      "metadata": {
        "id": "FPp7Gg23sacE"
      },
      "execution_count": 36,
      "outputs": []
    },
    {
      "cell_type": "code",
      "source": [
        "conn = sqlalchemy.create_engine('sqlite:///books.db')"
      ],
      "metadata": {
        "id": "3WjUGTDesfsu"
      },
      "execution_count": 37,
      "outputs": []
    },
    {
      "cell_type": "code",
      "source": [
        "sql = 'select title from book order by title asc'"
      ],
      "metadata": {
        "id": "gOK9Hn5VsqRM"
      },
      "execution_count": 38,
      "outputs": []
    },
    {
      "cell_type": "code",
      "source": [
        "rows = conn.execute(sql)"
      ],
      "metadata": {
        "id": "49nMWlm9sxoz"
      },
      "execution_count": 39,
      "outputs": []
    },
    {
      "cell_type": "code",
      "source": [
        "for i in rows:\n",
        "  print(i)"
      ],
      "metadata": {
        "colab": {
          "base_uri": "https://localhost:8080/"
        },
        "id": "v197lIfds19N",
        "outputId": "6fdbc29b-bfda-4f92-fded-1d04d303afbd"
      },
      "execution_count": 40,
      "outputs": [
        {
          "output_type": "stream",
          "name": "stdout",
          "text": [
            "('Perdido Street Station',)\n",
            "('Small Gods',)\n",
            "('The Spellman Files',)\n",
            "('The Weirdstone of Brisingamen',)\n",
            "('Thud!',)\n"
          ]
        }
      ]
    },
    {
      "cell_type": "markdown",
      "source": [
        "##9. Install the Redis server and the Python redis library (pip install redis) on your computer. Create a Redis hash called test with the fields count (1) and name (&#39;Fester Bestertester&#39;). Print all the fields for test.\n"
      ],
      "metadata": {
        "id": "CJWXfvninbrF"
      }
    },
    {
      "cell_type": "code",
      "source": [
        "## ANS\n",
        "!pip install redis"
      ],
      "metadata": {
        "colab": {
          "base_uri": "https://localhost:8080/"
        },
        "id": "NRKYRB1Es99t",
        "outputId": "3188f07a-9163-4171-a4e1-a003f88be1df"
      },
      "execution_count": 42,
      "outputs": [
        {
          "output_type": "stream",
          "name": "stdout",
          "text": [
            "Looking in indexes: https://pypi.org/simple, https://us-python.pkg.dev/colab-wheels/public/simple/\n",
            "Collecting redis\n",
            "  Downloading redis-4.5.1-py3-none-any.whl (238 kB)\n",
            "\u001b[2K     \u001b[90m━━━━━━━━━━━━━━━━━━━━━━━━━━━━━━━━━━━━━━\u001b[0m \u001b[32m238.5/238.5 KB\u001b[0m \u001b[31m17.7 MB/s\u001b[0m eta \u001b[36m0:00:00\u001b[0m\n",
            "\u001b[?25hRequirement already satisfied: async-timeout>=4.0.2 in /usr/local/lib/python3.8/dist-packages (from redis) (4.0.2)\n",
            "Installing collected packages: redis\n",
            "Successfully installed redis-4.5.1\n"
          ]
        }
      ]
    },
    {
      "cell_type": "code",
      "source": [
        "import redis\n",
        "conn = redis.Redis()\n",
        "conn.delete('test')\n",
        "conn.hmset('test', {'count': 1, 'name': 'Fester Bestertester'})\n",
        "conn.hgetall('test')"
      ],
      "metadata": {
        "id": "h-Nvz7tAt0yn"
      },
      "execution_count": 45,
      "outputs": []
    },
    {
      "cell_type": "markdown",
      "source": [
        "##10. Increment the count field of test and print it."
      ],
      "metadata": {
        "id": "n8qhlkB3nbui"
      }
    },
    {
      "cell_type": "code",
      "source": [
        "## ANS\n",
        "conn.hincrby('test','count', 3)"
      ],
      "metadata": {
        "id": "oWlY7oMVu351"
      },
      "execution_count": 46,
      "outputs": []
    }
  ]
}