{
  "nbformat": 4,
  "nbformat_minor": 0,
  "metadata": {
    "colab": {
      "provenance": []
    },
    "kernelspec": {
      "name": "python3",
      "display_name": "Python 3"
    },
    "language_info": {
      "name": "python"
    }
  },
  "cells": [
    {
      "cell_type": "markdown",
      "source": [
        "##Q-1 Write a program that calculates and prints the value according to the given formula:\n",
        "###Q = Square root of [(2 * C * D)/H]\n",
        "###Following are the fixed values of C and H:\n",
        "###C is 50. H is 30.\n",
        "###D is the variable whose values should be input to your program in a comma-separated sequence.\n",
        "### Example\n",
        "###Let us assume the following comma separated input sequence is given to the program:\n",
        "###100,150,180\n",
        "###The output of the program should be:\n",
        "###18,22,24"
      ],
      "metadata": {
        "id": "vDk7R-BJJwAC"
      }
    },
    {
      "cell_type": "code",
      "source": [
        "## ANS\n",
        "import math\n",
        "C = 50\n",
        "H = 30\n",
        "D = list(map(int,input().split(',')))            ## takes comma seperated integer values and stores it in a list\n",
        "Q = list()\n",
        "for i in D:\n",
        "  Q.append(round(math.sqrt((2*C*i)/H)))          ## stores the result after calculation in Q list     \n",
        "for j in Q:\n",
        "  print(j, end=',')                               \n"
      ],
      "metadata": {
        "colab": {
          "base_uri": "https://localhost:8080/"
        },
        "id": "nusKdQ_eKRdN",
        "outputId": "86d91375-d39b-4b1d-f26a-cef772026d23"
      },
      "execution_count": null,
      "outputs": [
        {
          "output_type": "stream",
          "name": "stdout",
          "text": [
            "100,150,180\n",
            "18,22,24,"
          ]
        }
      ]
    },
    {
      "cell_type": "markdown",
      "source": [
        "##Q-2 Write a program which takes 2 digits, X,Y as input and generates a 2-dimensional array. The element value in the i-th row and j-th column of the array should be i*j.\n",
        "###Note: i=0,1.., X-1; j=0,1,¡Y-1.\n",
        "###Example\n",
        "###Suppose the following inputs are given to the program:\n",
        "###3,5\n",
        "###Then, the output of the program should be:\n",
        "###[[0, 0, 0, 0, 0], [0, 1, 2, 3, 4], [0, 2, 4, 6, 8]]"
      ],
      "metadata": {
        "id": "igHxyX_-Jvkc"
      }
    },
    {
      "cell_type": "code",
      "source": [
        "## ANS\n",
        "X,Y = map(int,input().split(','))           ## takes two comma seperated integer values\n",
        "result = []\n",
        "for i in range(X):\n",
        "  result.append([])                         ## add X number of lists inside result list\n",
        "  for j in range(Y):\n",
        "    result[i].append(i*j)                   ## add Y number of calculated values inside the X lists\n",
        "\n",
        "print(result)"
      ],
      "metadata": {
        "colab": {
          "base_uri": "https://localhost:8080/"
        },
        "id": "4RKBM6fyMq_i",
        "outputId": "f1129e38-07b3-40b0-93d7-452a434c1aff"
      },
      "execution_count": null,
      "outputs": [
        {
          "output_type": "stream",
          "name": "stdout",
          "text": [
            "3,5\n",
            "[[0, 0, 0, 0, 0], [0, 1, 2, 3, 4], [0, 2, 4, 6, 8]]\n"
          ]
        }
      ]
    },
    {
      "cell_type": "markdown",
      "source": [
        "## Q-3 Write a program that accepts a comma separated sequence of words as input and prints the words in a comma-separated sequence after sorting them alphabetically.\n",
        "###Suppose the following input is supplied to the program:\n",
        "###without,hello,bag,world\n",
        "###Then, the output should be:\n",
        "###bag,hello,without,world"
      ],
      "metadata": {
        "id": "GM6JZ2pAJviF"
      }
    },
    {
      "cell_type": "code",
      "source": [
        "## ANS\n",
        "words = list(map(str,input().split(',')))           ## takes comma seperated strings and stores it inside a list\n",
        "words.sort()                                        ## sorting the list alphabatically   \n",
        "print(','.join(words))\n"
      ],
      "metadata": {
        "colab": {
          "base_uri": "https://localhost:8080/"
        },
        "id": "Tds1kCoxOPox",
        "outputId": "a20a5470-72ad-4c0d-fb69-dfe815c500d4"
      },
      "execution_count": null,
      "outputs": [
        {
          "output_type": "stream",
          "name": "stdout",
          "text": [
            "without,hello,bag,world\n",
            "bag,hello,without,world\n"
          ]
        }
      ]
    },
    {
      "cell_type": "markdown",
      "source": [
        "## Q-4 Write a program that accepts a sequence of whitespace separated words as input and prints the words after removing all duplicate words and sorting them alphanumerically.\n",
        "### Suppose the following input is supplied to the program:\n",
        "### hello world and practice makes perfect and hello world again\n",
        "###Then, the output should be:\n",
        "###again and hello makes perfect practice world"
      ],
      "metadata": {
        "id": "9Prc8et3JvgL"
      }
    },
    {
      "cell_type": "code",
      "source": [
        "## ANS\n",
        "words = list(map(str, input().split()))         ## takes whitespace seperated words and stores it inside list\n",
        "words1 = set(words)                             ## convert the list into set because it returns set of unique words from the list\n",
        "words1 = list(words1)                           ## again converting the set into a list\n",
        "words1.sort()                                   ## sorting the list alphanumerically\n",
        "print(' '.join(words1))\n"
      ],
      "metadata": {
        "colab": {
          "base_uri": "https://localhost:8080/"
        },
        "id": "0llXQki1RYSe",
        "outputId": "1c5fc802-4e0a-4794-b7e9-08043b38831d"
      },
      "execution_count": null,
      "outputs": [
        {
          "output_type": "stream",
          "name": "stdout",
          "text": [
            "hello world and practice makes perfect and hello world again\n",
            "again and hello makes perfect practice world\n"
          ]
        }
      ]
    },
    {
      "cell_type": "markdown",
      "source": [
        "## Q-5 Write a program that accepts a sentence and calculate the number of letters and digits.\n",
        "###Suppose the following input is supplied to the program:\n",
        "###hello world! 123\n",
        "###Then, the output should be:\n",
        "###LETTERS 10\n",
        "###DIGITS 3"
      ],
      "metadata": {
        "id": "olKKSV66Jvcy"
      }
    },
    {
      "cell_type": "code",
      "source": [
        "## ANS\n",
        "a = input(\"Enter a sentence: \")\n",
        "letters = 0\n",
        "digits = 0\n",
        "for i in a:\n",
        "  if i.isalpha():\n",
        "    letters += 1\n",
        "  elif i.isdigit():\n",
        "    digits += 1\n",
        "  else:\n",
        "    pass\n",
        "print(f\"LETTERS {letters}\")\n",
        "print(f\"DIGITS {digits}\")"
      ],
      "metadata": {
        "colab": {
          "base_uri": "https://localhost:8080/"
        },
        "id": "4Svs-iWV1Jms",
        "outputId": "c2c3fae8-a91c-48ff-841b-f52e2d31793d"
      },
      "execution_count": null,
      "outputs": [
        {
          "output_type": "stream",
          "name": "stdout",
          "text": [
            "Enter a sentence: hello world! 123\n",
            "LETTERS 10\n",
            "DIGITS 3\n"
          ]
        }
      ]
    },
    {
      "cell_type": "markdown",
      "source": [
        "## Q-6 A website requires the users to input username and password to register. Write a program to check the validity of password input by users.\n",
        "### Following are the criteria for checking the password:\n",
        "1. At least 1 letter between [a-z]\n",
        "2. At least 1 number between [0-9]\n",
        "1. At least 1 letter between [A-Z]\n",
        "3. At least 1 character from [$#@]\n",
        "4. Minimum length of transaction password: 6\n",
        "5. Maximum length of transaction password: 12\n",
        "### Your program should accept a sequence of comma separated passwords and will check them according to the above criteria. Passwords that match the criteria are to be printed, each separated by a comma.\n",
        "### Example\n",
        "### If the following passwords are given as input to the program:\n",
        "### ABd1234@,aF1#,2w3E*,2We3345\n",
        "### Then, the output of the program should be:\n",
        "### ABd1234@"
      ],
      "metadata": {
        "id": "oMHDM6wRJvZu"
      }
    },
    {
      "cell_type": "code",
      "source": [
        "## ANS\n",
        "a = list(map(str, input().split(',')))             ## takes comma seperated values and stores it inside a list\n",
        "lower = 'abcdefghijklmnopqrstuvwxyz'               \n",
        "upper = 'ABCDEFGHIJKLMNOPQRSTUVWXYZ'\n",
        "number = '0123456789'\n",
        "special = '$#@'\n",
        "min = 6\n",
        "max = 12\n",
        "l, u, n, s = 0,0,0,0                               ## initializing the count to 0 for l,u,n,s\n",
        "for i in a:                                        ## iterating over values of a\n",
        "  if len(i)>=min and len(i)<= max:                 \n",
        "    for k in i:                                    ## iterating over each character of i\n",
        "      if k.islower():\n",
        "        l += 1\n",
        "      elif k.isupper():\n",
        "        u += 1\n",
        "      elif k.isdigit():\n",
        "        n += 1\n",
        "      elif k in special:\n",
        "        s +=1\n",
        "    if (l>=1 and u>=1 and n>=1 and s>=1):          ## printing the value which satisfies the above conditions for password\n",
        "      print(i)\n",
        "    l, u, n, s = 0,0,0,0                           ## again initializing the count to 0 for l,u,n,s"
      ],
      "metadata": {
        "colab": {
          "base_uri": "https://localhost:8080/"
        },
        "id": "l3D1H6tS3rmK",
        "outputId": "ccb33107-50ff-4155-baff-0cd456f4c5fe"
      },
      "execution_count": 18,
      "outputs": [
        {
          "output_type": "stream",
          "name": "stdout",
          "text": [
            "ABd1234@,aF1#,2w3E*,2We3345,DFGsh56$@#\n",
            "ABd1234@\n",
            "DFGsh56$@#\n"
          ]
        }
      ]
    }
  ]
}