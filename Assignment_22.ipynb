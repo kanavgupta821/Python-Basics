{
  "nbformat": 4,
  "nbformat_minor": 0,
  "metadata": {
    "colab": {
      "provenance": []
    },
    "kernelspec": {
      "name": "python3",
      "display_name": "Python 3"
    },
    "language_info": {
      "name": "python"
    }
  },
  "cells": [
    {
      "cell_type": "markdown",
      "source": [
        "##1. What is the result of the code, and explain?\n",
        "\n",
        "\n",
        "```\n",
        ">>> X = 'iNeuron'\n",
        ">>> def func():\n",
        "print(X)\n",
        "\n",
        ">>> func()\n",
        "```\n",
        "\n",
        "\n",
        "\n"
      ],
      "metadata": {
        "id": "K9GcWjBz4Z6Q"
      }
    },
    {
      "cell_type": "code",
      "source": [
        "## ANS \n",
        "x = 'iNeuron'\n",
        "def func():\n",
        "  print(x)\n",
        "\n",
        "func()"
      ],
      "metadata": {
        "colab": {
          "base_uri": "https://localhost:8080/"
        },
        "id": "HdW23k5N658p",
        "outputId": "185820a2-5faf-496f-9de4-8ae6a8f008e6"
      },
      "execution_count": 2,
      "outputs": [
        {
          "output_type": "stream",
          "name": "stdout",
          "text": [
            "iNeuron\n"
          ]
        }
      ]
    },
    {
      "cell_type": "markdown",
      "source": [
        "###Here when func() is called it will execute the statement written inside it which print the value of x whose value is assigned as 'ineuron'."
      ],
      "metadata": {
        "id": "X7uU22XC7Vvb"
      }
    },
    {
      "cell_type": "markdown",
      "source": [
        "##2. What is the result of the code, and explain?\n",
        "\n",
        "\n",
        "\n",
        "```\n",
        ">>> X = 'iNeuron'\n",
        ">>> def func():\n",
        "X = 'NI!'\n",
        "\n",
        ">>> func()\n",
        ">>> print(X)\n",
        "```\n",
        "\n",
        "\n",
        "\n",
        "\n"
      ],
      "metadata": {
        "id": "qfKwDzyb4ubh"
      }
    },
    {
      "cell_type": "code",
      "source": [
        "## ANS \n",
        "x = 'iNeuron'\n",
        "def func():\n",
        "  x='NI!'\n",
        "\n",
        "func()\n",
        "print(x)"
      ],
      "metadata": {
        "colab": {
          "base_uri": "https://localhost:8080/"
        },
        "id": "Y831uDEh7Q8Y",
        "outputId": "e10a8224-c42f-490b-ce98-fc387c1b87ff"
      },
      "execution_count": 4,
      "outputs": [
        {
          "output_type": "stream",
          "name": "stdout",
          "text": [
            "iNeuron\n"
          ]
        }
      ]
    },
    {
      "cell_type": "markdown",
      "source": [
        "###Here when func() is called it will execute the statement written inside it which only initialize value of x='NI' but it doesnot return anything(None).So it comes out of the block and doesnot print anything. Again when print(x) is executed it prints the value of X = 'iNeuron'."
      ],
      "metadata": {
        "id": "XMaz4olD7kN9"
      }
    },
    {
      "cell_type": "markdown",
      "source": [
        "##3. What does this code print, and why?\n",
        "\n",
        "\n",
        "\n",
        "\n",
        "\n",
        "```\n",
        ">>> X = 'iNeuron'\n",
        ">>> def func():\n",
        "X = 'NI'\n",
        "print(X)\n",
        "\n",
        ">>> func()\n",
        ">>> print(X)\n",
        "```\n",
        "\n"
      ],
      "metadata": {
        "id": "th8D0BKd4uAO"
      }
    },
    {
      "cell_type": "code",
      "source": [
        "## ANS\n",
        "x = 'iNeuron'\n",
        "def func():\n",
        "  x = 'NI'\n",
        "  print(x)\n",
        "\n",
        "func()"
      ],
      "metadata": {
        "colab": {
          "base_uri": "https://localhost:8080/"
        },
        "id": "0XwwCJaC7qmn",
        "outputId": "a3db3dbe-9fc7-4442-9ded-33ebe7300dd0"
      },
      "execution_count": 5,
      "outputs": [
        {
          "output_type": "stream",
          "name": "stdout",
          "text": [
            "NI\n"
          ]
        }
      ]
    },
    {
      "cell_type": "code",
      "source": [
        "print(x)"
      ],
      "metadata": {
        "colab": {
          "base_uri": "https://localhost:8080/"
        },
        "id": "q8Ign26z70bE",
        "outputId": "1cfa1fd5-c2f5-45ea-9322-cea497fe26f5"
      },
      "execution_count": 6,
      "outputs": [
        {
          "output_type": "stream",
          "name": "stdout",
          "text": [
            "iNeuron\n"
          ]
        }
      ]
    },
    {
      "cell_type": "markdown",
      "source": [
        "###Here when func() is called it will execute the statement written inside it which initialize value of x='NI' and subsequently print the value of X.The scope of X = 'NI'is within the block func(). But when a print statement i.e print(X) is executed it prints x value as iNeuron.(X is treated as global variable)\n"
      ],
      "metadata": {
        "id": "JSQhSruY73OP"
      }
    },
    {
      "cell_type": "markdown",
      "source": [
        "##4. What output does this code produce? Why?\n",
        "\n",
        "\n",
        "\n",
        "```\n",
        ">>> X = 'iNeuron'\n",
        ">>> def func():\n",
        "global X\n",
        "X = 'NI'\n",
        "\n",
        ">>> func()\n",
        ">>> print(X)\n",
        "```\n",
        "\n",
        "\n"
      ],
      "metadata": {
        "id": "HLsP2ptF4ty1"
      }
    },
    {
      "cell_type": "code",
      "source": [
        "## ANS\n",
        "x = 'iNeuron'\n",
        "def func():\n",
        "  global x\n",
        "  x = 'NI'\n",
        "\n",
        "func()"
      ],
      "metadata": {
        "id": "p3039s8478do"
      },
      "execution_count": 7,
      "outputs": []
    },
    {
      "cell_type": "code",
      "source": [
        "print(x)"
      ],
      "metadata": {
        "colab": {
          "base_uri": "https://localhost:8080/"
        },
        "id": "RK4DUOFI8IUJ",
        "outputId": "9e9054bc-607d-46ea-d98b-527fd434d514"
      },
      "execution_count": 8,
      "outputs": [
        {
          "output_type": "stream",
          "name": "stdout",
          "text": [
            "NI\n"
          ]
        }
      ]
    },
    {
      "cell_type": "markdown",
      "source": [
        "###Here in func() we have declared X as global variable hence it's previous value i.e 'iNeuron' is overrided and when print(x) is executed it prints latest updated value i.e 'NI'."
      ],
      "metadata": {
        "id": "MthEDxWJ8J45"
      }
    },
    {
      "cell_type": "markdown",
      "source": [
        "##5. What about this code—what’s the output, and why?\n",
        "\n",
        "\n",
        "```\n",
        ">>> X = 'iNeuron'\n",
        ">>> def func():\n",
        "X = 'NI'\n",
        "def nested():\n",
        "print(X)\n",
        "nested()\n",
        "\n",
        ">>> func()\n",
        ">>> X\n",
        "```\n",
        "\n",
        "\n",
        "\n",
        "\n"
      ],
      "metadata": {
        "id": "JxFI9yBF4tlJ"
      }
    },
    {
      "cell_type": "code",
      "source": [
        "## ANS\n",
        "x = 'iNeuron'\n",
        "def func():\n",
        "  x = 'NI'\n",
        "def nested():\n",
        "  print(x)\n",
        "\n",
        "nested()"
      ],
      "metadata": {
        "colab": {
          "base_uri": "https://localhost:8080/"
        },
        "id": "ZqVaD4Nh8MzV",
        "outputId": "afdb6ea6-ab48-4f93-f10b-913233b71735"
      },
      "execution_count": 9,
      "outputs": [
        {
          "output_type": "stream",
          "name": "stdout",
          "text": [
            "iNeuron\n"
          ]
        }
      ]
    },
    {
      "cell_type": "code",
      "source": [
        "func()"
      ],
      "metadata": {
        "id": "b7JR908G8ZIP"
      },
      "execution_count": 10,
      "outputs": []
    },
    {
      "cell_type": "code",
      "source": [
        "x"
      ],
      "metadata": {
        "colab": {
          "base_uri": "https://localhost:8080/",
          "height": 36
        },
        "id": "TqSlb5vh8dC-",
        "outputId": "66e94c12-1e6e-4939-8e37-f95b024d6d6d"
      },
      "execution_count": 11,
      "outputs": [
        {
          "output_type": "execute_result",
          "data": {
            "text/plain": [
              "'iNeuron'"
            ],
            "application/vnd.google.colaboratory.intrinsic+json": {
              "type": "string"
            }
          },
          "metadata": {},
          "execution_count": 11
        }
      ]
    },
    {
      "cell_type": "markdown",
      "source": [
        "###Here when nested() is called it prints X = 'iNeuron'(Global variable). In func(), X = 'NI' the scope of X is within func() as it is a local variable."
      ],
      "metadata": {
        "id": "h4Ol2-uT8gI9"
      }
    },
    {
      "cell_type": "markdown",
      "source": [
        "##6. How about this code: what is its output in Python 3, and explain?\n",
        "\n",
        "\n",
        "\n",
        "```\n",
        ">>> def func():\n",
        "X = 'NI'\n",
        "def nested():\n",
        "nonlocal X\n",
        "X = 'Spam'\n",
        "nested()\n",
        "print(X)\n",
        "\n",
        ">>> func()\n",
        "```\n",
        "\n"
      ],
      "metadata": {
        "id": "vBe6tqJo4s2Q"
      }
    },
    {
      "cell_type": "code",
      "execution_count": 12,
      "metadata": {
        "colab": {
          "base_uri": "https://localhost:8080/",
          "height": 130
        },
        "id": "5wj4OwK_4OFf",
        "outputId": "b24495e5-b3d0-4e23-fb10-db5230e7599d"
      },
      "outputs": [
        {
          "output_type": "error",
          "ename": "SyntaxError",
          "evalue": "ignored",
          "traceback": [
            "\u001b[0;36m  File \u001b[0;32m\"<ipython-input-12-bc6d991ec103>\"\u001b[0;36m, line \u001b[0;32m5\u001b[0m\n\u001b[0;31m    nonlocal x\u001b[0m\n\u001b[0m    ^\u001b[0m\n\u001b[0;31mSyntaxError\u001b[0m\u001b[0;31m:\u001b[0m no binding for nonlocal 'x' found\n"
          ]
        }
      ],
      "source": [
        "## ANS\n",
        "def func():\n",
        "  x = 'NI'\n",
        "def nested():\n",
        "  nonlocal x\n",
        "  x = 'Spam'\n",
        "\n",
        "nested()\n",
        "print(x)"
      ]
    },
    {
      "cell_type": "code",
      "source": [
        "func()"
      ],
      "metadata": {
        "id": "zyWgFgFo8zL5"
      },
      "execution_count": 13,
      "outputs": []
    },
    {
      "cell_type": "markdown",
      "source": [
        "###A variable if we want to access outside the block as well as within the block should be declared as global."
      ],
      "metadata": {
        "id": "SxhSijl084xw"
      }
    }
  ]
}