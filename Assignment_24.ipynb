{
  "nbformat": 4,
  "nbformat_minor": 0,
  "metadata": {
    "colab": {
      "provenance": []
    },
    "kernelspec": {
      "name": "python3",
      "display_name": "Python 3"
    },
    "language_info": {
      "name": "python"
    }
  },
  "cells": [
    {
      "cell_type": "markdown",
      "source": [
        "##1. What is the relationship between def statements and lambda expressions ?\n",
        "### ANS Keyword def that marks the start of the function header. A function name to uniquely identify the function.  Function naming follows the same rules of writing identifiers in Python\n",
        "\n",
        "###lambdas are one-line methods without a name. They work practically the same as any other method in Python Lambdas differ from normal Python methods because they can have only one expression, can't contain any statements and their return type is a function object"
      ],
      "metadata": {
        "id": "ujJWL7c1YxfK"
      }
    },
    {
      "cell_type": "markdown",
      "source": [
        "##2. What is the benefit of lambda?\n",
        "### ANS Fewer Lines of Code\n",
        "###Lambda functions are inline functions and thus execute comparatively faster.\n",
        "###Many times lambda functions make code much more readable by avoiding the logical jumps caused by function calls."
      ],
      "metadata": {
        "id": "l_YrkOsOY1tr"
      }
    },
    {
      "cell_type": "markdown",
      "source": [
        "##3. Compare and contrast map, filter, and reduce.\n",
        "### ANS map applies as a transformation to an element. The map() function iterates through all items in the given iterable and executes the function we  passed as an argument on each of them.\n",
        "###Syntax : map(function, iterable(s))\n",
        "\n",
        "\n",
        "###filter accumulates only elements matching a condition. filter() forms a new list that contains only elements that satisfy a certain condition, i.e. the function we passed returns True\n",
        "###Syntax : filter(function, iterable(s))\n",
        "\n",
        "\n",
        "###reduce accumulates all elements to a single value, by using immutable values reduce() works by calling the function we passed for the first two items in the sequence. The result returned by the function is used in another call to function alongside with the next (third in this case), element.\n",
        "###Syntax : reduce(function, sequence[, initial])\n",
        "\n"
      ],
      "metadata": {
        "id": "ccscxfSHY3lY"
      }
    },
    {
      "cell_type": "code",
      "source": [
        "## Map functions\n",
        "fruit =['Apple','Banana','Pear','Apricot','Orange']\n",
        "map_object = map(lambda s:s[0]=='A', fruit)\n",
        "\n",
        "for i in map_object:\n",
        "  print(i)"
      ],
      "metadata": {
        "colab": {
          "base_uri": "https://localhost:8080/"
        },
        "id": "n6Sj8UkbaBef",
        "outputId": "ca4f71eb-acea-45c8-c8b0-37e9b73592f6"
      },
      "execution_count": 2,
      "outputs": [
        {
          "output_type": "stream",
          "name": "stdout",
          "text": [
            "True\n",
            "False\n",
            "False\n",
            "True\n",
            "False\n"
          ]
        }
      ]
    },
    {
      "cell_type": "code",
      "source": [
        "## Filter functions\n",
        "fruit = [\"Apple\", \"Banana\", \"Pear\", \"Apricot\", \"Orange\"]\n",
        "filter_object = filter(lambda s: s[0] == \"A\", fruit)\n",
        "\n",
        "for i in filter_object:\n",
        "  print(i)"
      ],
      "metadata": {
        "colab": {
          "base_uri": "https://localhost:8080/"
        },
        "id": "YwCXs2hma8Wb",
        "outputId": "9e74239e-c452-4c94-aef2-d5b4f2f7dc2b"
      },
      "execution_count": 4,
      "outputs": [
        {
          "output_type": "stream",
          "name": "stdout",
          "text": [
            "Apple\n",
            "Apricot\n"
          ]
        }
      ]
    },
    {
      "cell_type": "code",
      "source": [
        "## Reduce function\n",
        "from functools import reduce\n",
        "\n",
        "list1 = [2, 4, 7, 3]\n",
        "print(reduce(lambda x, y: x + y, list1))\n",
        "print(\"With an initial value: \" + str(reduce(lambda x, y: x + y, list, 10)))"
      ],
      "metadata": {
        "colab": {
          "base_uri": "https://localhost:8080/"
        },
        "id": "Z9veGhOEbE1g",
        "outputId": "a9855867-3d60-4090-b2b5-351189ac7885"
      },
      "execution_count": 6,
      "outputs": [
        {
          "output_type": "stream",
          "name": "stdout",
          "text": [
            "16\n",
            "With an initial value: 26\n"
          ]
        }
      ]
    },
    {
      "cell_type": "code",
      "source": [
        "from functools import reduce\n",
        "\n",
        "def add(x, y):\n",
        "    return x + y\n",
        "\n",
        "list1 = [2, 4, 7, 3]\n",
        "print(reduce(add, list1))"
      ],
      "metadata": {
        "colab": {
          "base_uri": "https://localhost:8080/"
        },
        "id": "3kHSMQ0rbl9B",
        "outputId": "4a3d2a7d-35ce-43ab-d5b5-ad2f2a9a974c"
      },
      "execution_count": 7,
      "outputs": [
        {
          "output_type": "stream",
          "name": "stdout",
          "text": [
            "16\n"
          ]
        }
      ]
    },
    {
      "cell_type": "markdown",
      "source": [
        "##4. What are function annotations, and how are they used?\n",
        "### ANS Function annotation is the standard way to access the metadata with the arguments and the return value of the function. These are nothing but some random and optional Python expressions that get allied to different parts of the function. They get evaluated only during the compile-time and have no significance during the run-time of the code. They do not have any significance or meaning associated with them until accessed by some third-party libraries. They are used to type check the functions by declaring the type of the parameters and the return value for the functions. The string-based annotations help us to improve the help messages.\n",
        "\n",
        "### Syntax :\n",
        "    def func(a: 'int') -> 'int':\n",
        "        pass\n",
        "\n",
        "###Annotations for simple parameters:\n",
        "    def func(x: 'float'=10.8, y: 'argument2'):\n",
        "\n",
        "###In the above code the argument, ‘x’ of the function func, has been annotated to float data type and the argument ‘y’ has a string-based annotation. The argument can also be assigned to a default value using a ‘=’ symbol followed by the default value. These default values are optional to the code.\n",
        "\n",
        "###Annotations for return values:\n",
        "    def func(a: expression) -> 'int':\n",
        "###The annotations for the return value is written after the ‘->’ symbol.\n"
      ],
      "metadata": {
        "id": "-jBu81jbY2wJ"
      }
    },
    {
      "cell_type": "code",
      "source": [
        "def fib(n:'float', b:'int')-> 'result': \n",
        "    pass\n",
        "print(fib.__annotations__)"
      ],
      "metadata": {
        "colab": {
          "base_uri": "https://localhost:8080/"
        },
        "id": "hlgUbIDxcOlQ",
        "outputId": "5325a359-c3cb-408a-8e1c-e5a09e62fccb"
      },
      "execution_count": 8,
      "outputs": [
        {
          "output_type": "stream",
          "name": "stdout",
          "text": [
            "{'n': 'float', 'b': 'int', 'return': 'result'}\n"
          ]
        }
      ]
    },
    {
      "cell_type": "markdown",
      "source": [
        "##5. What are recursive functions, and how are they used?\n",
        "### ANS A recursive function is a function that calls itself during its execution. This means that the function will continue to call itself and repeat its behavior until some condition is met to return a result"
      ],
      "metadata": {
        "id": "FMVmjv4mY2i9"
      }
    },
    {
      "cell_type": "code",
      "source": [
        "## example\n",
        "def fact(x):\n",
        "  if x==1:\n",
        "    return 1\n",
        "  else:\n",
        "    return x * fact(x-1)   # recursion\n",
        "\n",
        "fact(5)"
      ],
      "metadata": {
        "colab": {
          "base_uri": "https://localhost:8080/"
        },
        "id": "13vz-yjfcaiZ",
        "outputId": "49eca4a3-5679-47bc-e715-f4b93759dd3f"
      },
      "execution_count": 11,
      "outputs": [
        {
          "output_type": "execute_result",
          "data": {
            "text/plain": [
              "120"
            ]
          },
          "metadata": {},
          "execution_count": 11
        }
      ]
    },
    {
      "cell_type": "markdown",
      "source": [
        "##6. What are some general design guidelines for coding functions?\n",
        "### ANS\n",
        "###1. Use 4-space indentation and no tabs.\n",
        "###2. Use docstrings\n",
        "###3. Wrap linethat they don’t exceed 79 characters\n",
        "###4. Use of regular and updated comments are valuable to both the coders and users\n",
        "###5. Use of trailing commas : in case of tuple -> ('good',)\n",
        "###6. Use Python’s default UTF-8 or ASCII encodings and not any fancy encodings\n",
        "###7. Naming Conventions\n",
        "###8.Characters that should not be used for identifiers :\n",
        "####‘l’ (lowercase letter el), \n",
        "####‘O’ (uppercase letter oh), \n",
        "####‘I’ (uppercase letter eye) as single character variable names as these are similar to the numerals one and zero.\n",
        "###9. Don’t use non-ASCII characters in identifiers\n",
        "###10. Name your classes and functions consistently\n",
        "###11. While naming of function of methods always use self for the first argument\n"
      ],
      "metadata": {
        "id": "zR81qzCKY2SH"
      }
    },
    {
      "cell_type": "markdown",
      "source": [
        "##7. Name three or more ways that functions can communicate results to a caller.\n",
        "### ANS\n",
        "###1. Function can return single value\n",
        "###2. Can return multiple values, tuple\n",
        "###3. can return list,dictionary\n",
        "###4. can return function object\n",
        "###5. can return class object"
      ],
      "metadata": {
        "id": "uLTekw7cY2Om"
      }
    }
  ]
}