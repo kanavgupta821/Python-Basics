{
  "nbformat": 4,
  "nbformat_minor": 0,
  "metadata": {
    "colab": {
      "provenance": []
    },
    "kernelspec": {
      "name": "python3",
      "display_name": "Python 3"
    },
    "language_info": {
      "name": "python"
    }
  },
  "cells": [
    {
      "cell_type": "markdown",
      "source": [
        "##1. Create a list called years_list, starting with the year of your birth, and each year thereafter until the year of your fifth birthday. For example, if you were born in 1980. the list would be years_list = [1980, 1981, 1982, 1983, 1984, 1985].\n"
      ],
      "metadata": {
        "id": "dXlcxb6kkP3v"
      }
    },
    {
      "cell_type": "code",
      "source": [
        "## ANS \n",
        "years_list = [1980, 1981, 1982, 1983, 1984, 1985]\n",
        "years_list"
      ],
      "metadata": {
        "colab": {
          "base_uri": "https://localhost:8080/"
        },
        "id": "qEkRA3ualclm",
        "outputId": "e9cc0721-4371-460e-c9fd-8253aaf06b6b"
      },
      "execution_count": 1,
      "outputs": [
        {
          "output_type": "execute_result",
          "data": {
            "text/plain": [
              "[1980, 1981, 1982, 1983, 1984, 1985]"
            ]
          },
          "metadata": {},
          "execution_count": 1
        }
      ]
    },
    {
      "cell_type": "markdown",
      "source": [
        "##2. In which year in years_list was your third birthday? Remember, you were 0 years of age for your first year.\n"
      ],
      "metadata": {
        "id": "9bDqqQSukP6h"
      }
    },
    {
      "cell_type": "code",
      "source": [
        "## ANS \n",
        "years_list[3]"
      ],
      "metadata": {
        "colab": {
          "base_uri": "https://localhost:8080/"
        },
        "id": "mdS7MaV9lnqH",
        "outputId": "4c5d50fb-a7f3-435d-afd6-c7a803aa2a8a"
      },
      "execution_count": 5,
      "outputs": [
        {
          "output_type": "execute_result",
          "data": {
            "text/plain": [
              "1983"
            ]
          },
          "metadata": {},
          "execution_count": 5
        }
      ]
    },
    {
      "cell_type": "markdown",
      "source": [
        "##3.In the years list, which year were you the oldest?\n"
      ],
      "metadata": {
        "id": "U45XUhkfkP9A"
      }
    },
    {
      "cell_type": "code",
      "source": [
        "## ANS \n",
        "years_list[-1]"
      ],
      "metadata": {
        "colab": {
          "base_uri": "https://localhost:8080/"
        },
        "id": "ii1HNpPsluVz",
        "outputId": "15ffe64a-61a9-490a-ca97-63e5cf319db6"
      },
      "execution_count": 4,
      "outputs": [
        {
          "output_type": "execute_result",
          "data": {
            "text/plain": [
              "1985"
            ]
          },
          "metadata": {},
          "execution_count": 4
        }
      ]
    },
    {
      "cell_type": "markdown",
      "source": [
        "##4. Make a list called things with these three strings as elements: &quot;mozzarella&quot;, &quot;cinderella&quot;, &quot;salmonella&quot;.\n"
      ],
      "metadata": {
        "id": "T9fGDjvtkQAA"
      }
    },
    {
      "cell_type": "code",
      "source": [
        "## ANS\n",
        "things = [\"mozzarella\", \"cinderella\", \"salmonella\"]\n",
        "things"
      ],
      "metadata": {
        "colab": {
          "base_uri": "https://localhost:8080/"
        },
        "id": "5b_c9Nx2l2mZ",
        "outputId": "6b5f5dd2-ad7c-4007-c02a-7e4e4c3196a1"
      },
      "execution_count": 6,
      "outputs": [
        {
          "output_type": "execute_result",
          "data": {
            "text/plain": [
              "['mozzarella', 'cinderella', 'salmonella']"
            ]
          },
          "metadata": {},
          "execution_count": 6
        }
      ]
    },
    {
      "cell_type": "markdown",
      "source": [
        "##5. Capitalize the element in things that refers to a person and then print the list. Did it change the element in the list?\n"
      ],
      "metadata": {
        "id": "1Evy5ESrkQCT"
      }
    },
    {
      "cell_type": "code",
      "source": [
        "## ANS\n",
        "things[1].capitalize()"
      ],
      "metadata": {
        "colab": {
          "base_uri": "https://localhost:8080/",
          "height": 36
        },
        "id": "XAQloQgSl5T0",
        "outputId": "672f1bf8-a178-44d1-d3f6-2c0b98b3e4ff"
      },
      "execution_count": 7,
      "outputs": [
        {
          "output_type": "execute_result",
          "data": {
            "text/plain": [
              "'Cinderella'"
            ],
            "application/vnd.google.colaboratory.intrinsic+json": {
              "type": "string"
            }
          },
          "metadata": {},
          "execution_count": 7
        }
      ]
    },
    {
      "cell_type": "code",
      "source": [
        "print(things)"
      ],
      "metadata": {
        "colab": {
          "base_uri": "https://localhost:8080/"
        },
        "id": "m0_KtBwimGRD",
        "outputId": "daf42fd3-1fe4-4e1f-ec32-8db679b06e2c"
      },
      "execution_count": 8,
      "outputs": [
        {
          "output_type": "stream",
          "name": "stdout",
          "text": [
            "['mozzarella', 'cinderella', 'salmonella']\n"
          ]
        }
      ]
    },
    {
      "cell_type": "markdown",
      "source": [
        "##6. Make a surprise list with the elements &quot;Groucho,&quot; &quot;Chico,&quot; and &quot;Harpo.&quot;\n"
      ],
      "metadata": {
        "id": "aPxvgy4mkQE9"
      }
    },
    {
      "cell_type": "code",
      "source": [
        "## ANS \n",
        "surprise = ['Groucho', 'Chico', 'Harpo']\n",
        "surprise"
      ],
      "metadata": {
        "colab": {
          "base_uri": "https://localhost:8080/"
        },
        "id": "Ufxt8cArmPEn",
        "outputId": "31005b68-0e6c-4455-c5c0-c8ec575d63da"
      },
      "execution_count": 9,
      "outputs": [
        {
          "output_type": "execute_result",
          "data": {
            "text/plain": [
              "['Groucho', 'Chico', 'Harpo']"
            ]
          },
          "metadata": {},
          "execution_count": 9
        }
      ]
    },
    {
      "cell_type": "markdown",
      "source": [
        "##7. Lowercase the last element of the surprise list, reverse it, and then capitalize it.\n"
      ],
      "metadata": {
        "id": "J6pld47ykQH5"
      }
    },
    {
      "cell_type": "code",
      "source": [
        "## ANS \n",
        "surprise[-1] = surprise[-1].lower()\n",
        "surprise[-1] = surprise[-1][::-1]\n",
        "surprise[-1].capitalize()"
      ],
      "metadata": {
        "colab": {
          "base_uri": "https://localhost:8080/",
          "height": 36
        },
        "id": "uir9nIWamSvS",
        "outputId": "ec3f0b92-aaf4-4cc9-a82a-051612a62a7a"
      },
      "execution_count": 10,
      "outputs": [
        {
          "output_type": "execute_result",
          "data": {
            "text/plain": [
              "'Oprah'"
            ],
            "application/vnd.google.colaboratory.intrinsic+json": {
              "type": "string"
            }
          },
          "metadata": {},
          "execution_count": 10
        }
      ]
    },
    {
      "cell_type": "markdown",
      "source": [
        "##8. Make an English-to-French dictionary called e2f and print it. Here are your starter words: dog is chien, cat is chat, and walrus is morse.\n"
      ],
      "metadata": {
        "id": "r1MKrMC8kQLd"
      }
    },
    {
      "cell_type": "code",
      "source": [
        "## ANS \n",
        "e2f = {'dog': 'chien', 'cat': 'chat', 'walrus': 'morse'}\n",
        "e2f "
      ],
      "metadata": {
        "colab": {
          "base_uri": "https://localhost:8080/"
        },
        "id": "5ZIxiXDJmbQu",
        "outputId": "1b6fee62-66da-4b27-da39-a22ebaf876e2"
      },
      "execution_count": 11,
      "outputs": [
        {
          "output_type": "execute_result",
          "data": {
            "text/plain": [
              "{'dog': 'chien', 'cat': 'chat', 'walrus': 'morse'}"
            ]
          },
          "metadata": {},
          "execution_count": 11
        }
      ]
    },
    {
      "cell_type": "markdown",
      "source": [
        "##9. Write the French word for walrus in your three-word dictionary e2f.\n"
      ],
      "metadata": {
        "id": "uBzyip7PkQN8"
      }
    },
    {
      "cell_type": "code",
      "source": [
        "## ANS \n",
        "e2f['walrus']"
      ],
      "metadata": {
        "colab": {
          "base_uri": "https://localhost:8080/",
          "height": 36
        },
        "id": "nAboskyymfE9",
        "outputId": "23fd584e-0f80-4a93-efa1-659eba7131c3"
      },
      "execution_count": 12,
      "outputs": [
        {
          "output_type": "execute_result",
          "data": {
            "text/plain": [
              "'morse'"
            ],
            "application/vnd.google.colaboratory.intrinsic+json": {
              "type": "string"
            }
          },
          "metadata": {},
          "execution_count": 12
        }
      ]
    },
    {
      "cell_type": "markdown",
      "source": [
        "##10. Make a French-to-English dictionary called f2e from e2f. Use the items method.\n"
      ],
      "metadata": {
        "id": "tRz8UUrjkQQI"
      }
    },
    {
      "cell_type": "code",
      "source": [
        "## ANS \n",
        "f2e = {}\n",
        "for english, french in e2f.items():\n",
        "    f2e[french] = english\n",
        "f2e"
      ],
      "metadata": {
        "colab": {
          "base_uri": "https://localhost:8080/"
        },
        "id": "Ddm0SLt6misp",
        "outputId": "62e8d9e5-3dc8-48dc-8c39-ab9273b410ca"
      },
      "execution_count": 13,
      "outputs": [
        {
          "output_type": "execute_result",
          "data": {
            "text/plain": [
              "{'chien': 'dog', 'chat': 'cat', 'morse': 'walrus'}"
            ]
          },
          "metadata": {},
          "execution_count": 13
        }
      ]
    },
    {
      "cell_type": "markdown",
      "source": [
        "##11. Print the English version of the French word chien using f2e.\n"
      ],
      "metadata": {
        "id": "lUw-2052kQSO"
      }
    },
    {
      "cell_type": "code",
      "source": [
        "## ANS \n",
        "print(f2e['chien'])"
      ],
      "metadata": {
        "colab": {
          "base_uri": "https://localhost:8080/"
        },
        "id": "HiQ87A1Anipx",
        "outputId": "c6a6cd0a-a20f-44db-9129-877c47a9017a"
      },
      "execution_count": 16,
      "outputs": [
        {
          "output_type": "stream",
          "name": "stdout",
          "text": [
            "dog\n"
          ]
        }
      ]
    },
    {
      "cell_type": "markdown",
      "source": [
        "##12. Make and print a set of English words from the keys in e2f.\n"
      ],
      "metadata": {
        "id": "VBZUCQLOkQVC"
      }
    },
    {
      "cell_type": "code",
      "source": [
        "## ANS \n",
        "print(set(e2f.keys()))"
      ],
      "metadata": {
        "colab": {
          "base_uri": "https://localhost:8080/"
        },
        "id": "iUBnyMHqnnPw",
        "outputId": "3ba3f079-6e73-4429-d99c-7ff4589f1414"
      },
      "execution_count": 17,
      "outputs": [
        {
          "output_type": "stream",
          "name": "stdout",
          "text": [
            "{'walrus', 'dog', 'cat'}\n"
          ]
        }
      ]
    },
    {
      "cell_type": "markdown",
      "source": [
        "##13. Make a multilevel dictionary called life. Use these strings for the topmost keys: &#39;animals&#39;, &#39;plants&#39;, and &#39;other&#39;. Make the &#39;animals&#39; key refer to another dictionary with the keys &#39;cats&#39;, &#39;octopi&#39;, and &#39;emus&#39;. Make the &#39;cats&#39; key refer to a list of strings with the values &#39;Henri&#39;, &#39;Grumpy&#39;, and &#39;Lucy&#39;. Make all the other keys refer to empty dictionaries.\n"
      ],
      "metadata": {
        "id": "Uq_sfS8KkQXg"
      }
    },
    {
      "cell_type": "code",
      "source": [
        "## ANS\n",
        "life = {\n",
        "        'animals': {\n",
        "            'cats': [\n",
        "                'Henri', 'Grumpy', 'Lucy'\n",
        "                ],\n",
        "            'octopi': {},\n",
        "            'emus': {}\n",
        "            },\n",
        "        'plants': {},\n",
        "        'other': {}\n",
        "        }\n",
        "    \n",
        "life"
      ],
      "metadata": {
        "colab": {
          "base_uri": "https://localhost:8080/"
        },
        "id": "KMczrbXMoFWs",
        "outputId": "d63f3c90-6637-4801-e959-e09f4bbbcaec"
      },
      "execution_count": 18,
      "outputs": [
        {
          "output_type": "execute_result",
          "data": {
            "text/plain": [
              "{'animals': {'cats': ['Henri', 'Grumpy', 'Lucy'], 'octopi': {}, 'emus': {}},\n",
              " 'plants': {},\n",
              " 'other': {}}"
            ]
          },
          "metadata": {},
          "execution_count": 18
        }
      ]
    },
    {
      "cell_type": "markdown",
      "source": [
        "##14. Print the top-level keys of life.\n"
      ],
      "metadata": {
        "id": "eDR2a3BIkQa-"
      }
    },
    {
      "cell_type": "code",
      "source": [
        "## ANS\n",
        "print(life.keys())"
      ],
      "metadata": {
        "colab": {
          "base_uri": "https://localhost:8080/"
        },
        "id": "QLqP8p6HoVD6",
        "outputId": "084a3c34-26bf-4823-d987-78e9a158c6b8"
      },
      "execution_count": 19,
      "outputs": [
        {
          "output_type": "stream",
          "name": "stdout",
          "text": [
            "dict_keys(['animals', 'plants', 'other'])\n"
          ]
        }
      ]
    },
    {
      "cell_type": "code",
      "source": [
        "print(list(life.keys()))"
      ],
      "metadata": {
        "colab": {
          "base_uri": "https://localhost:8080/"
        },
        "id": "2ccaHI92oZlQ",
        "outputId": "cf6d081c-4887-4a81-80cc-6e9d09aa3562"
      },
      "execution_count": 20,
      "outputs": [
        {
          "output_type": "stream",
          "name": "stdout",
          "text": [
            "['animals', 'plants', 'other']\n"
          ]
        }
      ]
    },
    {
      "cell_type": "markdown",
      "source": [
        "##15. Print the keys for life[&#39;animals&#39;].\n"
      ],
      "metadata": {
        "id": "a33y-0KQlHrt"
      }
    },
    {
      "cell_type": "code",
      "source": [
        "## ANS\n",
        "print(life['animals'].keys())"
      ],
      "metadata": {
        "colab": {
          "base_uri": "https://localhost:8080/"
        },
        "id": "csGkVV8hocnl",
        "outputId": "259e504d-acf9-42a1-b9b6-8fe6fceba40e"
      },
      "execution_count": 21,
      "outputs": [
        {
          "output_type": "stream",
          "name": "stdout",
          "text": [
            "dict_keys(['cats', 'octopi', 'emus'])\n"
          ]
        }
      ]
    },
    {
      "cell_type": "markdown",
      "source": [
        "##16. Print the values for life[&#39;animals&#39;][&#39;cats&#39;]"
      ],
      "metadata": {
        "id": "G-bqIG99lHo7"
      }
    },
    {
      "cell_type": "code",
      "source": [
        "## ANS\n",
        "print(life['animals']['cats'])"
      ],
      "metadata": {
        "colab": {
          "base_uri": "https://localhost:8080/"
        },
        "id": "FXZ8rlZXohz9",
        "outputId": "e20791b8-a693-409a-90ec-3cfb983aecbd"
      },
      "execution_count": 22,
      "outputs": [
        {
          "output_type": "stream",
          "name": "stdout",
          "text": [
            "['Henri', 'Grumpy', 'Lucy']\n"
          ]
        }
      ]
    }
  ]
}