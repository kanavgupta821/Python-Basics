{
  "nbformat": 4,
  "nbformat_minor": 0,
  "metadata": {
    "colab": {
      "provenance": []
    },
    "kernelspec": {
      "name": "python3",
      "display_name": "Python 3"
    },
    "language_info": {
      "name": "python"
    }
  },
  "cells": [
    {
      "cell_type": "markdown",
      "source": [
        "##1. What is the result of the code, and why?\n",
        "####&gt;&gt;&gt; def func(a, b=6, c=8):\n",
        "####print(a, b, c)\n",
        "####&gt;&gt;&gt; func(1, 2)\n"
      ],
      "metadata": {
        "id": "laBphFRR15_3"
      }
    },
    {
      "cell_type": "code",
      "source": [
        "## ANS\n",
        "def func(a, b=6, c=8):\n",
        "  print(a,b,c)"
      ],
      "metadata": {
        "id": "wLda_hM52DgE"
      },
      "execution_count": 1,
      "outputs": []
    },
    {
      "cell_type": "code",
      "source": [
        "func(1,2)"
      ],
      "metadata": {
        "colab": {
          "base_uri": "https://localhost:8080/"
        },
        "id": "NCfwqkXJ3HFX",
        "outputId": "38996f80-b571-4926-c10d-886fcc493298"
      },
      "execution_count": 2,
      "outputs": [
        {
          "output_type": "stream",
          "name": "stdout",
          "text": [
            "1 2 8\n"
          ]
        }
      ]
    },
    {
      "cell_type": "markdown",
      "source": [
        "###Here as we have hardcoded and sent 2 values therefore preference is given to the input user gives. so a=1,b=2,c as by default argument 8."
      ],
      "metadata": {
        "id": "NLII0_UA3KqL"
      }
    },
    {
      "cell_type": "markdown",
      "source": [
        "##2. What is the result of this code, and why?\n",
        "####&gt;&gt;&gt; def func(a, b, c=5):\n",
        "####print(a, b, c)\n",
        "####&gt;&gt;&gt; func(1, c=3, b=2)\n"
      ],
      "metadata": {
        "id": "NSqOF-QX16DF"
      }
    },
    {
      "cell_type": "code",
      "source": [
        "## ANS\n",
        "def func(a,b,c=5):\n",
        "  print(a,b,c)\n",
        "\n",
        "func(1,c=3,b=2)"
      ],
      "metadata": {
        "colab": {
          "base_uri": "https://localhost:8080/"
        },
        "id": "LXg4T23Q3Nz7",
        "outputId": "de0860fb-45f6-4390-c630-2456893c6c63"
      },
      "execution_count": 3,
      "outputs": [
        {
          "output_type": "stream",
          "name": "stdout",
          "text": [
            "1 2 3\n"
          ]
        }
      ]
    },
    {
      "cell_type": "markdown",
      "source": [
        "###here a=1,b=2(hardcoded by user),c=3(hardcoded by user). position doesnt matter as long as we have mentioned the variable to which value is assigned."
      ],
      "metadata": {
        "id": "-fU5aGgP3YQE"
      }
    },
    {
      "cell_type": "markdown",
      "source": [
        "##3. How about this code: what is its result, and why?\n",
        "####&gt;&gt;&gt; def func(a, *pargs):\n",
        "####print(a, pargs)\n",
        "####&gt;&gt;&gt; func(1, 2, 3)\n"
      ],
      "metadata": {
        "id": "YZsRVMTO16Fj"
      }
    },
    {
      "cell_type": "code",
      "source": [
        "## ANS\n",
        "def func(a, *pargs):\n",
        "  print(a, pargs)\n",
        "\n",
        "func(1,2,3)"
      ],
      "metadata": {
        "colab": {
          "base_uri": "https://localhost:8080/"
        },
        "id": "kc2iNSnX3bKi",
        "outputId": "af92094e-ece1-423b-d13f-46d0212ff949"
      },
      "execution_count": 4,
      "outputs": [
        {
          "output_type": "stream",
          "name": "stdout",
          "text": [
            "1 (2, 3)\n"
          ]
        }
      ]
    },
    {
      "cell_type": "markdown",
      "source": [
        "###Here a=1. *pargs returns as many argument user gives as input in form of tuples"
      ],
      "metadata": {
        "id": "-c0rUZ3k3rPd"
      }
    },
    {
      "cell_type": "markdown",
      "source": [
        "##4. What does this code print, and why?\n",
        "####&gt;&gt;&gt; def func(a, **kargs):\n",
        "####print(a, kargs)\n",
        "####&gt;&gt;&gt; func(a=1, c=3, b=2)\n"
      ],
      "metadata": {
        "id": "RjOvEZ6916IZ"
      }
    },
    {
      "cell_type": "code",
      "source": [
        "## ANS\n",
        "def func(a, **kargs):\n",
        "  print(a, kargs)\n",
        "\n",
        "func(a=1, c=3, b=2)"
      ],
      "metadata": {
        "colab": {
          "base_uri": "https://localhost:8080/"
        },
        "id": "3kgLqp5-3w3x",
        "outputId": "969a2857-ece3-4895-c81d-234b07a6193d"
      },
      "execution_count": 5,
      "outputs": [
        {
          "output_type": "stream",
          "name": "stdout",
          "text": [
            "1 {'c': 3, 'b': 2}\n"
          ]
        }
      ]
    },
    {
      "cell_type": "markdown",
      "source": [
        "###Here a=1. **kargs returns as many argument user gives as input in form of dictionary"
      ],
      "metadata": {
        "id": "u_ZtfZDs4ARY"
      }
    },
    {
      "cell_type": "markdown",
      "source": [
        "##5. What gets printed by this, and explain?\n",
        "####&gt;&gt;&gt; def func(a, b, c=8, d=5): \n",
        "####print(a, b, c, d)\n",
        "####&gt;&gt;&gt; func(1, *(5, 6))\n"
      ],
      "metadata": {
        "id": "gbbwyy-c16MF"
      }
    },
    {
      "cell_type": "code",
      "source": [
        "## ANS\n",
        "def func(a,b,c=8,d=5):\n",
        "  print(a,b,c,d)\n",
        "\n",
        "func(1,*(5,6))"
      ],
      "metadata": {
        "colab": {
          "base_uri": "https://localhost:8080/"
        },
        "id": "ivFR34SE4CCe",
        "outputId": "1c46113d-cf01-4462-eb9f-d166d3bf3033"
      },
      "execution_count": 6,
      "outputs": [
        {
          "output_type": "stream",
          "name": "stdout",
          "text": [
            "1 5 6 5\n"
          ]
        }
      ]
    },
    {
      "cell_type": "markdown",
      "source": [
        "###Here a=1. User input is given in the form of kargs. So as many variable is present that many times the value passed as kargs input will get printed.So here a=1,b=5,c=6,d=again 5."
      ],
      "metadata": {
        "id": "DBUYIEy34SiE"
      }
    },
    {
      "cell_type": "markdown",
      "source": [
        "##6. what is the result of this, and explain?\n",
        "####&gt;&gt;&gt; def func(a, b, c): \n",
        "####a = 2; b[0] = &#39;x&#39;; c[&#39;a&#39;] = &#39;y&#39;\n",
        "####&gt;&gt;&gt; l=1; m=[1]; n={&#39;a&#39;:0}\n",
        "####&gt;&gt;&gt; func(l, m, n)\n",
        "\n",
        "####&gt;&gt;&gt; l, m, n\n"
      ],
      "metadata": {
        "id": "Vg72cgUF16a7"
      }
    },
    {
      "cell_type": "code",
      "source": [
        "## ANS\n",
        "def func(a,b,c):\n",
        "  a=2;b[0]='x';c['a']='y'"
      ],
      "metadata": {
        "id": "0457SshL4aNZ"
      },
      "execution_count": 7,
      "outputs": []
    },
    {
      "cell_type": "code",
      "source": [
        "l=1; m=[1]; n={'a':0}"
      ],
      "metadata": {
        "id": "Pcv9ZOTp4tfd"
      },
      "execution_count": 8,
      "outputs": []
    },
    {
      "cell_type": "code",
      "source": [
        "func(l,m,n)"
      ],
      "metadata": {
        "id": "Kf4WjFRj4zE9"
      },
      "execution_count": 9,
      "outputs": []
    },
    {
      "cell_type": "code",
      "source": [
        "l,m,n"
      ],
      "metadata": {
        "colab": {
          "base_uri": "https://localhost:8080/"
        },
        "id": "UIR_dttB403d",
        "outputId": "143f5239-9498-4aec-df5a-fb2603e51e1b"
      },
      "execution_count": 10,
      "outputs": [
        {
          "output_type": "execute_result",
          "data": {
            "text/plain": [
              "(1, ['x'], {'a': 'y'})"
            ]
          },
          "metadata": {},
          "execution_count": 10
        }
      ]
    },
    {
      "cell_type": "markdown",
      "source": [
        "###Here in func(l,m,n) we passed l=1(user input), m is passed as list contain 1 element i.e '1', but when the function is called its value changes to 'x, n is passed as dictionary i.e {'a':0}, but function is called its value changes to {'a':'y'}"
      ],
      "metadata": {
        "id": "-IXrIFNi48B-"
      }
    }
  ]
}