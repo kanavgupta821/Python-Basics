{
  "nbformat": 4,
  "nbformat_minor": 0,
  "metadata": {
    "colab": {
      "provenance": []
    },
    "kernelspec": {
      "name": "python3",
      "display_name": "Python 3"
    },
    "language_info": {
      "name": "python"
    }
  },
  "cells": [
    {
      "cell_type": "markdown",
      "source": [
        "## Q-1 What are the two values of the Boolean data type? How do you write them?\n",
        "#### ANS  Boolean data type is used to represent the truth value of an expression i.e, whether the expression is true or false. The Two values of boolean datatype is:-\n",
        "#### True\n",
        "#### False\n",
        "\n",
        "####  We can either assign True or False value directly to a varible or even an expression(logical, relational, conditional) that ultimately gives one of these values."
      ],
      "metadata": {
        "id": "fYKY2IY8mX8u"
      }
    },
    {
      "cell_type": "code",
      "source": [
        "## For example\n",
        "a = 3\n",
        "b = 5\n",
        "a < b    # a less than b which is true, so this expression will return True"
      ],
      "metadata": {
        "colab": {
          "base_uri": "https://localhost:8080/"
        },
        "id": "auxyFMeDovLj",
        "outputId": "2a7d3bd0-a6a6-41e9-9123-393c821c8028"
      },
      "execution_count": 1,
      "outputs": [
        {
          "output_type": "execute_result",
          "data": {
            "text/plain": [
              "True"
            ]
          },
          "metadata": {},
          "execution_count": 1
        }
      ]
    },
    {
      "cell_type": "code",
      "source": [
        "a > b    # a greater than b which is false, so this expression will return False"
      ],
      "metadata": {
        "colab": {
          "base_uri": "https://localhost:8080/"
        },
        "id": "v1pMQktLpRBW",
        "outputId": "538a9850-12a5-4f9c-edc6-3724ce8133de"
      },
      "execution_count": 2,
      "outputs": [
        {
          "output_type": "execute_result",
          "data": {
            "text/plain": [
              "False"
            ]
          },
          "metadata": {},
          "execution_count": 2
        }
      ]
    },
    {
      "cell_type": "markdown",
      "source": [
        "## Q-2 What are the three different types of Boolean operators?\n",
        "\n",
        "#### ANS The three different types of Boolean operators are 'and', 'or' and 'not'. While 'and' as well as 'or' operator needs two operands, which may evaluate to true or false, 'not' operator needs one operand evaluating to true or false.\n",
        "\n",
        "\n",
        "\n"
      ],
      "metadata": {
        "id": "-xpdqyrpmX5Q"
      }
    },
    {
      "cell_type": "code",
      "source": [
        "# For 'and' operator\n",
        "''''True and True = True\n",
        "True and False = False\n",
        "False and True = False\n",
        "False and False = False'''\n",
        "\n",
        "# example\n",
        "a = 30\n",
        "b = 45\n",
        "if(a > 30 and b == 45):\n",
        "   print(\"True\")\n",
        "else:\n",
        "   print(\"False\")"
      ],
      "metadata": {
        "colab": {
          "base_uri": "https://localhost:8080/"
        },
        "id": "s1nhG9-ovI9W",
        "outputId": "ee00bd05-f832-48f0-96c3-51c906cca560"
      },
      "execution_count": 5,
      "outputs": [
        {
          "output_type": "stream",
          "name": "stdout",
          "text": [
            "False\n"
          ]
        }
      ]
    },
    {
      "cell_type": "code",
      "source": [
        "# For 'or' operator\n",
        "'''True or True = True\n",
        "True or False = True\n",
        "False or True = True\n",
        "False or False = False'''\n",
        "\n",
        "# example\n",
        "a = 25\n",
        "b = 30\n",
        "if(a > 30 or b < 45):\n",
        "    print(\"True\")\n",
        "else:\n",
        "    print(\"False\")"
      ],
      "metadata": {
        "colab": {
          "base_uri": "https://localhost:8080/"
        },
        "id": "z0XxzStgx07i",
        "outputId": "5b4a3374-331a-4fcf-fa32-282f7b31f6a1"
      },
      "execution_count": 6,
      "outputs": [
        {
          "output_type": "stream",
          "name": "stdout",
          "text": [
            "True\n"
          ]
        }
      ]
    },
    {
      "cell_type": "code",
      "source": [
        "# For 'not' operator\n",
        "'''not(True) = False\n",
        "not(False) = True'''\n",
        " \n",
        "# example\n",
        "a = 2\n",
        "b = 2\n",
        "if(not(a == b)):\n",
        "  print(\"If Executed\")\n",
        "else:\n",
        "  print(\"Else Executed\")"
      ],
      "metadata": {
        "colab": {
          "base_uri": "https://localhost:8080/"
        },
        "id": "6sMdlQHFx0gG",
        "outputId": "09912762-8fd1-4956-8cbe-cae6c12658c4"
      },
      "execution_count": 7,
      "outputs": [
        {
          "output_type": "stream",
          "name": "stdout",
          "text": [
            "Else Executed\n"
          ]
        }
      ]
    },
    {
      "cell_type": "markdown",
      "source": [
        "## Q-3 Make a list of each Boolean operator's truth tables (i.e. every possible combination of Boolean values for the operator and what it evaluate ).\n",
        "\n",
        "#### ANS \n",
        "#### For 'and' operator\n",
        "##### True and True = True\n",
        "##### True and False = False\n",
        "##### False and True = False\n",
        "##### False and False = False\n",
        "\n",
        "#### For 'or' operator\n",
        "##### True or True = True\n",
        "##### True or False = True\n",
        "##### False or True = True\n",
        "##### False or False = False\n",
        "\n",
        "#### For 'not' operator\n",
        "##### not(True) = False\n",
        "##### not(False) = True\n",
        "\n",
        "\n",
        "\n"
      ],
      "metadata": {
        "id": "2jDdUyCYmX20"
      }
    },
    {
      "cell_type": "markdown",
      "source": [
        "## Q-4 What are the values of the following expressions?\n",
        "\n",
        "\n",
        "```\n",
        "(5 > 4) and (3 == 5)                          False\n",
        "not (5 > 4)                                   False\n",
        "(5 > 4) or (3 == 5)                           True\n",
        "not ((5 > 4) or (3 == 5))                     False\n",
        "(True and True) and (True == False)           False\n",
        "(not False) or (not True)                     True\n",
        "\n",
        "```\n",
        "\n"
      ],
      "metadata": {
        "id": "LHl6h24AmX0P"
      }
    },
    {
      "cell_type": "code",
      "source": [
        "(5 > 4) and (3 == 5)"
      ],
      "metadata": {
        "colab": {
          "base_uri": "https://localhost:8080/"
        },
        "id": "jeIsQdYXz_9M",
        "outputId": "6571abed-62df-4b4b-eb3b-ad37eea5f990"
      },
      "execution_count": 14,
      "outputs": [
        {
          "output_type": "execute_result",
          "data": {
            "text/plain": [
              "False"
            ]
          },
          "metadata": {},
          "execution_count": 14
        }
      ]
    },
    {
      "cell_type": "code",
      "source": [
        "not (5 > 4)"
      ],
      "metadata": {
        "colab": {
          "base_uri": "https://localhost:8080/"
        },
        "id": "jMfGNlzf0EcI",
        "outputId": "b47afd35-f78f-4946-c61c-179b721b2e19"
      },
      "execution_count": 15,
      "outputs": [
        {
          "output_type": "execute_result",
          "data": {
            "text/plain": [
              "False"
            ]
          },
          "metadata": {},
          "execution_count": 15
        }
      ]
    },
    {
      "cell_type": "code",
      "source": [
        "(5 > 4) or (3 == 5)"
      ],
      "metadata": {
        "colab": {
          "base_uri": "https://localhost:8080/"
        },
        "id": "MgSHx2dG0F1e",
        "outputId": "7987d7fc-d05e-41d5-c00f-978f8c0bbdde"
      },
      "execution_count": 16,
      "outputs": [
        {
          "output_type": "execute_result",
          "data": {
            "text/plain": [
              "True"
            ]
          },
          "metadata": {},
          "execution_count": 16
        }
      ]
    },
    {
      "cell_type": "code",
      "source": [
        "not ((5 > 4) or (3 == 5))"
      ],
      "metadata": {
        "colab": {
          "base_uri": "https://localhost:8080/"
        },
        "id": "kkqM6dib0Fx3",
        "outputId": "1b8b2eae-d3a5-4650-8131-ee364b49536b"
      },
      "execution_count": 17,
      "outputs": [
        {
          "output_type": "execute_result",
          "data": {
            "text/plain": [
              "False"
            ]
          },
          "metadata": {},
          "execution_count": 17
        }
      ]
    },
    {
      "cell_type": "code",
      "source": [
        "(True and True) and (True == False)"
      ],
      "metadata": {
        "colab": {
          "base_uri": "https://localhost:8080/"
        },
        "id": "14sifK1Q0FvY",
        "outputId": "e588859e-37bf-44c1-c7b8-a84fbef05ae0"
      },
      "execution_count": 18,
      "outputs": [
        {
          "output_type": "execute_result",
          "data": {
            "text/plain": [
              "False"
            ]
          },
          "metadata": {},
          "execution_count": 18
        }
      ]
    },
    {
      "cell_type": "code",
      "source": [
        "(not False) or (not True)"
      ],
      "metadata": {
        "colab": {
          "base_uri": "https://localhost:8080/"
        },
        "id": "VvGB_xTj0FtC",
        "outputId": "460816e6-bc0e-4489-a719-bff2d12d652c"
      },
      "execution_count": 19,
      "outputs": [
        {
          "output_type": "execute_result",
          "data": {
            "text/plain": [
              "True"
            ]
          },
          "metadata": {},
          "execution_count": 19
        }
      ]
    },
    {
      "cell_type": "markdown",
      "source": [
        "## Q-5 What are the six comparison operators?\n",
        "\n",
        "#### ANS  Comparison operators are used to compare a value with another value and gives a result as either True or False. Six comparison operators are :-\n",
        "##### 1. Less than ( < )\n",
        "##### 2. Less than or equal to (<=)\n",
        "##### 3. Greater than (>)\n",
        "##### 4. Greater than or equal to (>=)\n",
        "##### 5. Equal to ( == )\n",
        "##### 6. Not equal to ( != )"
      ],
      "metadata": {
        "id": "k1oaBeLCmXyF"
      }
    },
    {
      "cell_type": "markdown",
      "source": [
        "## Q-6 How do you tell the difference between the equal to and assignment operators? Describe a condition and when you would use one.\n",
        "\n",
        "#### ANS The “=” is an assignment operator is used to assign the value on the right to the variable on the left. The '==' operator checks whether the two given operands are equal or not. If so, it returns true. Otherwise it returns false.\n",
        "\n",
        "#### Given: A = 14, B = 27\n",
        "#### the assignment statement:\n",
        "#### A = B\n",
        "#### sets the value of B to the variable A\n",
        "#### In other words, after this statement is executed, both A = 27 and B = 27. In this case, the equals sign is used as an assignment operator.\n",
        "\n",
        "#### Given: A = 14, B = 27\n",
        "#### Using relational operators, the statement:\n",
        "#### A == B\n",
        "#### is a comparison\n",
        "#### This statement asks the question, “Is the value of A the same as the value of B?” In this case, since A and B have different values, the answer is “no” and the statement would result in a value of False.\n",
        "### So when you want the variable to hold a certain value you would use assignment operator (=), and if you want to check whether the values are equal, you would use equal to (==) (relational) operator.\n",
        "\n",
        "## Q- Describe a condition and when you would use one.\n",
        "#### ANS - A condition is an expression used in a flow control statement that evaluates to a Boolean value."
      ],
      "metadata": {
        "id": "JXeWzdozmXl3"
      }
    },
    {
      "cell_type": "markdown",
      "source": [
        "## Q-7 Identify the three blocks in this code:\n",
        "\n",
        "#### ANS - A new block begins every time you increase the indentation of a line, and ends just before the corresponding unindent.\n",
        "\n",
        "```\n",
        "spam = 0\n",
        "if spam == 10:                  \n",
        "    print('eggs')                # indent increased, block A       \n",
        "    if spam > 5:                 # still block A\n",
        "       print('bacon')            # still block A, indent increased, block B inside block A\n",
        "    else:                        # still block A, indent decreased, block B ended in line above\n",
        "       print('ham')              # still block A, indent increased, block C inside block A\n",
        "    print('spam')                # still block A, indent decreased, block C ended in line above\n",
        "print('spam')                    # indent decreased, block A ended in line above\n",
        "\n",
        "```\n",
        "\n"
      ],
      "metadata": {
        "id": "79-5pzuenCwx"
      }
    },
    {
      "cell_type": "markdown",
      "source": [
        "## Q-8 Write code that prints Hello if 1 is stored in spam, prints Howdy if 2 is stored in spam, and prints Greetings! if anything else is stored in spam."
      ],
      "metadata": {
        "id": "2F0orJLynEU4"
      }
    },
    {
      "cell_type": "code",
      "execution_count": 23,
      "metadata": {
        "colab": {
          "base_uri": "https://localhost:8080/"
        },
        "id": "wI8PYotgmOfh",
        "outputId": "4388c300-a7d0-4a32-d058-9ee2d1a1ffb2"
      },
      "outputs": [
        {
          "output_type": "stream",
          "name": "stdout",
          "text": [
            "Enter a number: 2\n",
            "Howdy\n"
          ]
        }
      ],
      "source": [
        "## ANS\n",
        "\n",
        "spam = int(input(\"Enter a number: \"))\n",
        "\n",
        "if spam == 1:\n",
        "  print(\"Hello\")\n",
        "elif spam == 2:\n",
        "  print(\"Howdy\")\n",
        "else:\n",
        "  print(\"Greetings!\")"
      ]
    }
  ]
}