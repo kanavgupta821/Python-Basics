{
  "nbformat": 4,
  "nbformat_minor": 0,
  "metadata": {
    "colab": {
      "provenance": []
    },
    "kernelspec": {
      "name": "python3",
      "display_name": "Python 3"
    },
    "language_info": {
      "name": "python"
    }
  },
  "cells": [
    {
      "cell_type": "markdown",
      "source": [
        "##1. Make a class called Thing with no contents and print it. Then, create an object called example from this class and also print it. Are the printed values the same or different?\n",
        "### ANS Different"
      ],
      "metadata": {
        "id": "Cg9pHV-Qe2L0"
      }
    },
    {
      "cell_type": "code",
      "source": [
        "## ANS \n",
        "class thing:\n",
        "  pass"
      ],
      "metadata": {
        "id": "QWxZtqf3fu2l"
      },
      "execution_count": 1,
      "outputs": []
    },
    {
      "cell_type": "code",
      "source": [
        "print(thing)"
      ],
      "metadata": {
        "colab": {
          "base_uri": "https://localhost:8080/"
        },
        "id": "bMYZvU9IfxWJ",
        "outputId": "22a07bea-d856-4218-abbe-93f18af135ff"
      },
      "execution_count": 2,
      "outputs": [
        {
          "output_type": "stream",
          "name": "stdout",
          "text": [
            "<class '__main__.thing'>\n"
          ]
        }
      ]
    },
    {
      "cell_type": "code",
      "source": [
        "example = thing()\n",
        "print(example)"
      ],
      "metadata": {
        "colab": {
          "base_uri": "https://localhost:8080/"
        },
        "id": "PBLGOSRvfz0C",
        "outputId": "331567de-172c-4088-d563-a75a7ca1659a"
      },
      "execution_count": 3,
      "outputs": [
        {
          "output_type": "stream",
          "name": "stdout",
          "text": [
            "<__main__.thing object at 0x7f0a78febc70>\n"
          ]
        }
      ]
    },
    {
      "cell_type": "markdown",
      "source": [
        "##2. Create a new class called Thing2 and add the value &#39;abc&#39; to the letters class attribute. Letters should be printed.\n"
      ],
      "metadata": {
        "id": "nkl63s-le2Od"
      }
    },
    {
      "cell_type": "code",
      "source": [
        "## ANS \n",
        "class Thing2:\n",
        "  letters = 'abc'"
      ],
      "metadata": {
        "id": "a3sRD6yMf8JU"
      },
      "execution_count": 4,
      "outputs": []
    },
    {
      "cell_type": "code",
      "source": [
        "print(Thing2.letters)"
      ],
      "metadata": {
        "colab": {
          "base_uri": "https://localhost:8080/"
        },
        "id": "tfMjRURjgH-G",
        "outputId": "a135831c-7b04-47f0-a468-8c314f1e943e"
      },
      "execution_count": 5,
      "outputs": [
        {
          "output_type": "stream",
          "name": "stdout",
          "text": [
            "abc\n"
          ]
        }
      ]
    },
    {
      "cell_type": "markdown",
      "source": [
        "##3. Make yet another class called, of course, Thing3. This time, assign the value &#39;xyz&#39; to an instance (object) attribute called letters. Print letters. Do you need to make an object from the class to do this?\n",
        "### Yes"
      ],
      "metadata": {
        "id": "WexCt7nce2RI"
      }
    },
    {
      "cell_type": "code",
      "source": [
        "## ANS\n",
        "class Thing3:\n",
        "  def __init__(self):\n",
        "    self.letters = 'xyz'\n",
        "print(Thing3.letters)"
      ],
      "metadata": {
        "colab": {
          "base_uri": "https://localhost:8080/",
          "height": 200
        },
        "id": "knwYcSrngYSs",
        "outputId": "bb154ca2-47c1-4bda-9bfb-53a57d718cd5"
      },
      "execution_count": 6,
      "outputs": [
        {
          "output_type": "error",
          "ename": "AttributeError",
          "evalue": "ignored",
          "traceback": [
            "\u001b[0;31m---------------------------------------------------------------------------\u001b[0m",
            "\u001b[0;31mAttributeError\u001b[0m                            Traceback (most recent call last)",
            "\u001b[0;32m<ipython-input-6-1d7a24d1e5b8>\u001b[0m in \u001b[0;36m<module>\u001b[0;34m\u001b[0m\n\u001b[1;32m      3\u001b[0m   \u001b[0;32mdef\u001b[0m \u001b[0m__init__\u001b[0m\u001b[0;34m(\u001b[0m\u001b[0mself\u001b[0m\u001b[0;34m)\u001b[0m\u001b[0;34m:\u001b[0m\u001b[0;34m\u001b[0m\u001b[0;34m\u001b[0m\u001b[0m\n\u001b[1;32m      4\u001b[0m     \u001b[0mself\u001b[0m\u001b[0;34m.\u001b[0m\u001b[0mletters\u001b[0m \u001b[0;34m=\u001b[0m \u001b[0;34m'xyz'\u001b[0m\u001b[0;34m\u001b[0m\u001b[0;34m\u001b[0m\u001b[0m\n\u001b[0;32m----> 5\u001b[0;31m \u001b[0mprint\u001b[0m\u001b[0;34m(\u001b[0m\u001b[0mThing3\u001b[0m\u001b[0;34m.\u001b[0m\u001b[0mletters\u001b[0m\u001b[0;34m)\u001b[0m\u001b[0;34m\u001b[0m\u001b[0;34m\u001b[0m\u001b[0m\n\u001b[0m",
            "\u001b[0;31mAttributeError\u001b[0m: type object 'Thing3' has no attribute 'letters'"
          ]
        }
      ]
    },
    {
      "cell_type": "code",
      "source": [
        "something = Thing3()\n",
        "print(something.letters)"
      ],
      "metadata": {
        "colab": {
          "base_uri": "https://localhost:8080/"
        },
        "id": "oh1C-bMrgeZM",
        "outputId": "fc691edf-03fa-4c56-df7a-a711becc4aa2"
      },
      "execution_count": 8,
      "outputs": [
        {
          "output_type": "stream",
          "name": "stdout",
          "text": [
            "xyz\n"
          ]
        }
      ]
    },
    {
      "cell_type": "markdown",
      "source": [
        "##4. Create an Element class with the instance attributes name, symbol, and number. Create a class object with the values &#39;Hydrogen,&#39; &#39;H,&#39; and 1.\n"
      ],
      "metadata": {
        "id": "8mCCDutfe2Tl"
      }
    },
    {
      "cell_type": "code",
      "source": [
        "## ANS\n",
        "class Element:\n",
        "  def __init__(self, name, symbol, number):\n",
        "    self.name = name\n",
        "    self.symbol = symbol\n",
        "    self.number = number\n"
      ],
      "metadata": {
        "id": "I7kBE-ANgrPU"
      },
      "execution_count": 9,
      "outputs": []
    },
    {
      "cell_type": "code",
      "source": [
        "hydrogen = Element('Hydrogen', 'H', 1)"
      ],
      "metadata": {
        "id": "rAt3U_mHgzme"
      },
      "execution_count": 10,
      "outputs": []
    },
    {
      "cell_type": "markdown",
      "source": [
        "##5. Make a dictionary with these keys and values: &#39;name&#39;: &#39;Hydrogen&#39;, &#39;symbol&#39;: &#39;H&#39;, &#39;number&#39;: 1. Then, create an object called hydrogen from class Element using this dictionary.\n"
      ],
      "metadata": {
        "id": "SkKwXnnle2V4"
      }
    },
    {
      "cell_type": "code",
      "source": [
        "## ANS\n",
        "dict1 = {'name': 'Hydrogen', 'symbol': 'H', 'number': 1}\n",
        "hydrogen = Element(dict1['name'], dict1['symbol'], dict1['number'])"
      ],
      "metadata": {
        "id": "PFTpDJVGhIDX"
      },
      "execution_count": 11,
      "outputs": []
    },
    {
      "cell_type": "code",
      "source": [
        "hydrogen.name"
      ],
      "metadata": {
        "colab": {
          "base_uri": "https://localhost:8080/",
          "height": 36
        },
        "id": "MmQpHO1JhQ-P",
        "outputId": "82a59161-d4b1-4f0e-ff75-3f96fa31151e"
      },
      "execution_count": 14,
      "outputs": [
        {
          "output_type": "execute_result",
          "data": {
            "text/plain": [
              "'Hydrogen'"
            ],
            "application/vnd.google.colaboratory.intrinsic+json": {
              "type": "string"
            }
          },
          "metadata": {},
          "execution_count": 14
        }
      ]
    },
    {
      "cell_type": "code",
      "source": [
        "hydrogen = Element(**dict1)"
      ],
      "metadata": {
        "id": "OK-k9hgzhlu4"
      },
      "execution_count": 15,
      "outputs": []
    },
    {
      "cell_type": "code",
      "source": [
        "hydrogen.number"
      ],
      "metadata": {
        "colab": {
          "base_uri": "https://localhost:8080/"
        },
        "id": "979F9v38houo",
        "outputId": "4569b492-bb36-41bb-b270-e11f3de2e15c"
      },
      "execution_count": 16,
      "outputs": [
        {
          "output_type": "execute_result",
          "data": {
            "text/plain": [
              "1"
            ]
          },
          "metadata": {},
          "execution_count": 16
        }
      ]
    },
    {
      "cell_type": "markdown",
      "source": [
        "##6. For the Element class, define a method called dump() that prints the values of the object’s attributes (name, symbol, and number). Create the hydrogen object from this new definition and use dump() to print its attributes.\n"
      ],
      "metadata": {
        "id": "MkSj2j_qe2Yn"
      }
    },
    {
      "cell_type": "code",
      "source": [
        "## ANS\n",
        "class Element:\n",
        "  def __init__(self, name, symbol, number):\n",
        "    self.name = name\n",
        "    self.symbol = symbol\n",
        "    self.number = number\n",
        "  def dump(self):\n",
        "    print('name=%s, symbol=%s, number=%s' %\n",
        "         (self.name, self.symbol, self.number))"
      ],
      "metadata": {
        "id": "R2tvK-O5hs2A"
      },
      "execution_count": 17,
      "outputs": []
    },
    {
      "cell_type": "code",
      "source": [
        "hydrogen = Element(**dict1)"
      ],
      "metadata": {
        "id": "xCY4D866h64m"
      },
      "execution_count": 18,
      "outputs": []
    },
    {
      "cell_type": "code",
      "source": [
        "hydrogen.dump()"
      ],
      "metadata": {
        "colab": {
          "base_uri": "https://localhost:8080/"
        },
        "id": "ZWDazadDiAlD",
        "outputId": "5946e495-5a6b-40aa-dbf5-a2c2e69352f0"
      },
      "execution_count": 19,
      "outputs": [
        {
          "output_type": "stream",
          "name": "stdout",
          "text": [
            "name=Hydrogen, symbol=H, number=1\n"
          ]
        }
      ]
    },
    {
      "cell_type": "markdown",
      "source": [
        "##7. Call print(hydrogen). In the definition of Element, change the name of method dump to __str__, create a new hydrogen object, and call print(hydrogen) again.\n"
      ],
      "metadata": {
        "id": "PH0dOgl8e2bZ"
      }
    },
    {
      "cell_type": "code",
      "source": [
        "## ANS\n",
        "print(hydrogen)"
      ],
      "metadata": {
        "colab": {
          "base_uri": "https://localhost:8080/"
        },
        "id": "Ff84TtTziKwH",
        "outputId": "1e6c2c74-d5ec-40de-c514-c6c9d9ea7039"
      },
      "execution_count": 20,
      "outputs": [
        {
          "output_type": "stream",
          "name": "stdout",
          "text": [
            "<__main__.Element object at 0x7f0a78f489d0>\n"
          ]
        }
      ]
    },
    {
      "cell_type": "code",
      "source": [
        "class Element:\n",
        "  def __init__(self, name, symbol, number):\n",
        "    self.name = name\n",
        "    self.symbol = symbol\n",
        "    self.number = number\n",
        "  def __str__(self):\n",
        "    return ('name=%s, symbol=%s, number=%s' %\n",
        "           (self.name, self.symbol, self.number))"
      ],
      "metadata": {
        "id": "W9hQmJiaiQEX"
      },
      "execution_count": 21,
      "outputs": []
    },
    {
      "cell_type": "code",
      "source": [
        "hydrogen = Element(**dict1)"
      ],
      "metadata": {
        "id": "PYUoqUJEib4i"
      },
      "execution_count": 22,
      "outputs": []
    },
    {
      "cell_type": "code",
      "source": [
        "print(hydrogen)"
      ],
      "metadata": {
        "colab": {
          "base_uri": "https://localhost:8080/"
        },
        "id": "VDS9NEH2ig_o",
        "outputId": "a2d32923-e397-4569-9642-8c5c0d112992"
      },
      "execution_count": 23,
      "outputs": [
        {
          "output_type": "stream",
          "name": "stdout",
          "text": [
            "name=Hydrogen, symbol=H, number=1\n"
          ]
        }
      ]
    },
    {
      "cell_type": "markdown",
      "source": [
        "##8. Modify Element to make the attributes name, symbol, and number private. Define a getter property for each to return its value.\n"
      ],
      "metadata": {
        "id": "kjnKgmyfe2e7"
      }
    },
    {
      "cell_type": "code",
      "source": [
        "## ANS\n",
        "class Element:\n",
        "  def __init__(self, name, symbol, number):\n",
        "    self.__name = name\n",
        "    self.__symbol = symbol\n",
        "    self.__number = number\n",
        "  @property\n",
        "  def name(self):\n",
        "    return self.__name\n",
        "  @property\n",
        "  def symbol(self):\n",
        "    return self.__symbol\n",
        "  @property\n",
        "  def number(self):\n",
        "    return self.__number"
      ],
      "metadata": {
        "id": "T7IsPEkjioUr"
      },
      "execution_count": 24,
      "outputs": []
    },
    {
      "cell_type": "code",
      "source": [
        "hydrogen = Element('Hydrogen', 'H', 1)"
      ],
      "metadata": {
        "id": "1A7ayZN5i6hR"
      },
      "execution_count": 25,
      "outputs": []
    },
    {
      "cell_type": "code",
      "source": [
        "hydrogen.name"
      ],
      "metadata": {
        "colab": {
          "base_uri": "https://localhost:8080/",
          "height": 36
        },
        "id": "xBz6Qg66i8de",
        "outputId": "3fed5c73-f0bd-49da-9559-50ffcbff4ef8"
      },
      "execution_count": 26,
      "outputs": [
        {
          "output_type": "execute_result",
          "data": {
            "text/plain": [
              "'Hydrogen'"
            ],
            "application/vnd.google.colaboratory.intrinsic+json": {
              "type": "string"
            }
          },
          "metadata": {},
          "execution_count": 26
        }
      ]
    },
    {
      "cell_type": "code",
      "source": [
        "hydrogen.symbol"
      ],
      "metadata": {
        "colab": {
          "base_uri": "https://localhost:8080/",
          "height": 36
        },
        "id": "GWHqEBRli-cm",
        "outputId": "4d106327-eb29-4cc6-cf84-dbf79e15dc2b"
      },
      "execution_count": 27,
      "outputs": [
        {
          "output_type": "execute_result",
          "data": {
            "text/plain": [
              "'H'"
            ],
            "application/vnd.google.colaboratory.intrinsic+json": {
              "type": "string"
            }
          },
          "metadata": {},
          "execution_count": 27
        }
      ]
    },
    {
      "cell_type": "code",
      "source": [
        "hydrogen.number"
      ],
      "metadata": {
        "colab": {
          "base_uri": "https://localhost:8080/"
        },
        "id": "xkwJRwZ5jAv6",
        "outputId": "4cc7fc39-7119-49c4-d57d-e06e18010654"
      },
      "execution_count": 28,
      "outputs": [
        {
          "output_type": "execute_result",
          "data": {
            "text/plain": [
              "1"
            ]
          },
          "metadata": {},
          "execution_count": 28
        }
      ]
    },
    {
      "cell_type": "markdown",
      "source": [
        "##9. Define three classes: Bear, Rabbit, and Octothorpe. For each, define only one method: eats(). This should return &#39;berries&#39; (Bear), &#39;clover&#39; (Rabbit), or &#39;campers&#39; (Octothorpe). Create one object from each and print what it eats.\n"
      ],
      "metadata": {
        "id": "4zc3_GAOe2-L"
      }
    },
    {
      "cell_type": "code",
      "source": [
        "## ANS\n",
        "class Bear:\n",
        "  def eats(self):\n",
        "    return 'berries'\n",
        "class Rabbit:\n",
        "  def eats(self):\n",
        "    return 'clover'\n",
        "class Octothorpe:\n",
        "  def eats(self):\n",
        "    return 'campers'\n",
        "b = Bear()\n",
        "r = Rabbit()\n",
        "o = Octothorpe()\n",
        "print(b.eats())\n",
        "print(r.eats())\n",
        "print(o.eats())"
      ],
      "metadata": {
        "colab": {
          "base_uri": "https://localhost:8080/"
        },
        "id": "G2-cro1EjJg6",
        "outputId": "b0626982-6cc3-446f-f568-ebc27efbdb0f"
      },
      "execution_count": 29,
      "outputs": [
        {
          "output_type": "stream",
          "name": "stdout",
          "text": [
            "berries\n",
            "clover\n",
            "campers\n"
          ]
        }
      ]
    },
    {
      "cell_type": "markdown",
      "source": [
        "##10. Define these classes: Laser, Claw, and SmartPhone. Each has only one method: does(). This returns &#39;disintegrate&#39; (Laser), &#39;crush&#39; (Claw), or &#39;ring&#39; (SmartPhone). Then, define the class Robot that has one instance (object) of each of these. Define a does() method for the Robot that prints what its component objects do."
      ],
      "metadata": {
        "id": "n1yx5JtOe3Bq"
      }
    },
    {
      "cell_type": "code",
      "source": [
        "## ANS\n",
        "class Laser:\n",
        "  def does(self):\n",
        "    return 'disintegrate'\n",
        "class Claw:\n",
        "  def does(self):\n",
        "    return 'crush'\n",
        "\n",
        "class SmartPhone:\n",
        "  def does(self):\n",
        "    return 'ring'\n",
        "\n",
        "class Robot:\n",
        "  def __init__(self):\n",
        "    self.laser = Laser()\n",
        "    self.claw = Claw()\n",
        "    self.smartphone = SmartPhone()\n",
        "  def does(self):\n",
        "    return '''I have many attachments:\n",
        "    My laser, to %s.\n",
        "    My claw, to %s.\n",
        "    My smartphone, to %s.''' % (\n",
        "    self.laser.does(),\n",
        "    self.claw.does(),\n",
        "    self.smartphone.does() )"
      ],
      "metadata": {
        "id": "Zk-29ymVjdHC"
      },
      "execution_count": 34,
      "outputs": []
    },
    {
      "cell_type": "code",
      "source": [
        "robbie = Robot()"
      ],
      "metadata": {
        "id": "Kuf6CSrLjvtt"
      },
      "execution_count": 35,
      "outputs": []
    },
    {
      "cell_type": "code",
      "source": [
        "print(robbie.does())"
      ],
      "metadata": {
        "colab": {
          "base_uri": "https://localhost:8080/"
        },
        "id": "T-iPW9zTjxet",
        "outputId": "a84bde3b-6646-4636-b8f8-f20ce5baa8b3"
      },
      "execution_count": 36,
      "outputs": [
        {
          "output_type": "stream",
          "name": "stdout",
          "text": [
            "I have many attachments:\n",
            "    My laser, to disintegrate.\n",
            "    My claw, to crush.\n",
            "    My smartphone, to ring.\n"
          ]
        }
      ]
    }
  ]
}