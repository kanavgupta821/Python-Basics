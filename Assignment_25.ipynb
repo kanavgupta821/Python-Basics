{
  "nbformat": 4,
  "nbformat_minor": 0,
  "metadata": {
    "colab": {
      "provenance": []
    },
    "kernelspec": {
      "name": "python3",
      "display_name": "Python 3"
    },
    "language_info": {
      "name": "python"
    }
  },
  "cells": [
    {
      "cell_type": "markdown",
      "source": [
        "##1) . What is the difference between enclosing a list comprehension in square brackets and parentheses?\n",
        "### ANS List Comprehension with square brackets produces list.\n",
        "###List Comprehension with parentheses creates generators"
      ],
      "metadata": {
        "id": "jrxmD4DcVmWI"
      }
    },
    {
      "cell_type": "code",
      "source": [
        "l1 = [i for i in range(10)]\n",
        "l1"
      ],
      "metadata": {
        "colab": {
          "base_uri": "https://localhost:8080/"
        },
        "id": "akRoODBwV_qn",
        "outputId": "0eabcf17-e842-4ef0-c8c8-ec6b69061ac0"
      },
      "execution_count": 1,
      "outputs": [
        {
          "output_type": "execute_result",
          "data": {
            "text/plain": [
              "[0, 1, 2, 3, 4, 5, 6, 7, 8, 9]"
            ]
          },
          "metadata": {},
          "execution_count": 1
        }
      ]
    },
    {
      "cell_type": "code",
      "source": [
        "l2 = (i for i in range(10))\n",
        "l2"
      ],
      "metadata": {
        "colab": {
          "base_uri": "https://localhost:8080/"
        },
        "id": "6Od1X6uSWVhK",
        "outputId": "ecbe9d54-51c2-4b62-ad09-8c83328c6644"
      },
      "execution_count": 2,
      "outputs": [
        {
          "output_type": "execute_result",
          "data": {
            "text/plain": [
              "<generator object <genexpr> at 0x7f1deb491970>"
            ]
          },
          "metadata": {},
          "execution_count": 2
        }
      ]
    },
    {
      "cell_type": "code",
      "source": [
        "list(l2)"
      ],
      "metadata": {
        "colab": {
          "base_uri": "https://localhost:8080/"
        },
        "id": "Dr-5Fat7WbCj",
        "outputId": "6648c882-153b-4b8b-b8e1-9acd9701a10a"
      },
      "execution_count": 3,
      "outputs": [
        {
          "output_type": "execute_result",
          "data": {
            "text/plain": [
              "[0, 1, 2, 3, 4, 5, 6, 7, 8, 9]"
            ]
          },
          "metadata": {},
          "execution_count": 3
        }
      ]
    },
    {
      "cell_type": "markdown",
      "source": [
        "###If you are familiar with list comprehensions, then this look likes it might create a tuple which is (1,2,3,4,....), but it is actually a generator expression - this expression is a one time only iterator which will yield the values 1, 2, 3, 4.... in that order"
      ],
      "metadata": {
        "id": "XwEJ-y_ZWGNt"
      }
    },
    {
      "cell_type": "markdown",
      "source": [
        "##2) What is the relationship between generators and iterators?\n",
        "### ANS An iterator is an object which contains a countable number of values and it is used to iterate over iterable objects like list, tuples etc\n",
        "###Using an iterator-\n",
        "###iter() keyword is used to create an iterator containing an iterable object.\n",
        "###next() keyword is used to call the next element in the iterable object.\n",
        "\n",
        "###Generator\n",
        "###It is another way of creating iterators in a simple way where it uses the keyword “yield” instead of returning it in a defined function\n",
        "###Generators are implemented using a function Here, the yield function returns the data without affecting or exiting the function. It will return a sequence of data in an iterable format where we need to iterate over the sequence to use the data as they won’t store the entire sequence in the memory. By using next() function we can iterate the output of generator function"
      ],
      "metadata": {
        "id": "XqajZ16AVmZe"
      }
    },
    {
      "cell_type": "code",
      "source": [
        "## iterator\n",
        "iter_list = iter(['Apple', 'Orange', 'Banana'])\n",
        "print(next(iter_list))\n",
        "print(next(iter_list))\n",
        "print(next(iter_list))"
      ],
      "metadata": {
        "colab": {
          "base_uri": "https://localhost:8080/"
        },
        "id": "p5vyS9wgWdn-",
        "outputId": "81e5850d-a277-416c-933a-838bb3f59382"
      },
      "execution_count": 4,
      "outputs": [
        {
          "output_type": "stream",
          "name": "stdout",
          "text": [
            "Apple\n",
            "Orange\n",
            "Banana\n"
          ]
        }
      ]
    },
    {
      "cell_type": "code",
      "source": [
        "## generator\n",
        "def square(n):\n",
        "  for i in range(1, n+1):\n",
        "    yield i*i\n",
        "\n",
        "square(5)"
      ],
      "metadata": {
        "colab": {
          "base_uri": "https://localhost:8080/"
        },
        "id": "cFKAHpzqXFUp",
        "outputId": "68f1b6c1-200e-4834-dd96-9734fc207d79"
      },
      "execution_count": 9,
      "outputs": [
        {
          "output_type": "execute_result",
          "data": {
            "text/plain": [
              "<generator object square at 0x7f1deb4199e0>"
            ]
          },
          "metadata": {},
          "execution_count": 9
        }
      ]
    },
    {
      "cell_type": "code",
      "source": [
        "l1 = square(5)\n",
        "l1"
      ],
      "metadata": {
        "colab": {
          "base_uri": "https://localhost:8080/"
        },
        "id": "RG10hoF-XQ0B",
        "outputId": "e84ed706-da8c-4720-c0aa-b75dfc1fe5fd"
      },
      "execution_count": 10,
      "outputs": [
        {
          "output_type": "execute_result",
          "data": {
            "text/plain": [
              "<generator object square at 0x7f1deb419c80>"
            ]
          },
          "metadata": {},
          "execution_count": 10
        }
      ]
    },
    {
      "cell_type": "code",
      "source": [
        "print(next(l1))\n",
        "print(next(l1))\n",
        "print(next(l1))\n",
        "print(next(l1))"
      ],
      "metadata": {
        "colab": {
          "base_uri": "https://localhost:8080/"
        },
        "id": "l4LHiCNKXWCr",
        "outputId": "27653c9d-8cbc-43a6-faa9-f67881aea72a"
      },
      "execution_count": 11,
      "outputs": [
        {
          "output_type": "stream",
          "name": "stdout",
          "text": [
            "1\n",
            "4\n",
            "9\n",
            "16\n"
          ]
        }
      ]
    },
    {
      "cell_type": "markdown",
      "source": [
        "##3) What are the signs that a function is a generator function?\n",
        "### ANS If a function contains at least one yield statement (it may contain other yield or return statements), it becomes a generator function. Both yield and return will return some value from a function."
      ],
      "metadata": {
        "id": "EgVnDACRVmbH"
      }
    },
    {
      "cell_type": "markdown",
      "source": [
        "##4) What is the purpose of a yield statement?\n",
        "### ANS A yield statement looks much like a return statement, except that instead of stopping execution of the function and returning, yield instead provides a value to the code looping over the generator and pauses execution of the generator function"
      ],
      "metadata": {
        "id": "d4OEokjdVme0"
      }
    },
    {
      "cell_type": "markdown",
      "source": [
        "##5) What is the relationship between map calls and list comprehensions? Make a comparison and contrast between the two.\n",
        "### ANS Map function:\n",
        "####Suppose we have a function and we want to compute this function for different values in a single line of code . This is where map() function plays its role. map() function returns a map object(which is an iterator) of the results after applying the given function to each item of a given iterable (list, tuple etc.)\n",
        "\n",
        "####If we already have a function defined, it is often good to use map For example, map(sum, myLists) is more neat than [sum(x) for x in myLists]. You gain the elegance of not having to make up a dummy variable (e.g. sum(x) for x... or sum(_) for _... or sum(readableName) for readableName...) which you have to type twice, just to iterate.\n",
        "\n",
        "###List Comprehension:\n",
        "####List Comprehension is a substitute for the lambda function, map(), filter() and reduce()\n",
        "\n",
        "\n",
        "###Comparision :\n",
        "#### 1. List comprehension is more concise and easier to read as compared to map\n",
        "####2. List comprehension allows filtering. In map, we have no such facility\n",
        "####For example, to print all even numbers in range of 100, we can write [n for n in range(100) if n%2 == 0]. There is no alternate for it in map\n",
        "####3. List comprehension are used when a list of results is required, where as map only returns a map object and does not return any list.\n",
        "#### 4. List comprehension is faster than map when we need to evaluate expressions that are too long or complicated to express\n",
        "####5. Map is faster in case of calling an already defined function (as no lambda is required)"
      ],
      "metadata": {
        "id": "q7qzmwB3Vmnq"
      }
    }
  ]
}