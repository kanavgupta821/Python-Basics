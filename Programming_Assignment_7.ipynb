{
  "nbformat": 4,
  "nbformat_minor": 0,
  "metadata": {
    "colab": {
      "provenance": []
    },
    "kernelspec": {
      "name": "python3",
      "display_name": "Python 3"
    },
    "language_info": {
      "name": "python"
    }
  },
  "cells": [
    {
      "cell_type": "markdown",
      "source": [
        "## Q-1 Write a Python Program to find sum of array?\n"
      ],
      "metadata": {
        "id": "h5ZV8KzXRZMV"
      }
    },
    {
      "cell_type": "code",
      "source": [
        "## ANS\n",
        "def sum_of_array(l1):\n",
        "  sum = 0\n",
        "  for i in l1:\n",
        "     if type(i) == int:\n",
        "       sum += i\n",
        "  return sum\n",
        "\n",
        "print(f\"sum of array is: {sum_of_array([2,3,4,56,43,21,457,98])}\")"
      ],
      "metadata": {
        "colab": {
          "base_uri": "https://localhost:8080/"
        },
        "id": "28xjNF4cRmzI",
        "outputId": "645a91fd-996f-4a43-ecd2-74303d5fe919"
      },
      "execution_count": 3,
      "outputs": [
        {
          "output_type": "stream",
          "name": "stdout",
          "text": [
            "sum of array is: 684\n"
          ]
        }
      ]
    },
    {
      "cell_type": "markdown",
      "source": [
        "## Q-2 Write a Python Program to find largest element in an array?"
      ],
      "metadata": {
        "id": "ONf-mr5cSrdR"
      }
    },
    {
      "cell_type": "code",
      "source": [
        "## ANS\n",
        "def largest(l1):\n",
        "  largest = 0\n",
        "  for i in l1:\n",
        "    if i >= largest:\n",
        "      largest = i\n",
        "  return largest\n",
        "\n",
        "print(f\"largest element in an array is : {largest([2,3,4,56,43,21,457,98])}\")\n"
      ],
      "metadata": {
        "colab": {
          "base_uri": "https://localhost:8080/"
        },
        "id": "bzJHfAB0SbcZ",
        "outputId": "afe51e2a-7b02-40a5-d4e5-1a6e0fba8e07"
      },
      "execution_count": 4,
      "outputs": [
        {
          "output_type": "stream",
          "name": "stdout",
          "text": [
            "largest element in an array is : 457\n"
          ]
        }
      ]
    },
    {
      "cell_type": "markdown",
      "source": [
        "## Q-3 Write a Python Program for array rotation?"
      ],
      "metadata": {
        "id": "8BY2q3riTV-r"
      }
    },
    {
      "cell_type": "code",
      "source": [
        "## ANS\n",
        "def rotateList(arr,d,n):             ## d = no. of elements to be rotated\n",
        "  arr=arr[d:n]+arr[0:d]\n",
        "  return arr\n",
        "arr = [1,2,3,4,5,6]\n",
        "print(f\"Rotated array is: {rotateList(arr,3,len(arr))}\") "
      ],
      "metadata": {
        "colab": {
          "base_uri": "https://localhost:8080/"
        },
        "id": "ZJ9D3vYdTUY2",
        "outputId": "8be31ea2-6e4c-41df-d5f3-b542c2a8b3b7"
      },
      "execution_count": 9,
      "outputs": [
        {
          "output_type": "stream",
          "name": "stdout",
          "text": [
            "Rotated array is: [4, 5, 6, 1, 2, 3]\n"
          ]
        }
      ]
    },
    {
      "cell_type": "markdown",
      "source": [
        "## Q-4 Write a Python Program to Split the array and add the first part to the end?"
      ],
      "metadata": {
        "id": "ZU_BeOinVFhN"
      }
    },
    {
      "cell_type": "code",
      "source": [
        "## ANS\n",
        "def splitArr(arr, n, k): \n",
        "   b = arr[:k]\n",
        "   return (arr[k::]+b[::])\n",
        "\n",
        "arr = [12, 10, 5, 6, 52, 36]\n",
        "n = len(arr)\n",
        "k = 2\n",
        "print(f\"New array is: {splitArr(arr, n, k)}\")"
      ],
      "metadata": {
        "colab": {
          "base_uri": "https://localhost:8080/"
        },
        "id": "xlRVkoIrUckV",
        "outputId": "e9efff96-dd49-4ad1-bcfe-668903404b55"
      },
      "execution_count": 11,
      "outputs": [
        {
          "output_type": "stream",
          "name": "stdout",
          "text": [
            "New array is: [5, 6, 52, 36, 12, 10]\n"
          ]
        }
      ]
    },
    {
      "cell_type": "markdown",
      "source": [
        "## Q-5 Write a Python Program to check if given array is Monotonic?"
      ],
      "metadata": {
        "id": "RhoHA_5cWf8V"
      }
    },
    {
      "cell_type": "code",
      "source": [
        "## ANS\n",
        "def isMonotonic(A):\n",
        "    x = list()\n",
        "    y = list()\n",
        "    x.extend(A)\n",
        "    y.extend(A)\n",
        "    x.sort()\n",
        "    y.sort(reverse=True)\n",
        "    if(x == A or y == A):\n",
        "        return True\n",
        "    return False\n",
        "\n",
        "A = [6, 5, 8, 3, 2, 1]\n",
        "print(isMonotonic(A))"
      ],
      "metadata": {
        "colab": {
          "base_uri": "https://localhost:8080/"
        },
        "id": "ecq8GF5CWZxt",
        "outputId": "4b2bf133-f60d-4ba1-c70a-a5c067717070"
      },
      "execution_count": 13,
      "outputs": [
        {
          "output_type": "stream",
          "name": "stdout",
          "text": [
            "False\n"
          ]
        }
      ]
    }
  ]
}