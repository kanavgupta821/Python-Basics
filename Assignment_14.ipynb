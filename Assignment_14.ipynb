{
  "nbformat": 4,
  "nbformat_minor": 0,
  "metadata": {
    "colab": {
      "provenance": []
    },
    "kernelspec": {
      "name": "python3",
      "display_name": "Python 3"
    },
    "language_info": {
      "name": "python"
    }
  },
  "cells": [
    {
      "cell_type": "markdown",
      "source": [
        "##1. What does RGBA stand for?\n",
        "### ANS An RGBA value is a tuple of 4 integers, each ranging from 0 to 255. The four integers correspond to the amount of red, green, blue, and alpha (transparency) in the color."
      ],
      "metadata": {
        "id": "Ah6iOOT1_tWr"
      }
    },
    {
      "cell_type": "markdown",
      "source": [
        "##2. From the Pillow module, how do you get the RGBA value of any images?\n",
        "### ANS A function call to ImageColor.getcolor('CornflowerBlue', 'RGBA') will return (100, 149, 237, 255), the RGBA value for that color."
      ],
      "metadata": {
        "id": "P98adse5_tZR"
      }
    },
    {
      "cell_type": "markdown",
      "source": [
        "##3. What is a box tuple, and how does it work?\n",
        "### ANS tuple of four integer coordinates that represent a rectangular region in an image is called box tuple. The four integers are, in order, as follows:\n",
        "\n",
        "####Left The x-coordinate of the leftmost edge of the box.\n",
        "\n",
        "####Top The y-coordinate of the top edge of the box.\n",
        "\n",
        "####Right The x-coordinate of one pixel to the right of the rightmost edge of the box. This integer must be greater than the left integer.\n",
        "\n",
        "####Bottom The y-coordinate of one pixel lower than the bottom edge of the box. This integer must be greater than the top integer."
      ],
      "metadata": {
        "id": "2_krKg4f_tcA"
      }
    },
    {
      "cell_type": "markdown",
      "source": [
        "##4. Use your image and load in notebook then, How can you find out the width and height of an Image object?\n",
        "### ANS imageObj.size is a tuple of two integers, the width and the height."
      ],
      "metadata": {
        "id": "p6S82nUv_tew"
      }
    },
    {
      "cell_type": "markdown",
      "source": [
        "##5. What method would you call to get Image object for a 100×100 image, excluding the lower-left quarter of it?\n",
        "###ANS imageObj.crop((0, 50, 50, 50)). Notice that you are passing a box tuple to crop(), not four separate integer arguments."
      ],
      "metadata": {
        "id": "l06LKTYy_thW"
      }
    },
    {
      "cell_type": "markdown",
      "source": [
        "##6. After making changes to an Image object, how could you save it as an image file?\n",
        "### ANS Call the imageObj.save('new_filename.png') method of the Image object."
      ],
      "metadata": {
        "id": "ZVgdnimd_tkw"
      }
    },
    {
      "cell_type": "markdown",
      "source": [
        "##7. What module contains Pillow’s shape-drawing code?\n",
        "### ANS The ImageDraw module contains code to draw on images."
      ],
      "metadata": {
        "id": "83BAxvUG_vCX"
      }
    },
    {
      "cell_type": "markdown",
      "source": [
        "##8. Image objects do not have drawing methods. What kind of object does? How do you get this kind of object?\n",
        "### ANS ImageDraw objects have shape-drawing methods such as point(), line(), or rectangle(). They are returned by passing the Image object to the ImageDraw.Draw() function."
      ],
      "metadata": {
        "id": "so4aqmON_vF-"
      }
    }
  ]
}