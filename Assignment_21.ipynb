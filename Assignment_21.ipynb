{
  "nbformat": 4,
  "nbformat_minor": 0,
  "metadata": {
    "colab": {
      "provenance": []
    },
    "kernelspec": {
      "name": "python3",
      "display_name": "Python 3"
    },
    "language_info": {
      "name": "python"
    }
  },
  "cells": [
    {
      "cell_type": "markdown",
      "source": [
        "##1. Add the current date to the text file today.txt as a string.\n"
      ],
      "metadata": {
        "id": "kdbeCMB8_pZA"
      }
    },
    {
      "cell_type": "code",
      "source": [
        "## ANS\n",
        "from datetime import date\n",
        "now = date.today()\n",
        "now_str = now.isoformat()"
      ],
      "metadata": {
        "id": "Bz6BI_15ALeA"
      },
      "execution_count": 12,
      "outputs": []
    },
    {
      "cell_type": "code",
      "source": [
        "with open('today','wt') as output:\n",
        "  print(now_str, file=output)"
      ],
      "metadata": {
        "id": "8O-qE_IgAW9Z"
      },
      "execution_count": 2,
      "outputs": []
    },
    {
      "cell_type": "markdown",
      "source": [
        "##2. Read the text file today.txt into the string today_string\n"
      ],
      "metadata": {
        "id": "nJD76lcW_pc4"
      }
    },
    {
      "cell_type": "code",
      "source": [
        "## ANS\n",
        "with open('today', 'rt') as input:\n",
        "  today_string = input.read()"
      ],
      "metadata": {
        "id": "L92_SrcwAl2J"
      },
      "execution_count": 3,
      "outputs": []
    },
    {
      "cell_type": "code",
      "source": [
        "today_string"
      ],
      "metadata": {
        "colab": {
          "base_uri": "https://localhost:8080/",
          "height": 36
        },
        "id": "6KySGGckAx8K",
        "outputId": "939d8726-545a-451e-8166-1a53a0fcfcdf"
      },
      "execution_count": 4,
      "outputs": [
        {
          "output_type": "execute_result",
          "data": {
            "text/plain": [
              "'2023-02-27\\n'"
            ],
            "application/vnd.google.colaboratory.intrinsic+json": {
              "type": "string"
            }
          },
          "metadata": {},
          "execution_count": 4
        }
      ]
    },
    {
      "cell_type": "markdown",
      "source": [
        "##3. Parse the date from today_string.\n"
      ],
      "metadata": {
        "id": "3U-V2boY_pgL"
      }
    },
    {
      "cell_type": "code",
      "source": [
        "## ANS\n",
        "from datetime import datetime\n",
        "fmt = '%Y-%m-%d\\n'\n",
        "datetime.strptime(today_string,fmt)"
      ],
      "metadata": {
        "colab": {
          "base_uri": "https://localhost:8080/"
        },
        "id": "y8-Jd7DQA06G",
        "outputId": "48b797e1-d955-4ff1-882f-a24b5dc555d1"
      },
      "execution_count": 13,
      "outputs": [
        {
          "output_type": "execute_result",
          "data": {
            "text/plain": [
              "datetime.datetime(2023, 2, 27, 0, 0)"
            ]
          },
          "metadata": {},
          "execution_count": 13
        }
      ]
    },
    {
      "cell_type": "markdown",
      "source": [
        "##4. List the files in your current directory\n"
      ],
      "metadata": {
        "id": "-XWVtvLA_pje"
      }
    },
    {
      "cell_type": "code",
      "source": [
        "## ANS\n",
        "import os"
      ],
      "metadata": {
        "id": "x6Ya2CayCz8Y"
      },
      "execution_count": 14,
      "outputs": []
    },
    {
      "cell_type": "code",
      "source": [
        "os.listdir('.')"
      ],
      "metadata": {
        "colab": {
          "base_uri": "https://localhost:8080/"
        },
        "id": "DhBJ1zwnC4l6",
        "outputId": "9a558e70-995e-4239-9fb6-cb19a96fbff0"
      },
      "execution_count": 15,
      "outputs": [
        {
          "output_type": "execute_result",
          "data": {
            "text/plain": [
              "['.config', 'today', 'sample_data']"
            ]
          },
          "metadata": {},
          "execution_count": 15
        }
      ]
    },
    {
      "cell_type": "markdown",
      "source": [
        "##5. Create a list of all of the files in your parent directory (minimum five files should be available).\n"
      ],
      "metadata": {
        "id": "N6urkzFE_pnF"
      }
    },
    {
      "cell_type": "code",
      "source": [
        "## ANS\n",
        "import os\n",
        "os.listdir('..')"
      ],
      "metadata": {
        "colab": {
          "base_uri": "https://localhost:8080/"
        },
        "id": "lxSriMcxC9gK",
        "outputId": "2aaea1ed-a99f-4dcd-bd08-8d57a2c02b88"
      },
      "execution_count": 16,
      "outputs": [
        {
          "output_type": "execute_result",
          "data": {
            "text/plain": [
              "['mnt',\n",
              " 'lib32',\n",
              " 'libx32',\n",
              " 'boot',\n",
              " 'lib',\n",
              " 'media',\n",
              " 'root',\n",
              " 'usr',\n",
              " 'etc',\n",
              " 'var',\n",
              " 'proc',\n",
              " 'opt',\n",
              " 'sbin',\n",
              " 'home',\n",
              " 'dev',\n",
              " 'run',\n",
              " 'srv',\n",
              " 'bin',\n",
              " 'lib64',\n",
              " 'sys',\n",
              " 'tmp',\n",
              " 'content',\n",
              " '.dockerenv',\n",
              " 'tools',\n",
              " 'datalab',\n",
              " 'NGC-DL-CONTAINER-LICENSE']"
            ]
          },
          "metadata": {},
          "execution_count": 16
        }
      ]
    },
    {
      "cell_type": "markdown",
      "source": [
        "##6. Use multiprocessing to create three separate processes. Make each one wait a random number of seconds between one and five, print the current time, and then exit.\n"
      ],
      "metadata": {
        "id": "4ym_A5CV_pqo"
      }
    },
    {
      "cell_type": "code",
      "source": [
        "## ANS\n",
        "import multiprocessing,time,datetime\n",
        "\n",
        "def now(seconds): \n",
        "  from datetime import datetime \n",
        "  from time import sleep \n",
        "  sleep(seconds) \n",
        "  print('wait', seconds, 'seconds, time is', datetime.utcnow())\n",
        "\n",
        "start = time.time()\n",
        "process1 = now(3)\n",
        "process2 = now(4)\n",
        "process3 = now(5)\n",
        "\n",
        "print(datetime.datetime.now())\n",
        "if __name__==\"__main__\":\n",
        "    \n",
        "    \n",
        "    \n",
        "    p1 = multiprocessing.Process(target=process1)\n",
        "    p2 = multiprocessing.Process(target=process2)\n",
        "    p3 = multiprocessing.Process(target=process3)\n",
        "\n",
        "    p1.start()\n",
        "    p2.start()\n",
        "    p3.start()\n",
        "\n",
        "    p1.join()\n",
        "    p2.join()\n",
        "    p3.join()\n",
        "\n",
        "end = time.time()\n",
        "    \n",
        "\n",
        "print(\"It takes \" +str(end-start)+\" seconds\")\n"
      ],
      "metadata": {
        "colab": {
          "base_uri": "https://localhost:8080/"
        },
        "id": "n0msuf-MDOKH",
        "outputId": "eeca4715-6325-4b07-9bca-3f458373945b"
      },
      "execution_count": 33,
      "outputs": [
        {
          "output_type": "stream",
          "name": "stdout",
          "text": [
            "wait 3 seconds, time is 2023-02-27 09:14:35.486357\n",
            "wait 4 seconds, time is 2023-02-27 09:14:39.492899\n",
            "wait 5 seconds, time is 2023-02-27 09:14:44.498105\n",
            "2023-02-27 09:14:44.498490\n",
            "It takes 12.058131217956543 seconds\n"
          ]
        }
      ]
    },
    {
      "cell_type": "markdown",
      "source": [
        "##7. Create a date object of your day of birth.\n"
      ],
      "metadata": {
        "id": "ku3doRYx_puA"
      }
    },
    {
      "cell_type": "code",
      "source": [
        "## ANS\n",
        "birthday = date(2000, 11, 16)\n",
        "birthday"
      ],
      "metadata": {
        "colab": {
          "base_uri": "https://localhost:8080/"
        },
        "id": "X9LCP0vQJ6qw",
        "outputId": "508a0d8e-c15d-427c-a060-b47139c84c00"
      },
      "execution_count": 34,
      "outputs": [
        {
          "output_type": "execute_result",
          "data": {
            "text/plain": [
              "datetime.date(2000, 11, 16)"
            ]
          },
          "metadata": {},
          "execution_count": 34
        }
      ]
    },
    {
      "cell_type": "markdown",
      "source": [
        "##8. What day of the week was your day of birth?\n"
      ],
      "metadata": {
        "id": "hyyIL69-_pxn"
      }
    },
    {
      "cell_type": "code",
      "source": [
        "## ANS\n",
        "birthday.weekday()"
      ],
      "metadata": {
        "colab": {
          "base_uri": "https://localhost:8080/"
        },
        "id": "QHSjfWqHKPB-",
        "outputId": "7802bda0-c188-44e7-b6c3-c949685df8a3"
      },
      "execution_count": 35,
      "outputs": [
        {
          "output_type": "execute_result",
          "data": {
            "text/plain": [
              "3"
            ]
          },
          "metadata": {},
          "execution_count": 35
        }
      ]
    },
    {
      "cell_type": "code",
      "source": [
        "birthday.isoweekday()"
      ],
      "metadata": {
        "colab": {
          "base_uri": "https://localhost:8080/"
        },
        "id": "3BQdEu1aKV1e",
        "outputId": "cc603e32-5d31-49c5-e51c-47882aa5f81a"
      },
      "execution_count": 36,
      "outputs": [
        {
          "output_type": "execute_result",
          "data": {
            "text/plain": [
              "4"
            ]
          },
          "metadata": {},
          "execution_count": 36
        }
      ]
    },
    {
      "cell_type": "markdown",
      "source": [
        "###With weekday(), Monday is 0 and Sunday is 6. With isoweekday(), Monday is 1 and Sunday is 7. Therefore, this date was a Saturday."
      ],
      "metadata": {
        "id": "4IFe1CoFKfra"
      }
    },
    {
      "cell_type": "markdown",
      "source": [
        "##9. When will you be (or when were you) 10,000 days old?"
      ],
      "metadata": {
        "id": "KMEXgRHv_p02"
      }
    },
    {
      "cell_type": "code",
      "source": [
        "## ANS\n",
        "from datetime import timedelta\n",
        "day_10000 = birthday + timedelta(days = 10000)"
      ],
      "metadata": {
        "id": "10ubOzFNH5YJ"
      },
      "execution_count": 38,
      "outputs": []
    },
    {
      "cell_type": "code",
      "source": [
        "print(day_10000)"
      ],
      "metadata": {
        "colab": {
          "base_uri": "https://localhost:8080/"
        },
        "id": "lUgEN_hEK0xC",
        "outputId": "ac30019a-98e2-4734-90ce-148bab96539c"
      },
      "execution_count": 39,
      "outputs": [
        {
          "output_type": "stream",
          "name": "stdout",
          "text": [
            "2028-04-03\n"
          ]
        }
      ]
    }
  ]
}