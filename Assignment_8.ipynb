{
  "nbformat": 4,
  "nbformat_minor": 0,
  "metadata": {
    "colab": {
      "provenance": []
    },
    "kernelspec": {
      "name": "python3",
      "display_name": "Python 3"
    },
    "language_info": {
      "name": "python"
    }
  },
  "cells": [
    {
      "cell_type": "markdown",
      "source": [
        "##1. Is the Python Standard Library included with PyInputPlus?\n",
        "### ANS No. PyInputPlus is a third-party module and doesn’t come with the Python Standard Library."
      ],
      "metadata": {
        "id": "WK-2VPdmcsp9"
      }
    },
    {
      "cell_type": "markdown",
      "source": [
        "##2. Why is PyInputPlus commonly imported with import pyinputplus as pypi?\n",
        "### ANS This optionally makes your code shorter to type: you can type pyip.inputStr() instead of pyinputplus.inputStr()."
      ],
      "metadata": {
        "id": "Bs523DFAcwQU"
      }
    },
    {
      "cell_type": "markdown",
      "source": [
        "##3. How do you distinguish between inputInt() and inputFloat()?\n",
        "### ANS The inputInt() function returns an int value, while the inputFloat() function returns a float value. This is the difference between returning 4 and 4.0."
      ],
      "metadata": {
        "id": "GFLd6jSjczIb"
      }
    },
    {
      "cell_type": "markdown",
      "source": [
        "##4. Using PyInputPlus, how do you ensure that the user enters a whole number between 0 and 99?\n",
        "### ANS Call pyip.inputInt(min=0, max=99)."
      ],
      "metadata": {
        "id": "1XuOZCtzcv6r"
      }
    },
    {
      "cell_type": "code",
      "source": [
        "import pyinputplus as pypi\n",
        "x=pypi.inputInt(min=0,max=99)\n",
        "x"
      ],
      "metadata": {
        "colab": {
          "base_uri": "https://localhost:8080/"
        },
        "id": "02TxovGwdm9Z",
        "outputId": "80277e76-8e6f-44a6-f06d-8700c63dd446"
      },
      "execution_count": 6,
      "outputs": [
        {
          "name": "stdout",
          "output_type": "stream",
          "text": [
            "100\n",
            "Number must be at maximum 99.\n",
            "52\n"
          ]
        },
        {
          "output_type": "execute_result",
          "data": {
            "text/plain": [
              "52"
            ]
          },
          "metadata": {},
          "execution_count": 6
        }
      ]
    },
    {
      "cell_type": "markdown",
      "source": [
        "##5. What is transferred to the keyword arguments allowRegexes and blockRegexes?\n",
        "### ANS Keyword arguments take a list of regular expression strings to determine what the PyInputPlus function will accept or reject as valid input."
      ],
      "metadata": {
        "id": "Z8F_6AO9cv3C"
      }
    },
    {
      "cell_type": "markdown",
      "source": [
        "##6. If a blank input is entered three times, what does inputStr(limit=3) do?\n",
        "### ANS It will throw RetryLimitException exception.\n"
      ],
      "metadata": {
        "id": "6x8PWnTKcv0q"
      }
    },
    {
      "cell_type": "markdown",
      "source": [
        "##7. If blank input is entered three times, what does inputStr(limit=3, default=&#39;hello&#39;) do?\n",
        "### ANS The function returns the value 'hello'."
      ],
      "metadata": {
        "id": "dqAp3MYZcvxv"
      }
    }
  ]
}