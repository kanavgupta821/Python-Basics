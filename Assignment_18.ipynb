{
  "nbformat": 4,
  "nbformat_minor": 0,
  "metadata": {
    "colab": {
      "provenance": []
    },
    "kernelspec": {
      "name": "python3",
      "display_name": "Python 3"
    },
    "language_info": {
      "name": "python"
    }
  },
  "cells": [
    {
      "cell_type": "markdown",
      "source": [
        "##1. Create a zoo.py file first. Define the hours() function, which prints the string &#39;Open 9-5 daily&#39;. Then, use the interactive interpreter to import the zoo module and call its hours() function.\n",
        "\n"
      ],
      "metadata": {
        "id": "6BRrFmy1bPm0"
      }
    },
    {
      "cell_type": "code",
      "source": [
        "## ANS \n",
        "import zoo\n",
        "print(zoo.hours())"
      ],
      "metadata": {
        "colab": {
          "base_uri": "https://localhost:8080/"
        },
        "id": "mvvBG7Xrb9oU",
        "outputId": "cd28fa40-5f74-4876-fd32-ac6605d774c1"
      },
      "execution_count": 3,
      "outputs": [
        {
          "output_type": "stream",
          "name": "stdout",
          "text": [
            "Open 9-5 daily\n"
          ]
        }
      ]
    },
    {
      "cell_type": "markdown",
      "source": [
        "##2. In the interactive interpreter, import the zoo module as menagerie and call its hours() function.\n"
      ],
      "metadata": {
        "id": "H2PQPknNbPpI"
      }
    },
    {
      "cell_type": "code",
      "source": [
        "## ANS \n",
        "import zoo as menagerie\n",
        "print(menagerie.hours())"
      ],
      "metadata": {
        "colab": {
          "base_uri": "https://localhost:8080/"
        },
        "id": "4cRA5nNncpmn",
        "outputId": "afcea659-80fc-4085-de78-9677c4e66a6a"
      },
      "execution_count": 4,
      "outputs": [
        {
          "output_type": "stream",
          "name": "stdout",
          "text": [
            "Open 9-5 daily\n"
          ]
        }
      ]
    },
    {
      "cell_type": "markdown",
      "source": [
        "##3. Using the interpreter, explicitly import and call the hours() function from zoo.\n"
      ],
      "metadata": {
        "id": "8gyqQ8WMbPrd"
      }
    },
    {
      "cell_type": "code",
      "source": [
        "## ANS \n",
        "from zoo import hours\n",
        "hours()"
      ],
      "metadata": {
        "colab": {
          "base_uri": "https://localhost:8080/",
          "height": 36
        },
        "id": "2B5IuzUfcvr4",
        "outputId": "b114ed3a-b5d7-4285-a272-2a35a0437029"
      },
      "execution_count": 5,
      "outputs": [
        {
          "output_type": "execute_result",
          "data": {
            "text/plain": [
              "'Open 9-5 daily'"
            ],
            "application/vnd.google.colaboratory.intrinsic+json": {
              "type": "string"
            }
          },
          "metadata": {},
          "execution_count": 5
        }
      ]
    },
    {
      "cell_type": "markdown",
      "source": [
        "##4. Import the hours() function as info and call it.\n"
      ],
      "metadata": {
        "id": "0kOjDALJbPt5"
      }
    },
    {
      "cell_type": "code",
      "source": [
        "## ANS \n",
        "from zoo import hours as info\n",
        "info()"
      ],
      "metadata": {
        "colab": {
          "base_uri": "https://localhost:8080/",
          "height": 36
        },
        "id": "vP52NTCcc8yo",
        "outputId": "57c6da1a-0ec7-4744-e563-e8e429d06c82"
      },
      "execution_count": 8,
      "outputs": [
        {
          "output_type": "execute_result",
          "data": {
            "text/plain": [
              "'Open 9-5 daily'"
            ],
            "application/vnd.google.colaboratory.intrinsic+json": {
              "type": "string"
            }
          },
          "metadata": {},
          "execution_count": 8
        }
      ]
    },
    {
      "cell_type": "markdown",
      "source": [
        "##5. Create a plain dictionary with the key-value pairs &#39;a&#39;: 1, &#39;b&#39;: 2, and &#39;c&#39;: 3, and print it out.\n"
      ],
      "metadata": {
        "id": "UY6IaE_hbPxa"
      }
    },
    {
      "cell_type": "code",
      "source": [
        "## ANS \n",
        "plain = {'a':1, 'b':2, 'c':3}\n",
        "print(plain)"
      ],
      "metadata": {
        "colab": {
          "base_uri": "https://localhost:8080/"
        },
        "id": "nv-mjte0dFNT",
        "outputId": "7d9e25e7-6285-41a5-c040-d3f1b2694c1b"
      },
      "execution_count": 10,
      "outputs": [
        {
          "output_type": "stream",
          "name": "stdout",
          "text": [
            "{'a': 1, 'b': 2, 'c': 3}\n"
          ]
        }
      ]
    },
    {
      "cell_type": "markdown",
      "source": [
        "##6.Make an OrderedDict called fancy from the same pairs listed in 5 and print it. Did it print in the same order as plain?\n"
      ],
      "metadata": {
        "id": "xD-09IhQbQAV"
      }
    },
    {
      "cell_type": "code",
      "source": [
        "## ANS\n",
        "from collections import OrderedDict\n",
        "fancy = OrderedDict([('a',1),('b',2),('c',3)])\n",
        "print(fancy)"
      ],
      "metadata": {
        "colab": {
          "base_uri": "https://localhost:8080/"
        },
        "id": "gLiolezydVv_",
        "outputId": "35e928a0-426a-4960-b178-ff1a05cdbd22"
      },
      "execution_count": 11,
      "outputs": [
        {
          "output_type": "stream",
          "name": "stdout",
          "text": [
            "OrderedDict([('a', 1), ('b', 2), ('c', 3)])\n"
          ]
        }
      ]
    },
    {
      "cell_type": "markdown",
      "source": [
        "##7. Make a default dictionary called dict_of_lists and pass it the argument list. Make the list dict_of_lists[&#39;a&#39;] and append the value &#39;something for a&#39; to it in one assignment. Print dict_of_lists[&#39;a&#39;]."
      ],
      "metadata": {
        "id": "Ip_LMSgFbQD5"
      }
    },
    {
      "cell_type": "code",
      "source": [
        "## ANS\n",
        "from collections import defaultdict\n",
        "dict_of_lists = defaultdict(list)\n",
        "dict_of_lists['a'].append('something for a')"
      ],
      "metadata": {
        "id": "8goNzM25dzbU"
      },
      "execution_count": 12,
      "outputs": []
    },
    {
      "cell_type": "code",
      "source": [
        "print(dict_of_lists['a'])"
      ],
      "metadata": {
        "colab": {
          "base_uri": "https://localhost:8080/"
        },
        "id": "ZOuVQkNbeWUj",
        "outputId": "64cc51fa-bed5-4b84-814e-114112f2d768"
      },
      "execution_count": 13,
      "outputs": [
        {
          "output_type": "stream",
          "name": "stdout",
          "text": [
            "['something for a']\n"
          ]
        }
      ]
    }
  ]
}