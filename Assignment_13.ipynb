{
  "nbformat": 4,
  "nbformat_minor": 0,
  "metadata": {
    "colab": {
      "provenance": []
    },
    "kernelspec": {
      "name": "python3",
      "display_name": "Python 3"
    },
    "language_info": {
      "name": "python"
    }
  },
  "cells": [
    {
      "cell_type": "markdown",
      "source": [
        "##1. What advantages do Excel spreadsheets have over CSV spreadsheets?\n",
        "### ANS In Excel, spreadsheets can have values of data types other than strings; cells can have different fonts, sizes, or color settings; cells can have varying widths and heights; adjacent cells can be merged; and you can embed images and charts."
      ],
      "metadata": {
        "id": "p59O_oEW2ppm"
      }
    },
    {
      "cell_type": "markdown",
      "source": [
        "##2.What do you pass to csv.reader() and csv.writer() to create reader and writer objects?\n",
        "### ANS To read a CSV file with the csv module, first open it using the open() function, just as you would any other text file. But instead of calling the read() or readlines() method on the File object that open() returns, pass it to the csv.reader() function. This will return a Reader object for you to use.\n",
        "###To create a Writer object, you use the csv.writer() function.  call open() and pass it 'w' to open a file in write mode. This will create the object you can then pass to csv.writer() to create a Writer object."
      ],
      "metadata": {
        "id": "ry4SD03t2pmR"
      }
    },
    {
      "cell_type": "markdown",
      "source": [
        "##3. What modes do File objects for reader and writer objects need to be opened in?\n",
        "### ANS File objects need to be opened in read-binary ('rb') for reader objects and write-binary ('wb') for writer objects."
      ],
      "metadata": {
        "id": "E3ugbvmr2pWn"
      }
    },
    {
      "cell_type": "markdown",
      "source": [
        "##4. What method takes a list argument and writes it to a CSV file?\n",
        "### ANS Writer() function is used to create a writer object. The writer. writerow() function is then used to write single rows to the CSV file."
      ],
      "metadata": {
        "id": "ehdmvr962pTE"
      }
    },
    {
      "cell_type": "markdown",
      "source": [
        "##5. What do the keyword arguments delimiter and line terminator do?\n",
        "### ANS The delimiter argument changes the string used to separate cells in a row. The lineterminator argument changes the string used to separate rows."
      ],
      "metadata": {
        "id": "P1TEfZiK2pQj"
      }
    },
    {
      "cell_type": "markdown",
      "source": [
        "##6. What function takes a string of JSON data and returns a Python data structure?\n",
        "### ANS json.loads()"
      ],
      "metadata": {
        "id": "nvsXA6aY2pOM"
      }
    },
    {
      "cell_type": "markdown",
      "source": [
        "##7. What function takes a Python data structure and returns a string of JSON data?\n",
        "### ANS json.dumps()"
      ],
      "metadata": {
        "id": "erYSr9P62pLz"
      }
    }
  ]
}