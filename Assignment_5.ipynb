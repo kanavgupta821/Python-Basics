{
  "nbformat": 4,
  "nbformat_minor": 0,
  "metadata": {
    "colab": {
      "provenance": []
    },
    "kernelspec": {
      "name": "python3",
      "display_name": "Python 3"
    },
    "language_info": {
      "name": "python"
    }
  },
  "cells": [
    {
      "cell_type": "markdown",
      "source": [
        "##1. What does an empty dictionary&#39;s code look like?\n",
        "\n",
        "### ANS To create an empty dictionary, the dictionary should be set to {}.\n",
        "\n",
        "###example :-\n",
        "```\n",
        "item = {}\n",
        "```\n",
        "\n"
      ],
      "metadata": {
        "id": "awpiBC0GyqHw"
      }
    },
    {
      "cell_type": "markdown",
      "source": [
        "##2. What is the value of a dictionary value with the key &#39;foo&#39; and the value 42?\n"
      ],
      "metadata": {
        "id": "zvFis9Phyyyl"
      }
    },
    {
      "cell_type": "code",
      "source": [
        "## ANS\n",
        "dict1 = {'foo' : 42}"
      ],
      "metadata": {
        "id": "Zc89nKzgwrda"
      },
      "execution_count": 1,
      "outputs": []
    },
    {
      "cell_type": "markdown",
      "source": [
        "##3. What is the most significant distinction between a dictionary and a list?\n",
        "### ANS LISTS :- Lists are just like the arrays, declared in other languages. Lists need not be homogeneous always which makes it a most powerful tool in Python. A single list may contain DataTypes like Integers, Strings, as well as Objects. Lists are mutable, and hence, they can be altered even after their creation. Elements of list are kept between [].\n",
        "### DICTIONARY :- Dictionary is an unordered collection of data values, used to store data values like a map, which unlike other Data Types that hold only single value as an element, Dictionary holds key:value pair. Key-value is provided in the dictionary to make it more optimized. Each key-value pair in a Dictionary is separated by a colon :, whereas each key is separated by a ‘comma’. Elements of dictionary are kept between {}."
      ],
      "metadata": {
        "id": "QvGWwN8ryyXS"
      }
    },
    {
      "cell_type": "markdown",
      "source": [
        "##4. What happens if you try to access spam[&#39;foo&#39;] if spam is {&#39;bar&#39;: 100}?\n",
        "\n",
        "### ANS We got key error because we are trying to access key 'foo' which is not present in spam dictionary."
      ],
      "metadata": {
        "id": "olQ_q_Z4yySF"
      }
    },
    {
      "cell_type": "code",
      "source": [
        "## ANS\n",
        "spam = {'bar':100}"
      ],
      "metadata": {
        "id": "3hgiz282yEsg"
      },
      "execution_count": 2,
      "outputs": []
    },
    {
      "cell_type": "code",
      "source": [
        "spam['foo']"
      ],
      "metadata": {
        "colab": {
          "base_uri": "https://localhost:8080/",
          "height": 165
        },
        "id": "o1YLsAaNyLVT",
        "outputId": "24dd97ab-d6e1-48b7-a32c-a6b3a21cff88"
      },
      "execution_count": 3,
      "outputs": [
        {
          "output_type": "error",
          "ename": "KeyError",
          "evalue": "ignored",
          "traceback": [
            "\u001b[0;31m---------------------------------------------------------------------------\u001b[0m",
            "\u001b[0;31mKeyError\u001b[0m                                  Traceback (most recent call last)",
            "\u001b[0;32m<ipython-input-3-9b5a94d1de8d>\u001b[0m in \u001b[0;36m<module>\u001b[0;34m\u001b[0m\n\u001b[0;32m----> 1\u001b[0;31m \u001b[0mspam\u001b[0m\u001b[0;34m[\u001b[0m\u001b[0;34m'foo'\u001b[0m\u001b[0;34m]\u001b[0m\u001b[0;34m\u001b[0m\u001b[0;34m\u001b[0m\u001b[0m\n\u001b[0m",
            "\u001b[0;31mKeyError\u001b[0m: 'foo'"
          ]
        }
      ]
    },
    {
      "cell_type": "markdown",
      "source": [
        "##5. If a dictionary is stored in spam, what is the difference between the expressions &#39;cat&#39; in spam and &#39;cat&#39; in spam.keys()?\n",
        "### ANS There is no difference. The 'in' operator checks whether a value exists as a key in the dictionary."
      ],
      "metadata": {
        "id": "hBG2VgpCyyO_"
      }
    },
    {
      "cell_type": "markdown",
      "source": [
        "##6. If a dictionary is stored in spam, what is the difference between the expressions &#39;cat&#39; in spam and &#39;cat&#39; in spam.values()?\n",
        "### ANS 'cat' in spam checks whether there is a 'cat' key in the dictionary, while 'cat' in spam.values() checks whether there is a value 'cat' for one of the keys in spam."
      ],
      "metadata": {
        "id": "zZQE-IiVyyKx"
      }
    },
    {
      "cell_type": "markdown",
      "source": [
        "##7. What is a shortcut for the following code?\n",
        "##if &#39;color&#39; not in spam:\n",
        "##spam[&#39;color&#39;] = &#39;black&#39;\n",
        "\n"
      ],
      "metadata": {
        "id": "QwnjgfJYyyHP"
      }
    },
    {
      "cell_type": "code",
      "source": [
        "## ANS\n",
        "spam.setdefault('color', 'black')"
      ],
      "metadata": {
        "colab": {
          "base_uri": "https://localhost:8080/",
          "height": 36
        },
        "id": "Tn5XZVWMzGag",
        "outputId": "09113c5d-b9f2-451f-db1e-3c7feb363feb"
      },
      "execution_count": 4,
      "outputs": [
        {
          "output_type": "execute_result",
          "data": {
            "text/plain": [
              "'black'"
            ],
            "application/vnd.google.colaboratory.intrinsic+json": {
              "type": "string"
            }
          },
          "metadata": {},
          "execution_count": 4
        }
      ]
    },
    {
      "cell_type": "markdown",
      "source": [
        "##8. How do you &quot;pretty print&quot; dictionary values using which module and function?\n",
        "\n",
        "```\n",
        "## ANS\n",
        "## using this function\n",
        "pprint.pprint()\n",
        "```\n",
        "\n"
      ],
      "metadata": {
        "id": "Pst9xgdmyyC7"
      }
    }
  ]
}