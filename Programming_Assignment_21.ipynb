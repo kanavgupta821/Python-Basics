{
  "nbformat": 4,
  "nbformat_minor": 0,
  "metadata": {
    "colab": {
      "provenance": []
    },
    "kernelspec": {
      "name": "python3",
      "display_name": "Python 3"
    },
    "language_info": {
      "name": "python"
    }
  },
  "cells": [
    {
      "cell_type": "markdown",
      "source": [
        "## Q-1 Write a function that takes a list and a number as arguments. Add the number to the end of the list, then remove the first element of the list. The function should then return the updated list.\n",
        "###Examples\n",
        "###next_in_line([5, 6, 7, 8, 9], 1) ➞ [6, 7, 8, 9, 1]\n",
        "###next_in_line([7, 6, 3, 23, 17], 10) ➞ [6, 3, 23, 17, 10]\n",
        "###next_in_line([1, 10, 20, 42 ], 6) ➞ [10, 20, 42, 6]\n",
        "###next_in_line([], 6) ➞ &quot;No list has been selected&quot;"
      ],
      "metadata": {
        "id": "TcM3kFk6zQf7"
      }
    },
    {
      "cell_type": "code",
      "source": [
        "## ANS\n",
        "def next_in_line(l1,n):\n",
        "  if len(l1)>0:\n",
        "    l1.append(n)\n",
        "    l1.pop(0)\n",
        "    return l1\n",
        "  else:\n",
        "    return \"No list has been selected\"\n",
        "\n",
        "print(next_in_line([5, 6, 7, 8, 9], 1))\n",
        "print(next_in_line([7, 6, 3, 23, 17], 10))\n",
        "print(next_in_line([1, 10, 20, 42 ], 6))\n",
        "print(next_in_line([], 6))"
      ],
      "metadata": {
        "colab": {
          "base_uri": "https://localhost:8080/"
        },
        "id": "cgSJ0mOtzdBy",
        "outputId": "cd610278-d5d7-46cb-8ebf-44702d7282c6"
      },
      "execution_count": 8,
      "outputs": [
        {
          "output_type": "stream",
          "name": "stdout",
          "text": [
            "[6, 7, 8, 9, 1]\n",
            "[6, 3, 23, 17, 10]\n",
            "[10, 20, 42, 6]\n",
            "No list has been selected\n"
          ]
        }
      ]
    },
    {
      "cell_type": "markdown",
      "source": [
        "## Q-2 Create the function that takes a list of dictionaries and returns the sum of people&#39;s budgets.\n",
        "###Examples\n",
        "###get_budgets([{ &quot;name&quot;: &quot;John&quot;, &quot;age&quot;: 21, &quot;budget&quot;: 23000 },\n",
        "###{ &quot;name&quot;: &quot;Steve&quot;, &quot;age&quot;: 32, &quot;budget&quot;: 40000 },\n",
        "###{ &quot;name&quot;: &quot;Martin&quot;, &quot;age&quot;: 16, &quot;budget&quot;: 2700 }]) ➞ 65700\n",
        "###get_budgets([{ &quot;name&quot;: &quot;John&quot;, &quot;age&quot;: 21, &quot;budget&quot;: 29000 },\n",
        "###{ &quot;name&quot;: &quot;Steve&quot;, &quot;age&quot;: 32, &quot;budget&quot;: 32000 },\n",
        "###{ &quot;name&quot;: &quot;Martin&quot;, &quot;age&quot;: 16, &quot;budget&quot;: 1600 }]) ➞ 62600"
      ],
      "metadata": {
        "id": "9T0Y5XnT0a--"
      }
    },
    {
      "cell_type": "code",
      "source": [
        "## ANS\n",
        "def get_budgets(d):\n",
        "  sum = 0\n",
        "  for i in d:\n",
        "    sum += i['budget']\n",
        "  return sum\n",
        "\n",
        "print(get_budgets([{ \"name\": \"John\", \"age\": 21, \"budget\": 23000 },\n",
        "{ \"name\": \"Steve\", \"age\": 32, \"budget\": 40000 },\n",
        "{ \"name\": \"Martin\", \"age\": 16, \"budget\": 2700 }]))\n",
        "\n",
        "print(get_budgets([{ \"name\": \"John\", \"age\": 21, \"budget\": 29000 },\n",
        "{ \"name\": \"Steve\", \"age\": 32, \"budget\": 32000 },\n",
        "{ \"name\": \"Martin\", \"age\": 16, \"budget\": 1600 }]))\n"
      ],
      "metadata": {
        "colab": {
          "base_uri": "https://localhost:8080/"
        },
        "id": "N1fDcX6mz35j",
        "outputId": "c09c8d1a-4c60-48b8-e2ac-9bb3a28ae013"
      },
      "execution_count": 9,
      "outputs": [
        {
          "output_type": "stream",
          "name": "stdout",
          "text": [
            "65700\n",
            "62600\n"
          ]
        }
      ]
    },
    {
      "cell_type": "markdown",
      "source": [
        "## Q-3 Create a function that takes a string and returns a string with its letters in alphabetical order.\n",
        "###Examples\n",
        "###alphabet_soup(&quot;hello&quot;) ➞ &quot;ehllo&quot;\n",
        "###alphabet_soup(&quot;edabit&quot;) ➞ &quot;abdeit&quot;\n",
        "###alphabet_soup(&quot;hacker&quot;) ➞ &quot;acehkr&quot;\n",
        "###alphabet_soup(&quot;geek&quot;) ➞ &quot;eegk&quot;\n",
        "###alphabet_soup(&quot;javascript&quot;) ➞ &quot;aacijprstv&quot;"
      ],
      "metadata": {
        "id": "LTZAx0Wh2QW5"
      }
    },
    {
      "cell_type": "code",
      "source": [
        "## ANS\n",
        "def alphabet_soup(string):\n",
        "  x = sorted(string)\n",
        "  return ''.join(x)\n",
        "\n",
        "print(alphabet_soup(\"hello\"))\n",
        "print(alphabet_soup(\"edabit\"))\n",
        "print(alphabet_soup(\"hacker\"))\n",
        "print(alphabet_soup(\"geek\"))\n",
        "print(alphabet_soup(\"javascript\"))"
      ],
      "metadata": {
        "colab": {
          "base_uri": "https://localhost:8080/"
        },
        "id": "4br0UVNU1Z99",
        "outputId": "37355604-d759-45f2-fc28-d860fc1848df"
      },
      "execution_count": 10,
      "outputs": [
        {
          "output_type": "stream",
          "name": "stdout",
          "text": [
            "ehllo\n",
            "abdeit\n",
            "acehkr\n",
            "eegk\n",
            "aacijprstv\n"
          ]
        }
      ]
    },
    {
      "cell_type": "markdown",
      "source": [
        "## Q-4 Suppose that you invest $10,000 for 10 years at an interest rate of 6% compounded monthly. What will be the value of your investment at the end of the 10 year period?\n",
        "##Create a function that accepts the principal p, the term in years t, the interest rate r, and the number of compounding periods per year n. The function returns the value at the end of term rounded to the nearest cent.\n",
        "###For the example above:\n",
        "###compound_interest(10000, 10, 0.06, 12) ➞ 18193.97\n",
        "###Note that the interest rate is given as a decimal and n=12 because with monthly compounding there are 12 periods per year. Compounding can also be done annually, quarterly, weekly, or daily.\n",
        "###Examples\n",
        "###compound_interest(100, 1, 0.05, 1) ➞ 105.0\n",
        "###compound_interest(3500, 15, 0.1, 4) ➞ 15399.26\n",
        "###compound_interest(100000, 20, 0.15, 365) ➞ 2007316.26"
      ],
      "metadata": {
        "id": "9yyjy6Jq3OGO"
      }
    },
    {
      "cell_type": "code",
      "source": [
        "## ANS\n",
        "def compound_interest(p,t,r,n):\n",
        "  return round(p*(1 + r/n)**(n*t),2)\n",
        "\n",
        "print(compound_interest(100, 1, 0.05, 1))\n",
        "print(compound_interest(3500, 15, 0.1, 4))\n",
        "print(compound_interest(100000, 20, 0.15, 365))"
      ],
      "metadata": {
        "colab": {
          "base_uri": "https://localhost:8080/"
        },
        "id": "T2ljuaTz2nOg",
        "outputId": "c9388375-ff64-4fd7-fde1-9d3203aa2bad"
      },
      "execution_count": 11,
      "outputs": [
        {
          "output_type": "stream",
          "name": "stdout",
          "text": [
            "105.0\n",
            "15399.26\n",
            "2007316.26\n"
          ]
        }
      ]
    },
    {
      "cell_type": "markdown",
      "source": [
        "## Q-5 Write a function that takes a list of elements and returns only the integers.\n",
        "###Examples\n",
        "###return_only_integer([9, 2, &quot;space&quot;, &quot;car&quot;, &quot;lion&quot;, 16]) ➞ [9, 2, 16]\n",
        "###return_only_integer([&quot;hello&quot;, 81, &quot;basketball&quot;, 123, &quot;fox&quot;]) ➞ [81, 123]\n",
        "###return_only_integer([10, &quot;121&quot;, 56, 20, &quot;car&quot;, 3, &quot;lion&quot;]) ➞ [10, 56, 20,3]\n",
        "###return_only_integer([&quot;String&quot;, True, 3.3, 1]) ➞ [1]"
      ],
      "metadata": {
        "id": "x3qM4ns2POxE"
      }
    },
    {
      "cell_type": "code",
      "source": [
        "## ANS\n",
        "def return_only_integer(l1):\n",
        "  l2 = list()\n",
        "  for i in l1:\n",
        "    if type(i) == int:\n",
        "      l2.append(i)\n",
        "  return l2\n",
        "\n",
        "print(return_only_integer([9, 2, \"space\", \"car\", \"lion\", 16]))\n",
        "print(return_only_integer([\"hello\", 81, \"basketball\", 123, \"fox\"]))\n",
        "print(return_only_integer([10, \"121\", 56, 20, \"car\", 3, \"lion\"]))\n",
        "print(return_only_integer([\"String\", True, 3.3, 1]))"
      ],
      "metadata": {
        "colab": {
          "base_uri": "https://localhost:8080/"
        },
        "id": "Fn57znoHO-X-",
        "outputId": "fa8732cf-e8c4-4de3-a385-ced3fe9d8247"
      },
      "execution_count": 12,
      "outputs": [
        {
          "output_type": "stream",
          "name": "stdout",
          "text": [
            "[9, 2, 16]\n",
            "[81, 123]\n",
            "[10, 56, 20, 3]\n",
            "[1]\n"
          ]
        }
      ]
    }
  ]
}