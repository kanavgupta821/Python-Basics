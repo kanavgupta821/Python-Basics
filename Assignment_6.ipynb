{
  "nbformat": 4,
  "nbformat_minor": 0,
  "metadata": {
    "colab": {
      "provenance": []
    },
    "kernelspec": {
      "name": "python3",
      "display_name": "Python 3"
    },
    "language_info": {
      "name": "python"
    }
  },
  "cells": [
    {
      "cell_type": "markdown",
      "source": [
        "##1. What are escape characters, and how do you use them?\n",
        "###ANS To insert characters that are illegal in a string, use an escape character.\n",
        "\n",
        "###An escape character is a backslash \\ followed by the character you want to insert.\n",
        "\n",
        "#### Example"
      ],
      "metadata": {
        "id": "8rfek9teeeBy"
      }
    },
    {
      "cell_type": "code",
      "source": [
        "txt = \"We are the so-called \\\"Vikings\\\" from the north.\"\n",
        "txt"
      ],
      "metadata": {
        "colab": {
          "base_uri": "https://localhost:8080/",
          "height": 36
        },
        "id": "sQmkKiE3gy91",
        "outputId": "b5dbc022-d28b-426e-f692-5a2606ee26d0"
      },
      "execution_count": 1,
      "outputs": [
        {
          "output_type": "execute_result",
          "data": {
            "text/plain": [
              "'We are the so-called \"Vikings\" from the north.'"
            ],
            "application/vnd.google.colaboratory.intrinsic+json": {
              "type": "string"
            }
          },
          "metadata": {},
          "execution_count": 1
        }
      ]
    },
    {
      "cell_type": "markdown",
      "source": [
        "##2. What do the escape characters n and t stand for?\n",
        "### ANS \\n is a newline; \\t is a tab.\n"
      ],
      "metadata": {
        "id": "eqKSSrqJejiW"
      }
    },
    {
      "cell_type": "markdown",
      "source": [
        "##3. What is the way to include backslash characters in a string?\n",
        "### ANS If you want to include a backslash character itself, you need two backslashes\n",
        "#### example"
      ],
      "metadata": {
        "id": "9Rl8MQSDejvh"
      }
    },
    {
      "cell_type": "code",
      "source": [
        "txt = \"This will insert one \\\\ (backslash).\"\n",
        "print(txt) "
      ],
      "metadata": {
        "colab": {
          "base_uri": "https://localhost:8080/"
        },
        "id": "tE7W85ZviHLH",
        "outputId": "74ad2ae4-eaf2-486c-d092-39cc30c70182"
      },
      "execution_count": 12,
      "outputs": [
        {
          "output_type": "stream",
          "name": "stdout",
          "text": [
            "This will insert one \\ (backslash).\n"
          ]
        }
      ]
    },
    {
      "cell_type": "markdown",
      "source": [
        "##4. The string &quot;Howl&#39;s Moving Castle&quot; is a correct value. Why isn&#39;t the single quote character in the word Howl&#39;s not escaped a problem?\n",
        "### ANS The single quote in Howl's is fine because we have used double quotes to mark the beginning and end of the string."
      ],
      "metadata": {
        "id": "mhFreO6mej50"
      }
    },
    {
      "cell_type": "markdown",
      "source": [
        "##5. How do you write a string of newlines if you don&#39;t want to use the n character?\n",
        "### ANS When you print multiple statements in Python, by default they print across multiple lines"
      ],
      "metadata": {
        "id": "4uciQ0Dyej9j"
      }
    },
    {
      "cell_type": "markdown",
      "source": [
        "##6. What are the values of the given expressions?\n",
        "###&#39;Hello, world!&#39;[1]\n",
        "###&#39;Hello, world!&#39;[0:5]\n",
        "###&#39;Hello, world!&#39;[:5]\n",
        "###&#39;Hello, world!&#39;[3:]\n",
        "\n",
        "\n",
        "\n",
        "\n"
      ],
      "metadata": {
        "id": "Tai0OPRPekBT"
      }
    },
    {
      "cell_type": "code",
      "source": [
        "## ANS\n",
        "'Hello, world!'[1]"
      ],
      "metadata": {
        "colab": {
          "base_uri": "https://localhost:8080/",
          "height": 36
        },
        "id": "tmRUoogXjqEe",
        "outputId": "9c74d4bf-a9aa-4856-dfbc-82cbf34be81b"
      },
      "execution_count": 13,
      "outputs": [
        {
          "output_type": "execute_result",
          "data": {
            "text/plain": [
              "'e'"
            ],
            "application/vnd.google.colaboratory.intrinsic+json": {
              "type": "string"
            }
          },
          "metadata": {},
          "execution_count": 13
        }
      ]
    },
    {
      "cell_type": "code",
      "source": [
        "'Hello, world!'[0:5]"
      ],
      "metadata": {
        "colab": {
          "base_uri": "https://localhost:8080/",
          "height": 36
        },
        "id": "dZ5x_-ihjxOv",
        "outputId": "36dea00c-69cc-4a11-a25b-0d6c6307ef50"
      },
      "execution_count": 14,
      "outputs": [
        {
          "output_type": "execute_result",
          "data": {
            "text/plain": [
              "'Hello'"
            ],
            "application/vnd.google.colaboratory.intrinsic+json": {
              "type": "string"
            }
          },
          "metadata": {},
          "execution_count": 14
        }
      ]
    },
    {
      "cell_type": "code",
      "source": [
        "'Hello, world!'[:5]"
      ],
      "metadata": {
        "colab": {
          "base_uri": "https://localhost:8080/",
          "height": 36
        },
        "id": "J8za0RzbjydL",
        "outputId": "38d39822-ef03-46bb-8551-c9cac68a5972"
      },
      "execution_count": 15,
      "outputs": [
        {
          "output_type": "execute_result",
          "data": {
            "text/plain": [
              "'Hello'"
            ],
            "application/vnd.google.colaboratory.intrinsic+json": {
              "type": "string"
            }
          },
          "metadata": {},
          "execution_count": 15
        }
      ]
    },
    {
      "cell_type": "code",
      "source": [
        "'Hello, world!'[3:]"
      ],
      "metadata": {
        "colab": {
          "base_uri": "https://localhost:8080/",
          "height": 36
        },
        "id": "bcwyf7i_jyP_",
        "outputId": "8c82c228-a1ee-4519-8b6e-b433f46b072a"
      },
      "execution_count": 16,
      "outputs": [
        {
          "output_type": "execute_result",
          "data": {
            "text/plain": [
              "'lo, world!'"
            ],
            "application/vnd.google.colaboratory.intrinsic+json": {
              "type": "string"
            }
          },
          "metadata": {},
          "execution_count": 16
        }
      ]
    },
    {
      "cell_type": "markdown",
      "source": [
        "##7. What are the values of the following expressions?\n",
        "###&#39;Hello&#39;.upper()\n",
        "###&#39;Hello&#39;.upper().isupper()\n",
        "###&#39;Hello&#39;.upper().lower()\n"
      ],
      "metadata": {
        "id": "W7x7MZByekFR"
      }
    },
    {
      "cell_type": "code",
      "source": [
        "## ANS\n",
        "'Hello'.upper()"
      ],
      "metadata": {
        "colab": {
          "base_uri": "https://localhost:8080/",
          "height": 36
        },
        "id": "jHkhC-z0j8w-",
        "outputId": "aa6ca199-c56c-4254-a708-1b734c0d4faf"
      },
      "execution_count": 17,
      "outputs": [
        {
          "output_type": "execute_result",
          "data": {
            "text/plain": [
              "'HELLO'"
            ],
            "application/vnd.google.colaboratory.intrinsic+json": {
              "type": "string"
            }
          },
          "metadata": {},
          "execution_count": 17
        }
      ]
    },
    {
      "cell_type": "code",
      "source": [
        "'Hello'.upper().isupper()"
      ],
      "metadata": {
        "colab": {
          "base_uri": "https://localhost:8080/"
        },
        "id": "STLlM4tbkDfx",
        "outputId": "a85ff4b2-c240-41f5-a2a4-8e19049fbe95"
      },
      "execution_count": 18,
      "outputs": [
        {
          "output_type": "execute_result",
          "data": {
            "text/plain": [
              "True"
            ]
          },
          "metadata": {},
          "execution_count": 18
        }
      ]
    },
    {
      "cell_type": "code",
      "source": [
        "'Hello'.upper().lower()"
      ],
      "metadata": {
        "colab": {
          "base_uri": "https://localhost:8080/",
          "height": 36
        },
        "id": "y22U0qSikDY0",
        "outputId": "7655291b-fe50-4b32-b16c-87ea079d2dab"
      },
      "execution_count": 19,
      "outputs": [
        {
          "output_type": "execute_result",
          "data": {
            "text/plain": [
              "'hello'"
            ],
            "application/vnd.google.colaboratory.intrinsic+json": {
              "type": "string"
            }
          },
          "metadata": {},
          "execution_count": 19
        }
      ]
    },
    {
      "cell_type": "markdown",
      "source": [
        "##8. What are the values of the following expressions?\n",
        "###&#39;Remember, remember, the fifth of July.&#39;.split()\n",
        "###&#39;-&#39;.join(&#39;There can only one.&#39;.split())\n"
      ],
      "metadata": {
        "id": "bDaZmp1LekHF"
      }
    },
    {
      "cell_type": "code",
      "source": [
        "## ANS\n",
        "'Remember, remember, the fifth of July.'.split()"
      ],
      "metadata": {
        "colab": {
          "base_uri": "https://localhost:8080/"
        },
        "id": "JL5luKkOkLCv",
        "outputId": "1236b145-136d-458c-c79c-153f1e5acb21"
      },
      "execution_count": 20,
      "outputs": [
        {
          "output_type": "execute_result",
          "data": {
            "text/plain": [
              "['Remember,', 'remember,', 'the', 'fifth', 'of', 'July.']"
            ]
          },
          "metadata": {},
          "execution_count": 20
        }
      ]
    },
    {
      "cell_type": "code",
      "source": [
        "'-'.join('There can only one.'.split())"
      ],
      "metadata": {
        "colab": {
          "base_uri": "https://localhost:8080/",
          "height": 36
        },
        "id": "Hetx8nBkkSYs",
        "outputId": "bb1f87b0-ab08-4209-edf2-c52fb387949e"
      },
      "execution_count": 21,
      "outputs": [
        {
          "output_type": "execute_result",
          "data": {
            "text/plain": [
              "'There-can-only-one.'"
            ],
            "application/vnd.google.colaboratory.intrinsic+json": {
              "type": "string"
            }
          },
          "metadata": {},
          "execution_count": 21
        }
      ]
    },
    {
      "cell_type": "markdown",
      "source": [
        "##9. What are the methods for right-justifying, left-justifying, and centering a string?\n",
        "### ANS The rjust(), ljust(), and center() string methods, respectively"
      ],
      "metadata": {
        "id": "CG7gcwpZekJq"
      }
    },
    {
      "cell_type": "markdown",
      "source": [
        "##10. What is the best way to remove whitespace characters from the start or end?\n",
        "### ANS The lstrip() and rstrip() methods remove whitespace from the left and right ends of a string, respectively."
      ],
      "metadata": {
        "id": "Pc7rZNz2ekLV"
      }
    }
  ]
}