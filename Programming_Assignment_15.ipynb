{
  "nbformat": 4,
  "nbformat_minor": 0,
  "metadata": {
    "colab": {
      "provenance": []
    },
    "kernelspec": {
      "name": "python3",
      "display_name": "Python 3"
    },
    "language_info": {
      "name": "python"
    }
  },
  "cells": [
    {
      "cell_type": "markdown",
      "source": [
        "##Q-1: Please write a program using generator to print the numbers which can be divisible by 5 and 7 between 0 and n in comma separated form while n is input by console. \n",
        "###Example:\n",
        "###If the following n is given as input to the program:\n",
        "###100\n",
        "###Then, the output of the program should be:\n",
        "###0,35,70"
      ],
      "metadata": {
        "id": "w-1f4EA2vsoM"
      }
    },
    {
      "cell_type": "code",
      "source": [
        "## ANS\n",
        "def generator(n):\n",
        "  for i in range(0,n):\n",
        "    if i%5 == 0 and i%7 == 0:\n",
        "      yield i\n",
        "n=int(input())\n",
        "l = list()\n",
        "for j in generator(n):\n",
        "    l.append(str(j))\n",
        "\n",
        "print (\",\".join(l))"
      ],
      "metadata": {
        "colab": {
          "base_uri": "https://localhost:8080/"
        },
        "id": "xQQeE_yjv701",
        "outputId": "e4369e53-9e84-41a5-f69f-b6d7dfba9cdb"
      },
      "execution_count": 16,
      "outputs": [
        {
          "output_type": "stream",
          "name": "stdout",
          "text": [
            "100\n",
            "0,35,70\n"
          ]
        }
      ]
    },
    {
      "cell_type": "markdown",
      "source": [
        "## Q-2 Please write a program using generator to print the even numbers between 0 and n in comma separated form while n is input by console.\n",
        "###Example:\n",
        "###If the following n is given as input to the program:\n",
        "###10\n",
        "###Then, the output of the program should be:\n",
        "###0,2,4,6,8,10"
      ],
      "metadata": {
        "id": "WKRd4P6dyegX"
      }
    },
    {
      "cell_type": "code",
      "source": [
        "## ANS\n",
        "def even_generator(n):\n",
        "  for i in range(n+1):\n",
        "    if i%2 == 0:\n",
        "      yield i\n",
        "n = int(input())\n",
        "l = list()\n",
        "for j in even_generator(n):\n",
        "  l.append(str(j))\n",
        "print(','.join(l))"
      ],
      "metadata": {
        "colab": {
          "base_uri": "https://localhost:8080/"
        },
        "id": "wLzryW6hynIk",
        "outputId": "cbfbf1e0-a6c1-4d0f-b920-062d9352b58e"
      },
      "execution_count": 17,
      "outputs": [
        {
          "output_type": "stream",
          "name": "stdout",
          "text": [
            "10\n",
            "0,2,4,6,8,10\n"
          ]
        }
      ]
    },
    {
      "cell_type": "markdown",
      "source": [
        "## Q-3 The Fibonacci Sequence is computed based on the following formula:\n",
        "###f(n)=0 if n=0\n",
        "###f(n)=1 if n=1\n",
        "###f(n)=f(n-1)+f(n-2) if n&gt;1\n",
        "###Please write a program using list comprehension to print the Fibonacci Sequence in comma separated form with a given n input by console.\n",
        "###Example:\n",
        "###If the following n is given as input to the program:\n",
        "###7\n",
        "\n",
        "###Then, the output of the program should be:\n",
        "###0,1,1,2,3,5,8,13"
      ],
      "metadata": {
        "id": "geoVEOW8zc90"
      }
    },
    {
      "cell_type": "code",
      "source": [
        "## ANS\n",
        "def f(n):\n",
        "  if n==0:\n",
        "    return 0\n",
        "  elif n==1:\n",
        "    return 1\n",
        "  else:\n",
        "    return f(n-1) + f(n-2)\n",
        "n = int(input())\n",
        "l = [str(f(i)) for i in range(n+1)]\n",
        "print(','.join(l))"
      ],
      "metadata": {
        "colab": {
          "base_uri": "https://localhost:8080/"
        },
        "id": "ta00GXgmzard",
        "outputId": "980028e2-7892-404b-b870-8469c63e8718"
      },
      "execution_count": 18,
      "outputs": [
        {
          "output_type": "stream",
          "name": "stdout",
          "text": [
            "7\n",
            "0,1,1,2,3,5,8,13\n"
          ]
        }
      ]
    },
    {
      "cell_type": "markdown",
      "source": [
        "## Q-4 Assuming that we have some email addresses in the &quot;username@companyname.com&quot; format, please write program to print the user name of a given email address. Both user names and company names are composed of letters only.\n",
        "###Example:\n",
        "###If the following email address is given as input to the program:\n",
        "###john@google.com\n",
        "###Then, the output of the program should be:\n",
        "###john"
      ],
      "metadata": {
        "id": "t7lfUIHd2fg8"
      }
    },
    {
      "cell_type": "code",
      "source": [
        "## ANS\n",
        "email = input()\n",
        "l = list()\n",
        "for i in email:\n",
        "  if i.isalpha():\n",
        "    l.append(i)\n",
        "  elif i == '@':\n",
        "    break\n",
        "  elif i.isdigit():\n",
        "    continue\n",
        "print(''.join(l))\n"
      ],
      "metadata": {
        "colab": {
          "base_uri": "https://localhost:8080/"
        },
        "id": "kJUBHW520j2u",
        "outputId": "ee639f1a-a307-4e6d-a485-dd9175b03fd6"
      },
      "execution_count": 19,
      "outputs": [
        {
          "output_type": "stream",
          "name": "stdout",
          "text": [
            "john@google.com\n",
            "john\n"
          ]
        }
      ]
    },
    {
      "cell_type": "markdown",
      "source": [
        "## Q-5 Define a class named Shape and its subclass Square. The Square class has an init function which takes a length as argument. Both classes have a area function which can print the area of the shape where Shape&#39;s area is 0 by default."
      ],
      "metadata": {
        "id": "zXHe0faTa4a_"
      }
    },
    {
      "cell_type": "code",
      "source": [
        "## ANS\n",
        "class shape():\n",
        "  def __init__(self):\n",
        "    pass\n",
        "  def area(self):\n",
        "    return 0\n",
        "class square(shape):\n",
        "  def __init__(self,length):\n",
        "    self.length = length\n",
        "  def area(self):\n",
        "    return self.length**2\n",
        "  def perimeter(self):\n",
        "    return 4* self.length\n",
        "\n",
        "Square_area = square(6)\n",
        "print(f\"Area of square is: {Square_area.area()}\")"
      ],
      "metadata": {
        "colab": {
          "base_uri": "https://localhost:8080/"
        },
        "id": "iAbaH32kaSeV",
        "outputId": "8ff441f0-8358-4b50-8808-7af763acbed4"
      },
      "execution_count": 20,
      "outputs": [
        {
          "output_type": "stream",
          "name": "stdout",
          "text": [
            "Area of square is: 36\n"
          ]
        }
      ]
    }
  ]
}