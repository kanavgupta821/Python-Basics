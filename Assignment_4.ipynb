{
  "nbformat": 4,
  "nbformat_minor": 0,
  "metadata": {
    "colab": {
      "provenance": []
    },
    "kernelspec": {
      "name": "python3",
      "display_name": "Python 3"
    },
    "language_info": {
      "name": "python"
    }
  },
  "cells": [
    {
      "cell_type": "markdown",
      "source": [
        "## 1. What exactly is [ ]?\n",
        "\n",
        "#### ANS In python the symbol [ ] denotes that it is a list. Lists are used to store multiple items in a single variable. It is one of the in-built datatype in python. "
      ],
      "metadata": {
        "id": "fXADph3p6Jo7"
      }
    },
    {
      "cell_type": "code",
      "source": [
        "## example\n",
        "fruits = [\"apple\", \"banana\", \"cherry\"]\n",
        "print(fruits)                              # this will return a list of fruits within square brakets."
      ],
      "metadata": {
        "colab": {
          "base_uri": "https://localhost:8080/"
        },
        "id": "sLsarsaN8Ddf",
        "outputId": "9b343985-164f-40e3-c2dc-a3843595ebc0"
      },
      "execution_count": 1,
      "outputs": [
        {
          "output_type": "stream",
          "name": "stdout",
          "text": [
            "['apple', 'banana', 'cherry']\n"
          ]
        }
      ]
    },
    {
      "cell_type": "markdown",
      "source": [
        "## 2. In a list of values stored in a variable called spam, how would you assign the value 'hello' as the third value? (Assume [2, 4, 6, 8, 10] are in spam.)\n"
      ],
      "metadata": {
        "id": "Xv-VKaK86LI6"
      }
    },
    {
      "cell_type": "code",
      "source": [
        "## ANS - if you don't want to replace it with 6\n",
        "spam = [2, 4, 6, 8, 10]\n",
        "spam.insert(2, \"hello\")\n",
        "print(spam)"
      ],
      "metadata": {
        "colab": {
          "base_uri": "https://localhost:8080/"
        },
        "id": "QtysTOn18onI",
        "outputId": "da202794-4f0a-4325-a526-054c2bed30db"
      },
      "execution_count": 2,
      "outputs": [
        {
          "output_type": "stream",
          "name": "stdout",
          "text": [
            "[2, 4, 'hello', 6, 8, 10]\n"
          ]
        }
      ]
    },
    {
      "cell_type": "code",
      "source": [
        "## if you want to replace hello with 6\n",
        "spam = [2, 4, 6, 8, 10]\n",
        "spam[2] = \"hello\"\n",
        "print(spam)"
      ],
      "metadata": {
        "colab": {
          "base_uri": "https://localhost:8080/"
        },
        "id": "kphu3Naq9xvM",
        "outputId": "7cae40ae-9cfc-46a7-8242-a844cb0c9162"
      },
      "execution_count": 3,
      "outputs": [
        {
          "output_type": "stream",
          "name": "stdout",
          "text": [
            "[2, 4, 'hello', 8, 10]\n"
          ]
        }
      ]
    },
    {
      "cell_type": "markdown",
      "source": [
        "#Let's pretend the spam includes the list ['a', 'b', 'c', 'd'] for the next three queries."
      ],
      "metadata": {
        "id": "2z5q59iU8iI-"
      }
    },
    {
      "cell_type": "markdown",
      "source": [
        "##3. What is the value of spam[int(int('3' * 2) / 11)]?\n"
      ],
      "metadata": {
        "id": "-Ld_KvdB6LRv"
      }
    },
    {
      "cell_type": "code",
      "source": [
        "## ANS\n",
        "spam = ['a', 'b', 'c', 'd']\n",
        "index = int(int('3' * 2)/ 11)\n",
        "print(f\"The value of index is: {index}\")\n",
        "print(spam[int(int('3' * 2)/ 11)])               ## it means spam[3], therefore at third index value is d"
      ],
      "metadata": {
        "colab": {
          "base_uri": "https://localhost:8080/"
        },
        "id": "qoZhEKAU-CEl",
        "outputId": "43ad612f-44ef-4e9b-e100-f49a930cb430"
      },
      "execution_count": 4,
      "outputs": [
        {
          "output_type": "stream",
          "name": "stdout",
          "text": [
            "The value of index is: 3\n",
            "d\n"
          ]
        }
      ]
    },
    {
      "cell_type": "markdown",
      "source": [
        "##4. What is the value of spam[-1]?"
      ],
      "metadata": {
        "id": "zQpYFatJ6LM2"
      }
    },
    {
      "cell_type": "code",
      "source": [
        "## ANS\n",
        "spam = ['a', 'b', 'c', 'd']\n",
        "spam[-1]"
      ],
      "metadata": {
        "colab": {
          "base_uri": "https://localhost:8080/",
          "height": 36
        },
        "id": "1fvXFAr6_bLE",
        "outputId": "f5009271-440d-4123-b3a3-ee56ba461458"
      },
      "execution_count": 5,
      "outputs": [
        {
          "output_type": "execute_result",
          "data": {
            "text/plain": [
              "'d'"
            ],
            "application/vnd.google.colaboratory.intrinsic+json": {
              "type": "string"
            }
          },
          "metadata": {},
          "execution_count": 5
        }
      ]
    },
    {
      "cell_type": "markdown",
      "source": [
        "##5. What is the value of spam[:2]?\n"
      ],
      "metadata": {
        "id": "t6NBrP9w6LQM"
      }
    },
    {
      "cell_type": "code",
      "source": [
        "## ANS\n",
        "spam = ['a', 'b', 'c', 'd']\n",
        "spam[:2]                           # means, returns values from 0th index till 1st index excluding 2nd"
      ],
      "metadata": {
        "colab": {
          "base_uri": "https://localhost:8080/"
        },
        "id": "S4dR25y1_mPV",
        "outputId": "fa71c13d-08a5-46e2-d259-891b94feab56"
      },
      "execution_count": 6,
      "outputs": [
        {
          "output_type": "execute_result",
          "data": {
            "text/plain": [
              "['a', 'b']"
            ]
          },
          "metadata": {},
          "execution_count": 6
        }
      ]
    },
    {
      "cell_type": "markdown",
      "source": [
        "#Let's pretend bacon has the list [3.14, 'cat,' 11, 'cat,' True] for the next three questions."
      ],
      "metadata": {
        "id": "qFf4H5Aw-PTg"
      }
    },
    {
      "cell_type": "markdown",
      "source": [
        "## 6. What is the value of bacon.index('cat')?"
      ],
      "metadata": {
        "id": "6KQLX_0s6LTC"
      }
    },
    {
      "cell_type": "code",
      "source": [
        "## ANS\n",
        "bacon = [3.14, 'cat', 11, 'cat', True]\n",
        "bacon.index('cat')                      ## gives the value of index where cat element is stored (first index where cat element is stored)"
      ],
      "metadata": {
        "colab": {
          "base_uri": "https://localhost:8080/"
        },
        "id": "W4SGFn-VADlr",
        "outputId": "46b561a4-affd-4658-f64e-04d37412502f"
      },
      "execution_count": 7,
      "outputs": [
        {
          "output_type": "execute_result",
          "data": {
            "text/plain": [
              "1"
            ]
          },
          "metadata": {},
          "execution_count": 7
        }
      ]
    },
    {
      "cell_type": "markdown",
      "source": [
        "##7. How does bacon.append(99) change the look of the list value in bacon?"
      ],
      "metadata": {
        "id": "er9PxRWo6LVe"
      }
    },
    {
      "cell_type": "code",
      "source": [
        "## ANS\n",
        "bacon = [3.14, 'cat', 11, 'cat', True]\n",
        "bacon.append(99)                        ## add 99 at the end of the list\n",
        "bacon"
      ],
      "metadata": {
        "colab": {
          "base_uri": "https://localhost:8080/"
        },
        "id": "fH2mDM9RBljc",
        "outputId": "5b7853a4-f033-4dec-cab5-788d2fee28b1"
      },
      "execution_count": 8,
      "outputs": [
        {
          "output_type": "execute_result",
          "data": {
            "text/plain": [
              "[3.14, 'cat', 11, 'cat', True, 99]"
            ]
          },
          "metadata": {},
          "execution_count": 8
        }
      ]
    },
    {
      "cell_type": "markdown",
      "source": [
        "##8. How does bacon.remove('cat') change the look of the list in bacon?"
      ],
      "metadata": {
        "id": "ZxouMdxZ6LY7"
      }
    },
    {
      "cell_type": "code",
      "source": [
        "## ANS\n",
        "bacon = [3.14, 'cat', 11, 'cat', True]\n",
        "bacon.remove('cat')                     ## deletes cat where it is present first i.e at index 1\n",
        "bacon                       "
      ],
      "metadata": {
        "colab": {
          "base_uri": "https://localhost:8080/"
        },
        "id": "5VBFOHbICERy",
        "outputId": "89130361-6a00-4fcc-874e-b2686a0a0162"
      },
      "execution_count": 9,
      "outputs": [
        {
          "output_type": "execute_result",
          "data": {
            "text/plain": [
              "[3.14, 11, 'cat', True]"
            ]
          },
          "metadata": {},
          "execution_count": 9
        }
      ]
    },
    {
      "cell_type": "markdown",
      "source": [
        "## 9. What are the list concatenation and list replication operators?\n",
        "\n",
        "#### ANS The operator for list concatenation is +. The + operator joins the two lists. While the operator for replication is *. The * operator replicates the elements in the list.\n",
        "\n"
      ],
      "metadata": {
        "id": "oVqTRii86JsC"
      }
    },
    {
      "cell_type": "code",
      "source": [
        "# example\n",
        "list1 = [11, 33]\n",
        "list2 = [1, 9]\n",
        "list3 = list1 + list2                    # list concatenation\n",
        "print(list3)\n",
        "\n",
        "list4 = [1, 2, 3, 4]\n",
        "list5 = list4 * 3\n",
        "print(list5)                             # list replication"
      ],
      "metadata": {
        "colab": {
          "base_uri": "https://localhost:8080/"
        },
        "id": "oXylx_l3C2zf",
        "outputId": "51cef8e4-448a-4a9e-d31c-87f39d3377c1"
      },
      "execution_count": 10,
      "outputs": [
        {
          "output_type": "stream",
          "name": "stdout",
          "text": [
            "[11, 33, 1, 9]\n",
            "[1, 2, 3, 4, 1, 2, 3, 4, 1, 2, 3, 4]\n"
          ]
        }
      ]
    },
    {
      "cell_type": "markdown",
      "source": [
        "## 10. What is difference between the list methods append( ) and insert( )?\n",
        "#### ANS The main difference between append( ) and insert( ) method is that by using append( ) method we can add a data item inside a list but that will get added at the last index of the list. Whereas by using insert( ) method we can add data item inside a list at any specified index."
      ],
      "metadata": {
        "id": "3w5528Gr6JuS"
      }
    },
    {
      "cell_type": "code",
      "source": [
        "# example\n",
        "list1 = [1, 56, 89, 45, 'string']\n",
        "list1.append(78)\n",
        "print(list1)                                   ## append() method\n",
        "\n",
        "list1.insert(2, 'hello')                       ## insert() method 2 is the index and hello is the value to be added\n",
        "print(list1)                                   "
      ],
      "metadata": {
        "colab": {
          "base_uri": "https://localhost:8080/"
        },
        "id": "-tIwp9DPzkXF",
        "outputId": "c53f6c91-1726-460e-ae6b-3a1d265d5372"
      },
      "execution_count": 11,
      "outputs": [
        {
          "output_type": "stream",
          "name": "stdout",
          "text": [
            "[1, 56, 89, 45, 'string', 78]\n",
            "[1, 56, 'hello', 89, 45, 'string', 78]\n"
          ]
        }
      ]
    },
    {
      "cell_type": "markdown",
      "source": [
        "##11. What are the two methods for removing items from a list?\n",
        "#### ANS The two method for removing items from the list are :-\n",
        "#####1. remove( ) method - The remove() method removes the specified item in the list.\n",
        "##### 2. pop( ) method - The pop() method removes the specified index. If you do not specify the index, the pop() method removes the last item."
      ],
      "metadata": {
        "id": "1KcFqmTF6JxU"
      }
    },
    {
      "cell_type": "code",
      "source": [
        "## example\n",
        "fruits = ['apple', 'mango', 'banana', 'pineapple', 'watermelon']\n",
        "fruits.remove('mango')                                               ## removes mango from the list\n",
        "print(fruits)                              \n",
        "\n",
        "fruits = ['apple', 'mango', 'banana', 'pineapple', 'watermelon']\n",
        "fruits.pop(3)                                                        ## removes pineapple from the list which is present at index 3\n",
        "print(fruits)"
      ],
      "metadata": {
        "colab": {
          "base_uri": "https://localhost:8080/"
        },
        "id": "WyWlhgp11VP8",
        "outputId": "012c70ef-06bd-4323-9f25-5ee58a091a61"
      },
      "execution_count": 12,
      "outputs": [
        {
          "output_type": "stream",
          "name": "stdout",
          "text": [
            "['apple', 'banana', 'pineapple', 'watermelon']\n",
            "['apple', 'mango', 'banana', 'watermelon']\n"
          ]
        }
      ]
    },
    {
      "cell_type": "markdown",
      "source": [
        "##12. Describe how list values and string values are identical.\n",
        "#### ANS The main similarities between Strings and List is that both are sequences, both strings and lists have lengths, both strings and lists have a position. We can also perform index slicing on both."
      ],
      "metadata": {
        "id": "ta9_DTH26J0R"
      }
    },
    {
      "cell_type": "markdown",
      "source": [
        "## 13. What's the difference between tuples and lists?\n",
        "#### ANS Lists | Tuples\n",
        "##### List is mutable. ||\tTuple is immutable.\n",
        "#####\tList iteration is slower and is time consuming. || Tuple iteration is faster.\n",
        "#####\tList is useful for insertion and deletion operations. ||\tTuple is useful for readonly operations like accessing elements.\n",
        "#####\tList consumes more memory. ||\tTuples consumes less memory.\n",
        "##### List provides many in-built methods. ||\tTuples have less in-built methods.\n",
        "#####\tList operations are more error prone. ||\tTuples operations are safe.\n",
        "##### List is represented by [ ]. || Tuple is represented by ( )."
      ],
      "metadata": {
        "id": "ic-LkEmG68c3"
      }
    },
    {
      "cell_type": "markdown",
      "source": [
        "##14. How do you type a tuple value that only contains the integer 42?"
      ],
      "metadata": {
        "id": "Mukw_OI_68sw"
      }
    },
    {
      "cell_type": "code",
      "source": [
        "## ANS\n",
        "t1 = (42)\n",
        "print(t1)                        ## if we simply type (42) it will return an integer\n",
        "\n",
        "t2 = (42, )                       ## but if we type (42, ) then it will return a tuple\n",
        "print(t2)"
      ],
      "metadata": {
        "colab": {
          "base_uri": "https://localhost:8080/"
        },
        "id": "5iF2vpBl791Q",
        "outputId": "1800ca7c-a363-43a1-8a6e-f8914a1b3103"
      },
      "execution_count": 13,
      "outputs": [
        {
          "output_type": "stream",
          "name": "stdout",
          "text": [
            "42\n",
            "(42,)\n"
          ]
        }
      ]
    },
    {
      "cell_type": "markdown",
      "source": [
        "##15. How do you get a list value's tuple form? How do you get a tuple value's list form?\n"
      ],
      "metadata": {
        "id": "XsfPcxIx6J3A"
      }
    },
    {
      "cell_type": "code",
      "source": [
        "## ANS\n",
        "list1 = [1, 56, 89, 45, 'string']\n",
        "tuple(list1)"
      ],
      "metadata": {
        "colab": {
          "base_uri": "https://localhost:8080/"
        },
        "id": "8_Gx8Lr_88JK",
        "outputId": "094df5c3-863a-46d8-abb8-5ba9fcd09a5f"
      },
      "execution_count": 14,
      "outputs": [
        {
          "output_type": "execute_result",
          "data": {
            "text/plain": [
              "(1, 56, 89, 45, 'string')"
            ]
          },
          "metadata": {},
          "execution_count": 14
        }
      ]
    },
    {
      "cell_type": "code",
      "source": [
        "tuple1 = (1, 56, 89, 45, 'string')\n",
        "list(tuple1)"
      ],
      "metadata": {
        "colab": {
          "base_uri": "https://localhost:8080/"
        },
        "id": "7r58ETgK9JiS",
        "outputId": "68fe27dd-47e0-4058-cee2-9f6bd3b4e5eb"
      },
      "execution_count": 15,
      "outputs": [
        {
          "output_type": "execute_result",
          "data": {
            "text/plain": [
              "[1, 56, 89, 45, 'string']"
            ]
          },
          "metadata": {},
          "execution_count": 15
        }
      ]
    },
    {
      "cell_type": "markdown",
      "source": [
        "##16. Variables that \"contain\" list values are not necessarily lists themselves. Instead, what do they contain?\n",
        "#### ANS Variables will contain references to list values rather than list values themselves. But for strings and integer values, variables simply contain the string or integer value.\n"
      ],
      "metadata": {
        "id": "GSMC--ib7GSK"
      }
    },
    {
      "cell_type": "markdown",
      "source": [
        "##17. How do you distinguish between copy.copy( ) and copy.deepcopy( )?\n",
        "\n",
        "#### ANS copy.copy( ) create reference to original object. If you change copied object - you change the original object and copy.deepcopy( ) creates new object and does real copying of original object to new one."
      ],
      "metadata": {
        "id": "JMFxtY4a7GHC"
      }
    }
  ]
}