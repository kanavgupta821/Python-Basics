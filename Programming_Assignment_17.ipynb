{
  "nbformat": 4,
  "nbformat_minor": 0,
  "metadata": {
    "colab": {
      "provenance": []
    },
    "kernelspec": {
      "name": "python3",
      "display_name": "Python 3"
    },
    "language_info": {
      "name": "python"
    }
  },
  "cells": [
    {
      "cell_type": "markdown",
      "source": [
        "## Q-1 Create a function that takes three arguments a, b, c and returns the sum of the numbers that are evenly divided by c from the range a, b inclusive.\n",
        "###Examples\n",
        "###evenly_divisible(1, 10, 20) ➞ 0\n",
        "### No number between 1 and 10 can be evenly divided by 20.\n",
        "###evenly_divisible(1, 10, 2) ➞ 30\n",
        "### 2 + 4 + 6 + 8 + 10 = 30\n",
        "###evenly_divisible(1, 10, 3) ➞ 18\n",
        "### 3 + 6 + 9 = 18"
      ],
      "metadata": {
        "id": "76I-jQZ-RgRq"
      }
    },
    {
      "cell_type": "code",
      "source": [
        "## ANS\n",
        "def func(a,b,c):\n",
        "  l = list()\n",
        "  sum = 0\n",
        "  for i in range(a,b+1):\n",
        "    if i % c == 0:\n",
        "      l.append(i)\n",
        "  for j in l:\n",
        "    sum += j\n",
        "  return sum\n",
        "x = func(1,10,3)\n",
        "print(f\"Sum of numbers that are evenly divided by c from the range a,b is: {x}\")\n",
        "y = func(1,10,20)\n",
        "print(f\"Sum of numbers that are evenly divided by c from the range a,b is: {y}\")\n",
        "z = func(1,10,2)\n",
        "print(f\"Sum of numbers that are evenly divided by c from the range a,b is: {z}\")"
      ],
      "metadata": {
        "colab": {
          "base_uri": "https://localhost:8080/"
        },
        "id": "vPJZvrxBRqHu",
        "outputId": "bceb3123-e774-43ea-d37a-87c70d317c46"
      },
      "execution_count": 15,
      "outputs": [
        {
          "output_type": "stream",
          "name": "stdout",
          "text": [
            "Sum of numbers that are evenly divided by c from the range a,b is: 18\n",
            "Sum of numbers that are evenly divided by c from the range a,b is: 0\n",
            "Sum of numbers that are evenly divided by c from the range a,b is: 30\n"
          ]
        }
      ]
    },
    {
      "cell_type": "markdown",
      "source": [
        "## Q-2 Create a function that returns True if a given inequality expression is correct and False otherwise.\n",
        "###Examples\n",
        "###correct_signs(&quot;3 &lt; 7 &lt; 11&quot;) ➞ True\n",
        "###correct_signs(&quot;13 &gt; 44 &gt; 33 &gt; 1&quot;) ➞ False\n",
        "###correct_signs(&quot;1 &lt; 2 &lt; 6 &lt; 9 &gt; 3&quot;) ➞ True"
      ],
      "metadata": {
        "id": "tLXbeoGyT0jB"
      }
    },
    {
      "cell_type": "code",
      "source": [
        "## ANS\n",
        "def correct_signs(a):\n",
        "  return a\n",
        "x = correct_signs(3 < 7 < 11)\n",
        "print(x)\n",
        "y = correct_signs(13 > 44 > 33 > 1)\n",
        "print(y)\n",
        "z = correct_signs(1 < 2 < 6 < 9 > 3)\n",
        "print(z)"
      ],
      "metadata": {
        "colab": {
          "base_uri": "https://localhost:8080/"
        },
        "id": "ityxzzIhSQb8",
        "outputId": "a7ec824c-6056-49c5-be39-484eea58ac14"
      },
      "execution_count": 20,
      "outputs": [
        {
          "output_type": "stream",
          "name": "stdout",
          "text": [
            "True\n",
            "False\n",
            "True\n"
          ]
        }
      ]
    },
    {
      "cell_type": "markdown",
      "source": [
        "## Q-3 Create a function that replaces all the vowels in a string with a specified character.\n",
        "###Examples\n",
        "###replace_vowels(&quot;the aardvark&quot;, &quot;#&quot;) ➞&quot;th# ##rdv#rk&quot;\n",
        "###replace_vowels(&quot;minnie mouse&quot;, &quot;?&quot;) ➞ &quot;m?nn?? m??s?&quot;\n",
        "###replace_vowels(&quot;shakespeare&quot;, &quot;*&quot;) ➞ &quot;sh*k*sp**r*&quot;"
      ],
      "metadata": {
        "id": "PPHfYnBGVE2H"
      }
    },
    {
      "cell_type": "code",
      "source": [
        "## ANS\n",
        "def replace_vowels(string, symbol):\n",
        "  vowel = 'aeiouAEIOU'\n",
        "  for i in string:\n",
        "    if i in vowel:\n",
        "      string = string.replace(i, symbol)\n",
        "  return string\n",
        "x = replace_vowels(\"the aardvark\", \"#\")\n",
        "print(x)\n",
        "y = replace_vowels(\"minnie mouse\", \"?\")\n",
        "print(y)\n",
        "z = replace_vowels(\"shakespeare\", \"*\")\n",
        "print(z)"
      ],
      "metadata": {
        "colab": {
          "base_uri": "https://localhost:8080/"
        },
        "id": "x1KsNgC0UjDu",
        "outputId": "778ba77f-7566-42df-a66e-8135af02350c"
      },
      "execution_count": 13,
      "outputs": [
        {
          "output_type": "stream",
          "name": "stdout",
          "text": [
            "th# ##rdv#rk\n",
            "m?nn?? m??s?\n",
            "sh*k*sp**r*\n"
          ]
        }
      ]
    },
    {
      "cell_type": "markdown",
      "source": [
        "## Q-4 Write a function that calculates the factorial of a number recursively.\n",
        "###Examples\n",
        "###factorial(5) ➞ 120\n",
        "###factorial(3) ➞ 6\n",
        "###factorial(1) ➞ 1\n",
        "###factorial(0) ➞ 1"
      ],
      "metadata": {
        "id": "P8yiZ6qL6hAT"
      }
    },
    {
      "cell_type": "code",
      "source": [
        "## ANS\n",
        "def factorial(n):\n",
        "  if n==0 or n==1:\n",
        "    return 1\n",
        "  else:\n",
        "    return n * factorial(n-1)\n",
        "\n",
        "x = factorial(5)\n",
        "print(f\"factorial(5): {x}\")\n",
        "y = factorial(3)\n",
        "print(f\"factorial(2): {y}\")\n",
        "z = factorial(1)\n",
        "print(f\"factorial(1): {z}\")\n",
        "p = factorial(0)\n",
        "print(f\"factorial(0): {p}\")"
      ],
      "metadata": {
        "colab": {
          "base_uri": "https://localhost:8080/"
        },
        "id": "F9ON8Y2Q5M7q",
        "outputId": "d8151a30-765c-4f97-f237-d6025f4c2319"
      },
      "execution_count": 25,
      "outputs": [
        {
          "output_type": "stream",
          "name": "stdout",
          "text": [
            "factorial(5): 120\n",
            "factorial(2): 6\n",
            "factorial(1): 1\n",
            "factorial(0): 1\n"
          ]
        }
      ]
    },
    {
      "cell_type": "markdown",
      "source": [
        "## Q-5 Hamming distance is the number of characters that differ between two strings.\n",
        "###To illustrate:\n",
        "###String1: &quot;abcbba&quot;\n",
        "###String2: &quot;abcbda&quot;\n",
        "###Hamming Distance: 1 - &quot;b&quot; vs. &quot;d&quot; is the only difference.\n",
        "###Create a function that computes the hamming distance between two strings.\n",
        "###Examples\n",
        "###hamming_distance(&quot;abcde&quot;, &quot;bcdef&quot;) ➞ 5\n",
        "###hamming_distance(&quot;abcde&quot;, &quot;abcde&quot;) ➞ 0\n",
        "###hamming_distance(&quot;strong&quot;, &quot;strung&quot;) ➞ 1"
      ],
      "metadata": {
        "id": "jkcf7CXZ8UUO"
      }
    },
    {
      "cell_type": "code",
      "source": [
        "## ANS\n",
        "def hamming_distance(string1,string2):\n",
        "  count = 0\n",
        "  for i in range(len(string1)):\n",
        "    if string1[i] != string2[i]:\n",
        "      count += 1\n",
        "  return count\n",
        "\n",
        "x = hamming_distance(\"abcde\",\"bcdef\")\n",
        "print(f\"hamming_distance('abcde','bcdef'): {x}\")\n",
        "y = hamming_distance(\"abcde\",\"abcde\")\n",
        "print(f\"hamming_distance('abcde','abcde'): {y}\")\n",
        "z = hamming_distance(\"strong\",\"strung\")\n",
        "print(f\"hamming_distance('strong','strung'): {z}\")"
      ],
      "metadata": {
        "colab": {
          "base_uri": "https://localhost:8080/"
        },
        "id": "Ty6dy1vy5SpW",
        "outputId": "1a915901-eb75-45c1-bdbc-e92ec06ad6c6"
      },
      "execution_count": 8,
      "outputs": [
        {
          "output_type": "stream",
          "name": "stdout",
          "text": [
            "hamming_distance('abcde','bcdef'): 5\n",
            "hamming_distance('abcde','abcde'): 0\n",
            "hamming_distance('strong','strung'): 1\n"
          ]
        }
      ]
    }
  ]
}