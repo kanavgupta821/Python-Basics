{
  "nbformat": 4,
  "nbformat_minor": 0,
  "metadata": {
    "colab": {
      "provenance": []
    },
    "kernelspec": {
      "name": "python3",
      "display_name": "Python 3"
    },
    "language_info": {
      "name": "python"
    }
  },
  "cells": [
    {
      "cell_type": "markdown",
      "source": [
        "## Q-1 Create a function that takes three integer arguments (a, b, c) and returns the amount of integers which are of equal value.\n",
        "###Examples\n",
        "###equal(3, 4, 3) ➞ 2\n",
        "###equal(1, 1, 1) ➞ 3\n",
        "###equal(3, 4, 1) ➞ 0\n",
        "###Notes\n",
        "###Your function must return 0, 2 or 3."
      ],
      "metadata": {
        "id": "ed6YVQFF-X4E"
      }
    },
    {
      "cell_type": "code",
      "execution_count": 4,
      "metadata": {
        "colab": {
          "base_uri": "https://localhost:8080/"
        },
        "id": "B1AJfXDNXjc9",
        "outputId": "2a58f55a-ca41-49ae-dc2b-e8e6cb1f3e1b"
      },
      "outputs": [
        {
          "output_type": "stream",
          "name": "stdout",
          "text": [
            "equal(3,4,3): 2\n",
            "equal(1,1,1): 3\n",
            "equal(3,4,1): 0\n"
          ]
        }
      ],
      "source": [
        "## ANS\n",
        "def equal(a,b,c):\n",
        "  l = [a,b,c]\n",
        "  for i in l:\n",
        "    if l.count(i)>1:\n",
        "      return l.count(i)\n",
        "    else:\n",
        "      return 0\n",
        "\n",
        "print(f\"equal(3,4,3): {equal(3,4,3)}\")\n",
        "print(f\"equal(1,1,1): {equal(1,1,1)}\")\n",
        "print(f\"equal(3,4,1): {equal(3,4,1)}\")"
      ]
    },
    {
      "cell_type": "markdown",
      "source": [
        "## Q-2 Write a function that converts a dictionary into a list of keys-values tuples.\n",
        "###Examples\n",
        "###dict_to_list({\n",
        "###&quot;D&quot;: 1,\n",
        "###&quot;B&quot;: 2,\n",
        "###&quot;C&quot;: 3\n",
        "###}) ➞ [(&quot;B&quot;, 2), (&quot;C&quot;, 3), (&quot;D&quot;, 1)]\n",
        "###dict_to_list({\n",
        "###&quot;likes&quot;: 2,\n",
        "###&quot;dislikes&quot;: 3,\n",
        "###&quot;followers&quot;: 10\n",
        "###}) ➞ [(&quot;dislikes&quot;, 3), (&quot;followers&quot;, 10), (&quot;likes&quot;, 2)]\n",
        "###Notes\n",
        "###Return the elements in the list in alphabetical order."
      ],
      "metadata": {
        "id": "Ui1tOkAj_mU1"
      }
    },
    {
      "cell_type": "code",
      "source": [
        "## ANS\n",
        "def dict_to_list(d):\n",
        "  l = sorted(list(d.items()))\n",
        "  return l\n",
        "\n",
        "print(dict_to_list({\n",
        "\"D\": 1,\n",
        "\"B\": 2,\n",
        "\"C\": 3}))\n",
        "print(dict_to_list({\n",
        "\"likes\": 2,\n",
        "\"dislikes\": 3,\n",
        "\"followers\": 10\n",
        "}))"
      ],
      "metadata": {
        "colab": {
          "base_uri": "https://localhost:8080/"
        },
        "id": "Qdx6YlCE-lC_",
        "outputId": "cf3fdcb5-12be-4071-b17c-b835235faa4b"
      },
      "execution_count": 8,
      "outputs": [
        {
          "output_type": "stream",
          "name": "stdout",
          "text": [
            "[('B', 2), ('C', 3), ('D', 1)]\n",
            "[('dislikes', 3), ('followers', 10), ('likes', 2)]\n"
          ]
        }
      ]
    },
    {
      "cell_type": "markdown",
      "source": [
        "## Q-3 Write a function that creates a dictionary with each (key, value) pair being the (lower case, upper case) versions of a letter, respectively.\n",
        "###Examples\n",
        "###mapping([&quot;p&quot;, &quot;s&quot;]) ➞ { &quot;p&quot;: &quot;P&quot;, &quot;s&quot;: &quot;S&quot; }\n",
        "\n",
        "###mapping([&quot;a&quot;, &quot;b&quot;, &quot;c&quot;]) ➞ { &quot;a&quot;: &quot;A&quot;, &quot;b&quot;: &quot;B&quot;, &quot;c&quot;: &quot;C&quot; }\n",
        "###mapping([&quot;a&quot;, &quot;v&quot;, &quot;y&quot;, &quot;z&quot;]) ➞ { &quot;a&quot;: &quot;A&quot;, &quot;v&quot;: &quot;V&quot;, &quot;y&quot;: &quot;Y&quot;, &quot;z&quot;: &quot;Z&quot; }\n",
        "###Notes\n",
        "###All of the letters in the input list will always be lowercase."
      ],
      "metadata": {
        "id": "_8uxwlikAjh4"
      }
    },
    {
      "cell_type": "code",
      "source": [
        "## ANS\n",
        "def mapping(l):\n",
        "  d = dict()\n",
        "  for i in l:\n",
        "    if i.islower():\n",
        "      d[i] = i.upper()\n",
        "  return d\n",
        "print(mapping(['p','s']))\n",
        "print(mapping([\"a\", \"b\", \"c\"]))\n",
        "print(mapping([\"a\", \"v\", \"y\", \"z\"]))"
      ],
      "metadata": {
        "colab": {
          "base_uri": "https://localhost:8080/"
        },
        "id": "pQ6HC-Vw_xht",
        "outputId": "61616515-b0d0-4a66-fe1e-b010d99eb7c2"
      },
      "execution_count": 10,
      "outputs": [
        {
          "output_type": "stream",
          "name": "stdout",
          "text": [
            "{'p': 'P', 's': 'S'}\n",
            "{'a': 'A', 'b': 'B', 'c': 'C'}\n",
            "{'a': 'A', 'v': 'V', 'y': 'Y', 'z': 'Z'}\n"
          ]
        }
      ]
    },
    {
      "cell_type": "markdown",
      "source": [
        "## Q-4 Write a function, that replaces all vowels in a string with a specified vowel.\n",
        "###Examples\n",
        "###vow_replace(&quot;apples and bananas&quot;, &quot;u&quot;) ➞ &quot;upplus und bununus&quot;\n",
        "###vow_replace(&quot;cheese casserole&quot;, &quot;o&quot;) ➞ &quot;chooso cossorolo&quot;\n",
        "###vow_replace(&quot;stuffed jalapeno poppers&quot;, &quot;e&quot;) ➞ &quot;steffed jelepene peppers&quot;\n",
        "###Notes\n",
        "###All words will be lowercase. Y is not considered a vowel."
      ],
      "metadata": {
        "id": "ztKKtI0rBdQj"
      }
    },
    {
      "cell_type": "code",
      "source": [
        "## ANS\n",
        "def vow_replace(string, vow):\n",
        "  vowel = 'aeiou'\n",
        "  s = list()\n",
        "  for i in string:\n",
        "    if i in vowel:\n",
        "      s.append(vow)\n",
        "    else:\n",
        "      s.append(i)\n",
        "  return ''.join(s)\n",
        "\n",
        "print(vow_replace(\"apples and bananas\", \"u\"))\n",
        "print(vow_replace(\"cheese casserole\", \"o\"))\n",
        "print(vow_replace(\"stuffed jalapeno poppers\", \"e\"))"
      ],
      "metadata": {
        "colab": {
          "base_uri": "https://localhost:8080/"
        },
        "id": "RAMLgZ-8BRbt",
        "outputId": "88cd0ecc-d952-4c09-8820-b8b3a5ff4d95"
      },
      "execution_count": 24,
      "outputs": [
        {
          "output_type": "stream",
          "name": "stdout",
          "text": [
            "upplus und bununus\n",
            "chooso cossorolo\n",
            "steffed jelepene peppers\n"
          ]
        }
      ]
    },
    {
      "cell_type": "markdown",
      "source": [
        "## Q-5 Create a function that takes a string as input and capitalizes a letter if its ASCII code is even and returns its lower case version if its ASCII code is odd.\n",
        "###Examples\n",
        "###ascii_capitalize(&quot;to be or not to be!&quot;) ➞ &quot;To Be oR NoT To Be!&quot;\n",
        "###ascii_capitalize(&quot;THE LITTLE MERMAID&quot;) ➞ &quot;THe LiTTLe meRmaiD&quot;\n",
        "###ascii_capitalize(&quot;Oh what a beautiful morning.&quot;) ➞ &quot;oH wHaT a BeauTiFuL moRNiNg.&quot;"
      ],
      "metadata": {
        "id": "ueS2NjwAE_Sg"
      }
    },
    {
      "cell_type": "code",
      "source": [
        "## ANS\n",
        "def ascii_capitalize(string):\n",
        "  s = list()\n",
        "  for i in string:\n",
        "    if ord(i) % 2 == 0:\n",
        "      s.append(i.upper())\n",
        "    else:\n",
        "      s.append(i.lower())\n",
        "  return ''.join(s)\n",
        "\n",
        "print(ascii_capitalize(\"to be or not to be!\"))\n",
        "print(ascii_capitalize(\"THE LITTLE MERMAID\"))\n",
        "print(ascii_capitalize(\"Oh what a beautiful morning.\"))"
      ],
      "metadata": {
        "colab": {
          "base_uri": "https://localhost:8080/"
        },
        "id": "y-TcqkAOCuU6",
        "outputId": "eb760c0c-c09d-4263-ae5c-781dc313e238"
      },
      "execution_count": 29,
      "outputs": [
        {
          "output_type": "stream",
          "name": "stdout",
          "text": [
            "To Be oR NoT To Be!\n",
            "THe LiTTLe meRmaiD\n",
            "oH wHaT a BeauTiFuL moRNiNg.\n"
          ]
        }
      ]
    }
  ]
}