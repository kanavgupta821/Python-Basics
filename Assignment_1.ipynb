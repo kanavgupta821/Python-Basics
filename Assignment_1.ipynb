{
  "nbformat": 4,
  "nbformat_minor": 0,
  "metadata": {
    "colab": {
      "provenance": []
    },
    "kernelspec": {
      "name": "python3",
      "display_name": "Python 3"
    },
    "language_info": {
      "name": "python"
    }
  },
  "cells": [
    {
      "cell_type": "markdown",
      "source": [
        "## Q-1. In the below elements which of them are values or an expression? eg:- values can be integer or string and expressions will be mathematical operators.\n",
        "\n",
        "### ANS\n",
        "#### (*) is an expression\n",
        "#### ('hello') is a value\n",
        "####(-87.8) is a value\n",
        "####(-) is an expression\n",
        "####(/) is an expression\n",
        "####(+) is an expression\n",
        "####(6) is a value"
      ],
      "metadata": {
        "id": "WERFJF1FQE1L"
      }
    },
    {
      "cell_type": "markdown",
      "source": [
        "## Q-2. What is the difference between string and variable?\n",
        "\n",
        "### Ans\n",
        "####  The variable is something that stores certain value of datatype inside it and we can call this value just by calling this varible's name.\n",
        "\n",
        "#### Whereas string is a datatype that can be stored inside the variable.\n",
        "\n",
        "#### for example\n",
        "\n",
        "\n",
        "```\n",
        "a = \"str\"\n",
        "```\n",
        "\n",
        "#### In the above example a is a variable and \"str\" is a string"
      ],
      "metadata": {
        "id": "YRKtHHOMRVKc"
      }
    },
    {
      "cell_type": "markdown",
      "source": [
        "## Q-3.  Describe three different data types.\n",
        "### ANS\n",
        "#### A data type is a classification that specifies which type of value a variable can store.\n",
        "#### Different types of datatypes are:-\n",
        "#### 1. Integer - It is a datatype used to describe whole numbers that ranges from -2,147,483,647 to 2,147,483,647. For eg - 1,2,355,45 etc.\n",
        "#### 2. String - It is a datatype used to describe single or multiple characters inside a single or double quotes. For eg - 'assdf', \"adsdf\", 'a', \"b\", etc.\n",
        "#### 3. Boolean - It is a datatype used to represent the truth value of an expression. It's value can either be True or False.\n"
      ],
      "metadata": {
        "id": "ubnj6a6xUCsr"
      }
    },
    {
      "cell_type": "markdown",
      "source": [
        "## Q-4. What is an expression made up of? What do all expressions do?\n",
        "### ANS\n",
        "#### An expression is made up of operators and operands that are interpreted to produce some other value. Where operator is a symbol that tells the interpreter to perform specific mathematical or logical functions. For eg - *,%,-,+,/,OR, AND etc. And operands are the values/varibles on which the operators works on to produce another value.\n",
        "#### Types of expressions:-\n",
        "\n",
        "\n",
        "1. Constant Expressions\n",
        "2. Arithmetic Expressions\n",
        "3. Relational Expressions\n",
        "4. Logical Expressions\n",
        "5. Bitwise Expressions\n",
        "\n"
      ],
      "metadata": {
        "id": "H0wEMswvUCf-"
      }
    },
    {
      "cell_type": "markdown",
      "source": [
        "## Q-5. This assignment statements, like spam = 10. What is the difference between an expression and a statement?\n",
        "### ANS\n",
        "#### A statement is a complete line of code that performs some action. A statement is an instruction that the Python interpreter can execute. while an expression is a combination of values, variables, operators, and calls to functions. Expressions need to be evaluated. The evaluation of an expression produces a value, which is why expressions can appear on the right hand side of assignment statements. A value all by itself is a simple expression, and so is a variable. Evaluating a variable gives the value that the variable refers to."
      ],
      "metadata": {
        "id": "s_RyyR65ZfRq"
      }
    },
    {
      "cell_type": "markdown",
      "source": [
        "## Q-6. After running the following code, what does the variable bacon contain?\n",
        "### ANS\n",
        "```\n",
        "bacon = 22\n",
        "bacon + 1\n",
        "\n",
        "```\n",
        "#### Variable bacon contains 22 value because although we using + 1 operator but it will assign that increased value to bacon. If bacon += 1 is written then bacon contains 23 value.\n",
        "\n"
      ],
      "metadata": {
        "id": "X5OnlmQVZfOp"
      }
    },
    {
      "cell_type": "markdown",
      "source": [
        "## Q-7. What should the values of the following two terms be?\n",
        "\n",
        "\n",
        "```\n",
        "'spam' + 'spamspam'\n",
        "'spam' * 3\n",
        "```\n",
        "\n",
        "\n"
      ],
      "metadata": {
        "id": "lOT9imuhZfMA"
      }
    },
    {
      "cell_type": "code",
      "source": [
        "# ANS\n",
        "'spam' + 'spamspam'"
      ],
      "metadata": {
        "colab": {
          "base_uri": "https://localhost:8080/",
          "height": 36
        },
        "id": "N3vOmL4Ceum9",
        "outputId": "3a62c030-c7ad-4bb0-cd7d-06c2159df7a9"
      },
      "execution_count": 5,
      "outputs": [
        {
          "output_type": "execute_result",
          "data": {
            "text/plain": [
              "'spamspamspam'"
            ],
            "application/vnd.google.colaboratory.intrinsic+json": {
              "type": "string"
            }
          },
          "metadata": {},
          "execution_count": 5
        }
      ]
    },
    {
      "cell_type": "code",
      "source": [
        "'spam' * 3"
      ],
      "metadata": {
        "colab": {
          "base_uri": "https://localhost:8080/",
          "height": 36
        },
        "id": "ykAOtG-xe5-q",
        "outputId": "ef028e9f-d098-4559-be7e-e9dacdef5c63"
      },
      "execution_count": 6,
      "outputs": [
        {
          "output_type": "execute_result",
          "data": {
            "text/plain": [
              "'spamspamspam'"
            ],
            "application/vnd.google.colaboratory.intrinsic+json": {
              "type": "string"
            }
          },
          "metadata": {},
          "execution_count": 6
        }
      ]
    },
    {
      "cell_type": "markdown",
      "source": [
        "## Q-8. Why is eggs a valid variable name while 100 is invalid?\n",
        "### ANS \n",
        "#### eggs is a valid variable name while 100 is invalid because in python variable names cannot begin with a number."
      ],
      "metadata": {
        "id": "juJX33kfUCck"
      }
    }
  ]
}