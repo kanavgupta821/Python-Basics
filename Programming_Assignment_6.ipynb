{
  "nbformat": 4,
  "nbformat_minor": 0,
  "metadata": {
    "colab": {
      "provenance": []
    },
    "kernelspec": {
      "name": "python3",
      "display_name": "Python 3"
    },
    "language_info": {
      "name": "python"
    }
  },
  "cells": [
    {
      "cell_type": "markdown",
      "source": [
        "##1. Write a Python Program to Display Fibonacci Sequence Using Recursion?"
      ],
      "metadata": {
        "id": "JNT3s3406cTD"
      }
    },
    {
      "cell_type": "code",
      "source": [
        "## ANS\n",
        "list1 = list()\n",
        "def fib(n):\n",
        "\tif n < 0:\n",
        "\t\tprint(\"Incorrect input\")\n",
        "\telif n == 0:\n",
        "\t\treturn 0\n",
        "\telif n == 1 or n == 2:\n",
        "\t\treturn 1\n",
        "\telse:\n",
        "\t\treturn fib(n-1) + fib(n-2)\n",
        "n = int(input(\"How many terms? \"))\n",
        "for i in range(n):\n",
        "  list1.append(fib(i))\n",
        "print(f\"Fibonacci sequence upto {n} numbers is: \")\n",
        "print(list1)"
      ],
      "metadata": {
        "colab": {
          "base_uri": "https://localhost:8080/"
        },
        "id": "E9a-OWWnB0vv",
        "outputId": "74b1935f-b3a0-4bd3-f70b-3dfaa45d4c86"
      },
      "execution_count": 36,
      "outputs": [
        {
          "output_type": "stream",
          "name": "stdout",
          "text": [
            "How many terms? 10\n",
            "Fibonacci sequence upto 10 numbers is: \n",
            "[0, 1, 1, 2, 3, 5, 8, 13, 21, 34]\n"
          ]
        }
      ]
    },
    {
      "cell_type": "markdown",
      "source": [
        "##2. Write a Python Program to Find Factorial of Number Using Recursion?"
      ],
      "metadata": {
        "id": "dX2TgsJR6cVm"
      }
    },
    {
      "cell_type": "code",
      "source": [
        "10\n",
        "## ANS\n",
        "def factorial(n):                                      ## If factorial(5) is called, it will call factorial(4), factorial(3) and so on....\n",
        "  if (n == 0 or n == 1):                               ##  So it means keeps calling itself by reducing value by one till it reaches 1.\n",
        "    return 1\n",
        "  else:\n",
        "    return (n * factorial(n-1))\n",
        "n = int(input(\"enter a number: \"))\n",
        "print(f\"Factorial of {n} is {factorial(n)}\")"
      ],
      "metadata": {
        "colab": {
          "base_uri": "https://localhost:8080/"
        },
        "id": "Sd8W0UFw6umo",
        "outputId": "9bc3459a-fdad-4bb0-aa4a-dc22f97fc94f"
      },
      "execution_count": 37,
      "outputs": [
        {
          "output_type": "stream",
          "name": "stdout",
          "text": [
            "enter a number: 7\n",
            "Factorial of 7 is 5040\n"
          ]
        }
      ]
    },
    {
      "cell_type": "markdown",
      "source": [
        "##3. Write a Python Program to calculate your Body Mass Index?"
      ],
      "metadata": {
        "id": "xz1dvVHL6cYo"
      }
    },
    {
      "cell_type": "code",
      "source": [
        "## ANS\n",
        "weight = float(input(\"Enter your weight in kilograms: \"))\n",
        "height = float(input(\"Enter your height in meters: \"))\n",
        "bmi = weight / (height ** 2)\n",
        "print(f\"BMI of a person is : {bmi}\")\n",
        "if bmi < 18.5:\n",
        "  print(\"Person is underweight\")\n",
        "elif (bmi > 18.5 and bmi < 24.9):\n",
        "  print(\"Person is healthy weight\")\n",
        "elif (bmi > 25.0 and bmi < 29.9):\n",
        "  print(\"Person is overweight\")\n",
        "else:\n",
        "  print(\"Person has obesity\")"
      ],
      "metadata": {
        "colab": {
          "base_uri": "https://localhost:8080/"
        },
        "id": "2E9VF_1n6vJ2",
        "outputId": "0ee98ce3-724a-428e-e920-2d3d5f933c8e"
      },
      "execution_count": 38,
      "outputs": [
        {
          "output_type": "stream",
          "name": "stdout",
          "text": [
            "Enter your weight in kilograms: 76\n",
            "Enter your height in meters: 1.70\n",
            "BMI of a person is : 26.29757785467128\n",
            "Person is overweight\n"
          ]
        }
      ]
    },
    {
      "cell_type": "markdown",
      "source": [
        "##4. Write a Python Program to calculate the natural logarithm of any number?"
      ],
      "metadata": {
        "id": "NITmzXWJ6cb9"
      }
    },
    {
      "cell_type": "code",
      "source": [
        "## ANS\n",
        "import math\n",
        "n = float(input(\"Enter any number: \"))\n",
        "print (f\"Natural logarithm of {n} is : \", end=\"\")\n",
        "print (math.log(n))"
      ],
      "metadata": {
        "colab": {
          "base_uri": "https://localhost:8080/"
        },
        "id": "_ygTRV7v6v6R",
        "outputId": "8634dc79-6f3a-4355-e0c1-7e73ca009ef8"
      },
      "execution_count": 39,
      "outputs": [
        {
          "output_type": "stream",
          "name": "stdout",
          "text": [
            "Enter any number: 3\n",
            "Natural logarithm of 3.0 is : 1.0986122886681098\n"
          ]
        }
      ]
    },
    {
      "cell_type": "markdown",
      "source": [
        "##5. Write a Python Program for cube sum of first n natural numbers?"
      ],
      "metadata": {
        "id": "bGyeBhWa6cek"
      }
    },
    {
      "cell_type": "code",
      "source": [
        "## ANS\n",
        "n = int(input(\"Enter any natural number: \"))\n",
        "sum = 0\n",
        "for i in range(1, n+1):\n",
        "  sum += i**3\n",
        "print(f\"Cube sum of first {n} natural numbers is: {sum}\")"
      ],
      "metadata": {
        "colab": {
          "base_uri": "https://localhost:8080/"
        },
        "id": "-E4qz6Rq6wsk",
        "outputId": "af68932f-a2e6-434e-ec21-1926688a9d67"
      },
      "execution_count": 40,
      "outputs": [
        {
          "output_type": "stream",
          "name": "stdout",
          "text": [
            "Enter any natural number: 10\n",
            "Cube sum of first 10 natural numbers is: 3025\n"
          ]
        }
      ]
    }
  ]
}