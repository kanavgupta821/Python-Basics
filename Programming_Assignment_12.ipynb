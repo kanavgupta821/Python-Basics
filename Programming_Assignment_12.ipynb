{
  "nbformat": 4,
  "nbformat_minor": 0,
  "metadata": {
    "colab": {
      "provenance": []
    },
    "kernelspec": {
      "name": "python3",
      "display_name": "Python 3"
    },
    "language_info": {
      "name": "python"
    }
  },
  "cells": [
    {
      "cell_type": "markdown",
      "source": [
        "##1. Write a Python program to Extract Unique values dictionary values?"
      ],
      "metadata": {
        "id": "FVv38Pecp9eV"
      }
    },
    {
      "cell_type": "code",
      "source": [
        "## ANS\n",
        "dict1 = {'apple' : [5, 8, 5, 8],\n",
        "         'banana' : [10, 7, 2, 5],\n",
        "         'mango' : [6, 1, 9, 18],\n",
        "         'watermelon' : [1, 4, 4]}\n",
        "x = list()\n",
        "for i in dict1.keys():\n",
        "  x.extend(dict1[i])\n",
        "print(f\"The original dictionary is: {dict1}\")\n",
        "y = set(x)\n",
        "print(f\"Unique values in dictionary values is: {y}\")\n"
      ],
      "metadata": {
        "colab": {
          "base_uri": "https://localhost:8080/"
        },
        "id": "Aq-RVqjB3QK8",
        "outputId": "e200d34f-3c30-4266-ecb0-1aff6d4cd746"
      },
      "execution_count": 35,
      "outputs": [
        {
          "output_type": "stream",
          "name": "stdout",
          "text": [
            "The original dictionary is: {'apple': [5, 8, 5, 8], 'banana': [10, 7, 2, 5], 'mango': [6, 1, 9, 18], 'watermelon': [1, 4, 4]}\n",
            "Unique values in dictionary values is: {1, 2, 4, 5, 6, 7, 8, 9, 10, 18}\n"
          ]
        }
      ]
    },
    {
      "cell_type": "markdown",
      "source": [
        "##2. Write a Python program to find the sum of all items in a dictionary?"
      ],
      "metadata": {
        "id": "Ce79hmOQp9iS"
      }
    },
    {
      "cell_type": "code",
      "source": [
        "dict1 = {'apple' : 50,\n",
        "         'banana' : 60,\n",
        "         'mango' : 70,\n",
        "         'watermelon' : 55}\n",
        "\n",
        "sum = 0\n",
        "for i in dict1.keys():\n",
        "  sum += dict1[i]\n",
        "\n",
        "print(f\"Sum of all items in a dictionary is: {sum}\")"
      ],
      "metadata": {
        "colab": {
          "base_uri": "https://localhost:8080/"
        },
        "id": "7ci1LD2K5YEx",
        "outputId": "9b724853-f0a0-471e-bdbd-3ebd13902686"
      },
      "execution_count": 36,
      "outputs": [
        {
          "output_type": "stream",
          "name": "stdout",
          "text": [
            "Sum of all items in a dictionary is: 235\n"
          ]
        }
      ]
    },
    {
      "cell_type": "markdown",
      "source": [
        "##3. Write a Python program to Merging two Dictionaries?"
      ],
      "metadata": {
        "id": "Ul1PBrPep9ld"
      }
    },
    {
      "cell_type": "code",
      "source": [
        "def merge(dict1, dict2):\n",
        "  return dict1.update(dict2)       ## update function will add dict2 items into dict1 items\n",
        "\n",
        "dict1 = {'apple' : 50,\n",
        "         'banana' : 60,\n",
        "         'mango' : 70,\n",
        "         'watermelon' : 55}\n",
        "\n",
        "dict2 = {'guava': 80,\n",
        "         'kiwi': 120}\n",
        "\n",
        "merge(dict1, dict2)\n",
        "print(f\"Dictionary after merging is: {dict1}\")"
      ],
      "metadata": {
        "colab": {
          "base_uri": "https://localhost:8080/"
        },
        "id": "AhMYlvDs6Pvz",
        "outputId": "94f764ef-7f35-4e95-e5c6-d482fa3f667a"
      },
      "execution_count": 37,
      "outputs": [
        {
          "output_type": "stream",
          "name": "stdout",
          "text": [
            "Dictionary after merging is: {'apple': 50, 'banana': 60, 'mango': 70, 'watermelon': 55, 'guava': 80, 'kiwi': 120}\n"
          ]
        }
      ]
    },
    {
      "cell_type": "markdown",
      "source": [
        "##4. Write a Python program to convert key-values list to flat dictionary?"
      ],
      "metadata": {
        "id": "apz6M_Mep9nn"
      }
    },
    {
      "cell_type": "code",
      "source": [
        "## ANS\n",
        "dict1 = {'month' : [1, 2, 3],\n",
        "         'name' : ['Jan', 'Feb', 'March']}\n",
        "print(f\"Original dictionary is: \")\n",
        "print(dict1)\n",
        "x = list(dict1.values())\n",
        "a = x[0]\n",
        "b = x[1]\n",
        "d = dict()\n",
        "for i in range(0, len(a)):\n",
        "  d[b[i]] = a[i]\n",
        "print(f\"Dictionary after converting key-values list to flat dictionary: \")\n",
        "print(d)"
      ],
      "metadata": {
        "id": "XFYS7ww97dUh",
        "colab": {
          "base_uri": "https://localhost:8080/"
        },
        "outputId": "e7f660ef-179d-4f1e-facc-3a635541025b"
      },
      "execution_count": 38,
      "outputs": [
        {
          "output_type": "stream",
          "name": "stdout",
          "text": [
            "Original dictionary is: \n",
            "{'month': [1, 2, 3], 'name': ['Jan', 'Feb', 'March']}\n",
            "Dictionary after converting key-values list to flat dictionary: \n",
            "{'Jan': 1, 'Feb': 2, 'March': 3}\n"
          ]
        }
      ]
    },
    {
      "cell_type": "markdown",
      "source": [
        "##5. Write a Python program to insertion at the beginning in OrderedDict?"
      ],
      "metadata": {
        "id": "mQwsEDLAp-EC"
      }
    },
    {
      "cell_type": "code",
      "source": [
        "## ANS\n",
        "from collections import OrderedDict\n",
        "dict1 = OrderedDict([('A', '100'), ('B', '200'), ('C', '300')])\n",
        "dict1.update({'D': 500})\n",
        "print(f\"Initial dictionary {dict1}\")\n",
        "dict1.move_to_end('D', last = False)\n",
        "print(f\"Final dictionary: {dict1}\")"
      ],
      "metadata": {
        "colab": {
          "base_uri": "https://localhost:8080/"
        },
        "id": "5pej6E0c9ff7",
        "outputId": "68da69bc-3eb1-4675-9572-903fe483f9eb"
      },
      "execution_count": 39,
      "outputs": [
        {
          "output_type": "stream",
          "name": "stdout",
          "text": [
            "Initial dictionary OrderedDict([('A', '100'), ('B', '200'), ('C', '300'), ('D', 500)])\n",
            "Final dictionary: OrderedDict([('D', 500), ('A', '100'), ('B', '200'), ('C', '300')])\n"
          ]
        }
      ]
    },
    {
      "cell_type": "markdown",
      "source": [
        "##6. Write a Python program to check order of character in string using OrderedDict()?"
      ],
      "metadata": {
        "id": "ZQwGSoY8p-L4"
      }
    },
    {
      "cell_type": "code",
      "source": [
        "## ANS\n",
        "from collections import OrderedDict\n",
        "def order(string, pattern):\n",
        "  x = OrderedDict.fromkeys(string)                         # it stores unique characters from the string inside a dictionary\n",
        "  count = 0\n",
        "  for key,value in x.items():                              # check if we have traverse complete pattern string \n",
        "      if (key == pattern[count]): \n",
        "          count += 1\n",
        "\n",
        "      if (count == (len(pattern))):                        # if we come out from for loop that means order was mismatched \n",
        "          return 'true'\n",
        "\n",
        "  return 'false'\n",
        "\n",
        "result = order('artifical intelligence', 'ne')\n",
        "print(f\"order of characters in a string is same as pattern: {result}\")"
      ],
      "metadata": {
        "id": "Fc-7MP4j_uYY",
        "colab": {
          "base_uri": "https://localhost:8080/"
        },
        "outputId": "d93ddde8-7c04-4ba3-fcfe-a53a5e5d0d03"
      },
      "execution_count": 40,
      "outputs": [
        {
          "output_type": "stream",
          "name": "stdout",
          "text": [
            "order of characters in a string is same as pattern: true\n"
          ]
        }
      ]
    },
    {
      "cell_type": "markdown",
      "source": [
        "##7. Write a Python program to sort Python Dictionaries by Key or Value?"
      ],
      "metadata": {
        "id": "Ce7cqrAhp-cj"
      }
    },
    {
      "cell_type": "code",
      "source": [
        "## ANS\n",
        "from collections import OrderedDict\n",
        "\n",
        "dict1 = {'apple' : 50,\n",
        "         'banana' : 60,\n",
        "         'mango' : 70,\n",
        "         'watermelon' : 55,\n",
        "         'guava': 80,\n",
        "         'kiwi': 120}\n",
        "\n",
        "sorted_dict1 = OrderedDict(sorted(dict1.items()))                           ## returns a dictionary sorted alphabatically by keys\n",
        "print(sorted_dict1) "
      ],
      "metadata": {
        "colab": {
          "base_uri": "https://localhost:8080/"
        },
        "id": "gpG1vGs0hPxz",
        "outputId": "414e376a-0702-4e8a-f75c-973e24d44269"
      },
      "execution_count": 41,
      "outputs": [
        {
          "output_type": "stream",
          "name": "stdout",
          "text": [
            "OrderedDict([('apple', 50), ('banana', 60), ('guava', 80), ('kiwi', 120), ('mango', 70), ('watermelon', 55)])\n"
          ]
        }
      ]
    }
  ]
}