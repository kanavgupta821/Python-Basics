{
  "nbformat": 4,
  "nbformat_minor": 0,
  "metadata": {
    "colab": {
      "provenance": []
    },
    "kernelspec": {
      "name": "python3",
      "display_name": "Python 3"
    },
    "language_info": {
      "name": "python"
    }
  },
  "cells": [
    {
      "cell_type": "markdown",
      "source": [
        "## Q-1 Create a function that takes a list of strings and integers, and filters out the list so that it returns a list of integers only.\n",
        "###Examples\n",
        "###filter_list([1, 2, 3, &quot;a&quot;, &quot;b&quot;, 4]) ➞ [1, 2, 3, 4]\n",
        "###filter_list([&quot;A&quot;, 0, &quot;Edabit&quot;, 1729, &quot;Python&quot;, &quot;1729&quot;]) ➞ [0, 1729]\n",
        "###filter_list([&quot;Nothing&quot;, &quot;here&quot;]) ➞ []"
      ],
      "metadata": {
        "id": "A1rlSB6u-BOr"
      }
    },
    {
      "cell_type": "code",
      "source": [
        "## ANS\n",
        "def filter_list(l1):\n",
        "  l2 = list()\n",
        "  for i in l1:\n",
        "    if type(i) == int:\n",
        "      l2.append(i)\n",
        "  return l2\n",
        "\n",
        "print(f\"filter_list([1, 2, 3, 'a', 'b', 4]) : {filter_list([1, 2, 3, 'a', 'b', 4])}\")\n",
        "print(f\"filter_list(['A', 0, 'Edabit', 1729, 'Python', '1729']) : {filter_list(['A', 0, 'Edabit', 1729, 'Python', '1729'])}\")\n",
        "print(f\"filter_list(['Nothing', 'here']) : {filter_list(['Nothing', 'here'])}\")"
      ],
      "metadata": {
        "colab": {
          "base_uri": "https://localhost:8080/"
        },
        "id": "gU6yElTq-JGZ",
        "outputId": "fc91a68e-286d-4dca-916c-b67b10de69f1"
      },
      "execution_count": 8,
      "outputs": [
        {
          "output_type": "stream",
          "name": "stdout",
          "text": [
            "filter_list([1, 2, 3, 'a', 'b', 4]) : [1, 2, 3, 4]\n",
            "filter_list(['A', 0, 'Edabit', 1729, 'Python', '1729']) : [0, 1729]\n",
            "filter_list(['Nothing', 'here']) : []\n"
          ]
        }
      ]
    },
    {
      "cell_type": "markdown",
      "source": [
        "## Q-2 Given a list of numbers, create a function which returns the list but with each element&#39;s index in the list added to itself. This means you add 0 to the number at index 0, add 1 to thenumber at index 1, etc...\n",
        "###Examples\n",
        "###add_indexes([0, 0, 0, 0, 0]) ➞ [0, 1, 2, 3, 4]\n",
        "###add_indexes([1, 2, 3, 4, 5]) ➞ [1, 3, 5, 7, 9]\n",
        "###add_indexes([5, 4, 3, 2, 1]) ➞ [5, 5, 5, 5, 5]"
      ],
      "metadata": {
        "id": "mGZZ1OH7-9Jf"
      }
    },
    {
      "cell_type": "code",
      "source": [
        "## ANS\n",
        "def add_indexes(l1):\n",
        "  l2 = list()\n",
        "  for i in range(len(l1)):\n",
        "    l2.append(i + l1[i])\n",
        "  return l2\n",
        "\n",
        "print(f\"add_indexes([0, 0, 0, 0, 0]) : {add_indexes([0, 0, 0, 0, 0])}\")\n",
        "print(f\"add_indexes([1, 2, 3, 4, 5]) : {add_indexes([1, 2, 3, 4, 5])}\")\n",
        "print(f\"add_indexes([5, 4, 3, 2, 1]) : {add_indexes([5, 4, 3, 2, 1])}\")"
      ],
      "metadata": {
        "colab": {
          "base_uri": "https://localhost:8080/"
        },
        "id": "OQp5ze0J-8SP",
        "outputId": "8c2f0577-eaea-419c-a373-888ccc0c5eb3"
      },
      "execution_count": 9,
      "outputs": [
        {
          "output_type": "stream",
          "name": "stdout",
          "text": [
            "add_indexes([0, 0, 0, 0, 0]) : [0, 1, 2, 3, 4]\n",
            "add_indexes([1, 2, 3, 4, 5]) : [1, 3, 5, 7, 9]\n",
            "add_indexes([5, 4, 3, 2, 1]) : [5, 5, 5, 5, 5]\n"
          ]
        }
      ]
    },
    {
      "cell_type": "markdown",
      "source": [
        "## Q-3 Create a function that takes the height and radius of a cone as arguments and returns the volume of the cone rounded to the nearest hundredth. See the resources tab for the formula.\n",
        "![Cone_geometry-231x300.png](data:image/png;base64,iVBORw0KGgoAAAANSUhEUgAAAOcAAAEsCAQAAACSpWxoAAAWBElEQVR42u2dd2AUZfqAn/QEQggEQgsBQWqoIh0VFKRKEQKKx3GU0xPr6anneUc58byfnljAgoocAhZQFBQRkAN+KmjQCzWhSkJCMZCQCul7f7AJG7LZzO5O+Wb2e/7Kzs7OzM6Tb3a+d77vff1sNiSWwV+eAqlTInVKpE6J1Cl1WpJzUqd1SGCm1GkdXieBT6ROa3CJYJ5gK5d8SqefVaNCSwlgGivw4/eydZqd05zjBkII9rHWaVGdJyjgBkoYTAbHpE5zk8tKnsLGw7QmkmTKpE4zU04OUcCvwBOsIl/qNDMfEu/wahIfSp3mJYu93Ozwuj/fSp3mZQl3EO3wug6xJEmd5iQZG53xc1gSxSDWSp3m5Bj+tAHAjwX2Zf2AH6RO81FIBq0rX3WtbJ+tSaJI6jQbGexgmpPl09lGhtRpNt6vMUIbSKnUaS7SOUtvh9cnHf6eywtSp7l4genUqXxl43GH95rTgu+lTqsQxlAf6K5YSOfnxNLFxftdacEGqdMc5HKUOIdLbXXqEkyW1GkO0jjCyFrWGchJi3dXLKKznOU8UW1p/Wte30g2qZbWaZGxQmXEs67a0pxqQnN5gPerRHRl6xSQrxjsZGn9aksiuJGN8mIrettcV+vvZgUjLD321hI6lzPAIfB+lZNOloUQznmpU1zOcpbuBFVbXjUqVEFr+rBK6hSX4+TQx431+3GRE1KnqF2UXKLc+kR7QjhKudQpItmsdtLjdM1TrCRX6hSR9Ywk0M3PWPfZp8l1FvAtt9f4bv0a35nDq1KneCxmPI1reM+PV2r8XBdynHZjpE5DySfUxVeouXU2YhjLpU6xSCCY7h5+ticB/CR1ikMxSTSniYefboo/Z6ROcTjDN8x2ucZml+/24oTl5paZWOen3OPyfRtLXb4/ip8tNzrBxDp3V5kn5gnPsEjqFINEOrodPriW1oSTKHWKwDLGE+LlNsIYa7Huikl1bqQVHWpdq36tawQRQKHUaXTw4AjtqVfLWq6iQhV0oZWTMUZSp66c5DDjFKynpHX24TgXpE4jKfX6JugqAzjDaanTSJmvV86rVoNnWWyZzEMm1Lmd9jU+RanKZkVrNbZQMMGEOldyp6L1aosKXWUC70udxrCCQbRUeZuDSCBb6jSCDCK8Dh9cS2sG8G+p04guSoHHTzhd9VBvIJsUqVNfyjmCP5002HIc+aRJnfqSzcc85sb6XdxY93rSKTG9TlNNCPyQfA1TgU/hTRrK1qkfG7hDw63/jmXyYqsfZ4lyMrFIPXqTylmpUy8WM97N2Sju0YixvC516kMioXR06xM23sLXMInOEg7QmBg3P7XFzfX7E8J2qVN7TrNNh/I29YjjEAVSp9bYKFfxGWfN3MkPpp5qbxKdS90KH3jDY6b+xTWFziOU0NmDz3Xx4DMdOC51asur3OPBUxQ//u7BvoLoz1apUzu+IZbrdNtbMEPYYNrBJibQeYL6NNBxf3G0NW0qKeF1ZnKBOF33GEJPTph0/JDwOtNJ83BqkedRoVtIMelgTcF1FvM2z3j86S0ef7IRWdikTrXZQ7TqA72UsIA3TJmsRnCdS/mNIfsNYiifSp3qcolgAgza91C2mbButtA6lzHYkEstQCyDTDj3U2CdqWTRzavWOcGLzwYQIlunetg4SgndvNiCn9PicsoZSK7pyrgKqzOLtbo9RXFOS6JINtn9rbA6y8g1fJjko6w12dwVYXWuYYrXl2vvn1xO5mOpU41L7X6vswZ5ExWqYADfSZ3es4h4IUakh3IdB6RO79hPEO2FqEUUya18KHV6x2FCaSXIsfSiDv8vdXrOZTKJFeZoGtCGJC5LnZ5yht3crcqWJqiylal8zzmp01NWcZ8q2/E2KnSVINPM/BROZxoZVarLi8B8XpI6PeM57iVYsGNqRiu+lTqtQhAjTNJdEUznWjrSXqVtOa8Q6BmdaGeK0QlC6bzICboQptr21Ct8E0aoKfJqCqXzJKcYKuiJ6scZE0y1F0hnEat5RNgT1ZNLnBR+sKZAOstJVZAQ3Djm8pbw/U+BdH7NEKFPVT368JXUqYxSPme0qlv0408qH+NI4fPGC6PzHW6jhcrbHKDy9kKI4Feps3bSOU9XTZNAqUEMNwueKFUQnYcppKcJ+nW9uMQRqdM1ZeRpMJREzahQBW0J57DAc7OF0HmBT3lUk7CE+vyRNQJP5RVC5wZG65I1SA0CKRM4mCCAznx2MRzz8BBLpM6aWcQUIk2kM44CTkidNbfOMFM9do1kDO9Inc75ngiPMnrVjvpRoavtsy67pc7qFHGIlgpLULnPAI22G02woHUdDNaZxndMx3z0IJVcqfNa1qk2eFJfhnNAyESpBuv8kcEabl3Lwc5zFdTu9TGdP9NZwwOwaTq2oRWR/Cx1OrKUyZommtFy7EAQkwTsrhiocz0ddUxsqj6BBAo3FckwnXkcpQPhJtbZgU7CTbU3TOcRUlUeTKJ/67yRU4KNTjBMZ5nmz1C0iwpV0JcLnBJKp0EVAi/zMM/TCLNzgT+zhFBfb5076GgBmdCIbKGefhqkczUTsQZ3strXdb7LUJrrsB89psDfxE8CZQYzROevROowJdemy4yXGG7jbV/WeczDmkXuo8eMEj+6cUmYyki66ywnmVDVpuSKEU4oJsVXdZ7ncx7CWrTlLMW+qXMLN1HXYjpn8ZUgY2911/kl43Tbl35zXmYKMndFZ51naKRb7QU/XtXte/UmnTO+p3MRd1Fft7011W1PkcQLMTpBV50J1Od6JJbQWcI+mtHMoieyFw342pd0prCLGbp+uV067iucOJLJ9x2dNsp1LUFl41+6nsqxJBqeKFVHne/whAAXxSwyNKte9ITh0VvddB7GplOk1jXjGMYOjbbd0fCZZbrpfJEZQswTy6QHozQ7mYMMvh3S6QxvooMBtf70zoQSwDA+MzRzgk46j9OICJ2/mrOo0CkgltPs5RdN9tmeroZmvtVFZwY5dDTgy1WPCs2jnN+wlJE8qMkeg+lBioGTkXTRmUKGZnMt3eVXVjCJNpptfxDnSLWyzkus4EkhVOaQRwEldCOQaM32YuToPh107qEZMYZ8uWujQiv5nHt4jn0E8IJme/0r7xpWl1cHne/wW0O+WvWoUBllPEkwKziq4dCzQIbzmVV1FhAiSF6SJF4nwh5mzGKxhnsaynYKrKnzLUYI8xSlJe/SBmjHKGZpuJ/mDDMo3KfxvJ9fyKeLroH3munMNvtf93O/xuGEUIN+PTVtnTaS8KMTvkdvitlnNZ0ZfKFRd10Zxs3tbkE0yQYUAtBUZ6kmeWqV4mdoIbgH2GBAIR1Nda5VqQ6nObmLNVbSmckhbvFhnYN0Hdyiuc7/Y5ruT1FEIpjrdb8d0kznf6lLW0NPp42Vhu4/nBG6H4FmOg8SoXpdFHf5zOD9dyWKb6yg8xIXDRh9IBqRXE+yrgEFjXSmkcgkJPH8RLr5dX7AHOkSgCBKza7zFBeEqC4vQsa/hbxsdp3zeBA/w0+ksVGhCqJpo9m4Xl37nZIrJ3isjt0VDXR+QC9TJzZVm7b04COz6swkhS4CZakznlDq6jZUU3Wdx8jQNL+7coyOCl3lRi7oVKhDZZ0FrOUBYdrFZ4IcRzdKOKHLYE2VdZaSRjt5fa3G0yzXZTCYyjq3cKt054R69NNlbpm/um3zC8ZId04Zzedm0/kGo3VM/mIugonUYaq9ijpTuUhnoark3i7QsTTldh3qrqio8yDQVaAT6McfhGqf3SjjkFl0lpJPA3lNdUFrIknS+PmKajrPsVE+FKuFB9lAhjl0fskdglWXFycqVIH2Ve1V0pnPbkYI1xo+E+6IHuENM+j8J9NNXU9ML+Io5JgZWmcdAR5Yi084E3lTdJ07iJaRWoV0IIqdIuss5CCtiZKmFBFFHQ0zm6ig8yQ/M1XIU3e7kEfVjdOa1UXyWqeN9UwX8rSJFhWq4DaOaFb1U4XWmSDI6APzsIDXRNW5R6g4rTmIJYo9Yup8Q9DfTZHx426Nwgle6vyEnsJOLbIxV1ihAQRrMhXJK505HKcTdYQ9aQeFPbI29NKkjKtXOg+RIWhnQHQC6cVZDeoieaWzVLBnKGaiF7kapEj2QmcuK3lKevGYp1lBnjg6dxInQ3teEEUO5eLo/JB4wbsD9wkudJLqeeM91vkmYzTM2KwOwwU/vptI5KIYOs/SQPfCFlajKaN5XQSdyQTQQfrw+ucgjjIOG62zjIOEa1jtQB1EjgpV0BZULXTlkc6zfC3ow6eqHDTBMbbmV4qM1fkNgy1XXd4oprNNxbG3HuncyHjpQTVm876ROtOJFiS7uzXozRlOG6fzBaYL/BTFfIQzjReN0rmLaFqbpBtwn8/9a7ips5i9xAofDapguEmOsyst2GCEzuMkco+8PqpMXeI4Qq7+OvWuLu8rjCJJldsht3SWs1yI6vJKyTHRsT7JMhUmC7qlMwk/Q6rkeoaNR02ks5MqYxPc0vkivzfVJSzHVEd7Cxv11PkF3YWp9WdFRrLO66r2bug8ShPqybOuGdfRlxV66TzLJTmHU1OC6M5pL1NJKdZ5nBz6mOr0mC8q1I+LXt4QKRwom8NHPGP41y0jnTKinWZhKGYdn1RbWpFnazKTq7138ZpxOgG0NDyX+pXRff5a69xDDM0N+HrlbCbfQdkOiphDPydrZpDDKre+5k7WVXkdwuDKAue9DBpr8RS/pT+Rnl+RbIr6rlN5Sfe72hO8C9Rz+F+twywNH5vns4zLlXeZ3Q1qn+9Tzu+0bZ0FhGp0GSojC1sNYwIbMgx/+hLmRb+zvhtrh/NIrev8wCs8RDvAj4aahDuH8QzxHv/TKmqd/6QzY1QVWkYCl4Fc1lDOPE3qY9uYyXKVt1lEDks4CgQQTwQQRl9Vz0w56znGk9q1zqMU0km1Q15tT3KfRzkQxUoNQ/rqR4VCiObvAJTyMlmAPztV/RnwJ9ThbkF1nTYOEKpKj/Mcf6acgbQFArnd5IPHAu0PIwrYTBkhKv5T9iSBn7hRG51n2MrzKt2EzwWaW6zGSl3uVHmLTWlGEt0q77JVDSOUqJanNog2tJEFcxRwL1s8jA7VqvNTOfrAAKY6CYmooPMChxVmDSolhV9IYhaT2C7EKRGjQiDANiYxm2R+UZze4iZ2a/HbuZDZivp9e9nPDkoJY6FAM8tEKWw3mIFkMY8i+hJNewUhikA6kEhPdfude9jEvbWW0sjgZcJoxCxC5FWyFtZygiIKeYzGtayZwCoPcoMFum5zUS5k2sjkP6yjAfG0k4XLFREPpHGMv5HNRG6lYY1ZgDsSwyZGqqcznzzauvjoJebSndcIpKGgJ++AkAnmWtKSHpSyjqf4Q439ywjacZib3eydu7jYHmAxb5u4JdiYeM0zE9HIYRN3uXh/Fo8Rp86dbRlrfHBSgL7UdynTk6r2NepMIZte8owbyrMsdnMwWI06Fyh4XCTRlsa0c7OqvaxMLzQT3JzKW8Ot0AqKmG7vRxZQbNLqYie9DiScoZBISighRsfjvkiw/Y62iOXUZZp3rfM8acRVylzBtyb93/Y+KvQWI1hCvM75zXay0h4ODKGeW5kTnOpMIpeBAKznHzRhrM9e7BoQyH+I1fkefzyNWGif8dmDPFK80ZnDBu4DMllPGmN8Oq3Fek7QgZe9GIzl6W/mGFLZQClxwFHFqRid6CzhNG0pYQqpzKK/iedzHlBhG/1YVGt8VX0CGMBsTnIO+BMfKB4m40TnVm4DNjGOh70YRWc8NuZ5uYXtZDHJsEEwYTxCDBDOADZ7qrOUjYxhPSnM8PluwibOc7fhR1HKaMWZE6qF4F9hHHs4xUxZwJHmxAmQHn01/kRwVtGw9Wv6nb+wgjDq8LAFZIgfglfKFMZziIXuX2wTCWWfk+k5EiOJZz9B7HVXZwkZrGYqjSxyGppY5HuMox9rSVDwfKXKxTaF0cxnomUCuSWWyYddzrO8wl5audM6V9KVeAtF5a2T3NyfYbRXkKjGwV0eW7xOtSDRigG0ZIE7Ohdyq2GzGrXhgMWU5nFUuc7+bOVxC31576NCYjGe7iQr1znekOnyEqVMYB/jlOtMp4kcnCD07VAT0pV3VOYwmxssdbG9lSkMtI+13USqw21FN3tHZk1lUbf+9vuGUj52KPQ21n7FuuAwBegOWgCQydrKZWHE2zNwJ7PTviyUyfZlhx1G/DS1P3A84jCTpwkT7H/tYn/l0q72Z8672WdfcopclijvqFgLX8w27dA65zKYITUOspcYf7XZxnfMV6qzhGksN/UTTmtTwCxW1fKEx+Fi6/6Ya4m+1F7NuMpvZ7jq1V4l6vGygkJhVXQ+XsuVWWIkh7nePZ2ydZq/b1rl1t5f/n4Kyjr6KRhRWEVnCyayVLZQAcnjEHEKxhRW0RnEWGJYoTi/hkQfLvFvujPE3YstwDi+V6XejkQ93qGVwoklToJ8f2EpmfIcCkMmh7hZ4bpOJgTaOMg6ZspcJEJwiuVMJE5h8NVJ6/SjKyN4T7ZQAbjAe4yki+JIeg1PVPpyJ8/Je1zD72eXEO9WfYwaH5B1IptFqhXxlbhPOi8R72YimlqTuDVmtoUGOJqFYpZxnlFuJymuJRd8IvvJYY4AE298h3KKWUoDuqqdYhGglK9J4RY6yjaqCyV8yWpmMNyjJqSoUsMGtjCYSfJca84ufiaQ+z3+vMKyOEW8x35mmKwKmdn4ga20ZrIXiWQV6oQCjrGB4bQxIFOA9ckhk3/RhDlenl3FOq+00b8SQnfqeHhllzj/tdzCQQ6xgBiv70/c0gmwn6+wkctQbpMmVOAbthFBb4aqsjW3dQIUksCPJPM0zWQGBQ8pJJdsnqczfemrWtp1j3Re+S29wPPE0o+69JV23ORHEtlBA54mStVENx7rvMJ3bMSfegz1sMiSL7KHbeTRU5OOn5c6AXLZzEGymU8YfgTLcfROsVGMjdc4SBviGKFRUXgVdAJkksoiCgnhPiKIFTbZvzFkkkYOSylmJh2pT5Rme1JJZwWXeZaLtKQhHRSNbbE+2zhGFmk05G861F9TWecVdnCYi5wC4njQZ0W+RjIQSwM6Kiz8JahOgCxOAcf5iBAeowGNNfq1EIti0oEsFlHMVNoArXTN1K2ZziuUU0wR88iiO7EADLFMEipHithCIZDLTiCKBQQTbMDkWY11XmWTfQ5xPmVAEH80aX75a1nMGcCPevgB0cw09Gh001nBf8kGSllLHtCYvxAABBNpEn359kHly0kEYCJRQDB9PKqGa3qdFb2wLMqA8/yDMiCGUZXv9REucFjOj1y2/51gT3U4wz5WoKFQDyMM0nktx1lW+Xc9h9+cQGYb1G4v8q5DDrS8ymzsI7hF4GuHIDod2Uq2Q7vY7jBjJpz5RLj4ZFAteevLKHHxbg7zKah8VZfBlf9WAQw3LIW46XVWvSinOUxRLOAl8l2sPZzeLreWwBYX79bjcXvimCvXhZYmDFcKrtM9Pq6lYtcQyydetpROiczaJnVKpE6J1Clxj/8B54Mby9ZjEE8AAAAASUVORK5CYII=)\n",
        "\n",
        "###Examples\n",
        "###cone_volume(3, 2) ➞ 12.57\n",
        "###cone_volume(15, 6) ➞ 565.49\n",
        "###cone_volume(18, 0) ➞ 0"
      ],
      "metadata": {
        "id": "ZvKBJDLFAGKb"
      }
    },
    {
      "cell_type": "code",
      "source": [
        "## ANS\n",
        "import math\n",
        "def cone_volume(h,r):\n",
        "  volume = (1/3)*math.pi* r**2 * h \n",
        "  return round(volume,2)\n",
        "\n",
        "print(f\"cone_volume(3, 2) : {cone_volume(3, 2)}\")\n",
        "print(f\"cone_volume(15, 6) : {cone_volume(15, 6)}\")\n",
        "print(f\"cone_volume(18, 0) : {cone_volume(18, 0)}\")\n"
      ],
      "metadata": {
        "colab": {
          "base_uri": "https://localhost:8080/"
        },
        "id": "QAjDG_1pAEPj",
        "outputId": "a5b36e32-86ed-47f4-ad96-94fb8032b6c0"
      },
      "execution_count": 10,
      "outputs": [
        {
          "output_type": "stream",
          "name": "stdout",
          "text": [
            "cone_volume(3, 2) : 12.57\n",
            "cone_volume(15, 6) : 565.49\n",
            "cone_volume(18, 0) : 0.0\n"
          ]
        }
      ]
    },
    {
      "cell_type": "markdown",
      "source": [
        "## Q-4 This Triangular Number Sequence is generated from a pattern of dots that form a triangle. The first 5 numbers of the sequence, or dots, are:\n",
        "### 1, 3, 6, 10, 15\n",
        "###This means that the first triangle has just one dot, the second one has three dots, the third one has 6 dots and so on.\n",
        "###Write a function that gives the number of dots with its corresponding triangle number of the sequence.\n",
        "###Examples\n",
        "###triangle(1) ➞ 1\n",
        "###triangle(6) ➞ 21\n",
        "###triangle(215) ➞ 23220"
      ],
      "metadata": {
        "id": "coHbzh_1ZkEu"
      }
    },
    {
      "cell_type": "code",
      "source": [
        "# ANS\n",
        "def triangle(n):\n",
        "  return n*(n+1)*0.5            ## formula for number of dots comes out to be n*(n+1)/2\n",
        "print(f\"triangle(6) : {triangle(6)}\")\n",
        "print(f\"triangle(1) : {triangle(1)}\")\n",
        "print(f\"triangle(215) : {triangle(215)}\")  "
      ],
      "metadata": {
        "colab": {
          "base_uri": "https://localhost:8080/"
        },
        "id": "I04QNxuoA_90",
        "outputId": "a23cf551-cb29-4a1d-a183-4c826ab9b29a"
      },
      "execution_count": 11,
      "outputs": [
        {
          "output_type": "stream",
          "name": "stdout",
          "text": [
            "triangle(6) : 21.0\n",
            "triangle(1) : 1.0\n",
            "triangle(215) : 23220.0\n"
          ]
        }
      ]
    },
    {
      "cell_type": "markdown",
      "source": [
        "## Q-5 Create a function that takes a list of numbers between 1 and 10 (excluding one number) and returns the missing number.\n",
        "###Examples\n",
        "###missing_num([1, 2, 3, 4, 6, 7, 8, 9, 10]) ➞ 5\n",
        "###missing_num([7, 2, 3, 6, 5, 9, 1, 4, 8]) ➞ 10\n",
        "###missing_num([10, 5, 1, 2, 4, 6, 8, 3, 9]) ➞ 7"
      ],
      "metadata": {
        "id": "HEdrKfqYcQjo"
      }
    },
    {
      "cell_type": "code",
      "source": [
        "## ANS\n",
        "def missing_num(l1):\n",
        "  for i in range(1,11):\n",
        "    if i not in l1:\n",
        "      return i\n",
        "\n",
        "print(f\"missing_num([1, 2, 3, 4, 6, 7, 8, 9, 10]) : {missing_num([1, 2, 3, 4, 6, 7, 8, 9, 10])}\")\n",
        "print(f\"missing_num([7, 2, 3, 6, 5, 9, 1, 4, 8]) : {missing_num([7, 2, 3, 6, 5, 9, 1, 4, 8])}\")\n",
        "print(f\"missing_num([10, 5, 1, 2, 4, 6, 8, 3, 9]) : {missing_num([10, 5, 1, 2, 4, 6, 8, 3, 9])}\")"
      ],
      "metadata": {
        "colab": {
          "base_uri": "https://localhost:8080/"
        },
        "id": "NZmk6sqUap6R",
        "outputId": "50ca205f-680b-4349-cb4c-f9e1cd116fbd"
      },
      "execution_count": 12,
      "outputs": [
        {
          "output_type": "stream",
          "name": "stdout",
          "text": [
            "missing_num([1, 2, 3, 4, 6, 7, 8, 9, 10]) : 5\n",
            "missing_num([7, 2, 3, 6, 5, 9, 1, 4, 8]) : 10\n",
            "missing_num([10, 5, 1, 2, 4, 6, 8, 3, 9]) : 7\n"
          ]
        }
      ]
    }
  ]
}