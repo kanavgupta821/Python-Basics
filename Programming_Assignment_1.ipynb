{
  "nbformat": 4,
  "nbformat_minor": 0,
  "metadata": {
    "colab": {
      "provenance": []
    },
    "kernelspec": {
      "name": "python3",
      "display_name": "Python 3"
    },
    "language_info": {
      "name": "python"
    }
  },
  "cells": [
    {
      "cell_type": "markdown",
      "source": [
        "## 1. Write a Python program to print &quot;Hello Python&quot;?"
      ],
      "metadata": {
        "id": "QxQZT9t2-NFg"
      }
    },
    {
      "cell_type": "code",
      "source": [
        "## ANS\n",
        "print(\"Hello Python\")"
      ],
      "metadata": {
        "colab": {
          "base_uri": "https://localhost:8080/"
        },
        "id": "dcq38NJn-gPt",
        "outputId": "5968c6dd-5106-4e35-e31a-69b8f80f0225"
      },
      "execution_count": 9,
      "outputs": [
        {
          "output_type": "stream",
          "name": "stdout",
          "text": [
            "Hello Python\n"
          ]
        }
      ]
    },
    {
      "cell_type": "markdown",
      "source": [
        "##2. Write a Python program to do arithmetical operations addition and division.?"
      ],
      "metadata": {
        "id": "k7LQhPAB-M24"
      }
    },
    {
      "cell_type": "code",
      "source": [
        "## ANS\n",
        "a = 20\n",
        "b = 10\n",
        "print(f\"Addition of a and b: {a+b}\")\n",
        "print(f\"Division of a by b: {a/b}\")"
      ],
      "metadata": {
        "colab": {
          "base_uri": "https://localhost:8080/"
        },
        "id": "I3eOnZ5c-wwF",
        "outputId": "4a361d00-a3ba-4fea-a8ca-eecf2c69ab54"
      },
      "execution_count": 10,
      "outputs": [
        {
          "output_type": "stream",
          "name": "stdout",
          "text": [
            "Addition of a and b: 30\n",
            "Division of a by b: 2.0\n"
          ]
        }
      ]
    },
    {
      "cell_type": "markdown",
      "source": [
        "##3. Write a Python program to find the area of a triangle?"
      ],
      "metadata": {
        "id": "6nhqVOja-Mx1"
      }
    },
    {
      "cell_type": "code",
      "source": [
        "## ANS\n",
        "height = int(input(\"Enter the height of a triangle: \"))\n",
        "base = int(input(\"Enter the base of a triangle: \"))\n",
        "area = (height*base)/2\n",
        "print(f\"Area of a triangle: {area}\")"
      ],
      "metadata": {
        "colab": {
          "base_uri": "https://localhost:8080/"
        },
        "id": "vcJPnZO-_PWR",
        "outputId": "1bafed17-0dad-47b1-d5be-1d9dbfa5a9a1"
      },
      "execution_count": 11,
      "outputs": [
        {
          "output_type": "stream",
          "name": "stdout",
          "text": [
            "Enter the height of a triangle: 5\n",
            "Enter the base of a triangle: 12\n",
            "Area of a triangle: 30.0\n"
          ]
        }
      ]
    },
    {
      "cell_type": "markdown",
      "source": [
        "##4. Write a Python program to swap two variables?"
      ],
      "metadata": {
        "id": "xfkr6VHM-Ms6"
      }
    },
    {
      "cell_type": "code",
      "source": [
        "## ANS\n",
        "x = 2\n",
        "y = 6\n",
        "\n",
        "temp = x\n",
        "x = y\n",
        "y = temp\n",
        "\n",
        "print(f\"The value of x after swapping is: {x}\")\n",
        "print(f\"The value of y after swapping is: {y}\")"
      ],
      "metadata": {
        "colab": {
          "base_uri": "https://localhost:8080/"
        },
        "id": "gS7SEibX__Cq",
        "outputId": "15e1e264-c86c-48aa-e5a9-9aeefdec1b28"
      },
      "execution_count": 12,
      "outputs": [
        {
          "output_type": "stream",
          "name": "stdout",
          "text": [
            "The value of x after swapping is: 6\n",
            "The value of y after swapping is: 2\n"
          ]
        }
      ]
    },
    {
      "cell_type": "markdown",
      "source": [
        "##5. Write a Python program to generate a random number?"
      ],
      "metadata": {
        "id": "nAH9JS1A-MEl"
      }
    },
    {
      "cell_type": "code",
      "source": [
        "## ANS12\n",
        "\n",
        "import random\n",
        "a = random.randint(0,100)                   ## stores random value between 0 - 100 in a\n",
        "print(f\"Random Number is: {a}\")"
      ],
      "metadata": {
        "colab": {
          "base_uri": "https://localhost:8080/"
        },
        "id": "WsLZ1t_HAm0M",
        "outputId": "14a3815d-9843-4852-a218-06359ab2e6bd"
      },
      "execution_count": 13,
      "outputs": [
        {
          "output_type": "stream",
          "name": "stdout",
          "text": [
            "Random Number is: 94\n"
          ]
        }
      ]
    }
  ]
}