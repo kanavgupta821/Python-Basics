{
  "nbformat": 4,
  "nbformat_minor": 0,
  "metadata": {
    "colab": {
      "provenance": []
    },
    "kernelspec": {
      "name": "python3",
      "display_name": "Python 3"
    },
    "language_info": {
      "name": "python"
    }
  },
  "cells": [
    {
      "cell_type": "markdown",
      "source": [
        "## Q-1 Define a class with a generator which can iterate the numbers, which are divisible by 7, between a given range 0 and n."
      ],
      "metadata": {
        "id": "9PVEuMuZgU5s"
      }
    },
    {
      "cell_type": "code",
      "source": [
        "## ANS\n",
        "class gen:                          \n",
        "  def __init__ (self, n):            \n",
        "    self.n = n\n",
        "  def generator(self):               \n",
        "    for i in range(0,self.n):\n",
        "      if i%7==0:\n",
        "        yield i\n",
        "gen1 = gen(100)\n",
        "\n",
        "for x in gen1.generator():\n",
        "  print(x)"
      ],
      "metadata": {
        "colab": {
          "base_uri": "https://localhost:8080/"
        },
        "id": "h0ZTRbV3ga-9",
        "outputId": "0c85de59-2de5-4f8f-adfc-a141229dfff0"
      },
      "execution_count": null,
      "outputs": [
        {
          "output_type": "stream",
          "name": "stdout",
          "text": [
            "0\n",
            "7\n",
            "14\n",
            "21\n",
            "28\n",
            "35\n",
            "42\n",
            "49\n",
            "56\n",
            "63\n",
            "70\n",
            "77\n",
            "84\n",
            "91\n",
            "98\n"
          ]
        }
      ]
    },
    {
      "cell_type": "markdown",
      "source": [
        "## Q-2 Write a program to compute the frequency of the words from the input. The output should output after sorting the key alphanumerically.\n",
        "###Suppose the following input is supplied to the program:\n",
        "###New to Python or choosing between Python 2 and Python 3? Read Python 2 or Python 3.\n",
        "### Then, the output should be:\n",
        "####2:2\n",
        "####3.:1\n",
        "####3?:1\n",
        "####New:1\n",
        "####Python:5\n",
        "####Read:1\n",
        "####and:1\n",
        "####between:1\n",
        "####choosing:1\n",
        "####or:2\n",
        "####to:1"
      ],
      "metadata": {
        "id": "by9gGfYNoDzc"
      }
    },
    {
      "cell_type": "code",
      "source": [
        "d=dict()\n",
        "s=input(\"Enter the string: \")\n",
        "for i in s.split():\n",
        "   d[i]=d.get(i,0)+1\n",
        "print(sorted(d.items()))\n",
        "for i in sorted(d.items()):\n",
        "  print(f\"{i[0]} : {i[1]}\")"
      ],
      "metadata": {
        "colab": {
          "base_uri": "https://localhost:8080/"
        },
        "id": "JB8o0uxBqy76",
        "outputId": "7f5dad7b-a02f-492f-84b5-7b7ae2194980"
      },
      "execution_count": null,
      "outputs": [
        {
          "output_type": "stream",
          "name": "stdout",
          "text": [
            "Enter the string: New to Python or choosing between Python 2 and Python 3? Read Python 2 or Python 3.\n",
            "[('2', 2), ('3.', 1), ('3?', 1), ('New', 1), ('Python', 5), ('Read', 1), ('and', 1), ('between', 1), ('choosing', 1), ('or', 2), ('to', 1)]\n",
            "2 : 2\n",
            "3. : 1\n",
            "3? : 1\n",
            "New : 1\n",
            "Python : 5\n",
            "Read : 1\n",
            "and : 1\n",
            "between : 1\n",
            "choosing : 1\n",
            "or : 2\n",
            "to : 1\n"
          ]
        }
      ]
    },
    {
      "cell_type": "markdown",
      "source": [
        "## Q-3 Define a class Person and its two child classes: Male and Female. All classes have a method &quot;getGender&quot; which can print &quot;Male&quot; for Male class and &quot;Female&quot; for Female class."
      ],
      "metadata": {
        "id": "1dQAlw8MSXMS"
      }
    },
    {
      "cell_type": "code",
      "source": [
        "## ANS\n",
        "class Person():\n",
        "    def __init__(self,gender):\n",
        "      self.gender = gender\n",
        "    def getGender(self):\n",
        "      return self.gender\n",
        "\n",
        "\n",
        "class Male(Person):\n",
        "    def __init__(self,gender):\n",
        "      super().__init__(gender)\n",
        "\n",
        "class Female(Person):\n",
        "    def __init__(self, gender):\n",
        "      super().__init__(gender)\n",
        "\n",
        "david = Male('MALE')\n",
        "sasha = Female('FEMALE')\n",
        "print(david.getGender())\n",
        "print(sasha.getGender())"
      ],
      "metadata": {
        "id": "v2L5BQA3rpHE",
        "colab": {
          "base_uri": "https://localhost:8080/"
        },
        "outputId": "494b98be-4df5-4b4b-ad1b-a6bf663d53b7"
      },
      "execution_count": null,
      "outputs": [
        {
          "output_type": "stream",
          "name": "stdout",
          "text": [
            "MALEMALE\n",
            "FEMALEFEMALE\n"
          ]
        }
      ]
    },
    {
      "cell_type": "markdown",
      "source": [
        "## Q-4 Please write a program to generate all sentences where subject is in [&quot;I&quot;, &quot;You&quot;] and verb is in [&quot;Play&quot;, &quot;Love&quot;] and the object is in [&quot;Hockey&quot;,&quot;Football&quot;]."
      ],
      "metadata": {
        "id": "-To6yRadXqaz"
      }
    },
    {
      "cell_type": "code",
      "source": [
        "## ANS\n",
        "Subject = [\"I\", \"You\"]\n",
        "Verb = [\"Play\", \"Love\"]\n",
        "Object = [\"Hockey\", \"Football\"]\n",
        "sentence = list()\n",
        "for i in Subject:\n",
        "  for j in Verb:\n",
        "    for k in Object:\n",
        "      sentence.append(i+' '+j+' '+k)\n",
        "\n",
        "print(sentence)\n",
        "for s in sentence:\n",
        "  print(s)"
      ],
      "metadata": {
        "colab": {
          "base_uri": "https://localhost:8080/"
        },
        "id": "UJhLjQhPUFEB",
        "outputId": "4ae48f9a-7c36-4d81-fe8f-5c72d9d923be"
      },
      "execution_count": null,
      "outputs": [
        {
          "output_type": "stream",
          "name": "stdout",
          "text": [
            "['I Play Hockey', 'I Play Football', 'I Love Hockey', 'I Love Football', 'You Play Hockey', 'You Play Football', 'You Love Hockey', 'You Love Football']\n",
            "I Play Hockey\n",
            "I Play Football\n",
            "I Love Hockey\n",
            "I Love Football\n",
            "You Play Hockey\n",
            "You Play Football\n",
            "You Love Hockey\n",
            "You Love Football\n"
          ]
        }
      ]
    },
    {
      "cell_type": "markdown",
      "source": [
        "## Q-5 Please write a program to compress and decompress the string &quot;hello world!hello world!hello world!hello world!&quot;."
      ],
      "metadata": {
        "id": "jpJi1Oo7chUI"
      }
    },
    {
      "cell_type": "code",
      "source": [
        "## ANS\n",
        "import zlib\n",
        "string = \"hello world!hello world!hello world!hello world!\"\n",
        "x = bytes(string, 'utf-8')\n",
        "compressed_string = zlib.compress(x)\n",
        "print(f\"compressed string: {compressed_string}\")\n",
        "print(f\"string after decompression: {zlib.decompress(compressed_string)}\")"
      ],
      "metadata": {
        "id": "FhWTXQsocNHZ",
        "colab": {
          "base_uri": "https://localhost:8080/"
        },
        "outputId": "30f0e782-6f20-4296-ce9e-fd3152774460"
      },
      "execution_count": 7,
      "outputs": [
        {
          "output_type": "stream",
          "name": "stdout",
          "text": [
            "compressed string: b'x\\x9c\\xcbH\\xcd\\xc9\\xc9W(\\xcf/\\xcaIQ\\xcc \\x82\\r\\x00\\xbd[\\x11\\xf5'\n",
            "string after decompression: b'hello world!hello world!hello world!hello world!'\n"
          ]
        }
      ]
    },
    {
      "cell_type": "markdown",
      "source": [
        "## Q-6 Please write a binary search function which searches an item in a sorted list. The function should return the index of element to be searched in the list."
      ],
      "metadata": {
        "id": "MxA78z7PTc8F"
      }
    },
    {
      "cell_type": "code",
      "source": [
        "## ANS\n",
        "list1 = [2,1,3,5,6,6,7,3,2,3,45,23,34,66,22]\n",
        "def binary_search(list1, ele):\n",
        "  list1.sort()\n",
        "  lower = 0\n",
        "  upper = len(list1)\n",
        "  while lower < upper:\n",
        "    x = (lower + upper)//2\n",
        "    value = list1[x]\n",
        "    if value == ele:\n",
        "      return x\n",
        "    elif value > ele:\n",
        "      upper = x\n",
        "    elif value < ele:\n",
        "      lower = x\n",
        "\n",
        "print(f\"Index of element to be searched is: {binary_search(list1, 45)}\")\n",
        "print(f\"Element at {binary_search(list1, 45)} index is: {list1[binary_search(list1, 45)]}\")"
      ],
      "metadata": {
        "colab": {
          "base_uri": "https://localhost:8080/"
        },
        "id": "8ZfzZ0gwR5l1",
        "outputId": "d0e2437f-e1e5-4c77-d49a-96de53b1d537"
      },
      "execution_count": 17,
      "outputs": [
        {
          "output_type": "stream",
          "name": "stdout",
          "text": [
            "Index of element to be searched is: 13\n",
            "Element at 13 index is: 45\n"
          ]
        }
      ]
    }
  ]
}