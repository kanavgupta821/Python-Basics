{
  "nbformat": 4,
  "nbformat_minor": 0,
  "metadata": {
    "colab": {
      "provenance": []
    },
    "kernelspec": {
      "name": "python3",
      "display_name": "Python 3"
    },
    "language_info": {
      "name": "python"
    }
  },
  "cells": [
    {
      "cell_type": "markdown",
      "source": [
        "## Q-1 Create a function that takes a list of non-negative integers and strings and return a new list without the strings.\n",
        "###Examples\n",
        "###filter_list([1, 2, &quot;a&quot;, &quot;b&quot;]) ➞ [1, 2]\n",
        "###filter_list([1, &quot;a&quot;, &quot;b&quot;, 0, 15]) ➞ [1, 0, 15]\n",
        "###filter_list([1, 2, &quot;aasf&quot;, &quot;1&quot;, &quot;123&quot;, 123]) ➞ [1, 2, 123]"
      ],
      "metadata": {
        "id": "_ywQHpq6j4Ur"
      }
    },
    {
      "cell_type": "code",
      "source": [
        "## ANS\n",
        "def filter_list(l1):\n",
        "  new_list = list()\n",
        "  for i in l1:\n",
        "    if type(i)==int:\n",
        "      new_list.append(i)\n",
        "  return new_list\n",
        "\n",
        "x = filter_list([1, 2, \"a\", \"b\"])\n",
        "print(f\"filter_list([1, 2, 'a', 'b']) : {x}\")\n",
        "y = filter_list([1, \"a\", \"b\", 0, 15])\n",
        "print(f\"filter_list([1, 'a', 'b', 0, 15]) : {y}\")\n",
        "z = filter_list([1, 2, \"aasf\", \"1\", \"123\", 123])\n",
        "print(f\"filter_list([1, 2, 'aasf'', '1', '123', 123]) : {z}\")"
      ],
      "metadata": {
        "colab": {
          "base_uri": "https://localhost:8080/"
        },
        "id": "zJTBavohkE3u",
        "outputId": "8b2e3491-a32a-4a23-ae5e-e566e0b30a44"
      },
      "execution_count": 2,
      "outputs": [
        {
          "output_type": "stream",
          "name": "stdout",
          "text": [
            "filter_list([1, 2, 'a', 'b']) : [1, 2]\n",
            "filter_list([1, 'a', 'b', 0, 15]) : [1, 0, 15]\n",
            "filter_list([1, 2, 'aasf'', '1', '123', 123]) : [1, 2, 123]\n"
          ]
        }
      ]
    },
    {
      "cell_type": "markdown",
      "source": [
        "## Q-2 The &quot;Reverser&quot; takes a string as input and returns that string in reverse order, with the opposite case.\n",
        "###Examples\n",
        "###reverse(&quot;Hello World&quot;) ➞ &quot;DLROw OLLEh&quot;\n",
        "###reverse(&quot;ReVeRsE&quot;) ➞ &quot;eSrEvEr&quot;\n",
        "###reverse(&quot;Radar&quot;) ➞ &quot;RADAr&quot;"
      ],
      "metadata": {
        "id": "Uff38IAAlXr4"
      }
    },
    {
      "cell_type": "code",
      "source": [
        "## ANS\n",
        "def reverse(string):\n",
        "  x = string.swapcase()\n",
        "  y = x[::-1]\n",
        "  return y\n",
        "x = reverse(\"Hello World\")\n",
        "print(f\"reverse('Hello World') : {x}\")\n",
        "y = reverse(\"ReVeRsE\") \n",
        "print(f\"reverse('ReVeRsE') : {y}\")\n",
        "z = reverse(\"Radar\")\n",
        "print(f\"reverse('Radar') : {z}\")"
      ],
      "metadata": {
        "colab": {
          "base_uri": "https://localhost:8080/"
        },
        "id": "b-YGEZAXkuwi",
        "outputId": "1cada759-5b30-4bf5-ead9-6ef182b4f648"
      },
      "execution_count": 4,
      "outputs": [
        {
          "output_type": "stream",
          "name": "stdout",
          "text": [
            "reverse('Hello World') : DLROw OLLEh\n",
            "reverse('ReVeRsE') : eSrEvEr\n",
            "reverse('Radar') : RADAr\n"
          ]
        }
      ]
    },
    {
      "cell_type": "markdown",
      "source": [
        "## Q-3 You can assign variables from lists like this:\n",
        "###lst = [1, 2, 3, 4, 5, 6]\n",
        "###first = lst[0]\n",
        "###middle = lst[1:-1]\n",
        "###last = lst[-1]\n",
        "###print(first) ➞ outputs 1\n",
        "###print(middle) ➞ outputs [2, 3, 4, 5]\n",
        "###print(last) ➞ outputs 6\n",
        "##With Python 3, you can assign variables from lists in a much more succinct way. Create variables first, middle and last from the given list using destructuring assignment\n",
        "###(check the Resources tab for some examples), where:\n",
        "###first ➞ 1\n",
        "###middle ➞ [2, 3, 4, 5]\n",
        "###last ➞ 6\n",
        "##Your task is to unpack the list writeyourcodehere into three variables, being first, middle, and last, with middle being everything in between the first and last element. Then print all three variables."
      ],
      "metadata": {
        "id": "APBLUx-img2C"
      }
    },
    {
      "cell_type": "code",
      "source": [
        "## ANS\n",
        "list1 = [1, 2, 3, 4, 5, 6]\n",
        "first, *middle, last = list1\n",
        "print(f\"first: {first}\")\n",
        "print(f\"middle: {middle}\")\n",
        "print(f\"last: {last}\")"
      ],
      "metadata": {
        "colab": {
          "base_uri": "https://localhost:8080/"
        },
        "id": "3_0le9PfmGQM",
        "outputId": "a902e558-5e10-40e9-aa06-b13ec934ca59"
      },
      "execution_count": 8,
      "outputs": [
        {
          "output_type": "stream",
          "name": "stdout",
          "text": [
            "first: 1\n",
            "middle: [2, 3, 4, 5]\n",
            "last: 6\n"
          ]
        }
      ]
    },
    {
      "cell_type": "markdown",
      "source": [
        "## Q-4 Write a function that calculates the factorial of a number recursively.\n",
        "###Examples\n",
        "###factorial(5) ➞ 120\n",
        "###factorial(3) ➞ 6\n",
        "###factorial(1) ➞ 1\n",
        "###factorial(0) ➞ 1"
      ],
      "metadata": {
        "id": "yxsutp_Ypvkd"
      }
    },
    {
      "cell_type": "code",
      "source": [
        "## ANS \n",
        "def factorial(n):\n",
        "  if n==0 or n==1:\n",
        "    return 1\n",
        "  else:\n",
        "    return n*factorial(n-1)\n",
        "\n",
        "x = factorial(5)\n",
        "print(f\"factorial(5): {x}\")\n",
        "y = factorial(3)\n",
        "print(f\"factorial(3): {y}\")\n",
        "z = factorial(1)\n",
        "print(f\"factorial(1): {z}\")\n",
        "p = factorial(0)\n",
        "print(f\"factorial(0): {p}\")"
      ],
      "metadata": {
        "colab": {
          "base_uri": "https://localhost:8080/"
        },
        "id": "3ko3byZkpnQq",
        "outputId": "70541304-d7f2-4a8e-effe-390656279ae3"
      },
      "execution_count": 9,
      "outputs": [
        {
          "output_type": "stream",
          "name": "stdout",
          "text": [
            "factorial(5): 120\n",
            "factorial(3): 6\n",
            "factorial(1): 1\n",
            "factorial(0): 1\n"
          ]
        }
      ]
    },
    {
      "cell_type": "markdown",
      "source": [
        "## Q-5 Write a function that moves all elements of one type to the end of the list.\n",
        "###Examples\n",
        "###move_to_end([1, 3, 2, 4, 4, 1], 1) ➞ [3, 2, 4, 4, 1, 1]\n",
        "### Move all the 1s to the end of the array.\n",
        "###move_to_end([7, 8, 9, 1, 2, 3, 4], 9) ➞ [7, 8, 1, 2, 3, 4, 9]\n",
        "###move_to_end([&quot;a&quot;, &quot;a&quot;, &quot;a&quot;, &quot;b&quot;], &quot;a&quot;) ➞ [&quot;b&quot;, &quot;a&quot;, &quot;a&quot;, &quot;a&quot;]"
      ],
      "metadata": {
        "id": "Pu6riiK8quBA"
      }
    },
    {
      "cell_type": "code",
      "source": [
        "## ANS\n",
        "def move_to_end(l1,n):\n",
        "  l2 = list()\n",
        "  for i in l1:\n",
        "    if i != n:\n",
        "      l2.append(i)\n",
        "  for j in l1:\n",
        "    if j == n:\n",
        "      l2.append(j)\n",
        "  return l2\n",
        "\n",
        "x = move_to_end([1, 3, 2, 4, 4, 1], 1) \n",
        "print(f\"move_to_end([1, 3, 2, 4, 4, 1], 1) : {x}\")\n",
        "y = move_to_end([7, 8, 9, 1, 2, 3, 4], 9)\n",
        "print(f\"move_to_end([7, 8, 9, 1, 2, 3, 4], 9) : {y}\")\n",
        "z = move_to_end([\"a\", \"a\", \"a\", \"b\"], \"a\")\n",
        "print(f\"move_to_end(['a', 'a', 'a', 'b'], 'a') : {z}\")\n"
      ],
      "metadata": {
        "colab": {
          "base_uri": "https://localhost:8080/"
        },
        "id": "QB_Go_UoqsKX",
        "outputId": "cac36731-72b4-4627-8504-f65d85212dac"
      },
      "execution_count": 11,
      "outputs": [
        {
          "output_type": "stream",
          "name": "stdout",
          "text": [
            "move_to_end([1, 3, 2, 4, 4, 1], 1) : [3, 2, 4, 4, 1, 1]\n",
            "move_to_end([7, 8, 9, 1, 2, 3, 4], 9) : [7, 8, 1, 2, 3, 4, 9]\n",
            "move_to_end(['a', 'a', 'a', 'b'], 'a') : ['b', 'a', 'a', 'a']\n"
          ]
        }
      ]
    }
  ]
}