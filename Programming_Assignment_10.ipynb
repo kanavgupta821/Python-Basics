{
  "nbformat": 4,
  "nbformat_minor": 0,
  "metadata": {
    "colab": {
      "provenance": []
    },
    "kernelspec": {
      "name": "python3",
      "display_name": "Python 3"
    },
    "language_info": {
      "name": "python"
    }
  },
  "cells": [
    {
      "cell_type": "markdown",
      "source": [
        "## 1. Write a Python program to find sum of elements in list?"
      ],
      "metadata": {
        "id": "PQlI5A28P7ug"
      }
    },
    {
      "cell_type": "code",
      "source": [
        "## ANS\n",
        "n = int(input(\"Enter the number of values in the list: \"))\n",
        "list1 = list()\n",
        "for i in range(n):\n",
        "  y = float(input(f\"Enter the value at {i} index: \"))\n",
        "  list1.append(y)\n",
        "print(list1)\n",
        "sum = 0\n",
        "for elements in list1:\n",
        "  sum += elements\n",
        "print(f\"Sum of list is: {sum}\")"
      ],
      "metadata": {
        "colab": {
          "base_uri": "https://localhost:8080/"
        },
        "id": "JZXeEuZNQjCM",
        "outputId": "ff719218-4613-4460-f4f6-02343bbad17a"
      },
      "execution_count": 9,
      "outputs": [
        {
          "output_type": "stream",
          "name": "stdout",
          "text": [
            "Enter the number of values in the list: 3\n",
            "Enter the value: 25\n",
            "Enter the value: 25\n",
            "Enter the value: 25\n",
            "[25.0, 25.0, 25.0]\n",
            "Sum of list is: 75.0\n"
          ]
        }
      ]
    },
    {
      "cell_type": "markdown",
      "source": [
        "##2. Write a Python program to Multiply all numbers in the list?"
      ],
      "metadata": {
        "id": "V7kFlqRnP71w"
      }
    },
    {
      "cell_type": "code",
      "source": [
        "## ANS\n",
        "n = int(input(\"Enter the number of values in the list: \"))\n",
        "list1 = list()\n",
        "for i in range(n):\n",
        "  y = float(input(f\"Enter the value at {i} index: \"))\n",
        "  list1.append(y)\n",
        "print(list1)\n",
        "product = 1\n",
        "for elements in list1:\n",
        "  product *= elements\n",
        "print(f\"Product of list is: {product}\")"
      ],
      "metadata": {
        "colab": {
          "base_uri": "https://localhost:8080/"
        },
        "id": "AZYa5TNgTJO5",
        "outputId": "0d75127e-9847-4dbc-f342-104d5198cd60"
      },
      "execution_count": 10,
      "outputs": [
        {
          "output_type": "stream",
          "name": "stdout",
          "text": [
            "Enter the number of values in the list: 3\n",
            "Enter the value: 2\n",
            "Enter the value: 3\n",
            "Enter the value: 6\n",
            "[2.0, 3.0, 6.0]\n",
            "Product of list is: 36.0\n"
          ]
        }
      ]
    },
    {
      "cell_type": "markdown",
      "source": [
        "##3. Write a Python program to find smallest number in a list?"
      ],
      "metadata": {
        "id": "rlQ976EZP76E"
      }
    },
    {
      "cell_type": "code",
      "source": [
        "## ANS\n",
        "n = int(input(\"Enter the number of values in the list: \"))\n",
        "list1 = list()\n",
        "for i in range(n):\n",
        "  y = float(input(f\"Enter the value at {i} index: \"))\n",
        "  list1.append(y)\n",
        "print(list1)\n",
        "sort_list =sorted(list1)\n",
        "print(f\"sorted list: {sort_list}\")\n",
        "print(f\"Smallest value in the list is: {sort_list[0]}\")"
      ],
      "metadata": {
        "colab": {
          "base_uri": "https://localhost:8080/"
        },
        "id": "RbfgB7mxT6RC",
        "outputId": "be4d06a0-b386-42c5-d7c5-01997f42e4f5"
      },
      "execution_count": 16,
      "outputs": [
        {
          "output_type": "stream",
          "name": "stdout",
          "text": [
            "Enter the number of values in the list: 4\n",
            "Enter the value at 0 index: 2\n",
            "Enter the value at 1 index: 1\n",
            "Enter the value at 2 index: 9\n",
            "Enter the value at 3 index: 5\n",
            "[2.0, 1.0, 9.0, 5.0]\n",
            "sorted list: [1.0, 2.0, 5.0, 9.0]\n",
            "Smallest value in the list is: 1.0\n"
          ]
        }
      ]
    },
    {
      "cell_type": "markdown",
      "source": [
        "##4. Write a Python program to find largest number in a list?"
      ],
      "metadata": {
        "id": "89Sdoq38P7-w"
      }
    },
    {
      "cell_type": "code",
      "source": [
        "## ANS\n",
        "n = int(input(\"Enter the number of values in the list: \"))\n",
        "list1 = list()\n",
        "for i in range(n):\n",
        "  y = float(input(f\"Enter the value at {i} index: \"))\n",
        "  list1.append(y)\n",
        "print(list1)\n",
        "print(f\"Largest number in the list is: {max(list1)}\")"
      ],
      "metadata": {
        "colab": {
          "base_uri": "https://localhost:8080/"
        },
        "id": "iu8tc7LxVR-A",
        "outputId": "bbee04c8-dbdd-4321-8ed0-7bd3b79aef48"
      },
      "execution_count": 18,
      "outputs": [
        {
          "output_type": "stream",
          "name": "stdout",
          "text": [
            "Enter the number of values in the list: 5\n",
            "Enter the value at 0 index: 4\n",
            "Enter the value at 1 index: 2\n",
            "Enter the value at 2 index: 6\n",
            "Enter the value at 3 index: 9\n",
            "Enter the value at 4 index: 4\n",
            "[4.0, 2.0, 6.0, 9.0, 4.0]\n",
            "Largest number in the list is: 9.0\n"
          ]
        }
      ]
    },
    {
      "cell_type": "markdown",
      "source": [
        "##5. Write a Python program to find second largest number in a list?"
      ],
      "metadata": {
        "id": "9jzU11yyP8DF"
      }
    },
    {
      "cell_type": "code",
      "source": [
        "## ANS\n",
        "n = int(input(\"Enter the number of values in the list: \"))\n",
        "list1 = list()\n",
        "for i in range(n):\n",
        "  y = float(input(f\"Enter the value at {i} index: \"))\n",
        "  list1.append(y)\n",
        "print(list1)\n",
        "sort_list = sorted(list1, reverse=True)\n",
        "print(f\"sorted list: {sort_list}\")\n",
        "second_largest = 0\n",
        "for element in sort_list:\n",
        "  if element < max(sort_list):\n",
        "    print(f\"Second largest element in the list is: {element}\")\n",
        "    break"
      ],
      "metadata": {
        "colab": {
          "base_uri": "https://localhost:8080/"
        },
        "id": "rRiZlSczVsaq",
        "outputId": "ce76bfb5-d6ac-49f4-a3c8-1a4275015216"
      },
      "execution_count": 20,
      "outputs": [
        {
          "output_type": "stream",
          "name": "stdout",
          "text": [
            "Enter the number of values in the list: 5\n",
            "Enter the value at 0 index: 2\n",
            "Enter the value at 1 index: 4\n",
            "Enter the value at 2 index: 8\n",
            "Enter the value at 3 index: 7\n",
            "Enter the value at 4 index: 9\n",
            "[2.0, 4.0, 8.0, 7.0, 9.0]\n",
            "sorted list: [9.0, 8.0, 7.0, 4.0, 2.0]\n",
            "Second largest element in the list is: 8.0\n"
          ]
        }
      ]
    },
    {
      "cell_type": "markdown",
      "source": [
        "##6. Write a Python program to find N largest elements from a list?"
      ],
      "metadata": {
        "id": "Segv6TBoP8FB"
      }
    },
    {
      "cell_type": "code",
      "source": [
        "## ANS\n",
        "list1 = [123,4545,664,23,1,3456,2345,646,578,678]\n",
        "n = int(input(\"Enter the value of N: \"))\n",
        "sort_list = sorted(list1,reverse = True)\n",
        "print(f\"{n} largest elements in the list is: {sort_list[:n]}\")"
      ],
      "metadata": {
        "colab": {
          "base_uri": "https://localhost:8080/"
        },
        "id": "JUaTD74rW6za",
        "outputId": "2c37fe81-6d2a-4d65-99ec-01f0223b6b05"
      },
      "execution_count": 21,
      "outputs": [
        {
          "output_type": "stream",
          "name": "stdout",
          "text": [
            "Enter the value of N: 5\n",
            "5 largest elements in the list is: [4545, 3456, 2345, 678, 664]\n"
          ]
        }
      ]
    },
    {
      "cell_type": "markdown",
      "source": [
        "##7. Write a Python program to print even numbers in a list? "
      ],
      "metadata": {
        "id": "AwPuWJKRP8HY"
      }
    },
    {
      "cell_type": "code",
      "source": [
        "## ANS\n",
        "list1 = [123,4545,664,23,1,3456,2345,646,578,678]\n",
        "even = list()\n",
        "for element in list1:\n",
        "  if element % 2 == 0:\n",
        "    even.append(element)\n",
        "print(f\"Even number in a list are: {even}\")"
      ],
      "metadata": {
        "colab": {
          "base_uri": "https://localhost:8080/"
        },
        "id": "2GERDoZrYXrr",
        "outputId": "5ae097d1-e8a1-430a-8c65-60bb1124e39a"
      },
      "execution_count": 22,
      "outputs": [
        {
          "output_type": "stream",
          "name": "stdout",
          "text": [
            "Even number in a list are: [664, 3456, 646, 578, 678]\n"
          ]
        }
      ]
    },
    {
      "cell_type": "markdown",
      "source": [
        "##8. Write a Python program to print odd numbers in a List?"
      ],
      "metadata": {
        "id": "ZJc9hz2MP8Yk"
      }
    },
    {
      "cell_type": "code",
      "source": [
        "## ANS\n",
        "list1 = [123,4545,664,23,1,3456,2345,646,578,678]\n",
        "odd = list()\n",
        "for element in list1:\n",
        "  if element % 2 != 0:\n",
        "    odd.append(element)\n",
        "print(f\"Even number in a list are: {odd}\")"
      ],
      "metadata": {
        "colab": {
          "base_uri": "https://localhost:8080/"
        },
        "id": "CoIa0CaWY3d6",
        "outputId": "6a26a0a6-cc8b-4c3f-da20-7d3cbae7729a"
      },
      "execution_count": 23,
      "outputs": [
        {
          "output_type": "stream",
          "name": "stdout",
          "text": [
            "Even number in a list are: [123, 4545, 23, 1, 2345]\n"
          ]
        }
      ]
    },
    {
      "cell_type": "markdown",
      "source": [
        "##9. Write a Python program to Remove empty List from List?"
      ],
      "metadata": {
        "id": "lI_mIXLbP8bY"
      }
    },
    {
      "cell_type": "code",
      "source": [
        "## ANS\n",
        "list1 = [5, 6, [], 3, [], [], 9]\n",
        "print(f\"The original list is : {list1}\")\n",
        "element = list()\n",
        "for ele in list1:\n",
        "   if ele != []:\n",
        "     element.append(ele)\n",
        "print(f\"List after empty list removal : {element}\")"
      ],
      "metadata": {
        "colab": {
          "base_uri": "https://localhost:8080/"
        },
        "id": "e29U0Ro57AUg",
        "outputId": "999c70a8-947a-4491-837c-d5f152530cd5"
      },
      "execution_count": 27,
      "outputs": [
        {
          "output_type": "stream",
          "name": "stdout",
          "text": [
            "The original list is : [5, 6, [], 3, [], [], 9]\n",
            "List after empty list removal : [5, 6, 3, 9]\n"
          ]
        }
      ]
    },
    {
      "cell_type": "markdown",
      "source": [
        "##10. Write a Python program to Cloning or Copying a list?"
      ],
      "metadata": {
        "id": "U_s5d6xWP8eC"
      }
    },
    {
      "cell_type": "code",
      "source": [
        "## ANS\n",
        "list1 = [123,4545,664,23,1,3456,2345,646,578,678]\n",
        "print(f\"List before cloning is: {list1}\")\n",
        "list_copy = list()\n",
        "for i in list1:\n",
        "  list_copy.append(i)\n",
        "print(f\"List after cloning is: {list_copy}\")"
      ],
      "metadata": {
        "colab": {
          "base_uri": "https://localhost:8080/"
        },
        "id": "sHFbG2wA8cvM",
        "outputId": "5ec3636e-0436-4dcc-850f-938be6f86c92"
      },
      "execution_count": 28,
      "outputs": [
        {
          "output_type": "stream",
          "name": "stdout",
          "text": [
            "List before cloning is: [123, 4545, 664, 23, 1, 3456, 2345, 646, 578, 678]\n",
            "List after cloning is: [123, 4545, 664, 23, 1, 3456, 2345, 646, 578, 678]\n"
          ]
        }
      ]
    },
    {
      "cell_type": "markdown",
      "source": [
        "##11. Write a Python program to Count occurrences of an element in a list?"
      ],
      "metadata": {
        "id": "Za5l923XP8hj"
      }
    },
    {
      "cell_type": "code",
      "source": [
        "## ANS\n",
        "list1 = [1,5,5,4,7,8,9,1,2,4,4,5,6,3,1,4,7]\n",
        "x = int(input(\"Enter the number: \"))\n",
        "y = list1.count(x)\n",
        "print(f\"{x} has occured ({y}) times in the list\")"
      ],
      "metadata": {
        "colab": {
          "base_uri": "https://localhost:8080/"
        },
        "id": "s7gHkr4x9vUx",
        "outputId": "8555e486-3bc0-41e7-faf8-6fa61e7c331d"
      },
      "execution_count": 31,
      "outputs": [
        {
          "output_type": "stream",
          "name": "stdout",
          "text": [
            "Enter the number: 4\n",
            "4 has occured (4) times in the list\n"
          ]
        }
      ]
    }
  ]
}