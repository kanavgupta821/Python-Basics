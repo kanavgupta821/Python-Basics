{
  "nbformat": 4,
  "nbformat_minor": 0,
  "metadata": {
    "colab": {
      "provenance": []
    },
    "kernelspec": {
      "name": "python3",
      "display_name": "Python 3"
    },
    "language_info": {
      "name": "python"
    }
  },
  "cells": [
    {
      "cell_type": "markdown",
      "source": [
        "##1. In what modes should the PdfFileReader() and PdfFileWriter() File objects will be opened?\n",
        "### ANS PdfFileReader() needs to be opened in read-binary mode by passing 'rb' as the second argument to open(). PdfFileWriter() needs to be opened in write-binary mode with 'wb'."
      ],
      "metadata": {
        "id": "h3V22p-so2Pk"
      }
    },
    {
      "cell_type": "markdown",
      "source": [
        "##2. From a PdfFileReader object, how do you get a Page object for page 5?\n",
        "### ANS Calling getPage(4) will return a Page object for page 5, since page 0 is the first page."
      ],
      "metadata": {
        "id": "xSbG4xZNo2AA"
      }
    },
    {
      "cell_type": "markdown",
      "source": [
        "##3. What PdfFileReader variable stores the number of pages in the PDF document?\n",
        "### ANS The numPages variable stores an integer of the number of pages in the PdfFileReader object."
      ],
      "metadata": {
        "id": "gzgyDnGJo18Y"
      }
    },
    {
      "cell_type": "markdown",
      "source": [
        "##4. If a PdfFileReader object’s PDF is encrypted with the password swordfish, what must you do before you can obtain Page objects from it?\n",
        "### ANS Call decrypt('swordfish')"
      ],
      "metadata": {
        "id": "iJrIAd9Ho15k"
      }
    },
    {
      "cell_type": "markdown",
      "source": [
        "##5. What methods do you use to rotate a page?\n",
        "### ANS The rotateClockwise() and rotateCounterClockwise() methods. The degrees to rotate is passed as an integer argument.\n"
      ],
      "metadata": {
        "id": "i4puExfYo1MG"
      }
    },
    {
      "cell_type": "markdown",
      "source": [
        "##6. What is the difference between a Run object and a Paragraph object?\n",
        "### ANS A document contains multiple paragraphs. A paragraph begins on a new line and contains multiple runs. Runs are contiguous groups of characters within a paragraph."
      ],
      "metadata": {
        "id": "va2eDDoNo1Iy"
      }
    },
    {
      "cell_type": "markdown",
      "source": [
        "##7. How do you obtain a list of Paragraph objects for a Document object that’s stored in a variable named doc?\n",
        "### ANS Use doc.paragraphs."
      ],
      "metadata": {
        "id": "yDrZqPU8o1Fx"
      }
    },
    {
      "cell_type": "markdown",
      "source": [
        "##8. What type of object has bold, underline, italic, strike, and outline variables?\n",
        "### ANS Run object has bold, underline, italic, strike, and outline variables."
      ],
      "metadata": {
        "id": "dV7xTBDPo1Co"
      }
    },
    {
      "cell_type": "markdown",
      "source": [
        "##9. What is the difference between False, True, and None for the bold variable?\n",
        "### ANS True always makes the Run object bolded and False makes it always not bolded, no matter what the style’s bold setting is. None will make the Run object just use the style’s bold setting."
      ],
      "metadata": {
        "id": "NoJyHNzwo0_y"
      }
    },
    {
      "cell_type": "markdown",
      "source": [
        "##10. How do you create a Document object for a new Word document?\n",
        "### ANS Call the docx.Document() function."
      ],
      "metadata": {
        "id": "YSca23c9o09O"
      }
    },
    {
      "cell_type": "markdown",
      "source": [
        "##11. How do you add a paragraph with the text &#39;Hello, there!&#39; to a Document object stored in a variable named doc?\n",
        "### ANS doc.add_paragraph('Hello there!')\n",
        "\n"
      ],
      "metadata": {
        "id": "Mpa5C7G-o06l"
      }
    },
    {
      "cell_type": "markdown",
      "source": [
        "##12. What integers represent the levels of headings available in Word documents?\n",
        "### ANS Integers 1 to 4 are for various heading levels, with 1 being the main heading and 4 the lowest subheading. "
      ],
      "metadata": {
        "id": "WFVjuZZxo0vZ"
      }
    }
  ]
}