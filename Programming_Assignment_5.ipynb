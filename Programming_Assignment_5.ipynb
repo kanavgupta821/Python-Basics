{
  "nbformat": 4,
  "nbformat_minor": 0,
  "metadata": {
    "colab": {
      "provenance": []
    },
    "kernelspec": {
      "name": "python3",
      "display_name": "Python 3"
    },
    "language_info": {
      "name": "python"
    }
  },
  "cells": [
    {
      "cell_type": "markdown",
      "source": [
        "##1. Write a Python Program to Find LCM?\n"
      ],
      "metadata": {
        "id": "7T81fCBnepLl"
      }
    },
    {
      "cell_type": "code",
      "source": [
        "## ANS (Least common multiple)\n",
        "num1 = int(input(\"Enter first number: \"))\n",
        "num2 = int(input(\"Enter second number: \"))\n",
        "for i in range(max(num1, num2), num1*num2 +1):   # LCM of two numbers will at least be equal or greater than max(num1, num2)\n",
        "  if i % num1 == i % num2 == 0:                  # Largest possibility of LCM will be num1 * num2\n",
        "    lcm = i\n",
        "    break\n",
        "print(f\"LCM of, {num1} and {num2} is: {lcm}\")"
      ],
      "metadata": {
        "colab": {
          "base_uri": "https://localhost:8080/"
        },
        "id": "4oqoRbf3e6xs",
        "outputId": "55ab5a57-f2ee-4677-cd3c-7b87cd6dfd5a"
      },
      "execution_count": 3,
      "outputs": [
        {
          "output_type": "stream",
          "name": "stdout",
          "text": [
            "Enter first number: 24\n",
            "Enter second number: 12\n",
            "LCM of, 24 and 12 is: 24\n"
          ]
        }
      ]
    },
    {
      "cell_type": "markdown",
      "source": [
        "##2. Write a Python Program to Find HCF?"
      ],
      "metadata": {
        "id": "MZD7t_rpeo4c"
      }
    },
    {
      "cell_type": "code",
      "source": [
        "## ANS (Highest common factor)\n",
        "num1 = int(input(\"Enter first number: \"))\n",
        "num2 = int(input(\"Enter second number: \"))\n",
        "for i in range (1, min(num1, num2) +1 ):         # HCF of two numbers will at most be equal to min(num1, num2)\n",
        "  if num1 % i == num2 % i == 0:\n",
        "    hcf = i\n",
        "print(f\"HCF of, {num1} and {num2} is: {hcf}\")"
      ],
      "metadata": {
        "colab": {
          "base_uri": "https://localhost:8080/"
        },
        "id": "H7uA1O5hg54q",
        "outputId": "10f23746-c0cd-4a1f-aa04-1b14bfcd4d39"
      },
      "execution_count": 10,
      "outputs": [
        {
          "output_type": "stream",
          "name": "stdout",
          "text": [
            "Enter first number: 100\n",
            "Enter second number: 40\n",
            "HCF of, 100 and 40 is: 20\n"
          ]
        }
      ]
    },
    {
      "cell_type": "markdown",
      "source": [
        "##3. Write a Python Program to Convert Decimal to Binary, Octal and Hexadecimal?"
      ],
      "metadata": {
        "id": "WilY5Io6eo0z"
      }
    },
    {
      "cell_type": "code",
      "source": [
        "## ANS\n",
        "dec = int(input(\"Enter any number: \"))\n",
        "print(f\"{bin(dec)} is binary of {dec}\")\n",
        "print(f\"{oct(dec)} is octal of {dec}\")\n",
        "print(f\"{hex(dec)} is hexadecimal of {dec}\")"
      ],
      "metadata": {
        "colab": {
          "base_uri": "https://localhost:8080/"
        },
        "id": "RyVaf15Aj6kN",
        "outputId": "59feae57-4ae4-420f-d278-81691c44f277"
      },
      "execution_count": 19,
      "outputs": [
        {
          "output_type": "stream",
          "name": "stdout",
          "text": [
            "Enter any number: 10\n",
            "0b1010 is binary of 10\n",
            "0o12 is octal of 10\n",
            "0xa is hexadecimal of 10\n"
          ]
        }
      ]
    },
    {
      "cell_type": "markdown",
      "source": [
        "##4. Write a Python Program To Find ASCII value of a character?"
      ],
      "metadata": {
        "id": "fK1RMdc9eox2"
      }
    },
    {
      "cell_type": "code",
      "source": [
        "## ANS\n",
        "character = input('enter any character (A to Z), (a to z): ')\n",
        "print(f\"The ASCII value of {character} is: {ord(character)}\")"
      ],
      "metadata": {
        "colab": {
          "base_uri": "https://localhost:8080/"
        },
        "id": "zZLvwBcblJ6X",
        "outputId": "208fb541-2c3f-4d1e-b0c7-e9bc65464772"
      },
      "execution_count": 22,
      "outputs": [
        {
          "output_type": "stream",
          "name": "stdout",
          "text": [
            "enter any character (A to Z), (a to z): z\n",
            "The ASCII value of z is: 122\n"
          ]
        }
      ]
    },
    {
      "cell_type": "markdown",
      "source": [
        "##5. Write a Python Program to Make a Simple Calculator with 4 basic mathematical operations?"
      ],
      "metadata": {
        "id": "JMQYciGieovN"
      }
    },
    {
      "cell_type": "code",
      "execution_count": 37,
      "metadata": {
        "colab": {
          "base_uri": "https://localhost:8080/"
        },
        "id": "nKM1ZnIHecL3",
        "outputId": "4ffb2a73-7645-471f-a472-082b2cb44292"
      },
      "outputs": [
        {
          "output_type": "stream",
          "name": "stdout",
          "text": [
            "Select operation.\n",
            "Addition - 'add'\n",
            "Subtraction - 'sub'\n",
            "Multiplication - 'mul'\n",
            "Division - 'div'\n",
            "Enter the operation to be performed: mul\n",
            "Enter first number: 456\n",
            "Enter second number: 486\n",
            "Multiplication of 456.0 and 486.0 is: 221616.0\n"
          ]
        }
      ],
      "source": [
        "## ANS\n",
        "print(\"Select operation.\")\n",
        "print(\"Addition - 'add'\")\n",
        "print(\"Subtraction - 'sub'\")\n",
        "print(\"Multiplication - 'mul'\")\n",
        "print(\"Division - 'div'\")\n",
        "operation = input(\"Enter the operation to be performed: \")\n",
        "x = float(input(\"Enter first number: \"))\n",
        "y = float(input(\"Enter second number: \"))\n",
        "addition = x + y\n",
        "subtraction = x - y\n",
        "multiplication = x * y\n",
        "division = x / y\n",
        "if operation == 'add':\n",
        "  print(f\"Addition of {x} and {y} is: {addition}\")\n",
        "elif operation == 'sub':\n",
        "  print(f\"Subtraction of {x} and {y} is: {subtraction}\")\n",
        "elif operation == 'mul':\n",
        "  print(f\"Multiplication of {x} and {y} is: {multiplication}\")\n",
        "elif operation == 'div':\n",
        "  print(f\"Division of {x} and {y} is: {division}\")\n",
        "else:\n",
        "  print(\"INVALID OPERATION\")"
      ]
    }
  ]
}