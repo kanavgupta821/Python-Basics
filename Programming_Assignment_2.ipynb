{
  "nbformat": 4,
  "nbformat_minor": 0,
  "metadata": {
    "colab": {
      "provenance": []
    },
    "kernelspec": {
      "name": "python3",
      "display_name": "Python 3"
    },
    "language_info": {
      "name": "python"
    }
  },
  "cells": [
    {
      "cell_type": "markdown",
      "source": [
        "##1. Write a Python program to convert kilometers to miles?\n"
      ],
      "metadata": {
        "id": "zzZ6hI7RCEDj"
      }
    },
    {
      "cell_type": "code",
      "source": [
        "## ANS\n",
        "kilometers = float(input(\"Enter kilometers: \"))\n",
        "miles = 0.62137119 * kilometers\n",
        "print(f\"{kilometers} kilometers in miles is: {miles}\")"
      ],
      "metadata": {
        "colab": {
          "base_uri": "https://localhost:8080/"
        },
        "id": "sSdMAOetTSbU",
        "outputId": "6e6f57e0-f96c-4ed1-e456-caebbae7cadc"
      },
      "execution_count": 2,
      "outputs": [
        {
          "output_type": "stream",
          "name": "stdout",
          "text": [
            "Enter kilometers: 3\n",
            "3.0 kilometers in miles is: 1.8641135699999998\n"
          ]
        }
      ]
    },
    {
      "cell_type": "markdown",
      "source": [
        "##2. Write a Python program to convert Celsius to Fahrenheit?"
      ],
      "metadata": {
        "id": "o9RRx6qCCGdd"
      }
    },
    {
      "cell_type": "code",
      "source": [
        "## ANS\n",
        "celsius = float(input(\"Enter the temperature in celsius: \"))\n",
        "fahrenheit = celsius*9/5 + 32\n",
        "print(f\"{celsius} celsius in fahrenheit is: {fahrenheit}\")"
      ],
      "metadata": {
        "colab": {
          "base_uri": "https://localhost:8080/"
        },
        "id": "5REmTndgT07c",
        "outputId": "d8ff9c01-c6f9-4477-af15-66b6e1b56f71"
      },
      "execution_count": 5,
      "outputs": [
        {
          "output_type": "stream",
          "name": "stdout",
          "text": [
            "Enter the temperature in celsius: 36.8\n",
            "36.8 celsius in fahrenheit is: 98.24\n"
          ]
        }
      ]
    },
    {
      "cell_type": "markdown",
      "source": [
        "##3. Write a Python program to display calendar?"
      ],
      "metadata": {
        "id": "Isq70dQFCEsE"
      }
    },
    {
      "cell_type": "code",
      "source": [
        "## ANS\n",
        "import calendar\n",
        "yy = int(input(\"Enter the Year: \"))\n",
        "mm = int(input(\"Enter the Month: \"))\n",
        "print(\"----------------------\")\n",
        "print(calendar.month(yy, mm))"
      ],
      "metadata": {
        "colab": {
          "base_uri": "https://localhost:8080/"
        },
        "id": "FKg1FTBYVPkU",
        "outputId": "8704472c-f196-4cf0-daa4-394ce106830f"
      },
      "execution_count": 10,
      "outputs": [
        {
          "output_type": "stream",
          "name": "stdout",
          "text": [
            "Enter the Year: 2022\n",
            "Enter the Month: 10\n",
            "----------------------\n",
            "    October 2022\n",
            "Mo Tu We Th Fr Sa Su\n",
            "                1  2\n",
            " 3  4  5  6  7  8  9\n",
            "10 11 12 13 14 15 16\n",
            "17 18 19 20 21 22 23\n",
            "24 25 26 27 28 29 30\n",
            "31\n",
            "\n"
          ]
        }
      ]
    },
    {
      "cell_type": "markdown",
      "source": [
        "##4. Write a Python program to solve quadratic equation?"
      ],
      "metadata": {
        "id": "ZqvLwpd1CE1a"
      }
    },
    {
      "cell_type": "code",
      "source": [
        "## ANS\n",
        "# importing the complex math module \n",
        "import cmath\n",
        "\n",
        "a = float(input(\"Enter the coefficient of x^2: \" ))                # taking the values of coefficients from the user\n",
        "b = float(input(\"Enter the coefficient of x: \"))\n",
        "c = float(input(\"Enter the value of c\"))\n",
        "print(f\"Quadratic equation is: ({a})x^2 + ({b})x + ({c})\")\n",
        "\n",
        "d = (b**2) - (4*a*c)                                               # calculating the discriminant\n",
        "\n",
        "sol1 = (-b + cmath.sqrt(d))/2*a                                    # calculating the solutions of quadratic equation\n",
        "sol2 = (-b - cmath.sqrt(d))/2*a\n",
        "if sol1.imag == 0:\n",
        "  sol1 = sol1.real\n",
        "if sol2.imag == 0:\n",
        "  sol2 = sol2.real\n",
        "print(f\"first solution of quadratic equation is: {sol1}\")\n",
        "print(f\"second solution of quadratic equation is: {sol2}\")"
      ],
      "metadata": {
        "colab": {
          "base_uri": "https://localhost:8080/"
        },
        "id": "yqE7-x8PxGrw",
        "outputId": "e6a05196-1045-4a7d-9058-c355d5a77eeb"
      },
      "execution_count": 17,
      "outputs": [
        {
          "output_type": "stream",
          "name": "stdout",
          "text": [
            "Enter the coefficient of x^2: 1\n",
            "Enter the coefficient of x: -3\n",
            "Enter the value of c2\n",
            "Quadratic equation is: (1.0)x^2 + (-3.0)x + (2.0)\n",
            "first solution of quadratic equation is: 2.0\n",
            "second solution of quadratic equation is: 1.0\n"
          ]
        }
      ]
    },
    {
      "cell_type": "markdown",
      "source": [
        "##5. Write a Python program to swap two variables without temp variable?-"
      ],
      "metadata": {
        "id": "jiWH26fQCFA9"
      }
    },
    {
      "cell_type": "code",
      "source": [
        "## ANS\n",
        "x = float(input(\"Enter the value of x: \"))\n",
        "y = float(input(\"Enter the value of y: \"))\n",
        "print (\"Before swapping: \")\n",
        "print(f\"Value of x : {x} and y : {y}\")\n",
        " \n",
        "# Swap code                     # example\n",
        "x = x + y                       # x = 5, y = 12, x = 5+12 = 17\n",
        "y = x - y                       # x = 17, y = 12, y = 17-12 = 5\n",
        "x = x - y                       # x = 17, y = 5, x = 17-5 = 12\n",
        " \n",
        "print (\"After swapping: \")\n",
        "print(f\"Value of x : {x} and y : {y}\")"
      ],
      "metadata": {
        "id": "zQOS9KH4kcXr",
        "colab": {
          "base_uri": "https://localhost:8080/"
        },
        "outputId": "3572022b-1645-4d49-f846-f101234f824d"
      },
      "execution_count": 19,
      "outputs": [
        {
          "output_type": "stream",
          "name": "stdout",
          "text": [
            "Enter the value of x: 5\n",
            "Enter the value of y: 12\n",
            "Before swapping: \n",
            "Value of x : 5.0 and y : 12.0\n",
            "After swapping: \n",
            "Value of x : 12.0 and y : 5.0\n"
          ]
        }
      ]
    }
  ]
}