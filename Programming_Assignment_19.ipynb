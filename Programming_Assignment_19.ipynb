{
  "nbformat": 4,
  "nbformat_minor": 0,
  "metadata": {
    "colab": {
      "provenance": []
    },
    "kernelspec": {
      "name": "python3",
      "display_name": "Python 3"
    },
    "language_info": {
      "name": "python"
    }
  },
  "cells": [
    {
      "cell_type": "markdown",
      "source": [
        "## Q-1 Create a function that takes a string and returns a string in which each character is repeated once.\n",
        "###Examples\n",
        "###double_char(&quot;String&quot;) ➞ &quot;SSttrriinngg&quot;\n",
        "###double_char(&quot;Hello World!&quot;) ➞ &quot;HHeelllloo WWoorrlldd!!&quot;\n",
        "###double_char(&quot;1234!_ &quot;) ➞ &quot;11223344!!__ &quot;"
      ],
      "metadata": {
        "id": "_9reTAMMMPUL"
      }
    },
    {
      "cell_type": "code",
      "source": [
        "## ANS\n",
        "def double_char(string):\n",
        "  new_string = \"\"\n",
        "  for i in string:\n",
        "    new_string += i*2\n",
        "  return new_string\n",
        "x = double_char(\"String\")\n",
        "print(f\"double_char('String'): {x}\")\n",
        "y = double_char(\"Hello World!\") \n",
        "print(f\"double_char('Hello World!'): {y}\")\n",
        "z = double_char(\"1234!_ \")\n",
        "print(f\"double_char('1234!_ '): {z}\")"
      ],
      "metadata": {
        "colab": {
          "base_uri": "https://localhost:8080/"
        },
        "id": "NDDR1MmWMYBG",
        "outputId": "6aee88ac-fb85-478f-aba3-f33af0174d4f"
      },
      "execution_count": 8,
      "outputs": [
        {
          "output_type": "stream",
          "name": "stdout",
          "text": [
            "double_char('String'): SSttrriinngg\n",
            "double_char('Hello World!'): HHeelllloo  WWoorrlldd!!\n",
            "double_char('1234!_ '): 11223344!!__  \n"
          ]
        }
      ]
    },
    {
      "cell_type": "markdown",
      "source": [
        "## Q-2 Create a function that reverses a boolean value and returns the string &quot;boolean expected&quot; if another variable type is given.\n",
        "###Examples\n",
        "###reverse(True) ➞ False\n",
        "###reverse(False) ➞ True\n",
        "###reverse(0) ➞ &quot;boolean expected&quot;\n",
        "###reverse(None) ➞ &quot;boolean expected&quot;"
      ],
      "metadata": {
        "id": "O2RlBKgrNl6l"
      }
    },
    {
      "cell_type": "code",
      "source": [
        "## ANS\n",
        "def reverse(a):\n",
        "  if type(a) == bool:\n",
        "    return not a\n",
        "  else:\n",
        "    return 'boolean expected'\n",
        "\n",
        "x = reverse(True) \n",
        "print(f\"reverse(True) : {x}\")\n",
        "y = reverse(False)\n",
        "print(f\"reverse(False) : {y}\")\n",
        "z = reverse(0) \n",
        "print(f\"reverse(0) : {z}\")\n",
        "p = reverse(None)\n",
        "print(f\"reverse(None) : {p}\")"
      ],
      "metadata": {
        "colab": {
          "base_uri": "https://localhost:8080/"
        },
        "id": "sWZXL8INMy2R",
        "outputId": "0a2de029-7390-469a-ca5b-57011c1a9274"
      },
      "execution_count": 9,
      "outputs": [
        {
          "output_type": "stream",
          "name": "stdout",
          "text": [
            "reverse(True) : False\n",
            "reverse(False) : True\n",
            "reverse(0) : boolean expected\n",
            "reverse(None) : boolean expected\n"
          ]
        }
      ]
    },
    {
      "cell_type": "markdown",
      "source": [
        "## Q-3 Create a function that returns the thickness (in meters) of a piece of paper after folding it n number of times. The paper starts off with a thickness of 0.5mm.\n",
        "###Examples\n",
        "###num_layers(1) ➞ &quot;0.001m&quot;\n",
        "### Paper folded once is 1mm (equal to 0.001m)\n",
        "###num_layers(4) ➞ &quot;0.008m&quot;\n",
        "### Paper folded 4 times is 8mm (equal to 0.008m)\n",
        "###num_layers(21) ➞ &quot;1048.576m&quot;\n",
        "### Paper folded 21 times is 1048576mm (equal to 1048.576m)"
      ],
      "metadata": {
        "id": "-2VHY4WbPctf"
      }
    },
    {
      "cell_type": "code",
      "source": [
        "## ANS\n",
        "def num_layers(n):\n",
        "  thickness = 0.5\n",
        "  for i in range(n):\n",
        "    thickness *= 2\n",
        "    \n",
        "  return str(thickness / 1000)+'m' \n",
        "\n",
        "print(f\"Paper folded once is : {num_layers(1)}\")\n",
        "print(f\"Paper folded 4 times is : {num_layers(4)}\")\n",
        "print(f\"Paper folded 21 times is : {num_layers(21)}\")"
      ],
      "metadata": {
        "colab": {
          "base_uri": "https://localhost:8080/"
        },
        "id": "r2J_PMLUPP8X",
        "outputId": "573adf45-190c-430f-9dd9-2ec474b51c8b"
      },
      "execution_count": 10,
      "outputs": [
        {
          "output_type": "stream",
          "name": "stdout",
          "text": [
            "Paper folded once is : 0.001m\n",
            "Paper folded 4 times is : 0.008m\n",
            "Paper folded 21 times is : 1048.576m\n"
          ]
        }
      ]
    },
    {
      "cell_type": "markdown",
      "source": [
        "## Q-4 Create a function that takes a single string as argument and returns an ordered list containing the indices of all capital letters in the string.\n",
        "###Examples\n",
        "###index_of_caps(&quot;eDaBiT&quot;) ➞ [1, 3, 5]\n",
        "###index_of_caps(&quot;eQuINoX&quot;) ➞ [1, 3, 4, 6]\n",
        "###index_of_caps(&quot;determine&quot;) ➞ []\n",
        "###index_of_caps(&quot;STRIKE&quot;) ➞ [0, 1, 2, 3, 4, 5]\n",
        "###index_of_caps(&quot;sUn&quot;) ➞ [1]\n"
      ],
      "metadata": {
        "id": "XnQSwkELtMrk"
      }
    },
    {
      "cell_type": "code",
      "source": [
        "## ANS\n",
        "def index_of_caps(s):\n",
        "  l1 = list()\n",
        "  for i in range(0,len(s)):\n",
        "    if s[i].isupper():\n",
        "      l1.append(i)\n",
        "  return l1\n",
        "\n",
        "print(f\"index_of_caps('eDaBiT') : {index_of_caps('eDaBiT')}\")\n",
        "print(f\"index_of_caps('eQuINoX') : {index_of_caps('eQuINoX')}\")\n",
        "print(f\"index_of_caps('determine') : {index_of_caps('determine')}\")\n",
        "print(f\"index_of_caps('STRIKE') : {index_of_caps('STRIKE')}\")\n",
        "print(f\"index_of_caps('sUn') : {index_of_caps('sUn')}\")"
      ],
      "metadata": {
        "colab": {
          "base_uri": "https://localhost:8080/"
        },
        "id": "4jITSQqHQr1P",
        "outputId": "d974a7d9-8090-49c3-cd49-0a8b826e5595"
      },
      "execution_count": 11,
      "outputs": [
        {
          "output_type": "stream",
          "name": "stdout",
          "text": [
            "index_of_caps('eDaBiT') : [1, 3, 5]\n",
            "index_of_caps('eQuINoX') : [1, 3, 4, 6]\n",
            "index_of_caps('determine') : []\n",
            "index_of_caps('STRIKE') : [0, 1, 2, 3, 4, 5]\n",
            "index_of_caps('sUn') : [1]\n"
          ]
        }
      ]
    },
    {
      "cell_type": "markdown",
      "source": [
        "## Q-5 Using list comprehensions, create a function that finds all even numbers from 1 to the given number.\n",
        "###Examples\n",
        "###find_even_nums(8) ➞ [2, 4, 6, 8]\n",
        "###find_even_nums(4) ➞ [2, 4]\n",
        "###find_even_nums(2) ➞ [2]"
      ],
      "metadata": {
        "id": "GKjHlop4u4H1"
      }
    },
    {
      "cell_type": "code",
      "source": [
        "## ANS\n",
        "def find_even_nums(n):\n",
        "  l1 = [i for i in range(1,n+1) if i%2 == 0]\n",
        "  return l1\n",
        "\n",
        "print(f\"find_even_nums(8) : {find_even_nums(8)}\")\n",
        "print(f\"find_even_nums(4) : {find_even_nums(4)}\")\n",
        "print(f\"find_even_nums(2) : {find_even_nums(2)}\")"
      ],
      "metadata": {
        "colab": {
          "base_uri": "https://localhost:8080/"
        },
        "id": "twmsGNz7uJ66",
        "outputId": "015b4ceb-783e-469a-bec3-ac3aa887f575"
      },
      "execution_count": 12,
      "outputs": [
        {
          "output_type": "stream",
          "name": "stdout",
          "text": [
            "find_even_nums(8) : [2, 4, 6, 8]\n",
            "find_even_nums(4) : [2, 4]\n",
            "find_even_nums(2) : [2]\n"
          ]
        }
      ]
    }
  ]
}