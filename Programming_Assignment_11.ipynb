{
  "nbformat": 4,
  "nbformat_minor": 0,
  "metadata": {
    "colab": {
      "provenance": []
    },
    "kernelspec": {
      "name": "python3",
      "display_name": "Python 3"
    },
    "language_info": {
      "name": "python"
    }
  },
  "cells": [
    {
      "cell_type": "markdown",
      "source": [
        "##1. Write a Python program to find words which are greater than given length k?"
      ],
      "metadata": {
        "id": "iDSywfefhsfv"
      }
    },
    {
      "cell_type": "code",
      "source": [
        "## ANS\n",
        "k = int(input(\"Enter the value of k: \"))\n",
        "sentence = input(\"Enter the sentence: \")\n",
        "a = sentence.split()\n",
        "list1 = list()\n",
        "for words in a:\n",
        "  if len(words) > k:\n",
        "    list1.append(words)\n",
        "print(list1)"
      ],
      "metadata": {
        "colab": {
          "base_uri": "https://localhost:8080/"
        },
        "id": "lR30x6GFiCjb",
        "outputId": "2b4618f2-5df4-4b2b-f250-640def4e3b85"
      },
      "execution_count": 35,
      "outputs": [
        {
          "output_type": "stream",
          "name": "stdout",
          "text": [
            "Enter the value of k: 4\n",
            "Enter the sentence: python program to find words which are greater than given length\n",
            "['python', 'program', 'words', 'which', 'greater', 'given', 'length']\n"
          ]
        }
      ]
    },
    {
      "cell_type": "markdown",
      "source": [
        "##2. Write a Python program for removing i-th character from a string?"
      ],
      "metadata": {
        "id": "CN7-CEHjhsia"
      }
    },
    {
      "cell_type": "code",
      "source": [
        "## ANS\n",
        "string = input(\"Enter any string: \")\n",
        "i = int(input(\"Enter the value of i: \"))\n",
        "a = string[:i]\n",
        "b = string[i+1 :]\n",
        "print(f\"String after removing {i}-th character from a string is: {a + b}\")"
      ],
      "metadata": {
        "colab": {
          "base_uri": "https://localhost:8080/"
        },
        "id": "6U7V2dN3iWRM",
        "outputId": "163535ee-6dc2-4070-8c8a-3d3950e5e610"
      },
      "execution_count": 9,
      "outputs": [
        {
          "output_type": "stream",
          "name": "stdout",
          "text": [
            "Enter any string: program\n",
            "Enter the value of i: 4\n",
            "String after removing 4-th character from a string is: progam\n"
          ]
        }
      ]
    },
    {
      "cell_type": "markdown",
      "source": [
        "##3. Write a Python program to split and join a string?"
      ],
      "metadata": {
        "id": "RV8XX3MwhslO"
      }
    },
    {
      "cell_type": "code",
      "source": [
        "## ANS\n",
        "string = input(\"Enter any string: \")\n",
        "print(f\"string after applying split function is: {string.split(' ')}\")\n",
        "print(f\"string after applying join function is: {'-'.join(string.split())}\")\n"
      ],
      "metadata": {
        "colab": {
          "base_uri": "https://localhost:8080/"
        },
        "id": "NfWy6KnRlL8j",
        "outputId": "88aa48bf-6829-4cd5-de4d-076ad359b3fe"
      },
      "execution_count": 18,
      "outputs": [
        {
          "output_type": "stream",
          "name": "stdout",
          "text": [
            "Enter any string: python program to split and join a string\n",
            "string after applying split function is: ['python', 'program', 'to', 'split', 'and', 'join', 'a', 'string']\n",
            "string after applying join function is: python-program-to-split-and-join-a-string\n"
          ]
        }
      ]
    },
    {
      "cell_type": "markdown",
      "source": [
        "##4. Write a Python to check if a given string is binary string or not?"
      ],
      "metadata": {
        "id": "_qhRb2-jhsol"
      }
    },
    {
      "cell_type": "code",
      "source": [
        "## ANS\n",
        "binary = '01'\n",
        "string = input(\"enter the string: \")\n",
        "count = 0\n",
        "for i in string:\n",
        "  if i not in binary:\n",
        "    count = 1\n",
        "    break\n",
        "\n",
        "if count == 0:\n",
        "  print(f\"{string} is a binary string\")\n",
        "else:\n",
        "  print(f\"{string} is not a binary string\")"
      ],
      "metadata": {
        "colab": {
          "base_uri": "https://localhost:8080/"
        },
        "id": "dBqow0BWn9Iw",
        "outputId": "29043f5a-c602-49c8-d61e-667023605308"
      },
      "execution_count": 22,
      "outputs": [
        {
          "output_type": "stream",
          "name": "stdout",
          "text": [
            "enter the string: 10101001111\n",
            "10101001111 is a binary string\n"
          ]
        }
      ]
    },
    {
      "cell_type": "markdown",
      "source": [
        "##5. Write a Python program to find uncommon words from two Strings?"
      ],
      "metadata": {
        "id": "W_ETXJQohs2z"
      }
    },
    {
      "cell_type": "code",
      "source": [
        "## ANS\n",
        "a = \"apple mango banana\"\n",
        "b = \"cherry peach banana\"\n",
        "list1 = a.split()\n",
        "list2 = b.split()\n",
        "uc_words = \"\"\n",
        "for i in list1:\n",
        "  if i not in list2:\n",
        "    uc_words =  uc_words+\" \"+i\n",
        "for j in list2:\n",
        "    if j not in list1:\n",
        "      uc_words =  uc_words+\" \"+j\n",
        "\n",
        "print(f\"first string is: {a}\")\n",
        "print(f\"second string is: {b}\")\n",
        "print(f\"uncommon words in two strings are: {uc_words}\")"
      ],
      "metadata": {
        "colab": {
          "base_uri": "https://localhost:8080/"
        },
        "id": "XhBKycpFpCTR",
        "outputId": "84b5e54b-ca4e-44d2-e8e8-d3d194550811"
      },
      "execution_count": 28,
      "outputs": [
        {
          "output_type": "stream",
          "name": "stdout",
          "text": [
            "first string is: apple mango banana\n",
            "second string is: cherry peach banana\n",
            "uncommon words in two strings are:  apple mango cherry peach\n"
          ]
        }
      ]
    },
    {
      "cell_type": "markdown",
      "source": [
        "##6. Write a Python to find all duplicate characters in string?"
      ],
      "metadata": {
        "id": "mUcrj3G3htJG"
      }
    },
    {
      "cell_type": "code",
      "source": [
        "## ANS\n",
        "string = input(\"Enter the string: \")\n",
        "x=[]\n",
        "for i in string:\n",
        "  if i not in x and string.count(i)>1:\n",
        "    x.append(i)\n",
        "print(\" \".join(x))"
      ],
      "metadata": {
        "colab": {
          "base_uri": "https://localhost:8080/"
        },
        "id": "HXFeo8atrihl",
        "outputId": "af659b82-5b33-4431-8429-45047e0cfb42"
      },
      "execution_count": 29,
      "outputs": [
        {
          "output_type": "stream",
          "name": "stdout",
          "text": [
            "Enter the string: pythonprogramming\n",
            "p o n r g m\n"
          ]
        }
      ]
    },
    {
      "cell_type": "markdown",
      "source": [
        "##7. Write a Python Program to check if a string contains any special character?"
      ],
      "metadata": {
        "id": "5l5KsS8XhtTl"
      }
    },
    {
      "cell_type": "code",
      "source": [
        "## ANS\n",
        "string = input(\"Enter the string: \")\n",
        "s='''[@_!#$%^&*()\"'<>?/\\|}{~:]'''\n",
        "count = 0\n",
        "for i in string:\n",
        "  if i in s:\n",
        "    count = 1\n",
        "\n",
        "if count == 0:\n",
        "  print(f\"({string}) does not contains any special character\")\n",
        "else:\n",
        "  print(f\"({string}) contains special character\")"
      ],
      "metadata": {
        "colab": {
          "base_uri": "https://localhost:8080/"
        },
        "id": "o1Q29ItXsLec",
        "outputId": "27e1f45c-47f9-422c-8b9f-e4739b160533"
      },
      "execution_count": 33,
      "outputs": [
        {
          "output_type": "stream",
          "name": "stdout",
          "text": [
            "Enter the string: apple$%\n",
            "(apple$%) contains special character\n"
          ]
        }
      ]
    }
  ]
}