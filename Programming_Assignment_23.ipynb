{
  "nbformat": 4,
  "nbformat_minor": 0,
  "metadata": {
    "colab": {
      "provenance": []
    },
    "kernelspec": {
      "name": "python3",
      "display_name": "Python 3"
    },
    "language_info": {
      "name": "python"
    }
  },
  "cells": [
    {
      "cell_type": "markdown",
      "source": [
        "## Q-1 Create a function that takes a number as an argument and returns True or False depending on whether the number is symmetrical or not. A number is symmetrical when it is the same as its reverse.\n",
        "###Examples\n",
        "###is_symmetrical(7227) ➞ True\n",
        "###is_symmetrical(12567) ➞ False\n",
        "###is_symmetrical(44444444) ➞ True\n",
        "###is_symmetrical(9939) ➞ False\n",
        "###is_symmetrical(1112111) ➞ True"
      ],
      "metadata": {
        "id": "8VvH9-Zz_hV6"
      }
    },
    {
      "cell_type": "code",
      "execution_count": 26,
      "metadata": {
        "colab": {
          "base_uri": "https://localhost:8080/"
        },
        "id": "MX8XiCIb_ZyA",
        "outputId": "7d203b01-b9d3-4ff2-bf71-6856bc990d56"
      },
      "outputs": [
        {
          "output_type": "stream",
          "name": "stdout",
          "text": [
            "True\n",
            "False\n",
            "True\n",
            "False\n",
            "True\n"
          ]
        }
      ],
      "source": [
        "## ANS\n",
        "def is_symmetrical(n):\n",
        "  reversed_num = 0\n",
        "  current_digit = 0\n",
        "  current_num = n\n",
        "  while current_num > 0:\n",
        "    current_digit = current_num % 10\n",
        "    reversed_num = reversed_num * 10 + current_digit\n",
        "    current_num = current_num//10\n",
        "\n",
        "  if reversed_num == n:\n",
        "    return True\n",
        "  else:\n",
        "    return False\n",
        "\n",
        "print(is_symmetrical(7227))\n",
        "print(is_symmetrical(12567))\n",
        "print(is_symmetrical(44444444))\n",
        "print(is_symmetrical(9939))\n",
        "print(is_symmetrical(1112111))\n"
      ]
    },
    {
      "cell_type": "markdown",
      "source": [
        "## Q-2 Given a string of numbers separated by a comma and space, return the product of the numbers.\n",
        "###Examples\n",
        "###multiply_nums(&quot;2, 3&quot;) ➞ 6\n",
        "###multiply_nums(&quot;1, 2, 3, 4&quot;) ➞ 24\n",
        "###multiply_nums(&quot;54, 75, 453, 0&quot;) ➞ 0\n",
        "###multiply_nums(&quot;10, -2&quot;) ➞ -20"
      ],
      "metadata": {
        "id": "olyD7hLqD8vv"
      }
    },
    {
      "cell_type": "code",
      "source": [
        "## ANS\n",
        "def multiply_nums(string):\n",
        "  string = string.replace(\" \", '')\n",
        "  string = string.split(',')\n",
        "  mul = 1\n",
        "  for i in string:\n",
        "    mul = int(i)*mul\n",
        "  return mul\n",
        "\n",
        "print(multiply_nums(\"2, 3\"))\n",
        "print(multiply_nums(\"1, 2, 3, 4\"))\n",
        "print(multiply_nums(\"54, 75, 453, 0\"))\n",
        "print(multiply_nums(\"10, -2\"))"
      ],
      "metadata": {
        "colab": {
          "base_uri": "https://localhost:8080/"
        },
        "id": "8dSpy52nBuaN",
        "outputId": "9bc25c14-00e7-45ac-fb09-c21f65a61fd6"
      },
      "execution_count": 27,
      "outputs": [
        {
          "output_type": "stream",
          "name": "stdout",
          "text": [
            "6\n",
            "24\n",
            "0\n",
            "-20\n"
          ]
        }
      ]
    },
    {
      "cell_type": "markdown",
      "source": [
        "## Q-3 Create a function that squares every digit of a number.\n",
        "###Examples\n",
        "###square_digits(9119) ➞ 811181\n",
        "###square_digits(2483) ➞ 416649\n",
        "###square_digits(3212) ➞ 9414\n",
        "###Notes\n",
        "###The function receives an integer and must return an integer."
      ],
      "metadata": {
        "id": "UxWXK5ZiFeiN"
      }
    },
    {
      "cell_type": "code",
      "source": [
        "## ANS\n",
        "def square_digits(n):\n",
        "  n = str(n)\n",
        "  new_n = ''\n",
        "  for i in n:\n",
        "    x = str(int(i)**2) \n",
        "    new_n += x\n",
        "  return int(new_n)\n",
        "\n",
        "print(square_digits(9119))\n",
        "print(square_digits(2483))\n",
        "print(square_digits(3212))"
      ],
      "metadata": {
        "colab": {
          "base_uri": "https://localhost:8080/"
        },
        "id": "B4E7nrHkB_Qm",
        "outputId": "59989172-3d04-4cdf-f353-e75ce9addf2b"
      },
      "execution_count": 28,
      "outputs": [
        {
          "output_type": "stream",
          "name": "stdout",
          "text": [
            "811181\n",
            "416649\n",
            "9414\n"
          ]
        }
      ]
    },
    {
      "cell_type": "markdown",
      "source": [
        "## Q-4 Create a function that sorts a list and removes all duplicate items from it.\n",
        "###Examples\n",
        "###setify([1, 3, 3, 5, 5]) ➞ [1, 3, 5]\n",
        "###setify([4, 4, 4, 4]) ➞ [4]\n",
        "###setify([5, 7, 8, 9, 10, 15]) ➞ [5, 7, 8, 9, 10, 15]\n",
        "###setify([3, 3, 3, 2, 1]) ➞ [1, 2, 3]"
      ],
      "metadata": {
        "id": "RiXL4gMfGxIT"
      }
    },
    {
      "cell_type": "code",
      "source": [
        "## ANS\n",
        "def setify(l1):\n",
        "  l1 = set(l1)\n",
        "  l1 = list(l1)\n",
        "  return l1\n",
        "\n",
        "print(setify([1, 3, 3, 5, 5]))\n",
        "print(setify([4, 4, 4, 4]))\n",
        "print(setify([5, 7, 8, 9, 10, 15]))\n",
        "print(setify([3, 3, 3, 2, 1])) "
      ],
      "metadata": {
        "colab": {
          "base_uri": "https://localhost:8080/"
        },
        "id": "_owED8FbDTlp",
        "outputId": "8345a5f6-520c-4c4c-a832-e97d7dbfe997"
      },
      "execution_count": 29,
      "outputs": [
        {
          "output_type": "stream",
          "name": "stdout",
          "text": [
            "[1, 3, 5]\n",
            "[4]\n",
            "[5, 7, 8, 9, 10, 15]\n",
            "[1, 2, 3]\n"
          ]
        }
      ]
    },
    {
      "cell_type": "markdown",
      "source": [
        "## Q-5 Create a function that returns the mean of all digits.\n",
        "###Examples\n",
        "###mean(42) ➞ 3\n",
        "###mean(12345) ➞ 3\n",
        "###mean(666) ➞ 6\n",
        "###Notes\n",
        "### The mean of all digits is the sum of digits / how many digits there are (e.g. mean of digits in 512 is (5+1+2)/3(number of digits) = 8/3=2).\n",
        "### The mean will always be an integer."
      ],
      "metadata": {
        "id": "McNungUTHdGm"
      }
    },
    {
      "cell_type": "code",
      "source": [
        "## ANS\n",
        "def mean(n):\n",
        "  s = str(n)\n",
        "  sum = 0\n",
        "  for i in s:\n",
        "    sum += int(i)\n",
        "  mean = sum/len(s)\n",
        "  return round(mean)\n",
        "\n",
        "print(mean(42))\n",
        "print(mean(12345))\n",
        "print(mean(666))"
      ],
      "metadata": {
        "colab": {
          "base_uri": "https://localhost:8080/"
        },
        "id": "s0rSU5RRHYQb",
        "outputId": "8625fb58-6c7c-45f5-fbc0-1e05bd8fd169"
      },
      "execution_count": 30,
      "outputs": [
        {
          "output_type": "stream",
          "name": "stdout",
          "text": [
            "3\n",
            "3\n",
            "6\n"
          ]
        }
      ]
    }
  ]
}