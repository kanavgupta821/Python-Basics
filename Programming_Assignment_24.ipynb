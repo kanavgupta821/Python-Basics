{
  "nbformat": 4,
  "nbformat_minor": 0,
  "metadata": {
    "colab": {
      "provenance": []
    },
    "kernelspec": {
      "name": "python3",
      "display_name": "Python 3"
    },
    "language_info": {
      "name": "python"
    }
  },
  "cells": [
    {
      "cell_type": "markdown",
      "source": [
        "## Q-1 Create a function that takes an integer and returns a list from 1 to the given number, where:\n",
        "###1. If the number can be divided evenly by 4, amplify it by 10 (i.e. return 10 times the number).\n",
        "###2. If the number cannot be divided evenly by 4, simply return the number.\n",
        "###Examples\n",
        "###amplify(4) ➞ [1, 2, 3, 40]\n",
        "###amplify(3) ➞ [1, 2, 3]\n",
        "###amplify(25) ➞ [1, 2, 3, 40, 5, 6, 7, 80, 9, 10, 11, 120, 13, 14, 15, 160, 17, 18, 19, 200, 21, 22, 23, 240, 25]\n",
        "###Notes\n",
        "### The given integer will always be equal to or greater than 1.\n",
        "### Include the number (see example above).\n",
        "### To perform this problem with its intended purpose, try doing it with list comprehensions. If that&#39;s too difficult, just solve the challenge any way you can."
      ],
      "metadata": {
        "id": "6aQM5QKBH5r1"
      }
    },
    {
      "cell_type": "code",
      "execution_count": 1,
      "metadata": {
        "colab": {
          "base_uri": "https://localhost:8080/"
        },
        "id": "ZaO4GLQaF4gt",
        "outputId": "2ab92398-04c2-4aea-c26b-182e694de297"
      },
      "outputs": [
        {
          "output_type": "stream",
          "name": "stdout",
          "text": [
            "[1, 2, 3, 40]\n",
            "[1, 2, 3]\n",
            "[1, 2, 3, 40, 5, 6, 7, 80, 9, 10, 11, 120, 13, 14, 15, 160, 17, 18, 19, 200, 21, 22, 23, 240, 25]\n"
          ]
        }
      ],
      "source": [
        "## ANS\n",
        "def amplify(n):\n",
        "  l1 = list()\n",
        "  for i in range(1,n+1):\n",
        "    if i%4 != 0:\n",
        "      l1.append(i)\n",
        "    else:\n",
        "      l1.append(i*10)\n",
        "  return l1\n",
        "\n",
        "print(amplify(4))\n",
        "print(amplify(3))\n",
        "print(amplify(25))"
      ]
    },
    {
      "cell_type": "markdown",
      "source": [
        "## Q-2 Create a function that takes a list of numbers and return the number that&#39;s unique.\n",
        "###Examples\n",
        "###unique([3, 3, 3, 7, 3, 3]) ➞ 7\n",
        "###unique([0, 0, 0.77, 0, 0]) ➞ 0.77\n",
        "###unique([0, 1, 1, 1, 1, 1, 1, 1]) ➞ 0\n",
        "### Notes\n",
        "###Test cases will always have exactly one unique number while all others are the same."
      ],
      "metadata": {
        "id": "L0VaYMkLQy6y"
      }
    },
    {
      "cell_type": "code",
      "source": [
        "## ANS\n",
        "def unique(l1):\n",
        "  for i in l1:\n",
        "    if l1.count(i) == 1:\n",
        "      return i\n",
        "print(unique([3, 3, 3, 7, 3, 3]))\n",
        "print(unique([0, 0, 0.77, 0, 0]))\n",
        "print(unique([0, 1, 1, 1, 1, 1, 1, 1]))"
      ],
      "metadata": {
        "colab": {
          "base_uri": "https://localhost:8080/"
        },
        "id": "c0tva75YQvd0",
        "outputId": "3d4666d8-b5a4-45b9-8818-46d2ddd6f16a"
      },
      "execution_count": 4,
      "outputs": [
        {
          "output_type": "stream",
          "name": "stdout",
          "text": [
            "7\n",
            "0.77\n",
            "0\n"
          ]
        }
      ]
    },
    {
      "cell_type": "markdown",
      "source": [
        "## Q-3 Your task is to create a Circle constructor that creates a circle with a radius provided by an argument. The circles constructed must have two getters getArea() (PIr^2) and getPerimeter() (2PI*r) which give both respective areas and perimeter (circumference).\n",
        "\n",
        "###For help with this class, I have provided you with a Rectangle constructor which you can use as a base example.\n",
        "###Examples\n",
        "###circy = Circle(11)\n",
        "###circy.getArea()\n",
        "### Should return 380.132711084365\n",
        "###circy = Circle(4.44)\n",
        "###circy.getPerimeter()\n",
        "### Should return 27.897342763877365\n",
        "###Notes\n",
        "###Round results up to the nearest integer."
      ],
      "metadata": {
        "id": "de7IGP7USJDy"
      }
    },
    {
      "cell_type": "code",
      "source": [
        "## ANS\n",
        "import math\n",
        "class Circle():\n",
        "  def __init__(self, radius):\n",
        "    self.radius = radius\n",
        "\n",
        "  def getArea(self):\n",
        "    return round(math.pi*(self.radius**2))\n",
        "\n",
        "  def getPerimeter(self):\n",
        "    return round(2*math.pi*self.radius)\n",
        "\n",
        "circy = Circle(11)\n",
        "print(f\"Area of Circle is: {circy.getArea()}\")\n",
        "circy = Circle(4.44)\n",
        "print(f\"Perimeter of Circle is: {circy.getPerimeter()}\")"
      ],
      "metadata": {
        "colab": {
          "base_uri": "https://localhost:8080/"
        },
        "id": "BkvIyILdRdTL",
        "outputId": "e834fbd7-8d58-488e-b12f-e4c159209d13"
      },
      "execution_count": 8,
      "outputs": [
        {
          "output_type": "stream",
          "name": "stdout",
          "text": [
            "Area of Circle is: 380\n",
            "Perimeter of Circle is: 28\n"
          ]
        }
      ]
    },
    {
      "cell_type": "markdown",
      "source": [
        "## Q-4 Create a function that takes a list of strings and return a list, sorted from shortest to longest.\n",
        "###Examples\n",
        "###sort_by_length([&quot;Google&quot;, &quot;Apple&quot;, &quot;Microsoft&quot;])\n",
        "###➞ [&quot;Apple&quot;, &quot;Google&quot;, &quot;Microsoft&quot;]\n",
        "###sort_by_length([&quot;Leonardo&quot;, &quot;Michelangelo&quot;, &quot;Raphael&quot;, &quot;Donatello&quot;])\n",
        "###➞ [&quot;Raphael&quot;, &quot;Leonardo&quot;, &quot;Donatello&quot;, &quot;Michelangelo&quot;]\n",
        "###sort_by_length([&quot;Turing&quot;, &quot;Einstein&quot;, &quot;Jung&quot;])\n",
        "###➞ [&quot;Jung&quot;, &quot;Turing&quot;, &quot;Einstein&quot;]\n",
        "###Notes\n",
        "###All test cases contain lists with strings of different lengths, so you won&#39;t have to deal with multiple strings of the same length."
      ],
      "metadata": {
        "id": "pIL3BOAQT59K"
      }
    },
    {
      "cell_type": "code",
      "source": [
        "## ANS\n",
        "def sort_by_length(l1):\n",
        "  return sorted(l1, key = len)\n",
        "\n",
        "print(sort_by_length([\"Google\", \"Apple\", \"Microsoft\"]))\n",
        "print(sort_by_length([\"Leonardo\", \"Michelangelo\", \"Raphael\", \"Donatello\"]))\n",
        "print(sort_by_length([\"Turing\", \"Einstein\", \"Jung\"]))"
      ],
      "metadata": {
        "colab": {
          "base_uri": "https://localhost:8080/"
        },
        "id": "BWkIHcfqTWqU",
        "outputId": "35365fb1-a04c-4548-8d41-20443ba3aaf3"
      },
      "execution_count": 10,
      "outputs": [
        {
          "output_type": "stream",
          "name": "stdout",
          "text": [
            "['Apple', 'Google', 'Microsoft']\n",
            "['Raphael', 'Leonardo', 'Donatello', 'Michelangelo']\n",
            "['Jung', 'Turing', 'Einstein']\n"
          ]
        }
      ]
    },
    {
      "cell_type": "markdown",
      "source": [
        "## Q-5 Create a function that validates whether three given integers form a Pythagorean triplet. The sum of the squares of the two smallest integers must equal the square of the largest number to be validated.\n",
        "\n",
        "###Examples\n",
        "###is_triplet(3, 4, 5) ➞ True\n",
        "### 3² + 4² = 25\n",
        "### 5² = 25\n",
        "###is_triplet(13, 5, 12) ➞ True\n",
        "### 5² + 12² = 169\n",
        "### 13² = 169\n",
        "###is_triplet(1, 2, 3) ➞ False\n",
        "### 1² + 2² = 5\n",
        "### 3² = 9\n",
        "###Notes\n",
        "###Numbers may not be given in a sorted order."
      ],
      "metadata": {
        "id": "P5LuFiuFVR2G"
      }
    },
    {
      "cell_type": "code",
      "source": [
        "## ANS\n",
        "def is_triplet(x,y,z):\n",
        "  l = [x,y,z]\n",
        "  l = sorted(l)\n",
        "  side1 = l[0]\n",
        "  side2 = l[1]\n",
        "  hypotenous = l[2]\n",
        "  if side1**2 + side2**2 == hypotenous**2:\n",
        "    return True\n",
        "  else:\n",
        "    return False\n",
        "\n",
        "print(f\"is_triplet(3,4,5) : {is_triplet(3,4,5)}\")\n",
        "print(f\"is_triplet(13,5,12) : {is_triplet(13, 5, 12)}\")\n",
        "print(f\"is_triplet(1,2,3): {is_triplet(1, 2, 3)}\")"
      ],
      "metadata": {
        "colab": {
          "base_uri": "https://localhost:8080/"
        },
        "id": "Y1JeGXqDVHLx",
        "outputId": "56b17639-928d-41d9-d2f4-53574f9f7959"
      },
      "execution_count": 17,
      "outputs": [
        {
          "output_type": "stream",
          "name": "stdout",
          "text": [
            "is_triplet(3,4,5) : True\n",
            "is_triplet(13,5,12) : True\n",
            "is_triplet(1,2,3): False\n"
          ]
        }
      ]
    }
  ]
}